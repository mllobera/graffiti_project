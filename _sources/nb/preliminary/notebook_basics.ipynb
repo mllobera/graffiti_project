{
 "cells": [
  {
   "cell_type": "markdown",
   "metadata": {
    "id": "bLUOAZeB68sF"
   },
   "source": [
    "# Notebook Basics"
   ]
  },
  {
   "cell_type": "markdown",
   "metadata": {
    "id": "okIzI-kLcevh"
   },
   "source": [
    "## Jupyter Notebooks"
   ]
  },
  {
   "cell_type": "markdown",
   "metadata": {
    "id": "LqvAxOeZV8bo"
   },
   "source": [
    "As part of learning the different ways in which we can use Python we will be using the *Jupyter Notebook* environment (henceforth *notebooks*). Notebooks are great environments to explore data and learn data science coding. It allows the easy combination of text, graphics and code. You will be able to write code and immediately see the results after you execute it. A notebook is typically made out of *cells*. You can think of a *cell* as a paragraph in a text. Typically, these cells contain either bits of code or text. \n",
    "\n",
    "Currently, the are different softwares you can use to write and run a notebook. Some of the most common are: [Jupyter](https://jupyter.org/), [Jupyterlab](https://jupyter.org/) and [VS Code](https://code.visualstudio.com/). All of these require that you install them on your own compute before you can write and run a notebook. In this course we will use JupyterHub which allow us to run Jupyter notebooks on the cloud (another resource is Google's Colaboratory or [Colab](https://colab.research.google.com/notebooks/intro.ipynb#scrollTo=5fCEDCU_qrC0)) instead. The advantage of using this resource is that you can write and run notebooks from any browser without the need to install anything on your own computer. You will also be able to save all your work directly on your cloud space.\n"
   ]
  },
  {
   "cell_type": "markdown",
   "metadata": {},
   "source": [
    "### Cell types\n",
    "In JupyterHub, there are two main type of cells: `code` cells and `text` cells.\n",
    "* `Code` cells will contain bits of code that are meant to be executed together.\n",
    "* `Text` cells contain  normal text or formatted text called *Markdown* text (more on this later).\n",
    "\n",
    "You can switch from one type of cell to another using the following shortcuts:\n",
    "- `code`: Y\n",
    "- `text`: M \n",
    "\n",
    "but in order to do so you have to make sure that you are outside of the cells as shown below"
   ]
  },
  {
   "cell_type": "markdown",
   "metadata": {},
   "source": [
    "```{image} ../../images/convert_cells.gif\n",
    ":width: 350px\n",
    ":align: center\n",
    "```"
   ]
  },
  {
   "cell_type": "markdown",
   "metadata": {},
   "source": [
    "### Notebook parts\n",
    "\n",
    "Use the following image to identify some basic part of jupyter lab."
   ]
  },
  {
   "attachments": {},
   "cell_type": "markdown",
   "metadata": {},
   "source": [
    "```{image} ../../images/notebook_annotated.png\n",
    "```"
   ]
  },
  {
   "cell_type": "markdown",
   "metadata": {},
   "source": [
    "### Shortcuts"
   ]
  },
  {
   "cell_type": "markdown",
   "metadata": {},
   "source": [
    "Notebooks offer a series of shortcuts that you can use to speed up certain operation. You can use some of the *common tasks* buttons or options in the *top* menu. For some of these shortcuts to work, your cursor needs to be outside the cell (you will need to click on the outside the cell) while others operate inside the cell. Here are some of the most common,\n",
    "\n",
    "```{csv-table} OUTSIDE A CELL\n",
    ":header: \"Shortcut\", \"Action\"\n",
    "\"M\", \"Convert cell to a markdown cell\"\n",
    "\"Y\", \"Convert cell to a code cell\"\n",
    "\"A\", \"Insert a new cell above selected cell\"\n",
    "\"B\", \"Insert a new cell below selected cell\"\n",
    "\"C\", \"Copy cell/s\"\n",
    "\"X\", \"Cut cell/s\"\n",
    "\"V\", \"Paste cell/s below selected cell\"\n",
    "\"DD\", \"Delete selected cell/s\"\n",
    "\"{kbd}`Ctrl` or {kbd}`⌘` + {kbd}`Enter`\", \"Run cell\"\n",
    "\"{kbd}`Shift` + {kbd}`Enter`\", \"Run cell and advance to the next\"\n",
    "```"
   ]
  },
  {
   "cell_type": "markdown",
   "metadata": {},
   "source": [
    "```{csv-table} INSIDE A CELL\n",
    ":header: \"Shortcut\", \"Action\"\n",
    "\"{kbd}`Ctrl` or {kbd}`⌘` + {kbd}`/`\", \"Toggle selected lines to comments\"\n",
    "\"{kbd}`Ctrl` or {kbd}`⌘` + {kbd}`Shift` + {kbd}`-`\", \"Separate selected lines into a new cell\"\n",
    "```"
   ]
  },
  {
   "cell_type": "markdown",
   "metadata": {
    "id": "uWAOLJWkWZkQ"
   },
   "source": [
    "### Use as a calculator"
   ]
  },
  {
   "cell_type": "markdown",
   "metadata": {},
   "source": [
    "One way to think of a notebook is as a very powerful calculator. One that allows you to do all kinds of things with data (read it from a file, plotted, transform it, and so on). We can do all of this in the way of **variables**. In theory, you can use any name to label a variable. However, there are some commonsense guidelines you want to keep in mind:  \n",
    "1. **Do not use Python reserved words**. This are words that mean something to Python. Granted, it is hard to tell, at this point, which are these words. You will learn some of them as we proceed.\n",
    "2. Do not start your variables with numberals or special characters, e.g. @,#, $, ! and so on\n",
    "3. Name a variable in such a way that that will help you remember what the variable stands for. You do not want to use a very long name but neither one that is too short that leaves you guessing.\n",
    "   \n",
    "As we proceed you will learn that variables can hold all sort of information, for now we will use it to store numbers (integers and decimal or *floating-point*) and strings."
   ]
  },
  {
   "cell_type": "code",
   "execution_count": 5,
   "metadata": {
    "colab": {
     "base_uri": "https://localhost:8080/",
     "height": 34
    },
    "executionInfo": {
     "elapsed": 546,
     "status": "ok",
     "timestamp": 1597708048201,
     "user": {
      "displayName": "Marcos Llobera",
      "photoUrl": "",
      "userId": "09511791020344235136"
     },
     "user_tz": 420
    },
    "id": "VMV-fpkvtiZR",
    "outputId": "4164cd41-a8e8-41b5-d69e-beb8f37cd340"
   },
   "outputs": [],
   "source": [
    "a = 7\n",
    "b = 10"
   ]
  },
  {
   "cell_type": "code",
   "execution_count": 6,
   "metadata": {
    "id": "PoSn7bUauN_d"
   },
   "outputs": [],
   "source": [
    "c = a + b"
   ]
  },
  {
   "cell_type": "code",
   "execution_count": 7,
   "metadata": {},
   "outputs": [
    {
     "data": {
      "text/plain": [
       "17"
      ]
     },
     "execution_count": 7,
     "metadata": {},
     "output_type": "execute_result"
    }
   ],
   "source": [
    "c"
   ]
  },
  {
   "cell_type": "code",
   "execution_count": 8,
   "metadata": {},
   "outputs": [
    {
     "data": {
      "text/plain": [
       "(7, 10)"
      ]
     },
     "execution_count": 8,
     "metadata": {},
     "output_type": "execute_result"
    }
   ],
   "source": [
    "a, b"
   ]
  },
  {
   "cell_type": "markdown",
   "metadata": {},
   "source": [
    "Unless you change them explicitly, variables (no matter what they hold) will retain their value throughout the entire notebook. "
   ]
  },
  {
   "cell_type": "markdown",
   "metadata": {},
   "source": [
    "```{caution}\n",
    "You can delete a cell where you declared a variable with a certain value and the variable will still retain that value.\n",
    "```"
   ]
  },
  {
   "cell_type": "markdown",
   "metadata": {},
   "source": [
    "### Restart Kernel\n",
    "\n",
    "You will want to **restart the kernel** of a notebook whenever you get some strange results or run into some errors (think about it as rebooting your computer). This is done by clicking on the following key,"
   ]
  },
  {
   "cell_type": "markdown",
   "metadata": {},
   "source": [
    "```{image} ../../images/kernel_restart.png\n",
    "```\\\n",
    "  "
   ]
  },
  {
   "cell_type": "markdown",
   "metadata": {},
   "source": [
    "```{caution}\n",
    "Keep in mind that it is possible to run cells in different order. This can be dangerous as you might get a certain result thinking that comes from a set of cells running in sequence when it is not the case. Before submitting a notebook run all cells from the top.\n",
    "```"
   ]
  },
  {
   "cell_type": "markdown",
   "metadata": {},
   "source": [
    "```{hint}\n",
    "Restart the kernel and run all cells before you submit a notebook. This is the **only way** to make sure that you the results you are getting are the ones that you expect. \n",
    "```"
   ]
  },
  {
   "cell_type": "markdown",
   "metadata": {
    "id": "dNk7uk3K8jAh"
   },
   "source": [
    "### Final Word"
   ]
  },
  {
   "cell_type": "markdown",
   "metadata": {
    "id": "UqhYqZ1RXkIu"
   },
   "source": [
    "Notebooks are great to experiment with code and see what happens. If you are new to coding, or have had a bad experience with it, you might feel apprehensive about running some bit of code for fear that doing so will 'break' something.\n",
    "\n",
    "**The best way to learn how something works, how code works, is by tinkering with it**. How do you do that??\n",
    " \n",
    "   Don't be afraid to change bits of the code, re-run the cell/s and see what happens. The worst thing that can happen is that you get an error! Is this so terrible?\n",
    "\n",
    "This course is meant to introduce you to the use of Python for data science analysis. We will be covering quite a few topics, some of which we would spend much more time drilling in. If you get into coding, not all of you will,.. you are urged to take the lead and seek out additional learning venues (there are tons out there!!!). I will help you by including a few links here an there but it is really up to you!! If you want to learn more **do not hesitate to ask**!!!"
   ]
  }
 ],
 "metadata": {
  "colab": {
   "authorship_tag": "ABX9TyMvAs6rvFtmCKYRdu6/dV22",
   "collapsed_sections": [
    "x4BilRajnX6B",
    "-xxXHdswoy5w",
    "JF17MqqBVsQc",
    "BmZQy0mycayb",
    "uWAOLJWkWZkQ",
    "vNMom97yWMbV",
    "-LrJ4AlDg6LS",
    "6RrgcG_70EXx",
    "wdHtSlSA0t5G",
    "cDB3eVffllBB",
    "88DbCP2PnVJe",
    "8GnQ4On0jW7U",
    "uR03jUPYZe1u",
    "-fldEwySkGfT",
    "-YcGKNpypBrP",
    "XJn3nsWCYcNE",
    "ZF8KZkKkLziR",
    "dNk7uk3K8jAh"
   ],
   "mount_file_id": "1wCcU-g6iD8SexV4L1idhm3TylfXwZ7Bu",
   "name": "Lab 2.1 - Introduction to Notebooks / Markdown_InstructorCopy.ipynb",
   "provenance": []
  },
  "interpreter": {
   "hash": "247885d2a76dfbcc1f241b1d913d3eff90da3c05c56fd70be09db7d62d710b03"
  },
  "kernelspec": {
   "display_name": "Python 3 (ipykernel)",
   "language": "python",
   "name": "python3"
  },
  "language_info": {
   "codemirror_mode": {
    "name": "ipython",
    "version": 3
   },
   "file_extension": ".py",
   "mimetype": "text/x-python",
   "name": "python",
   "nbconvert_exporter": "python",
   "pygments_lexer": "ipython3",
   "version": "3.12.5"
  }
 },
 "nbformat": 4,
 "nbformat_minor": 4
}
