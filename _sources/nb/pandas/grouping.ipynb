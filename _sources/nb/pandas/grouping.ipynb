{
 "cells": [
  {
   "cell_type": "markdown",
   "metadata": {
    "id": "bLUOAZeB68sF",
    "tags": []
   },
   "source": [
    "# Grouping Data"
   ]
  },
  {
   "cell_type": "code",
   "execution_count": 1,
   "metadata": {
    "id": "f-UOz3VGiejt"
   },
   "outputs": [],
   "source": [
    "import pandas as pd"
   ]
  },
  {
   "cell_type": "markdown",
   "metadata": {
    "id": "sbzqy9Sl6r8M",
    "tags": []
   },
   "source": [
    "#### Read csv files"
   ]
  },
  {
   "cell_type": "code",
   "execution_count": 2,
   "metadata": {
    "id": "o_QjhB6zqkrj"
   },
   "outputs": [],
   "source": [
    "from pathlib import Path\n",
    "\n",
    "# creating a relative path to the data folder \n",
    "pth = Path('../../data')"
   ]
  },
  {
   "cell_type": "code",
   "execution_count": 3,
   "metadata": {
    "id": "tzcgv3vZiRuZ",
    "scrolled": true
   },
   "outputs": [],
   "source": [
    "# read canvas csv file into a dataframe \n",
    "canvas = pd.read_csv(pth / 'canvas.csv')"
   ]
  },
  {
   "cell_type": "code",
   "execution_count": 4,
   "metadata": {
    "executionInfo": {
     "elapsed": 37543,
     "status": "ok",
     "timestamp": 1603858937380,
     "user": {
      "displayName": "Marcos Llobera",
      "photoUrl": "",
      "userId": "09511791020344235136"
     },
     "user_tz": 420
    },
    "id": "70evE3aK7Zlw"
   },
   "outputs": [],
   "source": [
    "# read graffito\n",
    "graffiti = pd.read_csv(pth/'graffiti.csv')"
   ]
  },
  {
   "cell_type": "markdown",
   "metadata": {
    "id": "t5r46RRT0c7L"
   },
   "source": [
    "## Grouping"
   ]
  },
  {
   "cell_type": "markdown",
   "metadata": {
    "executionInfo": {
     "elapsed": 38929,
     "status": "ok",
     "timestamp": 1603858939108,
     "user": {
      "displayName": "Marcos Llobera",
      "photoUrl": "",
      "userId": "09511791020344235136"
     },
     "user_tz": 420
    },
    "id": "GlDhoLJ1wL7Z"
   },
   "source": [
    "Use [`.groupby()`](https://pandas.pydata.org/pandas-docs/stable/reference/api/pandas.DataFrame.groupby.html) to group information based on the entries in one or more columns"
   ]
  },
  {
   "cell_type": "markdown",
   "metadata": {
    "id": "n0jkMkhR0hLq",
    "tags": []
   },
   "source": [
    "### Exploring Groupby() object"
   ]
  },
  {
   "cell_type": "markdown",
   "metadata": {},
   "source": [
    "The result of `.groupby()` by itself is not terribly useful but it is still helpful to become familiar with some of its attributes. Let's group entries in the graffiti table by their *type*."
   ]
  },
  {
   "cell_type": "code",
   "execution_count": 5,
   "metadata": {
    "colab": {
     "base_uri": "https://localhost:8080/",
     "height": 34
    },
    "executionInfo": {
     "elapsed": 38920,
     "status": "ok",
     "timestamp": 1603858939109,
     "user": {
      "displayName": "Marcos Llobera",
      "photoUrl": "",
      "userId": "09511791020344235136"
     },
     "user_tz": 420
    },
    "id": "eyt8MhrM0jL3",
    "outputId": "04573221-12d5-4025-a1c2-88f50336e5b1"
   },
   "outputs": [
    {
     "data": {
      "text/plain": [
       "<pandas.core.groupby.generic.DataFrameGroupBy object at 0x0000023AA36DBB00>"
      ]
     },
     "execution_count": 5,
     "metadata": {},
     "output_type": "execute_result"
    }
   ],
   "source": [
    "# create a groupby object\n",
    "grouped = graffiti.groupby('type')\n",
    "grouped"
   ]
  },
  {
   "cell_type": "markdown",
   "metadata": {},
   "source": [
    " `.groupby()` returns the groups it has generated as a Python [Dictionary](../python/dictionary.ipynb)."
   ]
  },
  {
   "cell_type": "code",
   "execution_count": 6,
   "metadata": {
    "colab": {
     "base_uri": "https://localhost:8080/",
     "height": 34
    },
    "executionInfo": {
     "elapsed": 38908,
     "status": "ok",
     "timestamp": 1603858939110,
     "user": {
      "displayName": "Marcos Llobera",
      "photoUrl": "",
      "userId": "09511791020344235136"
     },
     "user_tz": 420
    },
    "id": "mKnhaBf4I9Qa",
    "outputId": "8bb045c6-da5b-45ab-9b36-938a6a925cec"
   },
   "outputs": [
    {
     "data": {
      "text/plain": [
       "{'blockbuster': [118, 944, 952, 1420, 1505, 1993, 2021, 2027, 2052, 2056, 2064, 2068, 2072, 2086, 2091, 2125, 2804], 'edging': [711, 718, 1757, 1758, 1759, 1760, 1762, 1763, 1765, 1766, 1767, 3362, 3557, 3562, 3624], 'hollow': [3, 111, 236, 417, 425, 434, 441, 446, 447, 550, 551, 611, 625, 626, 630, 631, 632, 636, 640, 641, 642, 759, 764, 797, 809, 913, 918, 925, 942, 1046, 1049, 1082, 1182, 1281, 1348, 1349, 1449, 1462, 1544, 1567, 1568, 1589, 1596, 1612, 1628, 1644, 1671, 1710, 1711, 1712, 1713, 1715, 1719, 1727, 1728, 1730, 1731, 1737, 1768, 1787, 1809, 1811, 1819, 1820, 1821, 1822, 1823, 1826, 1828, 1829, 1830, 1831, 1835, 1836, 1838, 1841, 1842, 1846, 1882, 1887, 1900, 1932, 1960, 1965, 1997, 2003, 2012, 2024, 2065, 2155, 2199, 2201, 2202, 2370, 2373, 2375, 2376, 2385, 2390, 2395, ...], 'other': [174, 175, 177, 188, 215, 216, 219, 228, 234, 285, 495, 573, 580, 585, 743, 751, 755, 757, 1028, 1033, 1043, 1045, 1079, 1379, 1385, 1389, 1395, 1461, 1480, 1481, 1482, 1502, 1658, 1691, 1721, 1925, 1928, 1930, 1935, 1941, 1942, 1956, 1957, 1986, 1989, 2108, 2117, 2119, 2283, 2287, 2297, 2298, 2299, 2306, 2317, 2469, 2560, 2561, 2562, 2563, 2564, 2565, 2566, 2569, 2570, 2575, 2578, 2579, 2580, 2613, 2621, 2625, 2656, 2660, 2704, 2711, 2713, 2718, 2807, 2817, 2819, 2820, 2823, 2825, 2935, 2936, 2969, 3007, 3009, 3011, 3014, 3083, 3098, 3163, 3170, 3180, 3302, 3335, 3342, 3381, ...], 'pasteUp': [145, 770, 781, 785, 1414, 1417, 2019, 2231, 2480, 2520, 2832, 3160, 3610], 'piece': [0, 1, 16, 17, 19, 55, 109, 413, 428, 429, 456, 564, 565, 566, 575, 597, 621, 926, 1040, 1055, 1057, 1058, 1159, 1410, 1450, 1484, 1488, 1489, 1491, 1493, 1494, 1498, 1501, 1503, 1674, 1700, 1735, 1736, 1746, 1748, 1849, 1926, 1955, 1958, 1959, 1990, 2009, 2032, 2047, 2058, 2062, 2063, 2069, 2081, 2124, 2127, 2139, 2243, 2338, 2339, 2340, 2341, 2346, 2347, 2348, 2349, 2372, 2399, 2400, 2401, 2408, 2409, 2415, 2418, 2427, 2428, 2430, 2443, 2456, 2461, 2473, 2512, 2607, 2610, 2615, 2626, 2635, 2799, 2827, 2846, 2855, 2873, 2938, 3019, 3027, 3059, 3214, 3222, 3224, 3229, ...], 'stencil': [213, 1081, 1140, 1332, 2281, 2872, 3555, 3585], 'sticker': [59, 60, 61, 62, 63, 64, 65, 66, 68, 69, 70, 71, 72, 73, 75, 76, 77, 78, 119, 133, 135, 136, 137, 138, 139, 140, 142, 143, 144, 191, 195, 196, 197, 204, 205, 206, 207, 208, 212, 214, 259, 260, 261, 262, 263, 266, 267, 272, 273, 275, 277, 278, 281, 283, 291, 292, 293, 294, 297, 298, 305, 307, 308, 310, 311, 312, 313, 314, 315, 316, 317, 318, 320, 321, 322, 323, 324, 325, 327, 329, 330, 331, 332, 333, 348, 361, 382, 397, 398, 404, 452, 453, 454, 455, 457, 458, 460, 461, 462, 463, ...], 'tag': [2, 4, 5, 6, 9, 13, 15, 20, 21, 22, 23, 24, 25, 26, 27, 28, 30, 31, 32, 33, 34, 35, 36, 37, 38, 39, 40, 41, 42, 43, 44, 45, 46, 47, 48, 49, 50, 51, 52, 53, 67, 74, 79, 80, 81, 82, 83, 84, 85, 86, 87, 88, 89, 90, 91, 92, 93, 94, 95, 97, 98, 99, 100, 101, 102, 103, 104, 105, 106, 107, 110, 112, 113, 115, 120, 121, 122, 123, 124, 125, 127, 128, 129, 130, 131, 132, 134, 141, 146, 147, 148, 151, 152, 153, 154, 159, 160, 161, 162, 163, ...], 'throwUp': [7, 8, 10, 11, 12, 14, 18, 29, 54, 56, 57, 58, 96, 108, 114, 116, 117, 149, 150, 155, 156, 157, 158, 165, 178, 179, 180, 181, 185, 218, 220, 235, 240, 412, 415, 416, 420, 421, 422, 423, 424, 426, 431, 435, 451, 556, 567, 592, 595, 602, 606, 609, 610, 613, 614, 619, 628, 629, 760, 761, 765, 766, 900, 901, 902, 903, 923, 927, 928, 929, 931, 936, 979, 988, 993, 1001, 1032, 1056, 1107, 1132, 1172, 1179, 1181, 1186, 1188, 1200, 1201, 1204, 1210, 1211, 1218, 1234, 1237, 1248, 1249, 1250, 1277, 1278, 1279, 1280, ...], 'wildstyle': [126, 940, 945, 953, 1178, 1276, 1439, 1490, 1630, 1669, 1670, 1672, 1848, 2036, 2060, 2123, 2140, 2410, 2411, 2452, 2609, 3041, 3542]}"
      ]
     },
     "execution_count": 6,
     "metadata": {},
     "output_type": "execute_result"
    }
   ],
   "source": [
    "grouped.groups"
   ]
  },
  {
   "cell_type": "markdown",
   "metadata": {},
   "source": [
    "You access its entries, keys and values as you would any Python Dictionary."
   ]
  },
  {
   "cell_type": "code",
   "execution_count": 7,
   "metadata": {},
   "outputs": [
    {
     "data": {
      "text/plain": [
       "dict_keys(['blockbuster', 'edging', 'hollow', 'other', 'pasteUp', 'piece', 'stencil', 'sticker', 'tag', 'throwUp', 'wildstyle'])"
      ]
     },
     "execution_count": 7,
     "metadata": {},
     "output_type": "execute_result"
    }
   ],
   "source": [
    "# Names of the groups?\n",
    "grouped.groups.keys()"
   ]
  },
  {
   "cell_type": "code",
   "execution_count": 8,
   "metadata": {
    "scrolled": true
   },
   "outputs": [
    {
     "data": {
      "text/plain": [
       "Index([   7,    8,   10,   11,   12,   14,   18,   29,   54,   56,\n",
       "       ...\n",
       "       3447, 3450, 3452, 3453, 3523, 3525, 3575, 3580, 3596, 3616],\n",
       "      dtype='int64', length=280)"
      ]
     },
     "execution_count": 8,
     "metadata": {},
     "output_type": "execute_result"
    }
   ],
   "source": [
    "# return (row) indexes  for all entries in the 'throwUp' group\n",
    "grouped.groups['throwUp']"
   ]
  },
  {
   "cell_type": "markdown",
   "metadata": {},
   "source": [
    "### Retrieving a Group"
   ]
  },
  {
   "cell_type": "markdown",
   "metadata": {},
   "source": [
    "You can retrieve the entries of a particular group as a DataFrame."
   ]
  },
  {
   "cell_type": "code",
   "execution_count": 9,
   "metadata": {
    "colab": {
     "base_uri": "https://localhost:8080/",
     "height": 235
    },
    "executionInfo": {
     "elapsed": 39505,
     "status": "ok",
     "timestamp": 1603858939727,
     "user": {
      "displayName": "Marcos Llobera",
      "photoUrl": "",
      "userId": "09511791020344235136"
     },
     "user_tz": 420
    },
    "id": "sG7AT2PcJVHl",
    "outputId": "145ead50-cb35-4f43-cc4d-be72e956474f"
   },
   "outputs": [
    {
     "data": {
      "text/html": [
       "<div>\n",
       "<style scoped>\n",
       "    .dataframe tbody tr th:only-of-type {\n",
       "        vertical-align: middle;\n",
       "    }\n",
       "\n",
       "    .dataframe tbody tr th {\n",
       "        vertical-align: top;\n",
       "    }\n",
       "\n",
       "    .dataframe thead th {\n",
       "        text-align: right;\n",
       "    }\n",
       "</style>\n",
       "<table border=\"1\" class=\"dataframe\">\n",
       "  <thead>\n",
       "    <tr style=\"text-align: right;\">\n",
       "      <th></th>\n",
       "      <th>id</th>\n",
       "      <th>canvas_id</th>\n",
       "      <th>created_at</th>\n",
       "      <th>uploaded_at</th>\n",
       "      <th>created_by</th>\n",
       "      <th>title</th>\n",
       "      <th>num</th>\n",
       "      <th>date_recorded</th>\n",
       "      <th>width</th>\n",
       "      <th>height</th>\n",
       "      <th>...</th>\n",
       "      <th>technique</th>\n",
       "      <th>marker_type</th>\n",
       "      <th>nip_type</th>\n",
       "      <th>other</th>\n",
       "      <th>num_colors</th>\n",
       "      <th>colors</th>\n",
       "      <th>nature_graffiti</th>\n",
       "      <th>transcribable</th>\n",
       "      <th>message</th>\n",
       "      <th>transcription</th>\n",
       "    </tr>\n",
       "  </thead>\n",
       "  <tbody>\n",
       "    <tr>\n",
       "      <th>0</th>\n",
       "      <td>0</td>\n",
       "      <td>3</td>\n",
       "      <td>2023-11-27 13:40:11-08:00</td>\n",
       "      <td>2023-11-27 13:40:35-08:00</td>\n",
       "      <td>jsomer@uw.edu</td>\n",
       "      <td>11/27/2023 “Roja”</td>\n",
       "      <td>1</td>\n",
       "      <td>11/27/2023</td>\n",
       "      <td>91</td>\n",
       "      <td>35</td>\n",
       "      <td>...</td>\n",
       "      <td>spray</td>\n",
       "      <td>NaN</td>\n",
       "      <td>NaN</td>\n",
       "      <td>NaN</td>\n",
       "      <td>2</td>\n",
       "      <td>['black', 'white']</td>\n",
       "      <td>['Image', 'Text']</td>\n",
       "      <td>Y</td>\n",
       "      <td>writter</td>\n",
       "      <td>“Roja”</td>\n",
       "    </tr>\n",
       "    <tr>\n",
       "      <th>1</th>\n",
       "      <td>1</td>\n",
       "      <td>3</td>\n",
       "      <td>2023-11-27 13:39:13-08:00</td>\n",
       "      <td>2023-11-27 13:40:33-08:00</td>\n",
       "      <td>jsomer@uw.edu</td>\n",
       "      <td>11/27/2023 Triangle/prism</td>\n",
       "      <td>1</td>\n",
       "      <td>11/27/2023</td>\n",
       "      <td>91</td>\n",
       "      <td>60</td>\n",
       "      <td>...</td>\n",
       "      <td>spray</td>\n",
       "      <td>NaN</td>\n",
       "      <td>NaN</td>\n",
       "      <td>NaN</td>\n",
       "      <td>3-5</td>\n",
       "      <td>['black', 'white', 'red', 'gold']</td>\n",
       "      <td>['Image']</td>\n",
       "      <td>Y</td>\n",
       "      <td>other</td>\n",
       "      <td>Triangle/prism</td>\n",
       "    </tr>\n",
       "    <tr>\n",
       "      <th>16</th>\n",
       "      <td>16</td>\n",
       "      <td>4</td>\n",
       "      <td>2023-11-27 13:14:51-08:00</td>\n",
       "      <td>2023-11-27 13:33:25-08:00</td>\n",
       "      <td>kbtellez@uw.edu</td>\n",
       "      <td>11/27/2023 Aim</td>\n",
       "      <td>1</td>\n",
       "      <td>11/27/2023</td>\n",
       "      <td>162</td>\n",
       "      <td>151</td>\n",
       "      <td>...</td>\n",
       "      <td>spray</td>\n",
       "      <td>NaN</td>\n",
       "      <td>NaN</td>\n",
       "      <td>NaN</td>\n",
       "      <td>2</td>\n",
       "      <td>['black', 'white']</td>\n",
       "      <td>['Text']</td>\n",
       "      <td>Y</td>\n",
       "      <td>writter</td>\n",
       "      <td>Aim</td>\n",
       "    </tr>\n",
       "  </tbody>\n",
       "</table>\n",
       "<p>3 rows × 21 columns</p>\n",
       "</div>"
      ],
      "text/plain": [
       "    id  canvas_id                 created_at                uploaded_at  \\\n",
       "0    0          3  2023-11-27 13:40:11-08:00  2023-11-27 13:40:35-08:00   \n",
       "1    1          3  2023-11-27 13:39:13-08:00  2023-11-27 13:40:33-08:00   \n",
       "16  16          4  2023-11-27 13:14:51-08:00  2023-11-27 13:33:25-08:00   \n",
       "\n",
       "         created_by                      title  num date_recorded  width  \\\n",
       "0     jsomer@uw.edu          11/27/2023 “Roja”    1    11/27/2023     91   \n",
       "1     jsomer@uw.edu  11/27/2023 Triangle/prism    1    11/27/2023     91   \n",
       "16  kbtellez@uw.edu             11/27/2023 Aim    1    11/27/2023    162   \n",
       "\n",
       "    height  ... technique marker_type nip_type other num_colors  \\\n",
       "0       35  ...     spray         NaN      NaN   NaN          2   \n",
       "1       60  ...     spray         NaN      NaN   NaN        3-5   \n",
       "16     151  ...     spray         NaN      NaN   NaN          2   \n",
       "\n",
       "                               colors    nature_graffiti transcribable  \\\n",
       "0                  ['black', 'white']  ['Image', 'Text']             Y   \n",
       "1   ['black', 'white', 'red', 'gold']          ['Image']             Y   \n",
       "16                 ['black', 'white']           ['Text']             Y   \n",
       "\n",
       "    message   transcription  \n",
       "0   writter          “Roja”  \n",
       "1     other  Triangle/prism  \n",
       "16  writter             Aim  \n",
       "\n",
       "[3 rows x 21 columns]"
      ]
     },
     "execution_count": 9,
     "metadata": {},
     "output_type": "execute_result"
    }
   ],
   "source": [
    "# get 'piece' group?\n",
    "grouped.get_group('piece').head(3)"
   ]
  },
  {
   "cell_type": "markdown",
   "metadata": {},
   "source": [
    "### Grouping with Mutliple Columns"
   ]
  },
  {
   "cell_type": "markdown",
   "metadata": {},
   "source": [
    "Pandas allows you to use more than one column when generating groups. When doing so, Pandas will group based on the first column, within each of the groups created from that first grouping it will group again based on the second column and so on. You end up with information grouped in a hierarchical manner."
   ]
  },
  {
   "cell_type": "code",
   "execution_count": 10,
   "metadata": {},
   "outputs": [],
   "source": [
    "# group by canvas_location and viewing_potential\n",
    "grp= canvas.groupby(['canvas_location', 'viewing_potential'], observed= True)"
   ]
  },
  {
   "cell_type": "code",
   "execution_count": 11,
   "metadata": {},
   "outputs": [
    {
     "data": {
      "text/plain": [
       "dict_keys([('alley', 'high'), ('alley', 'low'), ('alley', 'medium'), ('bridge', 'high'), ('bridge', 'low'), ('bridge', 'medium'), ('highway', 'low'), ('highway', 'medium'), ('indoors', 'high'), ('indoors', 'low'), ('indoors', 'medium'), ('other', 'high'), ('other', 'low'), ('other', 'medium'), ('overpass', 'high'), ('railroad_tracks', 'high'), ('railroad_tracks', 'low'), ('railroad_tracks', 'medium'), ('roof', 'high'), ('roof', 'medium'), ('street', 'high'), ('street', 'low'), ('street', 'medium')])"
      ]
     },
     "execution_count": 11,
     "metadata": {},
     "output_type": "execute_result"
    }
   ],
   "source": [
    "# what are the groups?\n",
    "grp.groups.keys()"
   ]
  },
  {
   "cell_type": "code",
   "execution_count": 12,
   "metadata": {},
   "outputs": [
    {
     "data": {
      "text/html": [
       "<div>\n",
       "<style scoped>\n",
       "    .dataframe tbody tr th:only-of-type {\n",
       "        vertical-align: middle;\n",
       "    }\n",
       "\n",
       "    .dataframe tbody tr th {\n",
       "        vertical-align: top;\n",
       "    }\n",
       "\n",
       "    .dataframe thead th {\n",
       "        text-align: right;\n",
       "    }\n",
       "</style>\n",
       "<table border=\"1\" class=\"dataframe\">\n",
       "  <thead>\n",
       "    <tr style=\"text-align: right;\">\n",
       "      <th></th>\n",
       "      <th>id</th>\n",
       "      <th>created_at</th>\n",
       "      <th>uploaded_at</th>\n",
       "      <th>created_by</th>\n",
       "      <th>title</th>\n",
       "      <th>at_canvas</th>\n",
       "      <th>coords</th>\n",
       "      <th>date_entry_canvas</th>\n",
       "      <th>property_type</th>\n",
       "      <th>property_use</th>\n",
       "      <th>surveillance_status</th>\n",
       "      <th>surveillance</th>\n",
       "      <th>canvas_location</th>\n",
       "      <th>canvas_nature</th>\n",
       "      <th>surface_material</th>\n",
       "      <th>graffiti_removal</th>\n",
       "      <th>viewing_potential</th>\n",
       "      <th>accessibility</th>\n",
       "    </tr>\n",
       "  </thead>\n",
       "  <tbody>\n",
       "    <tr>\n",
       "      <th>13</th>\n",
       "      <td>13</td>\n",
       "      <td>2023-11-26 19:37:06-08:00</td>\n",
       "      <td>2023-11-26 19:52:38-08:00</td>\n",
       "      <td>mingmats@uw.edu</td>\n",
       "      <td>11/26/2023 Sign</td>\n",
       "      <td>Y</td>\n",
       "      <td>{'latitude': 47.620266, 'longitude': -122.3197...</td>\n",
       "      <td>11/26/2023</td>\n",
       "      <td>comercial</td>\n",
       "      <td>in_use</td>\n",
       "      <td>Y</td>\n",
       "      <td>['cameras', 'lights']</td>\n",
       "      <td>alley</td>\n",
       "      <td>sign</td>\n",
       "      <td>['metal']</td>\n",
       "      <td>N</td>\n",
       "      <td>high</td>\n",
       "      <td>['street_Level']</td>\n",
       "    </tr>\n",
       "    <tr>\n",
       "      <th>83</th>\n",
       "      <td>83</td>\n",
       "      <td>2023-11-21 14:24:00-08:00</td>\n",
       "      <td>2023-11-26 18:30:29-08:00</td>\n",
       "      <td>aimerino@uw.edu</td>\n",
       "      <td>11/21/2023 Wall</td>\n",
       "      <td>Y</td>\n",
       "      <td>{'latitude': 47.610107, 'longitude': -122.3404...</td>\n",
       "      <td>11/21/2023</td>\n",
       "      <td>comercial</td>\n",
       "      <td>in_use</td>\n",
       "      <td>Y</td>\n",
       "      <td>['cameras', 'lights', 'alarms', 'people']</td>\n",
       "      <td>alley</td>\n",
       "      <td>wall</td>\n",
       "      <td>['brick']</td>\n",
       "      <td>N</td>\n",
       "      <td>high</td>\n",
       "      <td>['street_Level']</td>\n",
       "    </tr>\n",
       "    <tr>\n",
       "      <th>131</th>\n",
       "      <td>131</td>\n",
       "      <td>2023-11-18 10:43:16.091000-08:00</td>\n",
       "      <td>2023-11-18 12:54:18-08:00</td>\n",
       "      <td>meribeth@uw.edu</td>\n",
       "      <td>11/18/2023 Wall</td>\n",
       "      <td>Y</td>\n",
       "      <td>{'latitude': 47.661555, 'longitude': -122.3148...</td>\n",
       "      <td>11/18/2023</td>\n",
       "      <td>comercial</td>\n",
       "      <td>in_use</td>\n",
       "      <td>Y</td>\n",
       "      <td>['lights', 'people', 'cameras']</td>\n",
       "      <td>alley</td>\n",
       "      <td>wall</td>\n",
       "      <td>['concrete']</td>\n",
       "      <td>N</td>\n",
       "      <td>high</td>\n",
       "      <td>['street_Level']</td>\n",
       "    </tr>\n",
       "  </tbody>\n",
       "</table>\n",
       "</div>"
      ],
      "text/plain": [
       "      id                        created_at                uploaded_at  \\\n",
       "13    13         2023-11-26 19:37:06-08:00  2023-11-26 19:52:38-08:00   \n",
       "83    83         2023-11-21 14:24:00-08:00  2023-11-26 18:30:29-08:00   \n",
       "131  131  2023-11-18 10:43:16.091000-08:00  2023-11-18 12:54:18-08:00   \n",
       "\n",
       "          created_by            title at_canvas  \\\n",
       "13   mingmats@uw.edu  11/26/2023 Sign         Y   \n",
       "83   aimerino@uw.edu  11/21/2023 Wall         Y   \n",
       "131  meribeth@uw.edu  11/18/2023 Wall         Y   \n",
       "\n",
       "                                                coords date_entry_canvas  \\\n",
       "13   {'latitude': 47.620266, 'longitude': -122.3197...        11/26/2023   \n",
       "83   {'latitude': 47.610107, 'longitude': -122.3404...        11/21/2023   \n",
       "131  {'latitude': 47.661555, 'longitude': -122.3148...        11/18/2023   \n",
       "\n",
       "    property_type property_use surveillance_status  \\\n",
       "13      comercial       in_use                   Y   \n",
       "83      comercial       in_use                   Y   \n",
       "131     comercial       in_use                   Y   \n",
       "\n",
       "                                  surveillance canvas_location canvas_nature  \\\n",
       "13                       ['cameras', 'lights']           alley          sign   \n",
       "83   ['cameras', 'lights', 'alarms', 'people']           alley          wall   \n",
       "131            ['lights', 'people', 'cameras']           alley          wall   \n",
       "\n",
       "    surface_material graffiti_removal viewing_potential     accessibility  \n",
       "13         ['metal']                N              high  ['street_Level']  \n",
       "83         ['brick']                N              high  ['street_Level']  \n",
       "131     ['concrete']                N              high  ['street_Level']  "
      ]
     },
     "execution_count": 12,
     "metadata": {},
     "output_type": "execute_result"
    }
   ],
   "source": [
    "# return entries for alley and high visibility\n",
    "grp.get_group(('alley', 'high')).head(3)\n"
   ]
  },
  {
   "cell_type": "markdown",
   "metadata": {},
   "source": [
    "Handling multi-indexes is not trivial. "
   ]
  },
  {
   "cell_type": "markdown",
   "metadata": {},
   "source": [
    "### Simple Summaries"
   ]
  },
  {
   "cell_type": "markdown",
   "metadata": {},
   "source": [
    "Once information has been grouped, you can apply various Pandas' methods to generate numerical summaries. "
   ]
  },
  {
   "cell_type": "code",
   "execution_count": 13,
   "metadata": {
    "colab": {
     "base_uri": "https://localhost:8080/",
     "height": 119
    },
    "executionInfo": {
     "elapsed": 39423,
     "status": "ok",
     "timestamp": 1603858939731,
     "user": {
      "displayName": "Marcos Llobera",
      "photoUrl": "",
      "userId": "09511791020344235136"
     },
     "user_tz": 420
    },
    "id": "5VqslFoq1B4z",
    "outputId": "023e5270-0c85-4225-a36d-abaf23675713"
   },
   "outputs": [
    {
     "data": {
      "text/plain": [
       "type\n",
       "blockbuster      17\n",
       "edging           15\n",
       "hollow          162\n",
       "other           106\n",
       "pasteUp          13\n",
       "piece           121\n",
       "stencil           8\n",
       "sticker         442\n",
       "tag            2446\n",
       "throwUp         280\n",
       "wildstyle        23\n",
       "Name: type, dtype: int64"
      ]
     },
     "execution_count": 13,
     "metadata": {},
     "output_type": "execute_result"
    }
   ],
   "source": [
    "# number of entries\n",
    "graffiti.groupby('type')['type'].count()\n"
   ]
  },
  {
   "cell_type": "code",
   "execution_count": 14,
   "metadata": {},
   "outputs": [
    {
     "data": {
      "text/plain": [
       "type\n",
       "tag            2446\n",
       "sticker         442\n",
       "throwUp         280\n",
       "hollow          162\n",
       "piece           121\n",
       "other           106\n",
       "wildstyle        23\n",
       "blockbuster      17\n",
       "edging           15\n",
       "pasteUp          13\n",
       "stencil           8\n",
       "Name: count, dtype: int64"
      ]
     },
     "execution_count": 14,
     "metadata": {},
     "output_type": "execute_result"
    }
   ],
   "source": [
    "#similar to value_counts()\n",
    "graffiti.type.value_counts()"
   ]
  },
  {
   "cell_type": "code",
   "execution_count": 15,
   "metadata": {
    "colab": {
     "base_uri": "https://localhost:8080/",
     "height": 204
    },
    "executionInfo": {
     "elapsed": 39384,
     "status": "ok",
     "timestamp": 1603858939733,
     "user": {
      "displayName": "Marcos Llobera",
      "photoUrl": "",
      "userId": "09511791020344235136"
     },
     "user_tz": 420
    },
    "id": "s7Br9Q_m_X4-",
    "outputId": "78fe72b9-d3cb-4d73-a35a-f605f2d2bf97"
   },
   "outputs": [
    {
     "data": {
      "text/html": [
       "<div>\n",
       "<style scoped>\n",
       "    .dataframe tbody tr th:only-of-type {\n",
       "        vertical-align: middle;\n",
       "    }\n",
       "\n",
       "    .dataframe tbody tr th {\n",
       "        vertical-align: top;\n",
       "    }\n",
       "\n",
       "    .dataframe thead th {\n",
       "        text-align: right;\n",
       "    }\n",
       "</style>\n",
       "<table border=\"1\" class=\"dataframe\">\n",
       "  <thead>\n",
       "    <tr style=\"text-align: right;\">\n",
       "      <th></th>\n",
       "      <th>width</th>\n",
       "      <th>height</th>\n",
       "    </tr>\n",
       "    <tr>\n",
       "      <th>type</th>\n",
       "      <th></th>\n",
       "      <th></th>\n",
       "    </tr>\n",
       "  </thead>\n",
       "  <tbody>\n",
       "    <tr>\n",
       "      <th>blockbuster</th>\n",
       "      <td>232.705882</td>\n",
       "      <td>78.941176</td>\n",
       "    </tr>\n",
       "    <tr>\n",
       "      <th>edging</th>\n",
       "      <td>63.200000</td>\n",
       "      <td>24.200000</td>\n",
       "    </tr>\n",
       "    <tr>\n",
       "      <th>hollow</th>\n",
       "      <td>226.006173</td>\n",
       "      <td>98.543210</td>\n",
       "    </tr>\n",
       "    <tr>\n",
       "      <th>other</th>\n",
       "      <td>58.915094</td>\n",
       "      <td>44.169811</td>\n",
       "    </tr>\n",
       "    <tr>\n",
       "      <th>pasteUp</th>\n",
       "      <td>22.461538</td>\n",
       "      <td>41.538462</td>\n",
       "    </tr>\n",
       "    <tr>\n",
       "      <th>piece</th>\n",
       "      <td>200.214876</td>\n",
       "      <td>120.958678</td>\n",
       "    </tr>\n",
       "    <tr>\n",
       "      <th>stencil</th>\n",
       "      <td>21.000000</td>\n",
       "      <td>25.625000</td>\n",
       "    </tr>\n",
       "    <tr>\n",
       "      <th>sticker</th>\n",
       "      <td>10.466063</td>\n",
       "      <td>9.990950</td>\n",
       "    </tr>\n",
       "    <tr>\n",
       "      <th>tag</th>\n",
       "      <td>40.646361</td>\n",
       "      <td>29.544971</td>\n",
       "    </tr>\n",
       "    <tr>\n",
       "      <th>throwUp</th>\n",
       "      <td>205.346429</td>\n",
       "      <td>108.450000</td>\n",
       "    </tr>\n",
       "    <tr>\n",
       "      <th>wildstyle</th>\n",
       "      <td>245.826087</td>\n",
       "      <td>136.347826</td>\n",
       "    </tr>\n",
       "  </tbody>\n",
       "</table>\n",
       "</div>"
      ],
      "text/plain": [
       "                  width      height\n",
       "type                               \n",
       "blockbuster  232.705882   78.941176\n",
       "edging        63.200000   24.200000\n",
       "hollow       226.006173   98.543210\n",
       "other         58.915094   44.169811\n",
       "pasteUp       22.461538   41.538462\n",
       "piece        200.214876  120.958678\n",
       "stencil       21.000000   25.625000\n",
       "sticker       10.466063    9.990950\n",
       "tag           40.646361   29.544971\n",
       "throwUp      205.346429  108.450000\n",
       "wildstyle    245.826087  136.347826"
      ]
     },
     "execution_count": 15,
     "metadata": {},
     "output_type": "execute_result"
    }
   ],
   "source": [
    "# mean width and height\n",
    "graffiti.groupby('type')[['width', 'height']].mean()\n"
   ]
  },
  {
   "cell_type": "markdown",
   "metadata": {},
   "source": [
    "### `.agg()` `.aggregate()`"
   ]
  },
  {
   "cell_type": "markdown",
   "metadata": {},
   "source": [
    "You can do generate quite sophisticated summary tables using the Pandas' methods [`.agg()`](https://pandas.pydata.org/pandas-docs/stable/reference/api/pandas.DataFrame.agg.html), [`.aggregate()`](https://pandas.pydata.org/pandas-docs/stable/reference/api/pandas.DataFrame.aggregate.html)"
   ]
  },
  {
   "cell_type": "code",
   "execution_count": 16,
   "metadata": {
    "colab": {
     "base_uri": "https://localhost:8080/",
     "height": 204
    },
    "executionInfo": {
     "elapsed": 39369,
     "status": "ok",
     "timestamp": 1603858939735,
     "user": {
      "displayName": "Marcos Llobera",
      "photoUrl": "",
      "userId": "09511791020344235136"
     },
     "user_tz": 420
    },
    "id": "QiTJtpLCO48l",
    "outputId": "7d439485-e564-4726-907b-d08c40ac975e"
   },
   "outputs": [
    {
     "data": {
      "text/html": [
       "<div>\n",
       "<style scoped>\n",
       "    .dataframe tbody tr th:only-of-type {\n",
       "        vertical-align: middle;\n",
       "    }\n",
       "\n",
       "    .dataframe tbody tr th {\n",
       "        vertical-align: top;\n",
       "    }\n",
       "\n",
       "    .dataframe thead th {\n",
       "        text-align: right;\n",
       "    }\n",
       "</style>\n",
       "<table border=\"1\" class=\"dataframe\">\n",
       "  <thead>\n",
       "    <tr style=\"text-align: right;\">\n",
       "      <th></th>\n",
       "      <th>count</th>\n",
       "      <th>min</th>\n",
       "      <th>mean</th>\n",
       "      <th>std</th>\n",
       "      <th>max</th>\n",
       "    </tr>\n",
       "    <tr>\n",
       "      <th>type</th>\n",
       "      <th></th>\n",
       "      <th></th>\n",
       "      <th></th>\n",
       "      <th></th>\n",
       "      <th></th>\n",
       "    </tr>\n",
       "  </thead>\n",
       "  <tbody>\n",
       "    <tr>\n",
       "      <th>blockbuster</th>\n",
       "      <td>17</td>\n",
       "      <td>2</td>\n",
       "      <td>232.705882</td>\n",
       "      <td>215.012431</td>\n",
       "      <td>710</td>\n",
       "    </tr>\n",
       "    <tr>\n",
       "      <th>edging</th>\n",
       "      <td>15</td>\n",
       "      <td>10</td>\n",
       "      <td>63.200000</td>\n",
       "      <td>34.090635</td>\n",
       "      <td>128</td>\n",
       "    </tr>\n",
       "    <tr>\n",
       "      <th>hollow</th>\n",
       "      <td>162</td>\n",
       "      <td>4</td>\n",
       "      <td>226.006173</td>\n",
       "      <td>349.300410</td>\n",
       "      <td>3003</td>\n",
       "    </tr>\n",
       "    <tr>\n",
       "      <th>other</th>\n",
       "      <td>106</td>\n",
       "      <td>2</td>\n",
       "      <td>58.915094</td>\n",
       "      <td>117.862480</td>\n",
       "      <td>800</td>\n",
       "    </tr>\n",
       "    <tr>\n",
       "      <th>pasteUp</th>\n",
       "      <td>13</td>\n",
       "      <td>1</td>\n",
       "      <td>22.461538</td>\n",
       "      <td>19.598535</td>\n",
       "      <td>70</td>\n",
       "    </tr>\n",
       "    <tr>\n",
       "      <th>piece</th>\n",
       "      <td>121</td>\n",
       "      <td>1</td>\n",
       "      <td>200.214876</td>\n",
       "      <td>239.848223</td>\n",
       "      <td>2000</td>\n",
       "    </tr>\n",
       "    <tr>\n",
       "      <th>stencil</th>\n",
       "      <td>8</td>\n",
       "      <td>5</td>\n",
       "      <td>21.000000</td>\n",
       "      <td>10.042766</td>\n",
       "      <td>35</td>\n",
       "    </tr>\n",
       "    <tr>\n",
       "      <th>sticker</th>\n",
       "      <td>442</td>\n",
       "      <td>1</td>\n",
       "      <td>10.466063</td>\n",
       "      <td>16.350331</td>\n",
       "      <td>250</td>\n",
       "    </tr>\n",
       "    <tr>\n",
       "      <th>tag</th>\n",
       "      <td>2446</td>\n",
       "      <td>0</td>\n",
       "      <td>40.646361</td>\n",
       "      <td>74.071764</td>\n",
       "      <td>2020</td>\n",
       "    </tr>\n",
       "    <tr>\n",
       "      <th>throwUp</th>\n",
       "      <td>280</td>\n",
       "      <td>1</td>\n",
       "      <td>205.346429</td>\n",
       "      <td>186.281759</td>\n",
       "      <td>1000</td>\n",
       "    </tr>\n",
       "    <tr>\n",
       "      <th>wildstyle</th>\n",
       "      <td>23</td>\n",
       "      <td>1</td>\n",
       "      <td>245.826087</td>\n",
       "      <td>221.295289</td>\n",
       "      <td>670</td>\n",
       "    </tr>\n",
       "  </tbody>\n",
       "</table>\n",
       "</div>"
      ],
      "text/plain": [
       "             count  min        mean         std   max\n",
       "type                                                 \n",
       "blockbuster     17    2  232.705882  215.012431   710\n",
       "edging          15   10   63.200000   34.090635   128\n",
       "hollow         162    4  226.006173  349.300410  3003\n",
       "other          106    2   58.915094  117.862480   800\n",
       "pasteUp         13    1   22.461538   19.598535    70\n",
       "piece          121    1  200.214876  239.848223  2000\n",
       "stencil          8    5   21.000000   10.042766    35\n",
       "sticker        442    1   10.466063   16.350331   250\n",
       "tag           2446    0   40.646361   74.071764  2020\n",
       "throwUp        280    1  205.346429  186.281759  1000\n",
       "wildstyle       23    1  245.826087  221.295289   670"
      ]
     },
     "execution_count": 16,
     "metadata": {},
     "output_type": "execute_result"
    }
   ],
   "source": [
    "# find the count, min, mean, std, max width for each type\n",
    "graffiti.groupby('type')['width'].aggregate(['count','min', 'mean', 'std', 'max'])\n"
   ]
  },
  {
   "cell_type": "code",
   "execution_count": 17,
   "metadata": {
    "colab": {
     "base_uri": "https://localhost:8080/",
     "height": 235
    },
    "executionInfo": {
     "elapsed": 39355,
     "status": "ok",
     "timestamp": 1603858939736,
     "user": {
      "displayName": "Marcos Llobera",
      "photoUrl": "",
      "userId": "09511791020344235136"
     },
     "user_tz": 420
    },
    "id": "EB_-uhuO_zfE",
    "outputId": "4a12f6b8-ef8e-4482-f7ee-355db2ef160c"
   },
   "outputs": [],
   "source": [
    "# Use a dictionary to define operations for the type and width columns min, mean, std, max width\n",
    "operations = {'type': 'count',\n",
    "              'width':['min', 'mean', 'max']}\n"
   ]
  },
  {
   "cell_type": "code",
   "execution_count": 18,
   "metadata": {},
   "outputs": [
    {
     "data": {
      "text/html": [
       "<div>\n",
       "<style scoped>\n",
       "    .dataframe tbody tr th:only-of-type {\n",
       "        vertical-align: middle;\n",
       "    }\n",
       "\n",
       "    .dataframe tbody tr th {\n",
       "        vertical-align: top;\n",
       "    }\n",
       "\n",
       "    .dataframe thead tr th {\n",
       "        text-align: left;\n",
       "    }\n",
       "\n",
       "    .dataframe thead tr:last-of-type th {\n",
       "        text-align: right;\n",
       "    }\n",
       "</style>\n",
       "<table border=\"1\" class=\"dataframe\">\n",
       "  <thead>\n",
       "    <tr>\n",
       "      <th></th>\n",
       "      <th>type</th>\n",
       "      <th colspan=\"3\" halign=\"left\">width</th>\n",
       "    </tr>\n",
       "    <tr>\n",
       "      <th></th>\n",
       "      <th>count</th>\n",
       "      <th>min</th>\n",
       "      <th>mean</th>\n",
       "      <th>max</th>\n",
       "    </tr>\n",
       "    <tr>\n",
       "      <th>type</th>\n",
       "      <th></th>\n",
       "      <th></th>\n",
       "      <th></th>\n",
       "      <th></th>\n",
       "    </tr>\n",
       "  </thead>\n",
       "  <tbody>\n",
       "    <tr>\n",
       "      <th>blockbuster</th>\n",
       "      <td>17</td>\n",
       "      <td>2</td>\n",
       "      <td>232.705882</td>\n",
       "      <td>710</td>\n",
       "    </tr>\n",
       "    <tr>\n",
       "      <th>edging</th>\n",
       "      <td>15</td>\n",
       "      <td>10</td>\n",
       "      <td>63.200000</td>\n",
       "      <td>128</td>\n",
       "    </tr>\n",
       "    <tr>\n",
       "      <th>hollow</th>\n",
       "      <td>162</td>\n",
       "      <td>4</td>\n",
       "      <td>226.006173</td>\n",
       "      <td>3003</td>\n",
       "    </tr>\n",
       "    <tr>\n",
       "      <th>other</th>\n",
       "      <td>106</td>\n",
       "      <td>2</td>\n",
       "      <td>58.915094</td>\n",
       "      <td>800</td>\n",
       "    </tr>\n",
       "    <tr>\n",
       "      <th>pasteUp</th>\n",
       "      <td>13</td>\n",
       "      <td>1</td>\n",
       "      <td>22.461538</td>\n",
       "      <td>70</td>\n",
       "    </tr>\n",
       "    <tr>\n",
       "      <th>piece</th>\n",
       "      <td>121</td>\n",
       "      <td>1</td>\n",
       "      <td>200.214876</td>\n",
       "      <td>2000</td>\n",
       "    </tr>\n",
       "    <tr>\n",
       "      <th>stencil</th>\n",
       "      <td>8</td>\n",
       "      <td>5</td>\n",
       "      <td>21.000000</td>\n",
       "      <td>35</td>\n",
       "    </tr>\n",
       "    <tr>\n",
       "      <th>sticker</th>\n",
       "      <td>442</td>\n",
       "      <td>1</td>\n",
       "      <td>10.466063</td>\n",
       "      <td>250</td>\n",
       "    </tr>\n",
       "    <tr>\n",
       "      <th>tag</th>\n",
       "      <td>2446</td>\n",
       "      <td>0</td>\n",
       "      <td>40.646361</td>\n",
       "      <td>2020</td>\n",
       "    </tr>\n",
       "    <tr>\n",
       "      <th>throwUp</th>\n",
       "      <td>280</td>\n",
       "      <td>1</td>\n",
       "      <td>205.346429</td>\n",
       "      <td>1000</td>\n",
       "    </tr>\n",
       "    <tr>\n",
       "      <th>wildstyle</th>\n",
       "      <td>23</td>\n",
       "      <td>1</td>\n",
       "      <td>245.826087</td>\n",
       "      <td>670</td>\n",
       "    </tr>\n",
       "  </tbody>\n",
       "</table>\n",
       "</div>"
      ],
      "text/plain": [
       "             type width                  \n",
       "            count   min        mean   max\n",
       "type                                     \n",
       "blockbuster    17     2  232.705882   710\n",
       "edging         15    10   63.200000   128\n",
       "hollow        162     4  226.006173  3003\n",
       "other         106     2   58.915094   800\n",
       "pasteUp        13     1   22.461538    70\n",
       "piece         121     1  200.214876  2000\n",
       "stencil         8     5   21.000000    35\n",
       "sticker       442     1   10.466063   250\n",
       "tag          2446     0   40.646361  2020\n",
       "throwUp       280     1  205.346429  1000\n",
       "wildstyle      23     1  245.826087   670"
      ]
     },
     "execution_count": 18,
     "metadata": {},
     "output_type": "execute_result"
    }
   ],
   "source": [
    "# execute operations\n",
    "graffiti.groupby('type')[['type', 'width']].agg(operations)\n"
   ]
  },
  {
   "cell_type": "markdown",
   "metadata": {},
   "source": [
    "## Filtering"
   ]
  },
  {
   "cell_type": "markdown",
   "metadata": {},
   "source": [
    "Use [`.filter()`](https://pandas.pydata.org/pandas-docs/stable/reference/api/pandas.DataFrame.filter.html) to select data based on **group** properties."
   ]
  },
  {
   "cell_type": "code",
   "execution_count": 19,
   "metadata": {},
   "outputs": [],
   "source": [
    "# create a function that checks if the number of entries for each type is greater than 10\n",
    "def greater10(grp):\n",
    "    return grp['type'].count() > 10"
   ]
  },
  {
   "cell_type": "code",
   "execution_count": 20,
   "metadata": {},
   "outputs": [
    {
     "data": {
      "text/html": [
       "<div>\n",
       "<style scoped>\n",
       "    .dataframe tbody tr th:only-of-type {\n",
       "        vertical-align: middle;\n",
       "    }\n",
       "\n",
       "    .dataframe tbody tr th {\n",
       "        vertical-align: top;\n",
       "    }\n",
       "\n",
       "    .dataframe thead th {\n",
       "        text-align: right;\n",
       "    }\n",
       "</style>\n",
       "<table border=\"1\" class=\"dataframe\">\n",
       "  <thead>\n",
       "    <tr style=\"text-align: right;\">\n",
       "      <th></th>\n",
       "      <th>type</th>\n",
       "      <th>width</th>\n",
       "    </tr>\n",
       "  </thead>\n",
       "  <tbody>\n",
       "    <tr>\n",
       "      <th>0</th>\n",
       "      <td>piece</td>\n",
       "      <td>91</td>\n",
       "    </tr>\n",
       "    <tr>\n",
       "      <th>1</th>\n",
       "      <td>piece</td>\n",
       "      <td>91</td>\n",
       "    </tr>\n",
       "    <tr>\n",
       "      <th>2</th>\n",
       "      <td>tag</td>\n",
       "      <td>25</td>\n",
       "    </tr>\n",
       "    <tr>\n",
       "      <th>3</th>\n",
       "      <td>hollow</td>\n",
       "      <td>365</td>\n",
       "    </tr>\n",
       "    <tr>\n",
       "      <th>4</th>\n",
       "      <td>tag</td>\n",
       "      <td>53</td>\n",
       "    </tr>\n",
       "    <tr>\n",
       "      <th>...</th>\n",
       "      <td>...</td>\n",
       "      <td>...</td>\n",
       "    </tr>\n",
       "    <tr>\n",
       "      <th>3628</th>\n",
       "      <td>piece</td>\n",
       "      <td>120</td>\n",
       "    </tr>\n",
       "    <tr>\n",
       "      <th>3629</th>\n",
       "      <td>piece</td>\n",
       "      <td>120</td>\n",
       "    </tr>\n",
       "    <tr>\n",
       "      <th>3630</th>\n",
       "      <td>hollow</td>\n",
       "      <td>120</td>\n",
       "    </tr>\n",
       "    <tr>\n",
       "      <th>3631</th>\n",
       "      <td>tag</td>\n",
       "      <td>15</td>\n",
       "    </tr>\n",
       "    <tr>\n",
       "      <th>3632</th>\n",
       "      <td>tag</td>\n",
       "      <td>60</td>\n",
       "    </tr>\n",
       "  </tbody>\n",
       "</table>\n",
       "<p>3625 rows × 2 columns</p>\n",
       "</div>"
      ],
      "text/plain": [
       "        type  width\n",
       "0      piece     91\n",
       "1      piece     91\n",
       "2        tag     25\n",
       "3     hollow    365\n",
       "4        tag     53\n",
       "...      ...    ...\n",
       "3628   piece    120\n",
       "3629   piece    120\n",
       "3630  hollow    120\n",
       "3631     tag     15\n",
       "3632     tag     60\n",
       "\n",
       "[3625 rows x 2 columns]"
      ]
     },
     "execution_count": 20,
     "metadata": {},
     "output_type": "execute_result"
    }
   ],
   "source": [
    "# apply above function\n",
    "result = graffiti.groupby('type')[['type', 'width']].filter(greater10)\n",
    "result"
   ]
  },
  {
   "cell_type": "markdown",
   "metadata": {},
   "source": [
    "## Additional References"
   ]
  },
  {
   "cell_type": "markdown",
   "metadata": {},
   "source": [
    "Additional help with [`.groupby`](https://realpython.com/pandas-groupby/)."
   ]
  }
 ],
 "metadata": {
  "colab": {
   "authorship_tag": "ABX9TyOyIvarOTaqLt/SK8+WF1Gx",
   "collapsed_sections": [
    "eRzrIUtxd84V",
    "IPXHRJgRm0ZR",
    "Kk76sMP_epP9",
    "ZFIZGzYShBjC",
    "qkLWZlvxrMXC"
   ],
   "mount_file_id": "1wCcU-g6iD8SexV4L1idhm3TylfXwZ7Bu",
   "name": "Lab 5.1  Groupby()  - InstructorCopy.ipynb",
   "provenance": [
    {
     "file_id": "1BrTAc8In1CcFww-Jbttopj8GiLXRJzv4",
     "timestamp": 1602545786318
    },
    {
     "file_id": "https://github.com/digarlab/graffiti/blob/master/archy5_235/Lab_2_2_Pandas.ipynb",
     "timestamp": 1598473380782
    }
   ]
  },
  "kernelspec": {
   "display_name": "Python 3 (ipykernel)",
   "language": "python",
   "name": "python3"
  },
  "language_info": {
   "codemirror_mode": {
    "name": "ipython",
    "version": 3
   },
   "file_extension": ".py",
   "mimetype": "text/x-python",
   "name": "python",
   "nbconvert_exporter": "python",
   "pygments_lexer": "ipython3",
   "version": "3.12.5"
  }
 },
 "nbformat": 4,
 "nbformat_minor": 4
}
