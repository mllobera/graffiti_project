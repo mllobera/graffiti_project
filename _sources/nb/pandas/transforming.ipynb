{
 "cells": [
  {
   "cell_type": "markdown",
   "metadata": {
    "id": "bLUOAZeB68sF"
   },
   "source": [
    "# Transforming"
   ]
  },
  {
   "cell_type": "code",
   "execution_count": 1,
   "metadata": {
    "id": "f-UOz3VGiejt"
   },
   "outputs": [],
   "source": [
    "import pandas as pd"
   ]
  },
  {
   "cell_type": "markdown",
   "metadata": {
    "id": "sbzqy9Sl6r8M",
    "tags": []
   },
   "source": [
    "#### Read csv files"
   ]
  },
  {
   "cell_type": "code",
   "execution_count": 2,
   "metadata": {
    "id": "o_QjhB6zqkrj"
   },
   "outputs": [],
   "source": [
    "from pathlib import Path\n",
    "\n",
    "# creating a relative path to the data folder \n",
    "pth = Path('../../data')"
   ]
  },
  {
   "cell_type": "code",
   "execution_count": 3,
   "metadata": {
    "id": "tzcgv3vZiRuZ",
    "scrolled": true
   },
   "outputs": [],
   "source": [
    "# read canvas csv file into a dataframe \n",
    "canvas = pd.read_csv(pth / 'canvas.csv')"
   ]
  },
  {
   "cell_type": "code",
   "execution_count": 4,
   "metadata": {
    "executionInfo": {
     "elapsed": 37543,
     "status": "ok",
     "timestamp": 1603858937380,
     "user": {
      "displayName": "Marcos Llobera",
      "photoUrl": "",
      "userId": "09511791020344235136"
     },
     "user_tz": 420
    },
    "id": "70evE3aK7Zlw"
   },
   "outputs": [],
   "source": [
    "# read graffito\n",
    "graffiti = pd.read_csv(pth/'graffiti.csv')"
   ]
  },
  {
   "cell_type": "markdown",
   "metadata": {
    "id": "bzUC-Ai5PqeH"
   },
   "source": [
    "## Table formats"
   ]
  },
  {
   "cell_type": "markdown",
   "metadata": {
    "id": "ljIo20c0hot_"
   },
   "source": [
    "A big issue in data analysis that feels like it should be obvious but often is not, is how to set up your data.\n",
    "\n",
    "In order to answer this question you first need to consider the following:\n",
    "\n",
    "* Which is/are your variable/s?\n",
    "* What actually represents your unit of observation?\n",
    "* How should data be distributed in a data table? What does a row or column actually represent?\n",
    "\n",
    "Answering these practical questions is not as trivial as you may think. If the data is not organized in the right way, you will not be able to do your analysis or visualization easily (or not at all)."
   ]
  },
  {
   "cell_type": "markdown",
   "metadata": {
    "id": "ljIo20c0hot_"
   },
   "source": [
    "For the most part data tables can be found in two main formats (or a mixture of both):\n",
    "1. Wide format\n",
    "2. Long format (aka *tidy*, *tall*)"
   ]
  },
  {
   "cell_type": "markdown",
   "metadata": {
    "id": "c4YHHiQ8kdMq"
   },
   "source": [
    "### Wide format"
   ]
  },
  {
   "cell_type": "markdown",
   "metadata": {
    "id": "hPJ2J1oRkhFU"
   },
   "source": [
    "In this format, all of the observations about a single subject are in the same row. E.g.\n",
    "\n",
    "|id|Product|Height|Width|Weight|\n",
    "|--|-------|------|-----|------|\n",
    "|0| Samsung Edge| 15|10|3|\n",
    "|1| Samsung Note|20|10|4|\n",
    "|2| IPhone15|10|5|2|\n"
   ]
  },
  {
   "cell_type": "code",
   "execution_count": 5,
   "metadata": {},
   "outputs": [
    {
     "data": {
      "text/html": [
       "<div>\n",
       "<style scoped>\n",
       "    .dataframe tbody tr th:only-of-type {\n",
       "        vertical-align: middle;\n",
       "    }\n",
       "\n",
       "    .dataframe tbody tr th {\n",
       "        vertical-align: top;\n",
       "    }\n",
       "\n",
       "    .dataframe thead th {\n",
       "        text-align: right;\n",
       "    }\n",
       "</style>\n",
       "<table border=\"1\" class=\"dataframe\">\n",
       "  <thead>\n",
       "    <tr style=\"text-align: right;\">\n",
       "      <th></th>\n",
       "      <th>product</th>\n",
       "      <th>height</th>\n",
       "      <th>width</th>\n",
       "      <th>weight</th>\n",
       "    </tr>\n",
       "  </thead>\n",
       "  <tbody>\n",
       "    <tr>\n",
       "      <th>0</th>\n",
       "      <td>Samsung Edge</td>\n",
       "      <td>15</td>\n",
       "      <td>10</td>\n",
       "      <td>3</td>\n",
       "    </tr>\n",
       "    <tr>\n",
       "      <th>1</th>\n",
       "      <td>Samsung Note</td>\n",
       "      <td>20</td>\n",
       "      <td>10</td>\n",
       "      <td>4</td>\n",
       "    </tr>\n",
       "    <tr>\n",
       "      <th>2</th>\n",
       "      <td>IPhone15</td>\n",
       "      <td>10</td>\n",
       "      <td>5</td>\n",
       "      <td>2</td>\n",
       "    </tr>\n",
       "  </tbody>\n",
       "</table>\n",
       "</div>"
      ],
      "text/plain": [
       "        product  height  width  weight\n",
       "0  Samsung Edge      15     10       3\n",
       "1  Samsung Note      20     10       4\n",
       "2      IPhone15      10      5       2"
      ]
     },
     "execution_count": 5,
     "metadata": {},
     "output_type": "execute_result"
    }
   ],
   "source": [
    "# generate wide dataframe\n",
    "data = {'product': ['Samsung Edge', 'Samsung Note', 'IPhone15'],\n",
    "        'height':[15, 20, 10],\n",
    "        'width': [10, 10, 5],\n",
    "        'weight': [3, 4, 2]}\n",
    "wide = pd.DataFrame(data)\n",
    "wide"
   ]
  },
  {
   "cell_type": "markdown",
   "metadata": {
    "id": "vevxcj0No9Bc"
   },
   "source": [
    "### Long (*tall*  or *tidy*) format"
   ]
  },
  {
   "cell_type": "markdown",
   "metadata": {
    "id": "yxjrRMIxqURa"
   },
   "source": [
    "In this format,\n",
    "* Each variable must have its own column\n",
    "* Each observation must have its own row\n",
    "* Each value must have its own cell"
   ]
  },
  {
   "cell_type": "markdown",
   "metadata": {
    "id": "TfkvxweGpB98"
   },
   "source": [
    "|id|Product|Attribute| Measure|\n",
    "|--|-------|------|-----|\n",
    "|0| IPhoneX|Height|10|\n",
    "|1| IPhoneX|Width|5|\n",
    "|2| IPhoneX|Weight|2|\n",
    "|3| Samsung Note|Height|20|\n",
    "|4| Samsung Note|Width|10|\n",
    "|5| Samsung Note|Weight|4|\n",
    "|6| Samsung Edge| Height|15|\n",
    "|7| Samsung Edge| Width|10|\n",
    "|8| Samsung Edge| Weight|3|\n",
    "\n",
    "\n",
    "\n"
   ]
  },
  {
   "cell_type": "markdown",
   "metadata": {
    "id": "_M1hHTVrwSue"
   },
   "source": [
    "## *Wide* to *Long* (*tall* or *tidy*)"
   ]
  },
  {
   "cell_type": "markdown",
   "metadata": {
    "id": "wiRt9Y5WwagG"
   },
   "source": [
    "In Pandas this can be achieved in several different ways, but here we will consider only one of them. Whenever we want to go from a wide format to a long we will use the Pandas' special function [`melt()`](https://pandas.pydata.org/pandas-docs/stable/reference/api/pandas.melt.html). This function has as its main parameters (for more examples see [here](https://hausetutorials.netlify.app/posts/2020-05-14-reshaping-data-in-python-pandas/)):\n",
    "* *id_vars*: Column/s used to identify and order  rows vertically\n",
    "* *value_vars*: Column/s that are going to be 'unpivoted' (i.e. assembled into a single, 'variable', column by repeating them as necessary). If not specified, then all columns are used.\n",
    "* *var_name*: Name to be used to label the ‘variable’ column. If None, Pandas uses ‘variable’ as a label.\n",
    "* *value_name*: Name to use to label the ‘value’ column.\n"
   ]
  },
  {
   "cell_type": "markdown",
   "metadata": {},
   "source": [
    "```{image} ../../images/melt.png\n",
    ":alt: melt\n",
    ":width: 85%\n",
    ":align: center\n",
    "```"
   ]
  },
  {
   "cell_type": "markdown",
   "metadata": {},
   "source": [
    "In general, data that is in *long* or *tidy* format can be analyzed better. Data from individual columns can be more readily used in calculations. Let's reshape our small wide dataframe into a long/tidy dataframe"
   ]
  },
  {
   "cell_type": "code",
   "execution_count": 6,
   "metadata": {
    "scrolled": true
   },
   "outputs": [
    {
     "data": {
      "text/html": [
       "<div>\n",
       "<style scoped>\n",
       "    .dataframe tbody tr th:only-of-type {\n",
       "        vertical-align: middle;\n",
       "    }\n",
       "\n",
       "    .dataframe tbody tr th {\n",
       "        vertical-align: top;\n",
       "    }\n",
       "\n",
       "    .dataframe thead th {\n",
       "        text-align: right;\n",
       "    }\n",
       "</style>\n",
       "<table border=\"1\" class=\"dataframe\">\n",
       "  <thead>\n",
       "    <tr style=\"text-align: right;\">\n",
       "      <th></th>\n",
       "      <th>product</th>\n",
       "      <th>attribute</th>\n",
       "      <th>measure</th>\n",
       "    </tr>\n",
       "  </thead>\n",
       "  <tbody>\n",
       "    <tr>\n",
       "      <th>0</th>\n",
       "      <td>Samsung Edge</td>\n",
       "      <td>width</td>\n",
       "      <td>10</td>\n",
       "    </tr>\n",
       "    <tr>\n",
       "      <th>1</th>\n",
       "      <td>Samsung Note</td>\n",
       "      <td>width</td>\n",
       "      <td>10</td>\n",
       "    </tr>\n",
       "    <tr>\n",
       "      <th>2</th>\n",
       "      <td>IPhone15</td>\n",
       "      <td>width</td>\n",
       "      <td>5</td>\n",
       "    </tr>\n",
       "    <tr>\n",
       "      <th>3</th>\n",
       "      <td>Samsung Edge</td>\n",
       "      <td>height</td>\n",
       "      <td>15</td>\n",
       "    </tr>\n",
       "    <tr>\n",
       "      <th>4</th>\n",
       "      <td>Samsung Note</td>\n",
       "      <td>height</td>\n",
       "      <td>20</td>\n",
       "    </tr>\n",
       "    <tr>\n",
       "      <th>5</th>\n",
       "      <td>IPhone15</td>\n",
       "      <td>height</td>\n",
       "      <td>10</td>\n",
       "    </tr>\n",
       "    <tr>\n",
       "      <th>6</th>\n",
       "      <td>Samsung Edge</td>\n",
       "      <td>weight</td>\n",
       "      <td>3</td>\n",
       "    </tr>\n",
       "    <tr>\n",
       "      <th>7</th>\n",
       "      <td>Samsung Note</td>\n",
       "      <td>weight</td>\n",
       "      <td>4</td>\n",
       "    </tr>\n",
       "    <tr>\n",
       "      <th>8</th>\n",
       "      <td>IPhone15</td>\n",
       "      <td>weight</td>\n",
       "      <td>2</td>\n",
       "    </tr>\n",
       "  </tbody>\n",
       "</table>\n",
       "</div>"
      ],
      "text/plain": [
       "        product attribute  measure\n",
       "0  Samsung Edge     width       10\n",
       "1  Samsung Note     width       10\n",
       "2      IPhone15     width        5\n",
       "3  Samsung Edge    height       15\n",
       "4  Samsung Note    height       20\n",
       "5      IPhone15    height       10\n",
       "6  Samsung Edge    weight        3\n",
       "7  Samsung Note    weight        4\n",
       "8      IPhone15    weight        2"
      ]
     },
     "execution_count": 6,
     "metadata": {},
     "output_type": "execute_result"
    }
   ],
   "source": [
    "tidy = wide.melt(id_vars='product', value_vars=['width', 'height', 'weight'], var_name='attribute', value_name='measure')\n",
    "tidy"
   ]
  },
  {
   "cell_type": "markdown",
   "metadata": {},
   "source": [
    "Reshape the graffiti DataFrame into a long/tidy dataframe specifying only **one** identifier column. Each row holds information about each column-value pair contained in the entire DataFrame."
   ]
  },
  {
   "cell_type": "code",
   "execution_count": 7,
   "metadata": {
    "colab": {
     "base_uri": "https://localhost:8080/",
     "height": 419
    },
    "executionInfo": {
     "elapsed": 2502,
     "status": "ok",
     "timestamp": 1604417324561,
     "user": {
      "displayName": "Marcos Llobera",
      "photoUrl": "",
      "userId": "09511791020344235136"
     },
     "user_tz": 480
    },
    "id": "nr9BeIYN2ajD",
    "outputId": "c1c0377e-99bf-4eac-909b-470c46b4c24a"
   },
   "outputs": [
    {
     "data": {
      "text/html": [
       "<div>\n",
       "<style scoped>\n",
       "    .dataframe tbody tr th:only-of-type {\n",
       "        vertical-align: middle;\n",
       "    }\n",
       "\n",
       "    .dataframe tbody tr th {\n",
       "        vertical-align: top;\n",
       "    }\n",
       "\n",
       "    .dataframe thead th {\n",
       "        text-align: right;\n",
       "    }\n",
       "</style>\n",
       "<table border=\"1\" class=\"dataframe\">\n",
       "  <thead>\n",
       "    <tr style=\"text-align: right;\">\n",
       "      <th></th>\n",
       "      <th>type</th>\n",
       "      <th>attribute</th>\n",
       "      <th>value</th>\n",
       "    </tr>\n",
       "  </thead>\n",
       "  <tbody>\n",
       "    <tr>\n",
       "      <th>0</th>\n",
       "      <td>piece</td>\n",
       "      <td>id</td>\n",
       "      <td>0</td>\n",
       "    </tr>\n",
       "    <tr>\n",
       "      <th>1</th>\n",
       "      <td>piece</td>\n",
       "      <td>id</td>\n",
       "      <td>1</td>\n",
       "    </tr>\n",
       "    <tr>\n",
       "      <th>2</th>\n",
       "      <td>tag</td>\n",
       "      <td>id</td>\n",
       "      <td>2</td>\n",
       "    </tr>\n",
       "    <tr>\n",
       "      <th>3</th>\n",
       "      <td>hollow</td>\n",
       "      <td>id</td>\n",
       "      <td>3</td>\n",
       "    </tr>\n",
       "    <tr>\n",
       "      <th>4</th>\n",
       "      <td>tag</td>\n",
       "      <td>id</td>\n",
       "      <td>4</td>\n",
       "    </tr>\n",
       "    <tr>\n",
       "      <th>...</th>\n",
       "      <td>...</td>\n",
       "      <td>...</td>\n",
       "      <td>...</td>\n",
       "    </tr>\n",
       "    <tr>\n",
       "      <th>72655</th>\n",
       "      <td>piece</td>\n",
       "      <td>transcription</td>\n",
       "      <td>SNIDE</td>\n",
       "    </tr>\n",
       "    <tr>\n",
       "      <th>72656</th>\n",
       "      <td>piece</td>\n",
       "      <td>transcription</td>\n",
       "      <td>CARPO (VOA)</td>\n",
       "    </tr>\n",
       "    <tr>\n",
       "      <th>72657</th>\n",
       "      <td>hollow</td>\n",
       "      <td>transcription</td>\n",
       "      <td>CARPO</td>\n",
       "    </tr>\n",
       "    <tr>\n",
       "      <th>72658</th>\n",
       "      <td>tag</td>\n",
       "      <td>transcription</td>\n",
       "      <td>MUTE</td>\n",
       "    </tr>\n",
       "    <tr>\n",
       "      <th>72659</th>\n",
       "      <td>tag</td>\n",
       "      <td>transcription</td>\n",
       "      <td>BEASTER 2/10</td>\n",
       "    </tr>\n",
       "  </tbody>\n",
       "</table>\n",
       "<p>72660 rows × 3 columns</p>\n",
       "</div>"
      ],
      "text/plain": [
       "         type      attribute         value\n",
       "0       piece             id             0\n",
       "1       piece             id             1\n",
       "2         tag             id             2\n",
       "3      hollow             id             3\n",
       "4         tag             id             4\n",
       "...       ...            ...           ...\n",
       "72655   piece  transcription         SNIDE\n",
       "72656   piece  transcription   CARPO (VOA)\n",
       "72657  hollow  transcription         CARPO\n",
       "72658     tag  transcription          MUTE\n",
       "72659     tag  transcription  BEASTER 2/10\n",
       "\n",
       "[72660 rows x 3 columns]"
      ]
     },
     "execution_count": 7,
     "metadata": {},
     "output_type": "execute_result"
    }
   ],
   "source": [
    "graffiti.melt(id_vars='type', var_name='attribute')"
   ]
  },
  {
   "cell_type": "markdown",
   "metadata": {},
   "source": [
    "Reshape graffiti DataFrame into a long/tidy dataframe specifying **two** identifier columns"
   ]
  },
  {
   "cell_type": "code",
   "execution_count": 8,
   "metadata": {
    "colab": {
     "base_uri": "https://localhost:8080/",
     "height": 419
    },
    "executionInfo": {
     "elapsed": 2496,
     "status": "ok",
     "timestamp": 1604417324561,
     "user": {
      "displayName": "Marcos Llobera",
      "photoUrl": "",
      "userId": "09511791020344235136"
     },
     "user_tz": 480
    },
    "id": "2CxFkFjAgYG0",
    "outputId": "173bb50e-1904-4a2e-fee8-0bbae3d3f14a"
   },
   "outputs": [
    {
     "data": {
      "text/html": [
       "<div>\n",
       "<style scoped>\n",
       "    .dataframe tbody tr th:only-of-type {\n",
       "        vertical-align: middle;\n",
       "    }\n",
       "\n",
       "    .dataframe tbody tr th {\n",
       "        vertical-align: top;\n",
       "    }\n",
       "\n",
       "    .dataframe thead th {\n",
       "        text-align: right;\n",
       "    }\n",
       "</style>\n",
       "<table border=\"1\" class=\"dataframe\">\n",
       "  <thead>\n",
       "    <tr style=\"text-align: right;\">\n",
       "      <th></th>\n",
       "      <th>type</th>\n",
       "      <th>message</th>\n",
       "      <th>variable</th>\n",
       "      <th>value</th>\n",
       "    </tr>\n",
       "  </thead>\n",
       "  <tbody>\n",
       "    <tr>\n",
       "      <th>0</th>\n",
       "      <td>piece</td>\n",
       "      <td>writter</td>\n",
       "      <td>id</td>\n",
       "      <td>0</td>\n",
       "    </tr>\n",
       "    <tr>\n",
       "      <th>1</th>\n",
       "      <td>piece</td>\n",
       "      <td>other</td>\n",
       "      <td>id</td>\n",
       "      <td>1</td>\n",
       "    </tr>\n",
       "    <tr>\n",
       "      <th>2</th>\n",
       "      <td>tag</td>\n",
       "      <td>NaN</td>\n",
       "      <td>id</td>\n",
       "      <td>2</td>\n",
       "    </tr>\n",
       "    <tr>\n",
       "      <th>3</th>\n",
       "      <td>hollow</td>\n",
       "      <td>NaN</td>\n",
       "      <td>id</td>\n",
       "      <td>3</td>\n",
       "    </tr>\n",
       "    <tr>\n",
       "      <th>4</th>\n",
       "      <td>tag</td>\n",
       "      <td>writter</td>\n",
       "      <td>id</td>\n",
       "      <td>4</td>\n",
       "    </tr>\n",
       "    <tr>\n",
       "      <th>...</th>\n",
       "      <td>...</td>\n",
       "      <td>...</td>\n",
       "      <td>...</td>\n",
       "      <td>...</td>\n",
       "    </tr>\n",
       "    <tr>\n",
       "      <th>69022</th>\n",
       "      <td>piece</td>\n",
       "      <td>writter</td>\n",
       "      <td>transcription</td>\n",
       "      <td>SNIDE</td>\n",
       "    </tr>\n",
       "    <tr>\n",
       "      <th>69023</th>\n",
       "      <td>piece</td>\n",
       "      <td>writter</td>\n",
       "      <td>transcription</td>\n",
       "      <td>CARPO (VOA)</td>\n",
       "    </tr>\n",
       "    <tr>\n",
       "      <th>69024</th>\n",
       "      <td>hollow</td>\n",
       "      <td>writter</td>\n",
       "      <td>transcription</td>\n",
       "      <td>CARPO</td>\n",
       "    </tr>\n",
       "    <tr>\n",
       "      <th>69025</th>\n",
       "      <td>tag</td>\n",
       "      <td>writter</td>\n",
       "      <td>transcription</td>\n",
       "      <td>MUTE</td>\n",
       "    </tr>\n",
       "    <tr>\n",
       "      <th>69026</th>\n",
       "      <td>tag</td>\n",
       "      <td>writter</td>\n",
       "      <td>transcription</td>\n",
       "      <td>BEASTER 2/10</td>\n",
       "    </tr>\n",
       "  </tbody>\n",
       "</table>\n",
       "<p>69027 rows × 4 columns</p>\n",
       "</div>"
      ],
      "text/plain": [
       "         type  message       variable         value\n",
       "0       piece  writter             id             0\n",
       "1       piece    other             id             1\n",
       "2         tag      NaN             id             2\n",
       "3      hollow      NaN             id             3\n",
       "4         tag  writter             id             4\n",
       "...       ...      ...            ...           ...\n",
       "69022   piece  writter  transcription         SNIDE\n",
       "69023   piece  writter  transcription   CARPO (VOA)\n",
       "69024  hollow  writter  transcription         CARPO\n",
       "69025     tag  writter  transcription          MUTE\n",
       "69026     tag  writter  transcription  BEASTER 2/10\n",
       "\n",
       "[69027 rows x 4 columns]"
      ]
     },
     "execution_count": 8,
     "metadata": {},
     "output_type": "execute_result"
    }
   ],
   "source": [
    "graffiti.melt(id_vars= ['type', 'message'])"
   ]
  },
  {
   "cell_type": "code",
   "execution_count": 9,
   "metadata": {
    "colab": {
     "base_uri": "https://localhost:8080/",
     "height": 419
    },
    "executionInfo": {
     "elapsed": 2625,
     "status": "ok",
     "timestamp": 1604417324698,
     "user": {
      "displayName": "Marcos Llobera",
      "photoUrl": "",
      "userId": "09511791020344235136"
     },
     "user_tz": 480
    },
    "id": "kwMEZcU__usw",
    "outputId": "b5a90f75-daf9-4630-fd28-5a35ffd652e4"
   },
   "outputs": [
    {
     "data": {
      "text/html": [
       "<div>\n",
       "<style scoped>\n",
       "    .dataframe tbody tr th:only-of-type {\n",
       "        vertical-align: middle;\n",
       "    }\n",
       "\n",
       "    .dataframe tbody tr th {\n",
       "        vertical-align: top;\n",
       "    }\n",
       "\n",
       "    .dataframe thead th {\n",
       "        text-align: right;\n",
       "    }\n",
       "</style>\n",
       "<table border=\"1\" class=\"dataframe\">\n",
       "  <thead>\n",
       "    <tr style=\"text-align: right;\">\n",
       "      <th></th>\n",
       "      <th>type</th>\n",
       "      <th>variable</th>\n",
       "      <th>value</th>\n",
       "    </tr>\n",
       "  </thead>\n",
       "  <tbody>\n",
       "    <tr>\n",
       "      <th>0</th>\n",
       "      <td>piece</td>\n",
       "      <td>width</td>\n",
       "      <td>91</td>\n",
       "    </tr>\n",
       "    <tr>\n",
       "      <th>1</th>\n",
       "      <td>piece</td>\n",
       "      <td>width</td>\n",
       "      <td>91</td>\n",
       "    </tr>\n",
       "    <tr>\n",
       "      <th>2</th>\n",
       "      <td>tag</td>\n",
       "      <td>width</td>\n",
       "      <td>25</td>\n",
       "    </tr>\n",
       "    <tr>\n",
       "      <th>3</th>\n",
       "      <td>hollow</td>\n",
       "      <td>width</td>\n",
       "      <td>365</td>\n",
       "    </tr>\n",
       "    <tr>\n",
       "      <th>4</th>\n",
       "      <td>tag</td>\n",
       "      <td>width</td>\n",
       "      <td>53</td>\n",
       "    </tr>\n",
       "    <tr>\n",
       "      <th>...</th>\n",
       "      <td>...</td>\n",
       "      <td>...</td>\n",
       "      <td>...</td>\n",
       "    </tr>\n",
       "    <tr>\n",
       "      <th>7261</th>\n",
       "      <td>piece</td>\n",
       "      <td>height</td>\n",
       "      <td>90</td>\n",
       "    </tr>\n",
       "    <tr>\n",
       "      <th>7262</th>\n",
       "      <td>piece</td>\n",
       "      <td>height</td>\n",
       "      <td>90</td>\n",
       "    </tr>\n",
       "    <tr>\n",
       "      <th>7263</th>\n",
       "      <td>hollow</td>\n",
       "      <td>height</td>\n",
       "      <td>90</td>\n",
       "    </tr>\n",
       "    <tr>\n",
       "      <th>7264</th>\n",
       "      <td>tag</td>\n",
       "      <td>height</td>\n",
       "      <td>30</td>\n",
       "    </tr>\n",
       "    <tr>\n",
       "      <th>7265</th>\n",
       "      <td>tag</td>\n",
       "      <td>height</td>\n",
       "      <td>30</td>\n",
       "    </tr>\n",
       "  </tbody>\n",
       "</table>\n",
       "<p>7266 rows × 3 columns</p>\n",
       "</div>"
      ],
      "text/plain": [
       "        type variable  value\n",
       "0      piece    width     91\n",
       "1      piece    width     91\n",
       "2        tag    width     25\n",
       "3     hollow    width    365\n",
       "4        tag    width     53\n",
       "...      ...      ...    ...\n",
       "7261   piece   height     90\n",
       "7262   piece   height     90\n",
       "7263  hollow   height     90\n",
       "7264     tag   height     30\n",
       "7265     tag   height     30\n",
       "\n",
       "[7266 rows x 3 columns]"
      ]
     },
     "execution_count": 9,
     "metadata": {},
     "output_type": "execute_result"
    }
   ],
   "source": [
    "# reshape graffiti dataframe into a long/tidy dataframe specifying identifier and column/s of interest\n",
    "long = graffiti.melt(id_vars='type', value_vars=['width', 'height'])\n",
    "long"
   ]
  },
  {
   "cell_type": "markdown",
   "metadata": {
    "id": "HbjuDv-qfdTa"
   },
   "source": [
    "## *Long* (*tall* or *tidy*) to *Wide* "
   ]
  },
  {
   "cell_type": "markdown",
   "metadata": {
    "id": "vtT9_KRXqNrv"
   },
   "source": [
    "In Pandas, this can be achieved in several different ways. Here we will only consider one of them. To convert from long to wide we use the Pandas function [`pivot_table()`](https://pandas.pydata.org/pandas-docs/stable/reference/api/pandas.pivot_table.html). This function has as its main parameters:\n",
    "* *Index*: Which column/s should be used to identify and order your rows vertically\n",
    "* *Columns*: Which column/s should be used to create the new columns. The new DataFrame will have as many columns as there are unique values.\n",
    "* *Values*: Which column/s should be used to fill the values in the cells of our DataFrame."
   ]
  },
  {
   "cell_type": "markdown",
   "metadata": {},
   "source": [
    "```{image} ../../images/pivot_table.png\n",
    ":alt: pivot table\n",
    ":width: 85%\n",
    ":align: center\n",
    "```"
   ]
  },
  {
   "cell_type": "markdown",
   "metadata": {},
   "source": [
    "A pivot table allows you to take columns of raw data from a pandas DataFrame, summarize them, and then analyze the summary data to reveal its insights. You can calculate common aggregate statistical calculations such as sums, counts, averages, and so on, revealing trends that your original raw data hides."
   ]
  },
  {
   "cell_type": "code",
   "execution_count": 10,
   "metadata": {},
   "outputs": [
    {
     "data": {
      "text/html": [
       "<div>\n",
       "<style scoped>\n",
       "    .dataframe tbody tr th:only-of-type {\n",
       "        vertical-align: middle;\n",
       "    }\n",
       "\n",
       "    .dataframe tbody tr th {\n",
       "        vertical-align: top;\n",
       "    }\n",
       "\n",
       "    .dataframe thead th {\n",
       "        text-align: right;\n",
       "    }\n",
       "</style>\n",
       "<table border=\"1\" class=\"dataframe\">\n",
       "  <thead>\n",
       "    <tr style=\"text-align: right;\">\n",
       "      <th>attribute</th>\n",
       "      <th>product</th>\n",
       "      <th>height</th>\n",
       "      <th>weight</th>\n",
       "      <th>width</th>\n",
       "    </tr>\n",
       "  </thead>\n",
       "  <tbody>\n",
       "    <tr>\n",
       "      <th>0</th>\n",
       "      <td>IPhone15</td>\n",
       "      <td>10.0</td>\n",
       "      <td>2.0</td>\n",
       "      <td>5.0</td>\n",
       "    </tr>\n",
       "    <tr>\n",
       "      <th>1</th>\n",
       "      <td>Samsung Edge</td>\n",
       "      <td>15.0</td>\n",
       "      <td>3.0</td>\n",
       "      <td>10.0</td>\n",
       "    </tr>\n",
       "    <tr>\n",
       "      <th>2</th>\n",
       "      <td>Samsung Note</td>\n",
       "      <td>20.0</td>\n",
       "      <td>4.0</td>\n",
       "      <td>10.0</td>\n",
       "    </tr>\n",
       "  </tbody>\n",
       "</table>\n",
       "</div>"
      ],
      "text/plain": [
       "attribute       product  height  weight  width\n",
       "0              IPhone15    10.0     2.0    5.0\n",
       "1          Samsung Edge    15.0     3.0   10.0\n",
       "2          Samsung Note    20.0     4.0   10.0"
      ]
     },
     "execution_count": 10,
     "metadata": {},
     "output_type": "execute_result"
    }
   ],
   "source": [
    "# reshape small dataframe back into wide format\n",
    "wide = tidy.pivot_table(index='product', columns='attribute', values='measure').reset_index()\n",
    "wide"
   ]
  },
  {
   "cell_type": "code",
   "execution_count": 11,
   "metadata": {
    "colab": {
     "base_uri": "https://localhost:8080/",
     "height": 452
    },
    "executionInfo": {
     "elapsed": 7470,
     "status": "ok",
     "timestamp": 1604417329569,
     "user": {
      "displayName": "Marcos Llobera",
      "photoUrl": "",
      "userId": "09511791020344235136"
     },
     "user_tz": 480
    },
    "id": "AUZBfHe9DFch",
    "outputId": "760f7850-fe26-464d-a5c6-737945ac36d4"
   },
   "outputs": [
    {
     "data": {
      "text/html": [
       "<div>\n",
       "<style scoped>\n",
       "    .dataframe tbody tr th:only-of-type {\n",
       "        vertical-align: middle;\n",
       "    }\n",
       "\n",
       "    .dataframe tbody tr th {\n",
       "        vertical-align: top;\n",
       "    }\n",
       "\n",
       "    .dataframe thead tr th {\n",
       "        text-align: left;\n",
       "    }\n",
       "</style>\n",
       "<table border=\"1\" class=\"dataframe\">\n",
       "  <thead>\n",
       "    <tr>\n",
       "      <th></th>\n",
       "      <th>type</th>\n",
       "      <th colspan=\"2\" halign=\"left\">count</th>\n",
       "      <th colspan=\"2\" halign=\"left\">mean</th>\n",
       "    </tr>\n",
       "    <tr>\n",
       "      <th></th>\n",
       "      <th></th>\n",
       "      <th colspan=\"2\" halign=\"left\">value</th>\n",
       "      <th colspan=\"2\" halign=\"left\">value</th>\n",
       "    </tr>\n",
       "    <tr>\n",
       "      <th>variable</th>\n",
       "      <th></th>\n",
       "      <th>height</th>\n",
       "      <th>width</th>\n",
       "      <th>height</th>\n",
       "      <th>width</th>\n",
       "    </tr>\n",
       "  </thead>\n",
       "  <tbody>\n",
       "    <tr>\n",
       "      <th>0</th>\n",
       "      <td>blockbuster</td>\n",
       "      <td>17</td>\n",
       "      <td>17</td>\n",
       "      <td>78.941176</td>\n",
       "      <td>232.705882</td>\n",
       "    </tr>\n",
       "    <tr>\n",
       "      <th>1</th>\n",
       "      <td>edging</td>\n",
       "      <td>15</td>\n",
       "      <td>15</td>\n",
       "      <td>24.200000</td>\n",
       "      <td>63.200000</td>\n",
       "    </tr>\n",
       "    <tr>\n",
       "      <th>2</th>\n",
       "      <td>hollow</td>\n",
       "      <td>162</td>\n",
       "      <td>162</td>\n",
       "      <td>98.543210</td>\n",
       "      <td>226.006173</td>\n",
       "    </tr>\n",
       "    <tr>\n",
       "      <th>3</th>\n",
       "      <td>other</td>\n",
       "      <td>106</td>\n",
       "      <td>106</td>\n",
       "      <td>44.169811</td>\n",
       "      <td>58.915094</td>\n",
       "    </tr>\n",
       "    <tr>\n",
       "      <th>4</th>\n",
       "      <td>pasteUp</td>\n",
       "      <td>13</td>\n",
       "      <td>13</td>\n",
       "      <td>41.538462</td>\n",
       "      <td>22.461538</td>\n",
       "    </tr>\n",
       "    <tr>\n",
       "      <th>5</th>\n",
       "      <td>piece</td>\n",
       "      <td>121</td>\n",
       "      <td>121</td>\n",
       "      <td>120.958678</td>\n",
       "      <td>200.214876</td>\n",
       "    </tr>\n",
       "    <tr>\n",
       "      <th>6</th>\n",
       "      <td>stencil</td>\n",
       "      <td>8</td>\n",
       "      <td>8</td>\n",
       "      <td>25.625000</td>\n",
       "      <td>21.000000</td>\n",
       "    </tr>\n",
       "    <tr>\n",
       "      <th>7</th>\n",
       "      <td>sticker</td>\n",
       "      <td>442</td>\n",
       "      <td>442</td>\n",
       "      <td>9.990950</td>\n",
       "      <td>10.466063</td>\n",
       "    </tr>\n",
       "    <tr>\n",
       "      <th>8</th>\n",
       "      <td>tag</td>\n",
       "      <td>2446</td>\n",
       "      <td>2446</td>\n",
       "      <td>29.544971</td>\n",
       "      <td>40.646361</td>\n",
       "    </tr>\n",
       "    <tr>\n",
       "      <th>9</th>\n",
       "      <td>throwUp</td>\n",
       "      <td>280</td>\n",
       "      <td>280</td>\n",
       "      <td>108.450000</td>\n",
       "      <td>205.346429</td>\n",
       "    </tr>\n",
       "    <tr>\n",
       "      <th>10</th>\n",
       "      <td>wildstyle</td>\n",
       "      <td>23</td>\n",
       "      <td>23</td>\n",
       "      <td>136.347826</td>\n",
       "      <td>245.826087</td>\n",
       "    </tr>\n",
       "  </tbody>\n",
       "</table>\n",
       "</div>"
      ],
      "text/plain": [
       "                 type  count              mean            \n",
       "                       value             value            \n",
       "variable              height width      height       width\n",
       "0         blockbuster     17    17   78.941176  232.705882\n",
       "1              edging     15    15   24.200000   63.200000\n",
       "2              hollow    162   162   98.543210  226.006173\n",
       "3               other    106   106   44.169811   58.915094\n",
       "4             pasteUp     13    13   41.538462   22.461538\n",
       "5               piece    121   121  120.958678  200.214876\n",
       "6             stencil      8     8   25.625000   21.000000\n",
       "7             sticker    442   442    9.990950   10.466063\n",
       "8                 tag   2446  2446   29.544971   40.646361\n",
       "9             throwUp    280   280  108.450000  205.346429\n",
       "10          wildstyle     23    23  136.347826  245.826087"
      ]
     },
     "execution_count": 11,
     "metadata": {},
     "output_type": "execute_result"
    }
   ],
   "source": [
    "# generate a pivot table from graffiti long format \n",
    "wide = long.pivot_table(index= 'type', columns ='variable', aggfunc=['count', 'mean']).reset_index()\n",
    "wide"
   ]
  },
  {
   "cell_type": "markdown",
   "metadata": {},
   "source": [
    "We can change the name of our columns/Series and drop redundant ones."
   ]
  },
  {
   "cell_type": "code",
   "execution_count": 12,
   "metadata": {
    "colab": {
     "base_uri": "https://localhost:8080/"
    },
    "executionInfo": {
     "elapsed": 7463,
     "status": "ok",
     "timestamp": 1604417329570,
     "user": {
      "displayName": "Marcos Llobera",
      "photoUrl": "",
      "userId": "09511791020344235136"
     },
     "user_tz": 480
    },
    "id": "89sdEEdtsI4z",
    "outputId": "cc49204d-630a-4d22-9ec8-9e7aa766117a"
   },
   "outputs": [
    {
     "data": {
      "text/html": [
       "<div>\n",
       "<style scoped>\n",
       "    .dataframe tbody tr th:only-of-type {\n",
       "        vertical-align: middle;\n",
       "    }\n",
       "\n",
       "    .dataframe tbody tr th {\n",
       "        vertical-align: top;\n",
       "    }\n",
       "\n",
       "    .dataframe thead th {\n",
       "        text-align: right;\n",
       "    }\n",
       "</style>\n",
       "<table border=\"1\" class=\"dataframe\">\n",
       "  <thead>\n",
       "    <tr style=\"text-align: right;\">\n",
       "      <th></th>\n",
       "      <th>type</th>\n",
       "      <th>count_dummy</th>\n",
       "      <th>count</th>\n",
       "      <th>mean_height</th>\n",
       "      <th>mean_width</th>\n",
       "    </tr>\n",
       "  </thead>\n",
       "  <tbody>\n",
       "    <tr>\n",
       "      <th>0</th>\n",
       "      <td>blockbuster</td>\n",
       "      <td>17</td>\n",
       "      <td>17</td>\n",
       "      <td>78.941176</td>\n",
       "      <td>232.705882</td>\n",
       "    </tr>\n",
       "    <tr>\n",
       "      <th>1</th>\n",
       "      <td>edging</td>\n",
       "      <td>15</td>\n",
       "      <td>15</td>\n",
       "      <td>24.200000</td>\n",
       "      <td>63.200000</td>\n",
       "    </tr>\n",
       "    <tr>\n",
       "      <th>2</th>\n",
       "      <td>hollow</td>\n",
       "      <td>162</td>\n",
       "      <td>162</td>\n",
       "      <td>98.543210</td>\n",
       "      <td>226.006173</td>\n",
       "    </tr>\n",
       "    <tr>\n",
       "      <th>3</th>\n",
       "      <td>other</td>\n",
       "      <td>106</td>\n",
       "      <td>106</td>\n",
       "      <td>44.169811</td>\n",
       "      <td>58.915094</td>\n",
       "    </tr>\n",
       "    <tr>\n",
       "      <th>4</th>\n",
       "      <td>pasteUp</td>\n",
       "      <td>13</td>\n",
       "      <td>13</td>\n",
       "      <td>41.538462</td>\n",
       "      <td>22.461538</td>\n",
       "    </tr>\n",
       "    <tr>\n",
       "      <th>5</th>\n",
       "      <td>piece</td>\n",
       "      <td>121</td>\n",
       "      <td>121</td>\n",
       "      <td>120.958678</td>\n",
       "      <td>200.214876</td>\n",
       "    </tr>\n",
       "    <tr>\n",
       "      <th>6</th>\n",
       "      <td>stencil</td>\n",
       "      <td>8</td>\n",
       "      <td>8</td>\n",
       "      <td>25.625000</td>\n",
       "      <td>21.000000</td>\n",
       "    </tr>\n",
       "    <tr>\n",
       "      <th>7</th>\n",
       "      <td>sticker</td>\n",
       "      <td>442</td>\n",
       "      <td>442</td>\n",
       "      <td>9.990950</td>\n",
       "      <td>10.466063</td>\n",
       "    </tr>\n",
       "    <tr>\n",
       "      <th>8</th>\n",
       "      <td>tag</td>\n",
       "      <td>2446</td>\n",
       "      <td>2446</td>\n",
       "      <td>29.544971</td>\n",
       "      <td>40.646361</td>\n",
       "    </tr>\n",
       "    <tr>\n",
       "      <th>9</th>\n",
       "      <td>throwUp</td>\n",
       "      <td>280</td>\n",
       "      <td>280</td>\n",
       "      <td>108.450000</td>\n",
       "      <td>205.346429</td>\n",
       "    </tr>\n",
       "    <tr>\n",
       "      <th>10</th>\n",
       "      <td>wildstyle</td>\n",
       "      <td>23</td>\n",
       "      <td>23</td>\n",
       "      <td>136.347826</td>\n",
       "      <td>245.826087</td>\n",
       "    </tr>\n",
       "  </tbody>\n",
       "</table>\n",
       "</div>"
      ],
      "text/plain": [
       "           type  count_dummy  count  mean_height  mean_width\n",
       "0   blockbuster           17     17    78.941176  232.705882\n",
       "1        edging           15     15    24.200000   63.200000\n",
       "2        hollow          162    162    98.543210  226.006173\n",
       "3         other          106    106    44.169811   58.915094\n",
       "4       pasteUp           13     13    41.538462   22.461538\n",
       "5         piece          121    121   120.958678  200.214876\n",
       "6       stencil            8      8    25.625000   21.000000\n",
       "7       sticker          442    442     9.990950   10.466063\n",
       "8           tag         2446   2446    29.544971   40.646361\n",
       "9       throwUp          280    280   108.450000  205.346429\n",
       "10    wildstyle           23     23   136.347826  245.826087"
      ]
     },
     "execution_count": 12,
     "metadata": {},
     "output_type": "execute_result"
    }
   ],
   "source": [
    "wide.columns = ['type', 'count_dummy', 'count', 'mean_height', 'mean_width']\n",
    "wide"
   ]
  },
  {
   "cell_type": "code",
   "execution_count": 13,
   "metadata": {
    "scrolled": true
   },
   "outputs": [
    {
     "data": {
      "text/html": [
       "<div>\n",
       "<style scoped>\n",
       "    .dataframe tbody tr th:only-of-type {\n",
       "        vertical-align: middle;\n",
       "    }\n",
       "\n",
       "    .dataframe tbody tr th {\n",
       "        vertical-align: top;\n",
       "    }\n",
       "\n",
       "    .dataframe thead th {\n",
       "        text-align: right;\n",
       "    }\n",
       "</style>\n",
       "<table border=\"1\" class=\"dataframe\">\n",
       "  <thead>\n",
       "    <tr style=\"text-align: right;\">\n",
       "      <th></th>\n",
       "      <th>type</th>\n",
       "      <th>count</th>\n",
       "      <th>mean_height</th>\n",
       "      <th>mean_width</th>\n",
       "    </tr>\n",
       "  </thead>\n",
       "  <tbody>\n",
       "    <tr>\n",
       "      <th>0</th>\n",
       "      <td>blockbuster</td>\n",
       "      <td>17</td>\n",
       "      <td>78.941176</td>\n",
       "      <td>232.705882</td>\n",
       "    </tr>\n",
       "    <tr>\n",
       "      <th>1</th>\n",
       "      <td>edging</td>\n",
       "      <td>15</td>\n",
       "      <td>24.200000</td>\n",
       "      <td>63.200000</td>\n",
       "    </tr>\n",
       "    <tr>\n",
       "      <th>2</th>\n",
       "      <td>hollow</td>\n",
       "      <td>162</td>\n",
       "      <td>98.543210</td>\n",
       "      <td>226.006173</td>\n",
       "    </tr>\n",
       "    <tr>\n",
       "      <th>3</th>\n",
       "      <td>other</td>\n",
       "      <td>106</td>\n",
       "      <td>44.169811</td>\n",
       "      <td>58.915094</td>\n",
       "    </tr>\n",
       "    <tr>\n",
       "      <th>4</th>\n",
       "      <td>pasteUp</td>\n",
       "      <td>13</td>\n",
       "      <td>41.538462</td>\n",
       "      <td>22.461538</td>\n",
       "    </tr>\n",
       "    <tr>\n",
       "      <th>5</th>\n",
       "      <td>piece</td>\n",
       "      <td>121</td>\n",
       "      <td>120.958678</td>\n",
       "      <td>200.214876</td>\n",
       "    </tr>\n",
       "    <tr>\n",
       "      <th>6</th>\n",
       "      <td>stencil</td>\n",
       "      <td>8</td>\n",
       "      <td>25.625000</td>\n",
       "      <td>21.000000</td>\n",
       "    </tr>\n",
       "    <tr>\n",
       "      <th>7</th>\n",
       "      <td>sticker</td>\n",
       "      <td>442</td>\n",
       "      <td>9.990950</td>\n",
       "      <td>10.466063</td>\n",
       "    </tr>\n",
       "    <tr>\n",
       "      <th>8</th>\n",
       "      <td>tag</td>\n",
       "      <td>2446</td>\n",
       "      <td>29.544971</td>\n",
       "      <td>40.646361</td>\n",
       "    </tr>\n",
       "    <tr>\n",
       "      <th>9</th>\n",
       "      <td>throwUp</td>\n",
       "      <td>280</td>\n",
       "      <td>108.450000</td>\n",
       "      <td>205.346429</td>\n",
       "    </tr>\n",
       "    <tr>\n",
       "      <th>10</th>\n",
       "      <td>wildstyle</td>\n",
       "      <td>23</td>\n",
       "      <td>136.347826</td>\n",
       "      <td>245.826087</td>\n",
       "    </tr>\n",
       "  </tbody>\n",
       "</table>\n",
       "</div>"
      ],
      "text/plain": [
       "           type  count  mean_height  mean_width\n",
       "0   blockbuster     17    78.941176  232.705882\n",
       "1        edging     15    24.200000   63.200000\n",
       "2        hollow    162    98.543210  226.006173\n",
       "3         other    106    44.169811   58.915094\n",
       "4       pasteUp     13    41.538462   22.461538\n",
       "5         piece    121   120.958678  200.214876\n",
       "6       stencil      8    25.625000   21.000000\n",
       "7       sticker    442     9.990950   10.466063\n",
       "8           tag   2446    29.544971   40.646361\n",
       "9       throwUp    280   108.450000  205.346429\n",
       "10    wildstyle     23   136.347826  245.826087"
      ]
     },
     "execution_count": 13,
     "metadata": {},
     "output_type": "execute_result"
    }
   ],
   "source": [
    "# drop first column\n",
    "wide.drop(columns= \"count_dummy\")"
   ]
  },
  {
   "cell_type": "markdown",
   "metadata": {},
   "source": [
    "## Additional References"
   ]
  },
  {
   "cell_type": "markdown",
   "metadata": {},
   "source": [
    "- For more on the use of [`melt()`](https://www.slingacademy.com/article/pandas-using-dataframe-melt-method-5-examples/).\n",
    "- For more on [pivot tables](https://realpython.com/how-to-pandas-pivot-table/)."
   ]
  }
 ],
 "metadata": {
  "colab": {
   "authorship_tag": "ABX9TyNYuRxPMLq6euY/x9C5HOTT",
   "collapsed_sections": [
    "eRzrIUtxd84V"
   ],
   "mount_file_id": "1wCcU-g6iD8SexV4L1idhm3TylfXwZ7Bu",
   "name": "Lab 6.1 The wide and the long(tidy)  - InstructorCopy.ipynb",
   "provenance": [
    {
     "file_id": "1C2qyoighzoBIOQQO1egIZzgH4-W7yKAf",
     "timestamp": 1603763247321
    },
    {
     "file_id": "1BrTAc8In1CcFww-Jbttopj8GiLXRJzv4",
     "timestamp": 1602545786318
    },
    {
     "file_id": "https://github.com/digarlab/graffiti/blob/master/archy5_235/Lab_2_2_Pandas.ipynb",
     "timestamp": 1598473380782
    }
   ],
   "toc_visible": true
  },
  "kernelspec": {
   "display_name": "Python 3 (ipykernel)",
   "language": "python",
   "name": "python3"
  },
  "language_info": {
   "codemirror_mode": {
    "name": "ipython",
    "version": 3
   },
   "file_extension": ".py",
   "mimetype": "text/x-python",
   "name": "python",
   "nbconvert_exporter": "python",
   "pygments_lexer": "ipython3",
   "version": "3.12.6"
  }
 },
 "nbformat": 4,
 "nbformat_minor": 4
}
