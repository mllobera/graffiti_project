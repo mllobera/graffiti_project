{
 "cells": [
  {
   "cell_type": "markdown",
   "metadata": {
    "id": "bLUOAZeB68sF"
   },
   "source": [
    "# Joins"
   ]
  },
  {
   "cell_type": "code",
   "execution_count": 1,
   "metadata": {
    "executionInfo": {
     "elapsed": 760,
     "status": "ok",
     "timestamp": 1605027104484,
     "user": {
      "displayName": "Marcos Llobera",
      "photoUrl": "",
      "userId": "09511791020344235136"
     },
     "user_tz": 480
    },
    "id": "f-UOz3VGiejt",
    "tags": []
   },
   "outputs": [],
   "source": [
    "import pandas as pd"
   ]
  },
  {
   "cell_type": "markdown",
   "metadata": {
    "id": "ljIo20c0hot_"
   },
   "source": [
    "So far he have only worked on a single table, although, our database contains two tables:\n",
    "* Canvas (parent)\n",
    "* Graffiti (child)\n",
    "\n",
    "Using database lingo, we say that `canvas` and `graffiti` have a **parent-child** type of relationship.\n",
    "\n",
    "In any database table, as the one we have, each row needs to be **identified uniquely**. This identifier is usually refer to as a **primary key**. In our case, the **primary key** in the `canvas` table is the column called '*id*'. The **primary key** in the `graffiti` table is also called '*id*'. However, if you notice carefully, there is another key included in the `graffiti` table called '*canvas_id*' which corresponds to the '*id*' (= *primary key*) in the `canvas` table. This '*id*' is known as a **foreign key**. Essentially, a *foreign key* is the primary key from another table.\n",
    "\n",
    "If you recall, in order to record a graffito in the `graffiti` table, we first need to have an entry in the `canvas` table. Once we have an entry in the `canvas` table, we can start recording graffiti. The relationship between the `canvas` table and the `graffiti` table is said to be a *one-to-many* relationship (see below). This means that one entry in the `canvas` table can refer to at least one but potentially many entries in the `graffiti` table.\n",
    "\n",
    "In general, the way two tables in a database relate to each other can be of three different types:     \n",
    "- *one-to-one*: one row(record) in table A corresponds to only one row(record) in table B.\n",
    "- *one-to-many*: one row(record) in table A can correspond to many rows(records) in table B.\n",
    "- *many-to-many*: many rows(records) in table A can correpond to many rows(records) in table B.\n",
    "\n",
    "If you think about it, the fact that the relationship between the Canvas and the `graffiti` table is *one-to-many* makes sense. The `canvas` table really records the object or surface onto which one or several graffiti can be written. By now you are probably aware of the following:\n",
    "* `canvas` table is used to collect information about:\n",
    "  * Nature of the object or surface onto which a graffiti is written\n",
    "  * Graffiti location\n",
    "  * Level of visibility of the graffiti's location\n",
    "  * Level of surveillance of the graffiti's location\n",
    "  * Level of accesibility of the graffiti's location\n",
    "* `graffiti` table is used to collect information about:\n",
    "  * Graffiti Typw\n",
    "  * Nature of message\n",
    "  * Characteristics of the graffiti\n",
    "  * Relationship with other graffiti\n",
    "\n",
    "The result of recording different types of information into different tables means that if we want to ask some question that requires information from the different tables, e.g. what is the relationship between the level of surveillance and type of graffity? we really need to connect the two tables. This is accomplish doing a **join** (or a **merge**).\n",
    "\n",
    "Pandas has two functions to create joins: [`.join()`](https://pandas.pydata.org/pandas-docs/stable/reference/api/pandas.DataFrame.join.html) and [`.merge()`](https://pandas.pydata.org/pandas-docs/stable/reference/api/pandas.merge.html). Here we will use `.merge()` primarily."
   ]
  },
  {
   "cell_type": "markdown",
   "metadata": {},
   "source": [
    "Before we do some simple queries with the graffiti data, let's use a very simple DataFrame to illustrate different types of joins. This database is made out of two tables: students and courses."
   ]
  },
  {
   "cell_type": "code",
   "execution_count": 2,
   "metadata": {},
   "outputs": [
    {
     "data": {
      "text/html": [
       "<div>\n",
       "<style scoped>\n",
       "    .dataframe tbody tr th:only-of-type {\n",
       "        vertical-align: middle;\n",
       "    }\n",
       "\n",
       "    .dataframe tbody tr th {\n",
       "        vertical-align: top;\n",
       "    }\n",
       "\n",
       "    .dataframe thead th {\n",
       "        text-align: right;\n",
       "    }\n",
       "</style>\n",
       "<table border=\"1\" class=\"dataframe\">\n",
       "  <thead>\n",
       "    <tr style=\"text-align: right;\">\n",
       "      <th></th>\n",
       "      <th>Id</th>\n",
       "      <th>Name</th>\n",
       "      <th>Course_id</th>\n",
       "    </tr>\n",
       "  </thead>\n",
       "  <tbody>\n",
       "    <tr>\n",
       "      <th>0</th>\n",
       "      <td>1</td>\n",
       "      <td>Joe</td>\n",
       "      <td>3</td>\n",
       "    </tr>\n",
       "    <tr>\n",
       "      <th>1</th>\n",
       "      <td>2</td>\n",
       "      <td>Maria</td>\n",
       "      <td>2</td>\n",
       "    </tr>\n",
       "    <tr>\n",
       "      <th>2</th>\n",
       "      <td>3</td>\n",
       "      <td>Zoe</td>\n",
       "      <td>2</td>\n",
       "    </tr>\n",
       "    <tr>\n",
       "      <th>3</th>\n",
       "      <td>4</td>\n",
       "      <td>Matt</td>\n",
       "      <td>1</td>\n",
       "    </tr>\n",
       "    <tr>\n",
       "      <th>4</th>\n",
       "      <td>5</td>\n",
       "      <td>Celeste</td>\n",
       "      <td>3</td>\n",
       "    </tr>\n",
       "    <tr>\n",
       "      <th>5</th>\n",
       "      <td>6</td>\n",
       "      <td>Franco</td>\n",
       "      <td>5</td>\n",
       "    </tr>\n",
       "  </tbody>\n",
       "</table>\n",
       "</div>"
      ],
      "text/plain": [
       "   Id     Name  Course_id\n",
       "0   1      Joe          3\n",
       "1   2    Maria          2\n",
       "2   3      Zoe          2\n",
       "3   4     Matt          1\n",
       "4   5  Celeste          3\n",
       "5   6   Franco          5"
      ]
     },
     "execution_count": 2,
     "metadata": {},
     "output_type": "execute_result"
    }
   ],
   "source": [
    "id = [1,2,3,4,5,6]\n",
    "Name = ['Joe', 'Maria', 'Zoe', 'Matt', 'Celeste', 'Franco']\n",
    "Course_id = [3, 2, 2, 1, 3, 5]\n",
    "students = pd.DataFrame(zip(id, Name, Course_id), columns=['Id', 'Name', 'Course_id'])\n",
    "students"
   ]
  },
  {
   "cell_type": "code",
   "execution_count": 3,
   "metadata": {},
   "outputs": [
    {
     "data": {
      "text/html": [
       "<div>\n",
       "<style scoped>\n",
       "    .dataframe tbody tr th:only-of-type {\n",
       "        vertical-align: middle;\n",
       "    }\n",
       "\n",
       "    .dataframe tbody tr th {\n",
       "        vertical-align: top;\n",
       "    }\n",
       "\n",
       "    .dataframe thead th {\n",
       "        text-align: right;\n",
       "    }\n",
       "</style>\n",
       "<table border=\"1\" class=\"dataframe\">\n",
       "  <thead>\n",
       "    <tr style=\"text-align: right;\">\n",
       "      <th></th>\n",
       "      <th>Id</th>\n",
       "      <th>Course</th>\n",
       "      <th>Prerequisites</th>\n",
       "    </tr>\n",
       "  </thead>\n",
       "  <tbody>\n",
       "    <tr>\n",
       "      <th>0</th>\n",
       "      <td>1</td>\n",
       "      <td>Intro to Harry Potter</td>\n",
       "      <td>No</td>\n",
       "    </tr>\n",
       "    <tr>\n",
       "      <th>1</th>\n",
       "      <td>2</td>\n",
       "      <td>Intermediate Stats</td>\n",
       "      <td>Yes</td>\n",
       "    </tr>\n",
       "    <tr>\n",
       "      <th>2</th>\n",
       "      <td>3</td>\n",
       "      <td>Graffiti Analysis</td>\n",
       "      <td>Yes</td>\n",
       "    </tr>\n",
       "    <tr>\n",
       "      <th>3</th>\n",
       "      <td>4</td>\n",
       "      <td>Film Studies</td>\n",
       "      <td>No</td>\n",
       "    </tr>\n",
       "  </tbody>\n",
       "</table>\n",
       "</div>"
      ],
      "text/plain": [
       "   Id                 Course Prerequisites\n",
       "0   1  Intro to Harry Potter            No\n",
       "1   2     Intermediate Stats           Yes\n",
       "2   3      Graffiti Analysis           Yes\n",
       "3   4           Film Studies            No"
      ]
     },
     "execution_count": 3,
     "metadata": {},
     "output_type": "execute_result"
    }
   ],
   "source": [
    "Course = ['Intro to Harry Potter', 'Intermediate Stats',  'Graffiti Analysis', 'Film Studies']\n",
    "Id = list(range(1,5))\n",
    "Prereqs = ['No', 'Yes', 'Yes', 'No']\n",
    "courses = pd.DataFrame(zip(Id, Course, Prereqs), columns = ['Id', 'Course', 'Prerequisites'])\n",
    "courses"
   ]
  },
  {
   "cell_type": "markdown",
   "metadata": {
    "id": "TKOFbDE3mkp9",
    "tags": []
   },
   "source": [
    "### Types of joins"
   ]
  },
  {
   "cell_type": "markdown",
   "metadata": {
    "id": "jMDW15kOBPDK"
   },
   "source": [
    "Pandas has two functions to create joins: [`.join()`](https://pandas.pydata.org/pandas-docs/stable/reference/api/pandas.DataFrame.join.html) and [`.merge()`](https://pandas.pydata.org/pandas-docs/stable/reference/api/pandas.merge.html). Here we will use `.merge()` primarily."
   ]
  },
  {
   "cell_type": "markdown",
   "metadata": {
    "id": "2q_NTs9TnmKf"
   },
   "source": [
    "There are several types of [joins](https://www.analyticsvidhya.com/blog/2020/02/joins-in-pandas-master-the-different-types-of-joins-in-python/). Here are the most commons ones,    \n",
    "\n",
    "```{image} ../../images/joins.png\n",
    ":width: 55%\n",
    ":align: center\n",
    "```\n",
    "\n",
    "When joining two tables, we will often need to make referece to some common piece of information that tables share (i.e. to one or several columns). In the Graffiti databse case, the only bit of information that both tables, `canvas` and `graffito`, share is the 'Canvas id'. While the name is different in each table ('id' in the `canvas` table and 'canvas_id' in the `graffito` table) they are both making reference to the same information. They are both referring to the *primary key* in the `canvas` table. \n",
    "\n",
    "Let's try to understand the differences between these different types of joins using our simple database: \n",
    "\n",
    "* **Inner Join**: Returns only those rows in both the student and the course  tables wherenever the 'Course_Id' in the `students` table coincides with 'Id' in the `courses` table.\n",
    "\n",
    "* **Left (Outer) Join**: Returns all rows in the `students` table regardless of whether they match some row in the `Courses`table.\n",
    "\n",
    "* **Right (Outer) Join**: Returns all rows in the `courses` table regardless of whether they match a row in the `students` table.\n",
    "\n",
    "* **Full (Outer) Join**: Returns all rows in the `students` and `courses` tables *regardless* of whether the rows in one table matches any row in the other table ."
   ]
  },
  {
   "cell_type": "markdown",
   "metadata": {
    "id": "nqx_F5p6-15e"
   },
   "source": [
    "### Inner Join"
   ]
  },
  {
   "cell_type": "markdown",
   "metadata": {
    "id": "ms8Ul2f5_Y4F"
   },
   "source": [
    "Returns only those rows in both the student and the course  tables wherenever the 'Course_Id' in the `students` table coincides with 'Id' in the `courses` table."
   ]
  },
  {
   "cell_type": "code",
   "execution_count": 4,
   "metadata": {},
   "outputs": [
    {
     "data": {
      "text/html": [
       "<div>\n",
       "<style scoped>\n",
       "    .dataframe tbody tr th:only-of-type {\n",
       "        vertical-align: middle;\n",
       "    }\n",
       "\n",
       "    .dataframe tbody tr th {\n",
       "        vertical-align: top;\n",
       "    }\n",
       "\n",
       "    .dataframe thead th {\n",
       "        text-align: right;\n",
       "    }\n",
       "</style>\n",
       "<table border=\"1\" class=\"dataframe\">\n",
       "  <thead>\n",
       "    <tr style=\"text-align: right;\">\n",
       "      <th></th>\n",
       "      <th>Id_x</th>\n",
       "      <th>Name</th>\n",
       "      <th>Course_id</th>\n",
       "      <th>Id_y</th>\n",
       "      <th>Course</th>\n",
       "      <th>Prerequisites</th>\n",
       "    </tr>\n",
       "  </thead>\n",
       "  <tbody>\n",
       "    <tr>\n",
       "      <th>0</th>\n",
       "      <td>1</td>\n",
       "      <td>Joe</td>\n",
       "      <td>3</td>\n",
       "      <td>3</td>\n",
       "      <td>Graffiti Analysis</td>\n",
       "      <td>Yes</td>\n",
       "    </tr>\n",
       "    <tr>\n",
       "      <th>1</th>\n",
       "      <td>2</td>\n",
       "      <td>Maria</td>\n",
       "      <td>2</td>\n",
       "      <td>2</td>\n",
       "      <td>Intermediate Stats</td>\n",
       "      <td>Yes</td>\n",
       "    </tr>\n",
       "    <tr>\n",
       "      <th>2</th>\n",
       "      <td>3</td>\n",
       "      <td>Zoe</td>\n",
       "      <td>2</td>\n",
       "      <td>2</td>\n",
       "      <td>Intermediate Stats</td>\n",
       "      <td>Yes</td>\n",
       "    </tr>\n",
       "    <tr>\n",
       "      <th>3</th>\n",
       "      <td>4</td>\n",
       "      <td>Matt</td>\n",
       "      <td>1</td>\n",
       "      <td>1</td>\n",
       "      <td>Intro to Harry Potter</td>\n",
       "      <td>No</td>\n",
       "    </tr>\n",
       "    <tr>\n",
       "      <th>4</th>\n",
       "      <td>5</td>\n",
       "      <td>Celeste</td>\n",
       "      <td>3</td>\n",
       "      <td>3</td>\n",
       "      <td>Graffiti Analysis</td>\n",
       "      <td>Yes</td>\n",
       "    </tr>\n",
       "  </tbody>\n",
       "</table>\n",
       "</div>"
      ],
      "text/plain": [
       "   Id_x     Name  Course_id  Id_y                 Course Prerequisites\n",
       "0     1      Joe          3     3      Graffiti Analysis           Yes\n",
       "1     2    Maria          2     2     Intermediate Stats           Yes\n",
       "2     3      Zoe          2     2     Intermediate Stats           Yes\n",
       "3     4     Matt          1     1  Intro to Harry Potter            No\n",
       "4     5  Celeste          3     3      Graffiti Analysis           Yes"
      ]
     },
     "execution_count": 4,
     "metadata": {},
     "output_type": "execute_result"
    }
   ],
   "source": [
    "inner = pd.merge(students, courses, left_on= 'Course_id', right_on='Id', how='inner')\n",
    "inner"
   ]
  },
  {
   "cell_type": "code",
   "execution_count": 5,
   "metadata": {},
   "outputs": [
    {
     "data": {
      "text/html": [
       "<div>\n",
       "<style scoped>\n",
       "    .dataframe tbody tr th:only-of-type {\n",
       "        vertical-align: middle;\n",
       "    }\n",
       "\n",
       "    .dataframe tbody tr th {\n",
       "        vertical-align: top;\n",
       "    }\n",
       "\n",
       "    .dataframe thead th {\n",
       "        text-align: right;\n",
       "    }\n",
       "</style>\n",
       "<table border=\"1\" class=\"dataframe\">\n",
       "  <thead>\n",
       "    <tr style=\"text-align: right;\">\n",
       "      <th></th>\n",
       "      <th>Id_x</th>\n",
       "      <th>Course</th>\n",
       "      <th>Prerequisites</th>\n",
       "      <th>Id_y</th>\n",
       "      <th>Name</th>\n",
       "      <th>Course_id</th>\n",
       "    </tr>\n",
       "  </thead>\n",
       "  <tbody>\n",
       "    <tr>\n",
       "      <th>0</th>\n",
       "      <td>1</td>\n",
       "      <td>Intro to Harry Potter</td>\n",
       "      <td>No</td>\n",
       "      <td>4</td>\n",
       "      <td>Matt</td>\n",
       "      <td>1</td>\n",
       "    </tr>\n",
       "    <tr>\n",
       "      <th>1</th>\n",
       "      <td>2</td>\n",
       "      <td>Intermediate Stats</td>\n",
       "      <td>Yes</td>\n",
       "      <td>2</td>\n",
       "      <td>Maria</td>\n",
       "      <td>2</td>\n",
       "    </tr>\n",
       "    <tr>\n",
       "      <th>2</th>\n",
       "      <td>2</td>\n",
       "      <td>Intermediate Stats</td>\n",
       "      <td>Yes</td>\n",
       "      <td>3</td>\n",
       "      <td>Zoe</td>\n",
       "      <td>2</td>\n",
       "    </tr>\n",
       "    <tr>\n",
       "      <th>3</th>\n",
       "      <td>3</td>\n",
       "      <td>Graffiti Analysis</td>\n",
       "      <td>Yes</td>\n",
       "      <td>1</td>\n",
       "      <td>Joe</td>\n",
       "      <td>3</td>\n",
       "    </tr>\n",
       "    <tr>\n",
       "      <th>4</th>\n",
       "      <td>3</td>\n",
       "      <td>Graffiti Analysis</td>\n",
       "      <td>Yes</td>\n",
       "      <td>5</td>\n",
       "      <td>Celeste</td>\n",
       "      <td>3</td>\n",
       "    </tr>\n",
       "  </tbody>\n",
       "</table>\n",
       "</div>"
      ],
      "text/plain": [
       "   Id_x                 Course Prerequisites  Id_y     Name  Course_id\n",
       "0     1  Intro to Harry Potter            No     4     Matt          1\n",
       "1     2     Intermediate Stats           Yes     2    Maria          2\n",
       "2     2     Intermediate Stats           Yes     3      Zoe          2\n",
       "3     3      Graffiti Analysis           Yes     1      Joe          3\n",
       "4     3      Graffiti Analysis           Yes     5  Celeste          3"
      ]
     },
     "execution_count": 5,
     "metadata": {},
     "output_type": "execute_result"
    }
   ],
   "source": [
    "# reverse join\n",
    "inner = pd.merge(courses, students, left_on= 'Id', right_on='Course_id', how='inner')\n",
    "inner"
   ]
  },
  {
   "cell_type": "code",
   "execution_count": 6,
   "metadata": {},
   "outputs": [
    {
     "data": {
      "text/html": [
       "<div>\n",
       "<style scoped>\n",
       "    .dataframe tbody tr th:only-of-type {\n",
       "        vertical-align: middle;\n",
       "    }\n",
       "\n",
       "    .dataframe tbody tr th {\n",
       "        vertical-align: top;\n",
       "    }\n",
       "\n",
       "    .dataframe thead th {\n",
       "        text-align: right;\n",
       "    }\n",
       "</style>\n",
       "<table border=\"1\" class=\"dataframe\">\n",
       "  <thead>\n",
       "    <tr style=\"text-align: right;\">\n",
       "      <th></th>\n",
       "      <th>Id</th>\n",
       "      <th>Name</th>\n",
       "      <th>Course_id</th>\n",
       "      <th>Id_crse</th>\n",
       "      <th>Course</th>\n",
       "      <th>Prerequisites</th>\n",
       "    </tr>\n",
       "  </thead>\n",
       "  <tbody>\n",
       "    <tr>\n",
       "      <th>0</th>\n",
       "      <td>1</td>\n",
       "      <td>Joe</td>\n",
       "      <td>3</td>\n",
       "      <td>3</td>\n",
       "      <td>Graffiti Analysis</td>\n",
       "      <td>Yes</td>\n",
       "    </tr>\n",
       "    <tr>\n",
       "      <th>1</th>\n",
       "      <td>2</td>\n",
       "      <td>Maria</td>\n",
       "      <td>2</td>\n",
       "      <td>2</td>\n",
       "      <td>Intermediate Stats</td>\n",
       "      <td>Yes</td>\n",
       "    </tr>\n",
       "    <tr>\n",
       "      <th>2</th>\n",
       "      <td>3</td>\n",
       "      <td>Zoe</td>\n",
       "      <td>2</td>\n",
       "      <td>2</td>\n",
       "      <td>Intermediate Stats</td>\n",
       "      <td>Yes</td>\n",
       "    </tr>\n",
       "    <tr>\n",
       "      <th>3</th>\n",
       "      <td>4</td>\n",
       "      <td>Matt</td>\n",
       "      <td>1</td>\n",
       "      <td>1</td>\n",
       "      <td>Intro to Harry Potter</td>\n",
       "      <td>No</td>\n",
       "    </tr>\n",
       "    <tr>\n",
       "      <th>4</th>\n",
       "      <td>5</td>\n",
       "      <td>Celeste</td>\n",
       "      <td>3</td>\n",
       "      <td>3</td>\n",
       "      <td>Graffiti Analysis</td>\n",
       "      <td>Yes</td>\n",
       "    </tr>\n",
       "  </tbody>\n",
       "</table>\n",
       "</div>"
      ],
      "text/plain": [
       "   Id     Name  Course_id  Id_crse                 Course Prerequisites\n",
       "0   1      Joe          3        3      Graffiti Analysis           Yes\n",
       "1   2    Maria          2        2     Intermediate Stats           Yes\n",
       "2   3      Zoe          2        2     Intermediate Stats           Yes\n",
       "3   4     Matt          1        1  Intro to Harry Potter            No\n",
       "4   5  Celeste          3        3      Graffiti Analysis           Yes"
      ]
     },
     "execution_count": 6,
     "metadata": {},
     "output_type": "execute_result"
    }
   ],
   "source": [
    "# Using merge directly with a dataframe\n",
    "students.merge(courses, left_on= 'Course_id', right_on='Id', how='inner', suffixes=(None,'_crse' ))"
   ]
  },
  {
   "cell_type": "markdown",
   "metadata": {
    "id": "Md7DPq8B_4G1",
    "tags": []
   },
   "source": [
    "### Left Outer Join (Left Join) "
   ]
  },
  {
   "cell_type": "markdown",
   "metadata": {
    "id": "6O9LhPBm_4G4"
   },
   "source": [
    "Returns all rows in the `students` table regardless of whether they match some row in the `Courses`table"
   ]
  },
  {
   "cell_type": "code",
   "execution_count": 7,
   "metadata": {
    "colab": {
     "base_uri": "https://localhost:8080/",
     "height": 700
    },
    "executionInfo": {
     "elapsed": 46449,
     "status": "ok",
     "timestamp": 1605027150368,
     "user": {
      "displayName": "Marcos Llobera",
      "photoUrl": "",
      "userId": "09511791020344235136"
     },
     "user_tz": 480
    },
    "id": "lM8S0Xb2DQcc",
    "outputId": "4ad7d745-a8b2-4abb-ecad-d2e9710519a8"
   },
   "outputs": [
    {
     "data": {
      "text/html": [
       "<div>\n",
       "<style scoped>\n",
       "    .dataframe tbody tr th:only-of-type {\n",
       "        vertical-align: middle;\n",
       "    }\n",
       "\n",
       "    .dataframe tbody tr th {\n",
       "        vertical-align: top;\n",
       "    }\n",
       "\n",
       "    .dataframe thead th {\n",
       "        text-align: right;\n",
       "    }\n",
       "</style>\n",
       "<table border=\"1\" class=\"dataframe\">\n",
       "  <thead>\n",
       "    <tr style=\"text-align: right;\">\n",
       "      <th></th>\n",
       "      <th>Id_x</th>\n",
       "      <th>Name</th>\n",
       "      <th>Course_id</th>\n",
       "      <th>Id_y</th>\n",
       "      <th>Course</th>\n",
       "      <th>Prerequisites</th>\n",
       "    </tr>\n",
       "  </thead>\n",
       "  <tbody>\n",
       "    <tr>\n",
       "      <th>0</th>\n",
       "      <td>1</td>\n",
       "      <td>Joe</td>\n",
       "      <td>3</td>\n",
       "      <td>3.0</td>\n",
       "      <td>Graffiti Analysis</td>\n",
       "      <td>Yes</td>\n",
       "    </tr>\n",
       "    <tr>\n",
       "      <th>1</th>\n",
       "      <td>2</td>\n",
       "      <td>Maria</td>\n",
       "      <td>2</td>\n",
       "      <td>2.0</td>\n",
       "      <td>Intermediate Stats</td>\n",
       "      <td>Yes</td>\n",
       "    </tr>\n",
       "    <tr>\n",
       "      <th>2</th>\n",
       "      <td>3</td>\n",
       "      <td>Zoe</td>\n",
       "      <td>2</td>\n",
       "      <td>2.0</td>\n",
       "      <td>Intermediate Stats</td>\n",
       "      <td>Yes</td>\n",
       "    </tr>\n",
       "    <tr>\n",
       "      <th>3</th>\n",
       "      <td>4</td>\n",
       "      <td>Matt</td>\n",
       "      <td>1</td>\n",
       "      <td>1.0</td>\n",
       "      <td>Intro to Harry Potter</td>\n",
       "      <td>No</td>\n",
       "    </tr>\n",
       "    <tr>\n",
       "      <th>4</th>\n",
       "      <td>5</td>\n",
       "      <td>Celeste</td>\n",
       "      <td>3</td>\n",
       "      <td>3.0</td>\n",
       "      <td>Graffiti Analysis</td>\n",
       "      <td>Yes</td>\n",
       "    </tr>\n",
       "    <tr>\n",
       "      <th>5</th>\n",
       "      <td>6</td>\n",
       "      <td>Franco</td>\n",
       "      <td>5</td>\n",
       "      <td>NaN</td>\n",
       "      <td>NaN</td>\n",
       "      <td>NaN</td>\n",
       "    </tr>\n",
       "  </tbody>\n",
       "</table>\n",
       "</div>"
      ],
      "text/plain": [
       "   Id_x     Name  Course_id  Id_y                 Course Prerequisites\n",
       "0     1      Joe          3   3.0      Graffiti Analysis           Yes\n",
       "1     2    Maria          2   2.0     Intermediate Stats           Yes\n",
       "2     3      Zoe          2   2.0     Intermediate Stats           Yes\n",
       "3     4     Matt          1   1.0  Intro to Harry Potter            No\n",
       "4     5  Celeste          3   3.0      Graffiti Analysis           Yes\n",
       "5     6   Franco          5   NaN                    NaN           NaN"
      ]
     },
     "execution_count": 7,
     "metadata": {},
     "output_type": "execute_result"
    }
   ],
   "source": [
    "# left join\n",
    "left = pd.merge(students, courses, left_on= 'Course_id', right_on='Id', how='left')\n",
    "left"
   ]
  },
  {
   "cell_type": "markdown",
   "metadata": {},
   "source": [
    "Notice that the row with student *Franco* does not match any record in the `Courses` table"
   ]
  },
  {
   "cell_type": "markdown",
   "metadata": {
    "id": "PqYbdmPwFqAy"
   },
   "source": [
    "### Right Outer Join (Right Join) "
   ]
  },
  {
   "cell_type": "markdown",
   "metadata": {
    "id": "emzXlBXbFqA1"
   },
   "source": [
    "Returns all rows in the `courses` table regardless of whether they match a row in the `students` table"
   ]
  },
  {
   "cell_type": "code",
   "execution_count": 8,
   "metadata": {
    "colab": {
     "base_uri": "https://localhost:8080/",
     "height": 514
    },
    "executionInfo": {
     "elapsed": 46436,
     "status": "ok",
     "timestamp": 1605027150371,
     "user": {
      "displayName": "Marcos Llobera",
      "photoUrl": "",
      "userId": "09511791020344235136"
     },
     "user_tz": 480
    },
    "id": "6dTH1j1xFqA1",
    "outputId": "ccbbdb5f-06a8-4f77-cd2c-85e9929dbd79"
   },
   "outputs": [
    {
     "data": {
      "text/html": [
       "<div>\n",
       "<style scoped>\n",
       "    .dataframe tbody tr th:only-of-type {\n",
       "        vertical-align: middle;\n",
       "    }\n",
       "\n",
       "    .dataframe tbody tr th {\n",
       "        vertical-align: top;\n",
       "    }\n",
       "\n",
       "    .dataframe thead th {\n",
       "        text-align: right;\n",
       "    }\n",
       "</style>\n",
       "<table border=\"1\" class=\"dataframe\">\n",
       "  <thead>\n",
       "    <tr style=\"text-align: right;\">\n",
       "      <th></th>\n",
       "      <th>Id_x</th>\n",
       "      <th>Name</th>\n",
       "      <th>Course_id</th>\n",
       "      <th>Id_y</th>\n",
       "      <th>Course</th>\n",
       "      <th>Prerequisites</th>\n",
       "    </tr>\n",
       "  </thead>\n",
       "  <tbody>\n",
       "    <tr>\n",
       "      <th>0</th>\n",
       "      <td>4.0</td>\n",
       "      <td>Matt</td>\n",
       "      <td>1.0</td>\n",
       "      <td>1</td>\n",
       "      <td>Intro to Harry Potter</td>\n",
       "      <td>No</td>\n",
       "    </tr>\n",
       "    <tr>\n",
       "      <th>1</th>\n",
       "      <td>2.0</td>\n",
       "      <td>Maria</td>\n",
       "      <td>2.0</td>\n",
       "      <td>2</td>\n",
       "      <td>Intermediate Stats</td>\n",
       "      <td>Yes</td>\n",
       "    </tr>\n",
       "    <tr>\n",
       "      <th>2</th>\n",
       "      <td>3.0</td>\n",
       "      <td>Zoe</td>\n",
       "      <td>2.0</td>\n",
       "      <td>2</td>\n",
       "      <td>Intermediate Stats</td>\n",
       "      <td>Yes</td>\n",
       "    </tr>\n",
       "    <tr>\n",
       "      <th>3</th>\n",
       "      <td>1.0</td>\n",
       "      <td>Joe</td>\n",
       "      <td>3.0</td>\n",
       "      <td>3</td>\n",
       "      <td>Graffiti Analysis</td>\n",
       "      <td>Yes</td>\n",
       "    </tr>\n",
       "    <tr>\n",
       "      <th>4</th>\n",
       "      <td>5.0</td>\n",
       "      <td>Celeste</td>\n",
       "      <td>3.0</td>\n",
       "      <td>3</td>\n",
       "      <td>Graffiti Analysis</td>\n",
       "      <td>Yes</td>\n",
       "    </tr>\n",
       "    <tr>\n",
       "      <th>5</th>\n",
       "      <td>NaN</td>\n",
       "      <td>NaN</td>\n",
       "      <td>NaN</td>\n",
       "      <td>4</td>\n",
       "      <td>Film Studies</td>\n",
       "      <td>No</td>\n",
       "    </tr>\n",
       "  </tbody>\n",
       "</table>\n",
       "</div>"
      ],
      "text/plain": [
       "   Id_x     Name  Course_id  Id_y                 Course Prerequisites\n",
       "0   4.0     Matt        1.0     1  Intro to Harry Potter            No\n",
       "1   2.0    Maria        2.0     2     Intermediate Stats           Yes\n",
       "2   3.0      Zoe        2.0     2     Intermediate Stats           Yes\n",
       "3   1.0      Joe        3.0     3      Graffiti Analysis           Yes\n",
       "4   5.0  Celeste        3.0     3      Graffiti Analysis           Yes\n",
       "5   NaN      NaN        NaN     4           Film Studies            No"
      ]
     },
     "execution_count": 8,
     "metadata": {},
     "output_type": "execute_result"
    }
   ],
   "source": [
    "# right join\n",
    "right = pd.merge(students, courses, left_on= 'Course_id', right_on='Id', how='right')\n",
    "right.head(15)"
   ]
  },
  {
   "cell_type": "markdown",
   "metadata": {},
   "source": [
    "Notice that the row with the course *Film Studies* does not match any record in the `students` table"
   ]
  },
  {
   "cell_type": "markdown",
   "metadata": {
    "id": "rw_Y1WN0HkUr"
   },
   "source": [
    "### Outer Join (Full Join)"
   ]
  },
  {
   "cell_type": "markdown",
   "metadata": {
    "id": "iLsUql1RHkUt"
   },
   "source": [
    "Returns all rows in the `students` and `courses` tables *regardless* of whether the rows in one table matches any row in the other table "
   ]
  },
  {
   "cell_type": "code",
   "execution_count": 9,
   "metadata": {
    "colab": {
     "base_uri": "https://localhost:8080/",
     "height": 514
    },
    "executionInfo": {
     "elapsed": 46413,
     "status": "ok",
     "timestamp": 1605027150373,
     "user": {
      "displayName": "Marcos Llobera",
      "photoUrl": "",
      "userId": "09511791020344235136"
     },
     "user_tz": 480
    },
    "id": "va6aSbfuHkUu",
    "outputId": "c1133e3e-263d-45e8-c54d-ede87aed0c31",
    "scrolled": true
   },
   "outputs": [
    {
     "data": {
      "text/html": [
       "<div>\n",
       "<style scoped>\n",
       "    .dataframe tbody tr th:only-of-type {\n",
       "        vertical-align: middle;\n",
       "    }\n",
       "\n",
       "    .dataframe tbody tr th {\n",
       "        vertical-align: top;\n",
       "    }\n",
       "\n",
       "    .dataframe thead th {\n",
       "        text-align: right;\n",
       "    }\n",
       "</style>\n",
       "<table border=\"1\" class=\"dataframe\">\n",
       "  <thead>\n",
       "    <tr style=\"text-align: right;\">\n",
       "      <th></th>\n",
       "      <th>Id_x</th>\n",
       "      <th>Name</th>\n",
       "      <th>Course_id</th>\n",
       "      <th>Id_y</th>\n",
       "      <th>Course</th>\n",
       "      <th>Prerequisites</th>\n",
       "    </tr>\n",
       "  </thead>\n",
       "  <tbody>\n",
       "    <tr>\n",
       "      <th>0</th>\n",
       "      <td>4.0</td>\n",
       "      <td>Matt</td>\n",
       "      <td>1.0</td>\n",
       "      <td>1.0</td>\n",
       "      <td>Intro to Harry Potter</td>\n",
       "      <td>No</td>\n",
       "    </tr>\n",
       "    <tr>\n",
       "      <th>1</th>\n",
       "      <td>2.0</td>\n",
       "      <td>Maria</td>\n",
       "      <td>2.0</td>\n",
       "      <td>2.0</td>\n",
       "      <td>Intermediate Stats</td>\n",
       "      <td>Yes</td>\n",
       "    </tr>\n",
       "    <tr>\n",
       "      <th>2</th>\n",
       "      <td>3.0</td>\n",
       "      <td>Zoe</td>\n",
       "      <td>2.0</td>\n",
       "      <td>2.0</td>\n",
       "      <td>Intermediate Stats</td>\n",
       "      <td>Yes</td>\n",
       "    </tr>\n",
       "    <tr>\n",
       "      <th>3</th>\n",
       "      <td>1.0</td>\n",
       "      <td>Joe</td>\n",
       "      <td>3.0</td>\n",
       "      <td>3.0</td>\n",
       "      <td>Graffiti Analysis</td>\n",
       "      <td>Yes</td>\n",
       "    </tr>\n",
       "    <tr>\n",
       "      <th>4</th>\n",
       "      <td>5.0</td>\n",
       "      <td>Celeste</td>\n",
       "      <td>3.0</td>\n",
       "      <td>3.0</td>\n",
       "      <td>Graffiti Analysis</td>\n",
       "      <td>Yes</td>\n",
       "    </tr>\n",
       "    <tr>\n",
       "      <th>5</th>\n",
       "      <td>NaN</td>\n",
       "      <td>NaN</td>\n",
       "      <td>NaN</td>\n",
       "      <td>4.0</td>\n",
       "      <td>Film Studies</td>\n",
       "      <td>No</td>\n",
       "    </tr>\n",
       "    <tr>\n",
       "      <th>6</th>\n",
       "      <td>6.0</td>\n",
       "      <td>Franco</td>\n",
       "      <td>5.0</td>\n",
       "      <td>NaN</td>\n",
       "      <td>NaN</td>\n",
       "      <td>NaN</td>\n",
       "    </tr>\n",
       "  </tbody>\n",
       "</table>\n",
       "</div>"
      ],
      "text/plain": [
       "   Id_x     Name  Course_id  Id_y                 Course Prerequisites\n",
       "0   4.0     Matt        1.0   1.0  Intro to Harry Potter            No\n",
       "1   2.0    Maria        2.0   2.0     Intermediate Stats           Yes\n",
       "2   3.0      Zoe        2.0   2.0     Intermediate Stats           Yes\n",
       "3   1.0      Joe        3.0   3.0      Graffiti Analysis           Yes\n",
       "4   5.0  Celeste        3.0   3.0      Graffiti Analysis           Yes\n",
       "5   NaN      NaN        NaN   4.0           Film Studies            No\n",
       "6   6.0   Franco        5.0   NaN                    NaN           NaN"
      ]
     },
     "execution_count": 9,
     "metadata": {},
     "output_type": "execute_result"
    }
   ],
   "source": [
    "# outer join\n",
    "outer = pd.merge(students, courses, left_on= 'Course_id', right_on='Id', how='outer')\n",
    "outer"
   ]
  },
  {
   "cell_type": "markdown",
   "metadata": {},
   "source": [
    "### Graffiti Database"
   ]
  },
  {
   "cell_type": "markdown",
   "metadata": {},
   "source": [
    "The most common join you will conducting here is the *inner join*. We can try to understand the differences between these different types of joins by making reference to our Graffiti database:\n",
    "\n",
    "* **Inner Join**: This refers to an intersection of the two tables. With this type of join we are only going to keep those rows with 'id's in the `canvas` table that match the 'canvas_id's in the `graffiti` table. So, if for instance someone recorded a canvas entry in the `canvas` table but did not record a graffiti instance in the `graffiti` table associated with this canvas entry, thus the entry would not appear after doing the join (indeed this case has occurred several times!). Of course the reverse is also true, if someone entered a new record in the `graffiti` table that did not correspond to a record in the `canvas` table, such record would not appear after doing the join (this is not possible because of how the Graffiti app operates).\n",
    "\n",
    "* **Left (Outer) Join**: With these join, we would retain all `canvas` records (= rows) independently of whether there is a graffiti record associated with them in the `graffiti` table.\n",
    "\n",
    "* **Right (Outer) Join**: The reverse of a *left outer join*. In our case this type of join will give us the same as an *inner join* because we cannot have a graffiti entry without first having a canvas entry. However, if we had allowed the entry of graffiti records without the existence of a previous canvas record then the result of this join would have returned all graffiti entries even if these did not have a canvas entry associated with them. Again, not possible in our case!\n",
    "\n",
    "* **Full (Outer) Join**: The result of this type of join is all the rows that have matching `canvas` ids (i.e. Canvas 'id' == Graffito 'canvas_id') plus other rows that may not have matching `canvas` ids. In our particular case, the results are going to the the same as a *left outer join* . With a full join you get all records of all tables regardless of whether the share a key or not."
   ]
  },
  {
   "cell_type": "markdown",
   "metadata": {
    "id": "sbzqy9Sl6r8M",
    "tags": []
   },
   "source": [
    "#### Read csv files"
   ]
  },
  {
   "cell_type": "code",
   "execution_count": 10,
   "metadata": {
    "id": "o_QjhB6zqkrj"
   },
   "outputs": [],
   "source": [
    "from pathlib import Path\n",
    "\n",
    "# creating a relative path to the data folder \n",
    "pth = Path('../../data')"
   ]
  },
  {
   "cell_type": "code",
   "execution_count": 11,
   "metadata": {
    "id": "tzcgv3vZiRuZ",
    "scrolled": true
   },
   "outputs": [],
   "source": [
    "# read canvas csv file into a dataframe \n",
    "canvas = pd.read_csv(pth / 'canvas.csv')"
   ]
  },
  {
   "cell_type": "code",
   "execution_count": 12,
   "metadata": {
    "executionInfo": {
     "elapsed": 37543,
     "status": "ok",
     "timestamp": 1603858937380,
     "user": {
      "displayName": "Marcos Llobera",
      "photoUrl": "",
      "userId": "09511791020344235136"
     },
     "user_tz": 420
    },
    "id": "70evE3aK7Zlw"
   },
   "outputs": [],
   "source": [
    "# read graffito\n",
    "graffiti = pd.read_csv(pth /'graffiti.csv')"
   ]
  },
  {
   "cell_type": "markdown",
   "metadata": {},
   "source": [
    "Time to apply what we have learnt to our tables. Let's imagine that we are interested in generating a table with all the graffiti entries that have been found to be at a location with *high* potential visibility?\n",
    "\n",
    "To produce such a table you first need to combine both with an inner join."
   ]
  },
  {
   "cell_type": "code",
   "execution_count": 13,
   "metadata": {},
   "outputs": [],
   "source": [
    "rslt = canvas.merge(graffiti, left_on= 'id', right_on='canvas_id', how='inner')"
   ]
  },
  {
   "cell_type": "code",
   "execution_count": 14,
   "metadata": {
    "scrolled": true
   },
   "outputs": [
    {
     "data": {
      "text/html": [
       "<div>\n",
       "<style scoped>\n",
       "    .dataframe tbody tr th:only-of-type {\n",
       "        vertical-align: middle;\n",
       "    }\n",
       "\n",
       "    .dataframe tbody tr th {\n",
       "        vertical-align: top;\n",
       "    }\n",
       "\n",
       "    .dataframe thead th {\n",
       "        text-align: right;\n",
       "    }\n",
       "</style>\n",
       "<table border=\"1\" class=\"dataframe\">\n",
       "  <thead>\n",
       "    <tr style=\"text-align: right;\">\n",
       "      <th></th>\n",
       "      <th>id_x</th>\n",
       "      <th>created_at_x</th>\n",
       "      <th>uploaded_at_x</th>\n",
       "      <th>created_by_x</th>\n",
       "      <th>title_x</th>\n",
       "      <th>at_canvas</th>\n",
       "      <th>coords</th>\n",
       "      <th>date_entry_canvas</th>\n",
       "      <th>property_type</th>\n",
       "      <th>property_use</th>\n",
       "      <th>...</th>\n",
       "      <th>technique</th>\n",
       "      <th>marker_type</th>\n",
       "      <th>nip_type</th>\n",
       "      <th>other</th>\n",
       "      <th>num_colors</th>\n",
       "      <th>colors</th>\n",
       "      <th>nature_graffiti</th>\n",
       "      <th>transcribable</th>\n",
       "      <th>message</th>\n",
       "      <th>transcription</th>\n",
       "    </tr>\n",
       "  </thead>\n",
       "  <tbody>\n",
       "    <tr>\n",
       "      <th>0</th>\n",
       "      <td>3</td>\n",
       "      <td>2023-11-27 13:32:35-08:00</td>\n",
       "      <td>2023-11-27 13:40:26-08:00</td>\n",
       "      <td>jsomer@uw.edu</td>\n",
       "      <td>11/27/2023 Wall</td>\n",
       "      <td>Y</td>\n",
       "      <td>{'latitude': 47.658577, 'longitude': -122.3176...</td>\n",
       "      <td>11/27/2023</td>\n",
       "      <td>comercial</td>\n",
       "      <td>abandoned</td>\n",
       "      <td>...</td>\n",
       "      <td>spray</td>\n",
       "      <td>NaN</td>\n",
       "      <td>NaN</td>\n",
       "      <td>NaN</td>\n",
       "      <td>2</td>\n",
       "      <td>['black', 'white']</td>\n",
       "      <td>['Image', 'Text']</td>\n",
       "      <td>Y</td>\n",
       "      <td>writter</td>\n",
       "      <td>“Roja”</td>\n",
       "    </tr>\n",
       "    <tr>\n",
       "      <th>1</th>\n",
       "      <td>3</td>\n",
       "      <td>2023-11-27 13:32:35-08:00</td>\n",
       "      <td>2023-11-27 13:40:26-08:00</td>\n",
       "      <td>jsomer@uw.edu</td>\n",
       "      <td>11/27/2023 Wall</td>\n",
       "      <td>Y</td>\n",
       "      <td>{'latitude': 47.658577, 'longitude': -122.3176...</td>\n",
       "      <td>11/27/2023</td>\n",
       "      <td>comercial</td>\n",
       "      <td>abandoned</td>\n",
       "      <td>...</td>\n",
       "      <td>spray</td>\n",
       "      <td>NaN</td>\n",
       "      <td>NaN</td>\n",
       "      <td>NaN</td>\n",
       "      <td>3-5</td>\n",
       "      <td>['black', 'white', 'red', 'gold']</td>\n",
       "      <td>['Image']</td>\n",
       "      <td>Y</td>\n",
       "      <td>other</td>\n",
       "      <td>Triangle/prism</td>\n",
       "    </tr>\n",
       "    <tr>\n",
       "      <th>2</th>\n",
       "      <td>3</td>\n",
       "      <td>2023-11-27 13:32:35-08:00</td>\n",
       "      <td>2023-11-27 13:40:26-08:00</td>\n",
       "      <td>jsomer@uw.edu</td>\n",
       "      <td>11/27/2023 Wall</td>\n",
       "      <td>Y</td>\n",
       "      <td>{'latitude': 47.658577, 'longitude': -122.3176...</td>\n",
       "      <td>11/27/2023</td>\n",
       "      <td>comercial</td>\n",
       "      <td>abandoned</td>\n",
       "      <td>...</td>\n",
       "      <td>marker</td>\n",
       "      <td>marker</td>\n",
       "      <td>unknown</td>\n",
       "      <td>NaN</td>\n",
       "      <td>1</td>\n",
       "      <td>['white']</td>\n",
       "      <td>['Text']</td>\n",
       "      <td>N</td>\n",
       "      <td>NaN</td>\n",
       "      <td>NaN</td>\n",
       "    </tr>\n",
       "    <tr>\n",
       "      <th>3</th>\n",
       "      <td>3</td>\n",
       "      <td>2023-11-27 13:32:35-08:00</td>\n",
       "      <td>2023-11-27 13:40:26-08:00</td>\n",
       "      <td>jsomer@uw.edu</td>\n",
       "      <td>11/27/2023 Wall</td>\n",
       "      <td>Y</td>\n",
       "      <td>{'latitude': 47.658577, 'longitude': -122.3176...</td>\n",
       "      <td>11/27/2023</td>\n",
       "      <td>comercial</td>\n",
       "      <td>abandoned</td>\n",
       "      <td>...</td>\n",
       "      <td>spray</td>\n",
       "      <td>NaN</td>\n",
       "      <td>NaN</td>\n",
       "      <td>NaN</td>\n",
       "      <td>3-5</td>\n",
       "      <td>['white', 'black', 'blue']</td>\n",
       "      <td>['Text']</td>\n",
       "      <td>N</td>\n",
       "      <td>NaN</td>\n",
       "      <td>NaN</td>\n",
       "    </tr>\n",
       "  </tbody>\n",
       "</table>\n",
       "<p>4 rows × 39 columns</p>\n",
       "</div>"
      ],
      "text/plain": [
       "   id_x               created_at_x              uploaded_at_x   created_by_x  \\\n",
       "0     3  2023-11-27 13:32:35-08:00  2023-11-27 13:40:26-08:00  jsomer@uw.edu   \n",
       "1     3  2023-11-27 13:32:35-08:00  2023-11-27 13:40:26-08:00  jsomer@uw.edu   \n",
       "2     3  2023-11-27 13:32:35-08:00  2023-11-27 13:40:26-08:00  jsomer@uw.edu   \n",
       "3     3  2023-11-27 13:32:35-08:00  2023-11-27 13:40:26-08:00  jsomer@uw.edu   \n",
       "\n",
       "           title_x at_canvas  \\\n",
       "0  11/27/2023 Wall         Y   \n",
       "1  11/27/2023 Wall         Y   \n",
       "2  11/27/2023 Wall         Y   \n",
       "3  11/27/2023 Wall         Y   \n",
       "\n",
       "                                              coords date_entry_canvas  \\\n",
       "0  {'latitude': 47.658577, 'longitude': -122.3176...        11/27/2023   \n",
       "1  {'latitude': 47.658577, 'longitude': -122.3176...        11/27/2023   \n",
       "2  {'latitude': 47.658577, 'longitude': -122.3176...        11/27/2023   \n",
       "3  {'latitude': 47.658577, 'longitude': -122.3176...        11/27/2023   \n",
       "\n",
       "  property_type property_use  ... technique marker_type nip_type other  \\\n",
       "0     comercial    abandoned  ...     spray         NaN      NaN   NaN   \n",
       "1     comercial    abandoned  ...     spray         NaN      NaN   NaN   \n",
       "2     comercial    abandoned  ...    marker      marker  unknown   NaN   \n",
       "3     comercial    abandoned  ...     spray         NaN      NaN   NaN   \n",
       "\n",
       "  num_colors                             colors    nature_graffiti  \\\n",
       "0          2                 ['black', 'white']  ['Image', 'Text']   \n",
       "1        3-5  ['black', 'white', 'red', 'gold']          ['Image']   \n",
       "2          1                          ['white']           ['Text']   \n",
       "3        3-5         ['white', 'black', 'blue']           ['Text']   \n",
       "\n",
       "  transcribable  message   transcription  \n",
       "0             Y  writter          “Roja”  \n",
       "1             Y    other  Triangle/prism  \n",
       "2             N      NaN             NaN  \n",
       "3             N      NaN             NaN  \n",
       "\n",
       "[4 rows x 39 columns]"
      ]
     },
     "execution_count": 14,
     "metadata": {},
     "output_type": "execute_result"
    }
   ],
   "source": [
    "rslt.head(4)"
   ]
  },
  {
   "cell_type": "markdown",
   "metadata": {},
   "source": [
    "```{note}\n",
    "If two tables have columns/Series with the same name, Pandas will add a suffix, here `_x` and `_y`, to each column in order to differentiate them. You can enter your own suffixes. See [`.merge()`](https://pandas.pydata.org/pandas-docs/stable/reference/api/pandas.merge.html) documentation.\n",
    "```"
   ]
  },
  {
   "cell_type": "markdown",
   "metadata": {},
   "source": [
    "Now that we can access location information for each graffiti. We first select the locations with high viewing potential."
   ]
  },
  {
   "cell_type": "code",
   "execution_count": 15,
   "metadata": {},
   "outputs": [],
   "source": [
    "sel = rslt.viewing_potential == 'high'"
   ]
  },
  {
   "cell_type": "markdown",
   "metadata": {},
   "source": [
    "We can now determine what type of graffiti are in such locations"
   ]
  },
  {
   "cell_type": "code",
   "execution_count": 16,
   "metadata": {
    "scrolled": true
   },
   "outputs": [
    {
     "data": {
      "text/plain": [
       "type\n",
       "tag            1103\n",
       "sticker         168\n",
       "throwUp         146\n",
       "hollow           86\n",
       "piece            57\n",
       "other            36\n",
       "wildstyle        12\n",
       "pasteUp           6\n",
       "stencil           4\n",
       "blockbuster       3\n",
       "edging            3\n",
       "Name: count, dtype: int64"
      ]
     },
     "execution_count": 16,
     "metadata": {},
     "output_type": "execute_result"
    }
   ],
   "source": [
    "rslt[sel].type.value_counts()"
   ]
  },
  {
   "cell_type": "markdown",
   "metadata": {},
   "source": [
    "Joins allows us to combine information from various tables so that we can build queries that go beyond a single table."
   ]
  },
  {
   "cell_type": "markdown",
   "metadata": {},
   "source": [
    "### Additional References"
   ]
  },
  {
   "cell_type": "markdown",
   "metadata": {},
   "source": [
    "- For some additional information on [joins](https://realpython.com/pandas-merge-join-and-concat/)"
   ]
  }
 ],
 "metadata": {
  "colab": {
   "authorship_tag": "ABX9TyPR7MPKtXAwx+AgRDHYvQQz",
   "collapsed_sections": [
    "eRzrIUtxd84V",
    "bzUC-Ai5PqeH",
    "TKOFbDE3mkp9"
   ],
   "mount_file_id": "1wCcU-g6iD8SexV4L1idhm3TylfXwZ7Bu",
   "name": "Lab 7.1 Joins  - InstructorCopy.ipynb",
   "provenance": [
    {
     "file_id": "1C2qyoighzoBIOQQO1egIZzgH4-W7yKAf",
     "timestamp": 1603763247321
    },
    {
     "file_id": "1BrTAc8In1CcFww-Jbttopj8GiLXRJzv4",
     "timestamp": 1602545786318
    },
    {
     "file_id": "https://github.com/digarlab/graffiti/blob/master/archy5_235/Lab_2_2_Pandas.ipynb",
     "timestamp": 1598473380782
    }
   ]
  },
  "kernelspec": {
   "display_name": "Python 3 (ipykernel)",
   "language": "python",
   "name": "python3"
  },
  "language_info": {
   "codemirror_mode": {
    "name": "ipython",
    "version": 3
   },
   "file_extension": ".py",
   "mimetype": "text/x-python",
   "name": "python",
   "nbconvert_exporter": "python",
   "pygments_lexer": "ipython3",
   "version": "3.12.5"
  }
 },
 "nbformat": 4,
 "nbformat_minor": 4
}
