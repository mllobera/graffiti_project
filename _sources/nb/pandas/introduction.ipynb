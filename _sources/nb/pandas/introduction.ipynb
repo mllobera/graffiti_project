{
 "cells": [
  {
   "cell_type": "markdown",
   "metadata": {
    "id": "bLUOAZeB68sF"
   },
   "source": [
    "# Pandas Introduction"
   ]
  },
  {
   "cell_type": "markdown",
   "metadata": {
    "id": "UFsZ7Db96PX0"
   },
   "source": [
    "[Pandas](https://pandas.pydata.org/) is probably the module/package with which we are going to interact the most. It is specifically defined to read, transform, query data in a table format.\n",
    "\n",
    "Pandas is built on top of the [Numpy](../extra/numpy.ipynb), the main numerical package used in Python, so you might benefit from being familiar with this package.\n",
    "\n",
    "The two main components (=data structures) in Pandas are the `DataFrame`(basically a table), and the`Series`.\n",
    "\n",
    "- A `DataFrame` is made of several  `Series` that share a common index/es .\n",
    "\n",
    "- A `Series` refers to one of the columns in the `DataFrame` (though it can also refer to a row). A `series` has also an index/es.\n",
    "\n",
    "```{caution}\n",
    "Beware that often `Series` or a `DataFrame`, have functions with the same name.\n",
    "```\n",
    "There are many different ways to generate `DataFrames` from scratch. We will consider a few here but most often you will be reading data from a file (like *Excel* or some *text-delimited* file) into a `DataFrame` directly."
   ]
  },
  {
   "cell_type": "markdown",
   "metadata": {},
   "source": [
    "First things first, we need to import the Pandas package. We will use the commonly used abbreviation `pd` to import the package "
   ]
  },
  {
   "cell_type": "code",
   "execution_count": 1,
   "metadata": {
    "id": "fk3YRgKf__NY"
   },
   "outputs": [],
   "source": [
    "# import pandas\n",
    "import pandas as pd"
   ]
  },
  {
   "cell_type": "markdown",
   "metadata": {
    "id": "mbzNWqD6T38D"
   },
   "source": [
    "## Pandas series"
   ]
  },
  {
   "cell_type": "markdown",
   "metadata": {},
   "source": [
    "A Pandas series is similar to a list with an index, used to refer to each entry, attached to it. "
   ]
  },
  {
   "cell_type": "code",
   "execution_count": 2,
   "metadata": {
    "colab": {
     "base_uri": "https://localhost:8080/",
     "height": 187
    },
    "executionInfo": {
     "elapsed": 4650,
     "status": "ok",
     "timestamp": 1602551312932,
     "user": {
      "displayName": "Marcos Llobera",
      "photoUrl": "",
      "userId": "09511791020344235136"
     },
     "user_tz": 420
    },
    "id": "S0nfYYNlT6nt",
    "outputId": "2932d16d-56ed-4164-bb28-609a4211a7d4",
    "scrolled": true
   },
   "outputs": [
    {
     "data": {
      "text/plain": [
       "0    26\n",
       "1    25\n",
       "2    19\n",
       "3    26\n",
       "4    22\n",
       "5    21\n",
       "6    28\n",
       "7    23\n",
       "8    22\n",
       "dtype: int64"
      ]
     },
     "execution_count": 2,
     "metadata": {},
     "output_type": "execute_result"
    }
   ],
   "source": [
    "# create a series using wins\n",
    "win = pd.Series(data = [26,25,19,26,22,21,28,23,22])\n",
    "win"
   ]
  },
  {
   "cell_type": "markdown",
   "metadata": {},
   "source": [
    "Retrieve the index"
   ]
  },
  {
   "cell_type": "code",
   "execution_count": 3,
   "metadata": {
    "colab": {
     "base_uri": "https://localhost:8080/",
     "height": 34
    },
    "executionInfo": {
     "elapsed": 4630,
     "status": "ok",
     "timestamp": 1602551312933,
     "user": {
      "displayName": "Marcos Llobera",
      "photoUrl": "",
      "userId": "09511791020344235136"
     },
     "user_tz": 420
    },
    "id": "izjhZ2D2UX2I",
    "outputId": "fc0adfa6-fd73-4e26-912a-b3eae752fb14"
   },
   "outputs": [
    {
     "data": {
      "text/plain": [
       "RangeIndex(start=0, stop=9, step=1)"
      ]
     },
     "execution_count": 3,
     "metadata": {},
     "output_type": "execute_result"
    }
   ],
   "source": [
    "# retrieve the index of series\n",
    "win.index"
   ]
  },
  {
   "cell_type": "markdown",
   "metadata": {
    "jp-MarkdownHeadingCollapsed": true
   },
   "source": [
    "Pandas has different types of [indexes](https://www.programiz.com/python-programming/pandas/index). By default, the index is an integer numerical range type.\n",
    "\n",
    "You can use `.value` to return a numpy array with all the values in the Series."
   ]
  },
  {
   "cell_type": "code",
   "execution_count": 4,
   "metadata": {},
   "outputs": [
    {
     "data": {
      "text/plain": [
       "array([26, 25, 19, 26, 22, 21, 28, 23, 22])"
      ]
     },
     "execution_count": 4,
     "metadata": {},
     "output_type": "execute_result"
    }
   ],
   "source": [
    "# return only the values (as a numpy array)\n",
    "win.values"
   ]
  },
  {
   "cell_type": "markdown",
   "metadata": {},
   "source": [
    "You can specify both the data and the index when creating a Series."
   ]
  },
  {
   "cell_type": "code",
   "execution_count": 5,
   "metadata": {
    "colab": {
     "base_uri": "https://localhost:8080/",
     "height": 187
    },
    "executionInfo": {
     "elapsed": 4615,
     "status": "ok",
     "timestamp": 1602551312934,
     "user": {
      "displayName": "Marcos Llobera",
      "photoUrl": "",
      "userId": "09511791020344235136"
     },
     "user_tz": 420
    },
    "id": "_9MJjyaSUi_k",
    "outputId": "c0dd52e6-5e29-4761-d0d3-0f69b64a9693"
   },
   "outputs": [
    {
     "data": {
      "text/plain": [
       "2020    26\n",
       "2020    25\n",
       "2020    19\n",
       "2019    26\n",
       "2019    22\n",
       "2019    21\n",
       "2018    28\n",
       "2018    23\n",
       "2018    22\n",
       "dtype: int64"
      ]
     },
     "execution_count": 5,
     "metadata": {},
     "output_type": "execute_result"
    }
   ],
   "source": [
    "# create a series using as data wins and as index years\n",
    "win = pd.Series(data= [26,25,19,26,22,21,28,23,22],\n",
    "                index= [2020, 2020, 2020, 2019, 2019, 2019, 2018, 2018, 2018])\n",
    "win"
   ]
  },
  {
   "cell_type": "code",
   "execution_count": 6,
   "metadata": {},
   "outputs": [
    {
     "data": {
      "text/plain": [
       "Index([2020, 2020, 2020, 2019, 2019, 2019, 2018, 2018, 2018], dtype='int64')"
      ]
     },
     "execution_count": 6,
     "metadata": {},
     "output_type": "execute_result"
    }
   ],
   "source": [
    "# retrieve index\n",
    "win.index"
   ]
  },
  {
   "cell_type": "markdown",
   "metadata": {},
   "source": [
    "In this case, we are indexing the number of wins by the year these occured. So, if you wanted to retrieve all of the wins that happened in 2020, you can type the following ."
   ]
  },
  {
   "cell_type": "code",
   "execution_count": 7,
   "metadata": {
    "colab": {
     "base_uri": "https://localhost:8080/",
     "height": 85
    },
    "executionInfo": {
     "elapsed": 4596,
     "status": "ok",
     "timestamp": 1602551312935,
     "user": {
      "displayName": "Marcos Llobera",
      "photoUrl": "",
      "userId": "09511791020344235136"
     },
     "user_tz": 420
    },
    "id": "NSzlNOhAUycz",
    "outputId": "cbc3498b-9388-43ed-f987-d6872e5a41b7"
   },
   "outputs": [
    {
     "data": {
      "text/plain": [
       "2020    26\n",
       "2020    25\n",
       "2020    19\n",
       "dtype: int64"
      ]
     },
     "execution_count": 7,
     "metadata": {},
     "output_type": "execute_result"
    }
   ],
   "source": [
    "# retrieve wins in 2020\n",
    "win[2020]"
   ]
  },
  {
   "cell_type": "markdown",
   "metadata": {},
   "source": [
    "### Reset Index"
   ]
  },
  {
   "cell_type": "markdown",
   "metadata": {},
   "source": [
    "It is always possible to reset an index, i.e. this creates a new series with the old index and inserts a new default index."
   ]
  },
  {
   "cell_type": "code",
   "execution_count": 8,
   "metadata": {},
   "outputs": [
    {
     "data": {
      "text/html": [
       "<div>\n",
       "<style scoped>\n",
       "    .dataframe tbody tr th:only-of-type {\n",
       "        vertical-align: middle;\n",
       "    }\n",
       "\n",
       "    .dataframe tbody tr th {\n",
       "        vertical-align: top;\n",
       "    }\n",
       "\n",
       "    .dataframe thead th {\n",
       "        text-align: right;\n",
       "    }\n",
       "</style>\n",
       "<table border=\"1\" class=\"dataframe\">\n",
       "  <thead>\n",
       "    <tr style=\"text-align: right;\">\n",
       "      <th></th>\n",
       "      <th>index</th>\n",
       "      <th>0</th>\n",
       "    </tr>\n",
       "  </thead>\n",
       "  <tbody>\n",
       "    <tr>\n",
       "      <th>0</th>\n",
       "      <td>2020</td>\n",
       "      <td>26</td>\n",
       "    </tr>\n",
       "    <tr>\n",
       "      <th>1</th>\n",
       "      <td>2020</td>\n",
       "      <td>25</td>\n",
       "    </tr>\n",
       "    <tr>\n",
       "      <th>2</th>\n",
       "      <td>2020</td>\n",
       "      <td>19</td>\n",
       "    </tr>\n",
       "    <tr>\n",
       "      <th>3</th>\n",
       "      <td>2019</td>\n",
       "      <td>26</td>\n",
       "    </tr>\n",
       "    <tr>\n",
       "      <th>4</th>\n",
       "      <td>2019</td>\n",
       "      <td>22</td>\n",
       "    </tr>\n",
       "    <tr>\n",
       "      <th>5</th>\n",
       "      <td>2019</td>\n",
       "      <td>21</td>\n",
       "    </tr>\n",
       "    <tr>\n",
       "      <th>6</th>\n",
       "      <td>2018</td>\n",
       "      <td>28</td>\n",
       "    </tr>\n",
       "    <tr>\n",
       "      <th>7</th>\n",
       "      <td>2018</td>\n",
       "      <td>23</td>\n",
       "    </tr>\n",
       "    <tr>\n",
       "      <th>8</th>\n",
       "      <td>2018</td>\n",
       "      <td>22</td>\n",
       "    </tr>\n",
       "  </tbody>\n",
       "</table>\n",
       "</div>"
      ],
      "text/plain": [
       "   index   0\n",
       "0   2020  26\n",
       "1   2020  25\n",
       "2   2020  19\n",
       "3   2019  26\n",
       "4   2019  22\n",
       "5   2019  21\n",
       "6   2018  28\n",
       "7   2018  23\n",
       "8   2018  22"
      ]
     },
     "execution_count": 8,
     "metadata": {},
     "output_type": "execute_result"
    }
   ],
   "source": [
    "# reset index\n",
    "win.reset_index()"
   ]
  },
  {
   "cell_type": "markdown",
   "metadata": {},
   "source": [
    "## Pandas DataFrame"
   ]
  },
  {
   "cell_type": "markdown",
   "metadata": {},
   "source": [
    "The easiest way to generate a Pandas DataFrame is using a Python [Dictionary](../python/dictionary.ipynb)"
   ]
  },
  {
   "cell_type": "code",
   "execution_count": 9,
   "metadata": {
    "scrolled": true
   },
   "outputs": [
    {
     "data": {
      "text/html": [
       "<div>\n",
       "<style scoped>\n",
       "    .dataframe tbody tr th:only-of-type {\n",
       "        vertical-align: middle;\n",
       "    }\n",
       "\n",
       "    .dataframe tbody tr th {\n",
       "        vertical-align: top;\n",
       "    }\n",
       "\n",
       "    .dataframe thead th {\n",
       "        text-align: right;\n",
       "    }\n",
       "</style>\n",
       "<table border=\"1\" class=\"dataframe\">\n",
       "  <thead>\n",
       "    <tr style=\"text-align: right;\">\n",
       "      <th></th>\n",
       "      <th>team</th>\n",
       "      <th>year</th>\n",
       "      <th>wins</th>\n",
       "      <th>draws</th>\n",
       "      <th>losses</th>\n",
       "    </tr>\n",
       "  </thead>\n",
       "  <tbody>\n",
       "    <tr>\n",
       "      <th>0</th>\n",
       "      <td>RealMadrid</td>\n",
       "      <td>2020</td>\n",
       "      <td>26</td>\n",
       "      <td>3</td>\n",
       "      <td>3</td>\n",
       "    </tr>\n",
       "    <tr>\n",
       "      <th>1</th>\n",
       "      <td>FCBarcelona</td>\n",
       "      <td>2020</td>\n",
       "      <td>25</td>\n",
       "      <td>6</td>\n",
       "      <td>6</td>\n",
       "    </tr>\n",
       "    <tr>\n",
       "      <th>2</th>\n",
       "      <td>Sevilla</td>\n",
       "      <td>2020</td>\n",
       "      <td>19</td>\n",
       "      <td>6</td>\n",
       "      <td>6</td>\n",
       "    </tr>\n",
       "    <tr>\n",
       "      <th>3</th>\n",
       "      <td>FCBarcelona</td>\n",
       "      <td>2019</td>\n",
       "      <td>26</td>\n",
       "      <td>9</td>\n",
       "      <td>3</td>\n",
       "    </tr>\n",
       "    <tr>\n",
       "      <th>4</th>\n",
       "      <td>AtleticoMadrid</td>\n",
       "      <td>2019</td>\n",
       "      <td>22</td>\n",
       "      <td>10</td>\n",
       "      <td>6</td>\n",
       "    </tr>\n",
       "    <tr>\n",
       "      <th>5</th>\n",
       "      <td>RealMadrid</td>\n",
       "      <td>2019</td>\n",
       "      <td>21</td>\n",
       "      <td>5</td>\n",
       "      <td>12</td>\n",
       "    </tr>\n",
       "    <tr>\n",
       "      <th>6</th>\n",
       "      <td>FCBarcelona</td>\n",
       "      <td>2018</td>\n",
       "      <td>28</td>\n",
       "      <td>9</td>\n",
       "      <td>1</td>\n",
       "    </tr>\n",
       "    <tr>\n",
       "      <th>7</th>\n",
       "      <td>AtleticoMadrid</td>\n",
       "      <td>2018</td>\n",
       "      <td>23</td>\n",
       "      <td>10</td>\n",
       "      <td>5</td>\n",
       "    </tr>\n",
       "    <tr>\n",
       "      <th>8</th>\n",
       "      <td>RealMadrid</td>\n",
       "      <td>2018</td>\n",
       "      <td>22</td>\n",
       "      <td>10</td>\n",
       "      <td>6</td>\n",
       "    </tr>\n",
       "  </tbody>\n",
       "</table>\n",
       "</div>"
      ],
      "text/plain": [
       "             team  year  wins  draws  losses\n",
       "0      RealMadrid  2020    26      3       3\n",
       "1     FCBarcelona  2020    25      6       6\n",
       "2         Sevilla  2020    19      6       6\n",
       "3     FCBarcelona  2019    26      9       3\n",
       "4  AtleticoMadrid  2019    22     10       6\n",
       "5      RealMadrid  2019    21      5      12\n",
       "6     FCBarcelona  2018    28      9       1\n",
       "7  AtleticoMadrid  2018    23     10       5\n",
       "8      RealMadrid  2018    22     10       6"
      ]
     },
     "execution_count": 9,
     "metadata": {},
     "output_type": "execute_result"
    }
   ],
   "source": [
    "df = pd.DataFrame(data = {'team'  : ['RealMadrid','FCBarcelona', 'Sevilla', 'FCBarcelona','AtleticoMadrid',\n",
    "                                     'RealMadrid', 'FCBarcelona','AtleticoMadrid', 'RealMadrid'],\n",
    "                          'year' : [2020, 2020, 2020, 2019, 2019, 2019, 2018, 2018, 2018],\n",
    "                          'wins'  : [26,25,19,26,22,21,28,23,22],\n",
    "                          'draws' : [3,6,6,9,10,5,9,10,10],\n",
    "                          'losses': [3,6,6,3,6,12,1,5,6]})\n",
    "df"
   ]
  },
  {
   "cell_type": "markdown",
   "metadata": {
    "id": "ERFfBc1p1Obi",
    "tags": []
   },
   "source": [
    "### Anatomy of a DataFrame\n",
    "\n",
    "The following diagram identifies the name parts of a Pandas DataFrame:\n",
    "\n",
    "![Anatomy](../../images/anatomy_dataframe.png)"
   ]
  },
  {
   "cell_type": "markdown",
   "metadata": {
    "id": "kqeyTjDj9Jbv"
   },
   "source": [
    "### Parts"
   ]
  },
  {
   "cell_type": "markdown",
   "metadata": {},
   "source": [
    "Let's explore some of the parts of the DataFrame we created above. Let's recover the names of the columns,"
   ]
  },
  {
   "cell_type": "code",
   "execution_count": 10,
   "metadata": {
    "colab": {
     "base_uri": "https://localhost:8080/",
     "height": 34
    },
    "executionInfo": {
     "elapsed": 4688,
     "status": "ok",
     "timestamp": 1602551313247,
     "user": {
      "displayName": "Marcos Llobera",
      "photoUrl": "",
      "userId": "09511791020344235136"
     },
     "user_tz": 420
    },
    "id": "QOScQ8-JTnPu",
    "outputId": "4cb5f700-c5f3-4343-ee2e-ee65ab322322"
   },
   "outputs": [
    {
     "data": {
      "text/plain": [
       "Index(['team', 'year', 'wins', 'draws', 'losses'], dtype='object')"
      ]
     },
     "execution_count": 10,
     "metadata": {},
     "output_type": "execute_result"
    }
   ],
   "source": [
    "# print the columns of the DataFrame\n",
    "df.columns"
   ]
  },
  {
   "cell_type": "markdown",
   "metadata": {},
   "source": [
    "Now the index,"
   ]
  },
  {
   "cell_type": "code",
   "execution_count": 11,
   "metadata": {
    "colab": {
     "base_uri": "https://localhost:8080/",
     "height": 51
    },
    "executionInfo": {
     "elapsed": 4665,
     "status": "ok",
     "timestamp": 1602551313248,
     "user": {
      "displayName": "Marcos Llobera",
      "photoUrl": "",
      "userId": "09511791020344235136"
     },
     "user_tz": 420
    },
    "id": "jnQi25ph8uHF",
    "outputId": "b7765573-e2c3-4756-f99e-87b3dabf6b76"
   },
   "outputs": [
    {
     "data": {
      "text/plain": [
       "RangeIndex(start=0, stop=9, step=1)"
      ]
     },
     "execution_count": 11,
     "metadata": {},
     "output_type": "execute_result"
    }
   ],
   "source": [
    "# print the index of the DataFrame\n",
    "df.index"
   ]
  },
  {
   "cell_type": "markdown",
   "metadata": {},
   "source": [
    "What about the values?"
   ]
  },
  {
   "cell_type": "code",
   "execution_count": 12,
   "metadata": {
    "colab": {
     "base_uri": "https://localhost:8080/",
     "height": 221
    },
    "executionInfo": {
     "elapsed": 4645,
     "status": "ok",
     "timestamp": 1602551313249,
     "user": {
      "displayName": "Marcos Llobera",
      "photoUrl": "",
      "userId": "09511791020344235136"
     },
     "user_tz": 420
    },
    "id": "eJmY7eop84nK",
    "outputId": "f26924bb-4373-4d28-e40a-95e286891af8",
    "scrolled": true
   },
   "outputs": [
    {
     "data": {
      "text/plain": [
       "array([['RealMadrid', 2020, 26, 3, 3],\n",
       "       ['FCBarcelona', 2020, 25, 6, 6],\n",
       "       ['Sevilla', 2020, 19, 6, 6],\n",
       "       ['FCBarcelona', 2019, 26, 9, 3],\n",
       "       ['AtleticoMadrid', 2019, 22, 10, 6],\n",
       "       ['RealMadrid', 2019, 21, 5, 12],\n",
       "       ['FCBarcelona', 2018, 28, 9, 1],\n",
       "       ['AtleticoMadrid', 2018, 23, 10, 5],\n",
       "       ['RealMadrid', 2018, 22, 10, 6]], dtype=object)"
      ]
     },
     "execution_count": 12,
     "metadata": {},
     "output_type": "execute_result"
    }
   ],
   "source": [
    "# print the only the values (as numpy array of arrays)\n",
    "df.values"
   ]
  },
  {
   "cell_type": "markdown",
   "metadata": {},
   "source": [
    "### Data Types"
   ]
  },
  {
   "cell_type": "markdown",
   "metadata": {},
   "source": [
    "When Pandas reads information into a DataFrame, it tries to guess what *type* of *data* (e.g. numeric, text, so on) is reading in order to store it efficiently. Getting the right data type is important, not only because of storing efficiency, but also because it dictates what kind of operations we can use with them. Here are the main Pandas data types,"
   ]
  },
  {
   "cell_type": "markdown",
   "metadata": {},
   "source": [
    "| Type| Explanation|\n",
    "|:---:|:----------:|\n",
    "|object|string|\n",
    "|int64| integer |\n",
    "|float64| float |\n",
    "|bool| boolean |\n",
    "|datetime64| date time|\n",
    "|timedelta[ns]| time interval between two datetimes |\n",
    "|category| list of text values |"
   ]
  },
  {
   "cell_type": "markdown",
   "metadata": {},
   "source": [
    "When Pandas cannot recognize the data type it will default to `object`. Use `.dtype` property of a DataFrame to list all of its data types,"
   ]
  },
  {
   "cell_type": "code",
   "execution_count": 13,
   "metadata": {
    "scrolled": true
   },
   "outputs": [
    {
     "data": {
      "text/plain": [
       "team      object\n",
       "year       int64\n",
       "wins       int64\n",
       "draws      int64\n",
       "losses     int64\n",
       "dtype: object"
      ]
     },
     "execution_count": 13,
     "metadata": {},
     "output_type": "execute_result"
    }
   ],
   "source": [
    "df.dtypes"
   ]
  },
  {
   "cell_type": "markdown",
   "metadata": {},
   "source": [
    "You can often switch from one data type to another using the Pandas's method [`.astype()`](https://pandas.pydata.org/docs/reference/api/pandas.DataFrame.astype.html)."
   ]
  },
  {
   "cell_type": "code",
   "execution_count": 21,
   "metadata": {},
   "outputs": [
    {
     "data": {
      "text/plain": [
       "0    26.0\n",
       "1    25.0\n",
       "2    19.0\n",
       "3    26.0\n",
       "4    22.0\n",
       "5    21.0\n",
       "6    28.0\n",
       "7    23.0\n",
       "8    22.0\n",
       "Name: wins, dtype: float64"
      ]
     },
     "execution_count": 21,
     "metadata": {},
     "output_type": "execute_result"
    }
   ],
   "source": [
    "df.wins.astype('float64')"
   ]
  },
  {
   "cell_type": "markdown",
   "metadata": {
    "id": "yIsKoyyfOkTn",
    "jp-MarkdownHeadingCollapsed": true
   },
   "source": [
    "### Create a New Column/Series"
   ]
  },
  {
   "cell_type": "markdown",
   "metadata": {
    "id": "hISahnQdAqQY"
   },
   "source": [
    "There are several ways to generate a new column or series in Pandas. The simplest is by simply adding a new column as you would add a new entry in a Python dictionary. Let's create a new *'dummy'* column we will delete later on."
   ]
  },
  {
   "cell_type": "code",
   "execution_count": 14,
   "metadata": {},
   "outputs": [
    {
     "data": {
      "text/html": [
       "<div>\n",
       "<style scoped>\n",
       "    .dataframe tbody tr th:only-of-type {\n",
       "        vertical-align: middle;\n",
       "    }\n",
       "\n",
       "    .dataframe tbody tr th {\n",
       "        vertical-align: top;\n",
       "    }\n",
       "\n",
       "    .dataframe thead th {\n",
       "        text-align: right;\n",
       "    }\n",
       "</style>\n",
       "<table border=\"1\" class=\"dataframe\">\n",
       "  <thead>\n",
       "    <tr style=\"text-align: right;\">\n",
       "      <th></th>\n",
       "      <th>team</th>\n",
       "      <th>year</th>\n",
       "      <th>wins</th>\n",
       "      <th>draws</th>\n",
       "      <th>losses</th>\n",
       "      <th>Erase Me</th>\n",
       "    </tr>\n",
       "  </thead>\n",
       "  <tbody>\n",
       "    <tr>\n",
       "      <th>0</th>\n",
       "      <td>RealMadrid</td>\n",
       "      <td>2020</td>\n",
       "      <td>26</td>\n",
       "      <td>3</td>\n",
       "      <td>3</td>\n",
       "      <td>1</td>\n",
       "    </tr>\n",
       "    <tr>\n",
       "      <th>1</th>\n",
       "      <td>FCBarcelona</td>\n",
       "      <td>2020</td>\n",
       "      <td>25</td>\n",
       "      <td>6</td>\n",
       "      <td>6</td>\n",
       "      <td>0</td>\n",
       "    </tr>\n",
       "    <tr>\n",
       "      <th>2</th>\n",
       "      <td>Sevilla</td>\n",
       "      <td>2020</td>\n",
       "      <td>19</td>\n",
       "      <td>6</td>\n",
       "      <td>6</td>\n",
       "      <td>1</td>\n",
       "    </tr>\n",
       "    <tr>\n",
       "      <th>3</th>\n",
       "      <td>FCBarcelona</td>\n",
       "      <td>2019</td>\n",
       "      <td>26</td>\n",
       "      <td>9</td>\n",
       "      <td>3</td>\n",
       "      <td>0</td>\n",
       "    </tr>\n",
       "    <tr>\n",
       "      <th>4</th>\n",
       "      <td>AtleticoMadrid</td>\n",
       "      <td>2019</td>\n",
       "      <td>22</td>\n",
       "      <td>10</td>\n",
       "      <td>6</td>\n",
       "      <td>1</td>\n",
       "    </tr>\n",
       "    <tr>\n",
       "      <th>5</th>\n",
       "      <td>RealMadrid</td>\n",
       "      <td>2019</td>\n",
       "      <td>21</td>\n",
       "      <td>5</td>\n",
       "      <td>12</td>\n",
       "      <td>0</td>\n",
       "    </tr>\n",
       "    <tr>\n",
       "      <th>6</th>\n",
       "      <td>FCBarcelona</td>\n",
       "      <td>2018</td>\n",
       "      <td>28</td>\n",
       "      <td>9</td>\n",
       "      <td>1</td>\n",
       "      <td>1</td>\n",
       "    </tr>\n",
       "    <tr>\n",
       "      <th>7</th>\n",
       "      <td>AtleticoMadrid</td>\n",
       "      <td>2018</td>\n",
       "      <td>23</td>\n",
       "      <td>10</td>\n",
       "      <td>5</td>\n",
       "      <td>0</td>\n",
       "    </tr>\n",
       "    <tr>\n",
       "      <th>8</th>\n",
       "      <td>RealMadrid</td>\n",
       "      <td>2018</td>\n",
       "      <td>22</td>\n",
       "      <td>10</td>\n",
       "      <td>6</td>\n",
       "      <td>1</td>\n",
       "    </tr>\n",
       "  </tbody>\n",
       "</table>\n",
       "</div>"
      ],
      "text/plain": [
       "             team  year  wins  draws  losses  Erase Me\n",
       "0      RealMadrid  2020    26      3       3         1\n",
       "1     FCBarcelona  2020    25      6       6         0\n",
       "2         Sevilla  2020    19      6       6         1\n",
       "3     FCBarcelona  2019    26      9       3         0\n",
       "4  AtleticoMadrid  2019    22     10       6         1\n",
       "5      RealMadrid  2019    21      5      12         0\n",
       "6     FCBarcelona  2018    28      9       1         1\n",
       "7  AtleticoMadrid  2018    23     10       5         0\n",
       "8      RealMadrid  2018    22     10       6         1"
      ]
     },
     "execution_count": 14,
     "metadata": {},
     "output_type": "execute_result"
    }
   ],
   "source": [
    "df['Erase Me']= [1,0,1,0,1,0,1,0,1]\n",
    "df"
   ]
  },
  {
   "cell_type": "markdown",
   "metadata": {
    "id": "hISahnQdAqQY"
   },
   "source": [
    "Another way is by combining ENTIRE columns in a DataFrame. For instance, we can generate a new column that provides a simple measure of failure for each team based on their wins, draws and losses.\n",
    "\n",
    "$failure = \\frac{draws + losses}{wins}$\n",
    "   \n",
    "The larger the index of $failure$ the less successful was a team."
   ]
  },
  {
   "cell_type": "code",
   "execution_count": 15,
   "metadata": {
    "colab": {
     "base_uri": "https://localhost:8080/",
     "height": 328
    },
    "executionInfo": {
     "elapsed": 5480,
     "status": "ok",
     "timestamp": 1602551314603,
     "user": {
      "displayName": "Marcos Llobera",
      "photoUrl": "",
      "userId": "09511791020344235136"
     },
     "user_tz": 420
    },
    "id": "p4l__bH6PXmq",
    "outputId": "70b2eb73-5656-4090-bb4b-e5d64b2eb60b",
    "scrolled": true
   },
   "outputs": [
    {
     "data": {
      "text/html": [
       "<div>\n",
       "<style scoped>\n",
       "    .dataframe tbody tr th:only-of-type {\n",
       "        vertical-align: middle;\n",
       "    }\n",
       "\n",
       "    .dataframe tbody tr th {\n",
       "        vertical-align: top;\n",
       "    }\n",
       "\n",
       "    .dataframe thead th {\n",
       "        text-align: right;\n",
       "    }\n",
       "</style>\n",
       "<table border=\"1\" class=\"dataframe\">\n",
       "  <thead>\n",
       "    <tr style=\"text-align: right;\">\n",
       "      <th></th>\n",
       "      <th>team</th>\n",
       "      <th>year</th>\n",
       "      <th>wins</th>\n",
       "      <th>draws</th>\n",
       "      <th>losses</th>\n",
       "      <th>Erase Me</th>\n",
       "      <th>failure</th>\n",
       "    </tr>\n",
       "  </thead>\n",
       "  <tbody>\n",
       "    <tr>\n",
       "      <th>0</th>\n",
       "      <td>RealMadrid</td>\n",
       "      <td>2020</td>\n",
       "      <td>26</td>\n",
       "      <td>3</td>\n",
       "      <td>3</td>\n",
       "      <td>1</td>\n",
       "      <td>0.230769</td>\n",
       "    </tr>\n",
       "    <tr>\n",
       "      <th>1</th>\n",
       "      <td>FCBarcelona</td>\n",
       "      <td>2020</td>\n",
       "      <td>25</td>\n",
       "      <td>6</td>\n",
       "      <td>6</td>\n",
       "      <td>0</td>\n",
       "      <td>0.480000</td>\n",
       "    </tr>\n",
       "    <tr>\n",
       "      <th>2</th>\n",
       "      <td>Sevilla</td>\n",
       "      <td>2020</td>\n",
       "      <td>19</td>\n",
       "      <td>6</td>\n",
       "      <td>6</td>\n",
       "      <td>1</td>\n",
       "      <td>0.631579</td>\n",
       "    </tr>\n",
       "    <tr>\n",
       "      <th>3</th>\n",
       "      <td>FCBarcelona</td>\n",
       "      <td>2019</td>\n",
       "      <td>26</td>\n",
       "      <td>9</td>\n",
       "      <td>3</td>\n",
       "      <td>0</td>\n",
       "      <td>0.461538</td>\n",
       "    </tr>\n",
       "    <tr>\n",
       "      <th>4</th>\n",
       "      <td>AtleticoMadrid</td>\n",
       "      <td>2019</td>\n",
       "      <td>22</td>\n",
       "      <td>10</td>\n",
       "      <td>6</td>\n",
       "      <td>1</td>\n",
       "      <td>0.727273</td>\n",
       "    </tr>\n",
       "    <tr>\n",
       "      <th>5</th>\n",
       "      <td>RealMadrid</td>\n",
       "      <td>2019</td>\n",
       "      <td>21</td>\n",
       "      <td>5</td>\n",
       "      <td>12</td>\n",
       "      <td>0</td>\n",
       "      <td>0.809524</td>\n",
       "    </tr>\n",
       "    <tr>\n",
       "      <th>6</th>\n",
       "      <td>FCBarcelona</td>\n",
       "      <td>2018</td>\n",
       "      <td>28</td>\n",
       "      <td>9</td>\n",
       "      <td>1</td>\n",
       "      <td>1</td>\n",
       "      <td>0.357143</td>\n",
       "    </tr>\n",
       "    <tr>\n",
       "      <th>7</th>\n",
       "      <td>AtleticoMadrid</td>\n",
       "      <td>2018</td>\n",
       "      <td>23</td>\n",
       "      <td>10</td>\n",
       "      <td>5</td>\n",
       "      <td>0</td>\n",
       "      <td>0.652174</td>\n",
       "    </tr>\n",
       "    <tr>\n",
       "      <th>8</th>\n",
       "      <td>RealMadrid</td>\n",
       "      <td>2018</td>\n",
       "      <td>22</td>\n",
       "      <td>10</td>\n",
       "      <td>6</td>\n",
       "      <td>1</td>\n",
       "      <td>0.727273</td>\n",
       "    </tr>\n",
       "  </tbody>\n",
       "</table>\n",
       "</div>"
      ],
      "text/plain": [
       "             team  year  wins  draws  losses  Erase Me   failure\n",
       "0      RealMadrid  2020    26      3       3         1  0.230769\n",
       "1     FCBarcelona  2020    25      6       6         0  0.480000\n",
       "2         Sevilla  2020    19      6       6         1  0.631579\n",
       "3     FCBarcelona  2019    26      9       3         0  0.461538\n",
       "4  AtleticoMadrid  2019    22     10       6         1  0.727273\n",
       "5      RealMadrid  2019    21      5      12         0  0.809524\n",
       "6     FCBarcelona  2018    28      9       1         1  0.357143\n",
       "7  AtleticoMadrid  2018    23     10       5         0  0.652174\n",
       "8      RealMadrid  2018    22     10       6         1  0.727273"
      ]
     },
     "execution_count": 15,
     "metadata": {},
     "output_type": "execute_result"
    }
   ],
   "source": [
    "# creating a new DataFrame column # df['failure'] = (df['draws'] + df['losses']) / df['wins']\n",
    "df['failure'] = (df.draws + df.losses)  / df.wins\n",
    "df"
   ]
  },
  {
   "cell_type": "markdown",
   "metadata": {},
   "source": [
    "### Sorting a DataFrame"
   ]
  },
  {
   "cell_type": "markdown",
   "metadata": {
    "id": "_6vhPl7C3fT0"
   },
   "source": [
    "We can use the `.sort_values()` function to sort the entries in a DataFrame using one or several columns. Here you will sort them by the newly created *failure* index in descending order (by default Pandas sorts in ascending order)."
   ]
  },
  {
   "cell_type": "code",
   "execution_count": 16,
   "metadata": {
    "colab": {
     "base_uri": "https://localhost:8080/",
     "height": 328
    },
    "executionInfo": {
     "elapsed": 5468,
     "status": "ok",
     "timestamp": 1602551314604,
     "user": {
      "displayName": "Marcos Llobera",
      "photoUrl": "",
      "userId": "09511791020344235136"
     },
     "user_tz": 420
    },
    "id": "b7AfPSq_PtFF",
    "outputId": "fdc3544d-6999-4c54-e611-acd0f4051b25"
   },
   "outputs": [
    {
     "data": {
      "text/html": [
       "<div>\n",
       "<style scoped>\n",
       "    .dataframe tbody tr th:only-of-type {\n",
       "        vertical-align: middle;\n",
       "    }\n",
       "\n",
       "    .dataframe tbody tr th {\n",
       "        vertical-align: top;\n",
       "    }\n",
       "\n",
       "    .dataframe thead th {\n",
       "        text-align: right;\n",
       "    }\n",
       "</style>\n",
       "<table border=\"1\" class=\"dataframe\">\n",
       "  <thead>\n",
       "    <tr style=\"text-align: right;\">\n",
       "      <th></th>\n",
       "      <th>team</th>\n",
       "      <th>year</th>\n",
       "      <th>wins</th>\n",
       "      <th>draws</th>\n",
       "      <th>losses</th>\n",
       "      <th>Erase Me</th>\n",
       "      <th>failure</th>\n",
       "    </tr>\n",
       "  </thead>\n",
       "  <tbody>\n",
       "    <tr>\n",
       "      <th>5</th>\n",
       "      <td>RealMadrid</td>\n",
       "      <td>2019</td>\n",
       "      <td>21</td>\n",
       "      <td>5</td>\n",
       "      <td>12</td>\n",
       "      <td>0</td>\n",
       "      <td>0.809524</td>\n",
       "    </tr>\n",
       "    <tr>\n",
       "      <th>8</th>\n",
       "      <td>RealMadrid</td>\n",
       "      <td>2018</td>\n",
       "      <td>22</td>\n",
       "      <td>10</td>\n",
       "      <td>6</td>\n",
       "      <td>1</td>\n",
       "      <td>0.727273</td>\n",
       "    </tr>\n",
       "    <tr>\n",
       "      <th>4</th>\n",
       "      <td>AtleticoMadrid</td>\n",
       "      <td>2019</td>\n",
       "      <td>22</td>\n",
       "      <td>10</td>\n",
       "      <td>6</td>\n",
       "      <td>1</td>\n",
       "      <td>0.727273</td>\n",
       "    </tr>\n",
       "    <tr>\n",
       "      <th>7</th>\n",
       "      <td>AtleticoMadrid</td>\n",
       "      <td>2018</td>\n",
       "      <td>23</td>\n",
       "      <td>10</td>\n",
       "      <td>5</td>\n",
       "      <td>0</td>\n",
       "      <td>0.652174</td>\n",
       "    </tr>\n",
       "    <tr>\n",
       "      <th>2</th>\n",
       "      <td>Sevilla</td>\n",
       "      <td>2020</td>\n",
       "      <td>19</td>\n",
       "      <td>6</td>\n",
       "      <td>6</td>\n",
       "      <td>1</td>\n",
       "      <td>0.631579</td>\n",
       "    </tr>\n",
       "    <tr>\n",
       "      <th>1</th>\n",
       "      <td>FCBarcelona</td>\n",
       "      <td>2020</td>\n",
       "      <td>25</td>\n",
       "      <td>6</td>\n",
       "      <td>6</td>\n",
       "      <td>0</td>\n",
       "      <td>0.480000</td>\n",
       "    </tr>\n",
       "    <tr>\n",
       "      <th>3</th>\n",
       "      <td>FCBarcelona</td>\n",
       "      <td>2019</td>\n",
       "      <td>26</td>\n",
       "      <td>9</td>\n",
       "      <td>3</td>\n",
       "      <td>0</td>\n",
       "      <td>0.461538</td>\n",
       "    </tr>\n",
       "    <tr>\n",
       "      <th>6</th>\n",
       "      <td>FCBarcelona</td>\n",
       "      <td>2018</td>\n",
       "      <td>28</td>\n",
       "      <td>9</td>\n",
       "      <td>1</td>\n",
       "      <td>1</td>\n",
       "      <td>0.357143</td>\n",
       "    </tr>\n",
       "    <tr>\n",
       "      <th>0</th>\n",
       "      <td>RealMadrid</td>\n",
       "      <td>2020</td>\n",
       "      <td>26</td>\n",
       "      <td>3</td>\n",
       "      <td>3</td>\n",
       "      <td>1</td>\n",
       "      <td>0.230769</td>\n",
       "    </tr>\n",
       "  </tbody>\n",
       "</table>\n",
       "</div>"
      ],
      "text/plain": [
       "             team  year  wins  draws  losses  Erase Me   failure\n",
       "5      RealMadrid  2019    21      5      12         0  0.809524\n",
       "8      RealMadrid  2018    22     10       6         1  0.727273\n",
       "4  AtleticoMadrid  2019    22     10       6         1  0.727273\n",
       "7  AtleticoMadrid  2018    23     10       5         0  0.652174\n",
       "2         Sevilla  2020    19      6       6         1  0.631579\n",
       "1     FCBarcelona  2020    25      6       6         0  0.480000\n",
       "3     FCBarcelona  2019    26      9       3         0  0.461538\n",
       "6     FCBarcelona  2018    28      9       1         1  0.357143\n",
       "0      RealMadrid  2020    26      3       3         1  0.230769"
      ]
     },
     "execution_count": 16,
     "metadata": {},
     "output_type": "execute_result"
    }
   ],
   "source": [
    "# Let's sort teams based on the failure index from worst to better\n",
    "df.sort_values('failure',ascending= False)"
   ]
  },
  {
   "cell_type": "markdown",
   "metadata": {
    "id": "JvKSIinxAxk_"
   },
   "source": [
    "### Deleting a column/series"
   ]
  },
  {
   "cell_type": "markdown",
   "metadata": {},
   "source": [
    "To delete a column use Pandas method [`.drop()`](https://pandas.pydata.org/pandas-docs/stable/reference/api/pandas.DataFrame.drop.html),"
   ]
  },
  {
   "cell_type": "code",
   "execution_count": 17,
   "metadata": {
    "colab": {
     "base_uri": "https://localhost:8080/",
     "height": 328
    },
    "executionInfo": {
     "elapsed": 5457,
     "status": "ok",
     "timestamp": 1602551314604,
     "user": {
      "displayName": "Marcos Llobera",
      "photoUrl": "",
      "userId": "09511791020344235136"
     },
     "user_tz": 420
    },
    "id": "U5aQCq1hKapU",
    "outputId": "8aa217cd-8122-479f-efb7-e44f16bd9fc1"
   },
   "outputs": [
    {
     "data": {
      "text/html": [
       "<div>\n",
       "<style scoped>\n",
       "    .dataframe tbody tr th:only-of-type {\n",
       "        vertical-align: middle;\n",
       "    }\n",
       "\n",
       "    .dataframe tbody tr th {\n",
       "        vertical-align: top;\n",
       "    }\n",
       "\n",
       "    .dataframe thead th {\n",
       "        text-align: right;\n",
       "    }\n",
       "</style>\n",
       "<table border=\"1\" class=\"dataframe\">\n",
       "  <thead>\n",
       "    <tr style=\"text-align: right;\">\n",
       "      <th></th>\n",
       "      <th>team</th>\n",
       "      <th>year</th>\n",
       "      <th>wins</th>\n",
       "      <th>draws</th>\n",
       "      <th>losses</th>\n",
       "      <th>failure</th>\n",
       "    </tr>\n",
       "  </thead>\n",
       "  <tbody>\n",
       "    <tr>\n",
       "      <th>0</th>\n",
       "      <td>RealMadrid</td>\n",
       "      <td>2020</td>\n",
       "      <td>26</td>\n",
       "      <td>3</td>\n",
       "      <td>3</td>\n",
       "      <td>0.230769</td>\n",
       "    </tr>\n",
       "    <tr>\n",
       "      <th>1</th>\n",
       "      <td>FCBarcelona</td>\n",
       "      <td>2020</td>\n",
       "      <td>25</td>\n",
       "      <td>6</td>\n",
       "      <td>6</td>\n",
       "      <td>0.480000</td>\n",
       "    </tr>\n",
       "    <tr>\n",
       "      <th>2</th>\n",
       "      <td>Sevilla</td>\n",
       "      <td>2020</td>\n",
       "      <td>19</td>\n",
       "      <td>6</td>\n",
       "      <td>6</td>\n",
       "      <td>0.631579</td>\n",
       "    </tr>\n",
       "    <tr>\n",
       "      <th>3</th>\n",
       "      <td>FCBarcelona</td>\n",
       "      <td>2019</td>\n",
       "      <td>26</td>\n",
       "      <td>9</td>\n",
       "      <td>3</td>\n",
       "      <td>0.461538</td>\n",
       "    </tr>\n",
       "    <tr>\n",
       "      <th>4</th>\n",
       "      <td>AtleticoMadrid</td>\n",
       "      <td>2019</td>\n",
       "      <td>22</td>\n",
       "      <td>10</td>\n",
       "      <td>6</td>\n",
       "      <td>0.727273</td>\n",
       "    </tr>\n",
       "    <tr>\n",
       "      <th>5</th>\n",
       "      <td>RealMadrid</td>\n",
       "      <td>2019</td>\n",
       "      <td>21</td>\n",
       "      <td>5</td>\n",
       "      <td>12</td>\n",
       "      <td>0.809524</td>\n",
       "    </tr>\n",
       "    <tr>\n",
       "      <th>6</th>\n",
       "      <td>FCBarcelona</td>\n",
       "      <td>2018</td>\n",
       "      <td>28</td>\n",
       "      <td>9</td>\n",
       "      <td>1</td>\n",
       "      <td>0.357143</td>\n",
       "    </tr>\n",
       "    <tr>\n",
       "      <th>7</th>\n",
       "      <td>AtleticoMadrid</td>\n",
       "      <td>2018</td>\n",
       "      <td>23</td>\n",
       "      <td>10</td>\n",
       "      <td>5</td>\n",
       "      <td>0.652174</td>\n",
       "    </tr>\n",
       "    <tr>\n",
       "      <th>8</th>\n",
       "      <td>RealMadrid</td>\n",
       "      <td>2018</td>\n",
       "      <td>22</td>\n",
       "      <td>10</td>\n",
       "      <td>6</td>\n",
       "      <td>0.727273</td>\n",
       "    </tr>\n",
       "  </tbody>\n",
       "</table>\n",
       "</div>"
      ],
      "text/plain": [
       "             team  year  wins  draws  losses   failure\n",
       "0      RealMadrid  2020    26      3       3  0.230769\n",
       "1     FCBarcelona  2020    25      6       6  0.480000\n",
       "2         Sevilla  2020    19      6       6  0.631579\n",
       "3     FCBarcelona  2019    26      9       3  0.461538\n",
       "4  AtleticoMadrid  2019    22     10       6  0.727273\n",
       "5      RealMadrid  2019    21      5      12  0.809524\n",
       "6     FCBarcelona  2018    28      9       1  0.357143\n",
       "7  AtleticoMadrid  2018    23     10       5  0.652174\n",
       "8      RealMadrid  2018    22     10       6  0.727273"
      ]
     },
     "execution_count": 17,
     "metadata": {},
     "output_type": "execute_result"
    }
   ],
   "source": [
    "# delete column failure\n",
    "df.drop(columns = 'Erase Me')"
   ]
  },
  {
   "cell_type": "markdown",
   "metadata": {},
   "source": [
    "```{caution}\n",
    "The above method has not **actually** changed the original DataFrame yet. In order to do this, you need to overwrite the original DataFrame with the one obtained after running the method.\n",
    "```"
   ]
  },
  {
   "cell_type": "code",
   "execution_count": 18,
   "metadata": {},
   "outputs": [
    {
     "data": {
      "text/html": [
       "<div>\n",
       "<style scoped>\n",
       "    .dataframe tbody tr th:only-of-type {\n",
       "        vertical-align: middle;\n",
       "    }\n",
       "\n",
       "    .dataframe tbody tr th {\n",
       "        vertical-align: top;\n",
       "    }\n",
       "\n",
       "    .dataframe thead th {\n",
       "        text-align: right;\n",
       "    }\n",
       "</style>\n",
       "<table border=\"1\" class=\"dataframe\">\n",
       "  <thead>\n",
       "    <tr style=\"text-align: right;\">\n",
       "      <th></th>\n",
       "      <th>team</th>\n",
       "      <th>year</th>\n",
       "      <th>wins</th>\n",
       "      <th>draws</th>\n",
       "      <th>losses</th>\n",
       "      <th>Erase Me</th>\n",
       "      <th>failure</th>\n",
       "    </tr>\n",
       "  </thead>\n",
       "  <tbody>\n",
       "    <tr>\n",
       "      <th>0</th>\n",
       "      <td>RealMadrid</td>\n",
       "      <td>2020</td>\n",
       "      <td>26</td>\n",
       "      <td>3</td>\n",
       "      <td>3</td>\n",
       "      <td>1</td>\n",
       "      <td>0.230769</td>\n",
       "    </tr>\n",
       "    <tr>\n",
       "      <th>1</th>\n",
       "      <td>FCBarcelona</td>\n",
       "      <td>2020</td>\n",
       "      <td>25</td>\n",
       "      <td>6</td>\n",
       "      <td>6</td>\n",
       "      <td>0</td>\n",
       "      <td>0.480000</td>\n",
       "    </tr>\n",
       "    <tr>\n",
       "      <th>2</th>\n",
       "      <td>Sevilla</td>\n",
       "      <td>2020</td>\n",
       "      <td>19</td>\n",
       "      <td>6</td>\n",
       "      <td>6</td>\n",
       "      <td>1</td>\n",
       "      <td>0.631579</td>\n",
       "    </tr>\n",
       "    <tr>\n",
       "      <th>3</th>\n",
       "      <td>FCBarcelona</td>\n",
       "      <td>2019</td>\n",
       "      <td>26</td>\n",
       "      <td>9</td>\n",
       "      <td>3</td>\n",
       "      <td>0</td>\n",
       "      <td>0.461538</td>\n",
       "    </tr>\n",
       "    <tr>\n",
       "      <th>4</th>\n",
       "      <td>AtleticoMadrid</td>\n",
       "      <td>2019</td>\n",
       "      <td>22</td>\n",
       "      <td>10</td>\n",
       "      <td>6</td>\n",
       "      <td>1</td>\n",
       "      <td>0.727273</td>\n",
       "    </tr>\n",
       "    <tr>\n",
       "      <th>5</th>\n",
       "      <td>RealMadrid</td>\n",
       "      <td>2019</td>\n",
       "      <td>21</td>\n",
       "      <td>5</td>\n",
       "      <td>12</td>\n",
       "      <td>0</td>\n",
       "      <td>0.809524</td>\n",
       "    </tr>\n",
       "    <tr>\n",
       "      <th>6</th>\n",
       "      <td>FCBarcelona</td>\n",
       "      <td>2018</td>\n",
       "      <td>28</td>\n",
       "      <td>9</td>\n",
       "      <td>1</td>\n",
       "      <td>1</td>\n",
       "      <td>0.357143</td>\n",
       "    </tr>\n",
       "    <tr>\n",
       "      <th>7</th>\n",
       "      <td>AtleticoMadrid</td>\n",
       "      <td>2018</td>\n",
       "      <td>23</td>\n",
       "      <td>10</td>\n",
       "      <td>5</td>\n",
       "      <td>0</td>\n",
       "      <td>0.652174</td>\n",
       "    </tr>\n",
       "    <tr>\n",
       "      <th>8</th>\n",
       "      <td>RealMadrid</td>\n",
       "      <td>2018</td>\n",
       "      <td>22</td>\n",
       "      <td>10</td>\n",
       "      <td>6</td>\n",
       "      <td>1</td>\n",
       "      <td>0.727273</td>\n",
       "    </tr>\n",
       "  </tbody>\n",
       "</table>\n",
       "</div>"
      ],
      "text/plain": [
       "             team  year  wins  draws  losses  Erase Me   failure\n",
       "0      RealMadrid  2020    26      3       3         1  0.230769\n",
       "1     FCBarcelona  2020    25      6       6         0  0.480000\n",
       "2         Sevilla  2020    19      6       6         1  0.631579\n",
       "3     FCBarcelona  2019    26      9       3         0  0.461538\n",
       "4  AtleticoMadrid  2019    22     10       6         1  0.727273\n",
       "5      RealMadrid  2019    21      5      12         0  0.809524\n",
       "6     FCBarcelona  2018    28      9       1         1  0.357143\n",
       "7  AtleticoMadrid  2018    23     10       5         0  0.652174\n",
       "8      RealMadrid  2018    22     10       6         1  0.727273"
      ]
     },
     "execution_count": 18,
     "metadata": {},
     "output_type": "execute_result"
    }
   ],
   "source": [
    "df"
   ]
  },
  {
   "cell_type": "code",
   "execution_count": 19,
   "metadata": {},
   "outputs": [
    {
     "data": {
      "text/html": [
       "<div>\n",
       "<style scoped>\n",
       "    .dataframe tbody tr th:only-of-type {\n",
       "        vertical-align: middle;\n",
       "    }\n",
       "\n",
       "    .dataframe tbody tr th {\n",
       "        vertical-align: top;\n",
       "    }\n",
       "\n",
       "    .dataframe thead th {\n",
       "        text-align: right;\n",
       "    }\n",
       "</style>\n",
       "<table border=\"1\" class=\"dataframe\">\n",
       "  <thead>\n",
       "    <tr style=\"text-align: right;\">\n",
       "      <th></th>\n",
       "      <th>team</th>\n",
       "      <th>year</th>\n",
       "      <th>wins</th>\n",
       "      <th>draws</th>\n",
       "      <th>losses</th>\n",
       "      <th>failure</th>\n",
       "    </tr>\n",
       "  </thead>\n",
       "  <tbody>\n",
       "    <tr>\n",
       "      <th>0</th>\n",
       "      <td>RealMadrid</td>\n",
       "      <td>2020</td>\n",
       "      <td>26</td>\n",
       "      <td>3</td>\n",
       "      <td>3</td>\n",
       "      <td>0.230769</td>\n",
       "    </tr>\n",
       "    <tr>\n",
       "      <th>1</th>\n",
       "      <td>FCBarcelona</td>\n",
       "      <td>2020</td>\n",
       "      <td>25</td>\n",
       "      <td>6</td>\n",
       "      <td>6</td>\n",
       "      <td>0.480000</td>\n",
       "    </tr>\n",
       "    <tr>\n",
       "      <th>2</th>\n",
       "      <td>Sevilla</td>\n",
       "      <td>2020</td>\n",
       "      <td>19</td>\n",
       "      <td>6</td>\n",
       "      <td>6</td>\n",
       "      <td>0.631579</td>\n",
       "    </tr>\n",
       "    <tr>\n",
       "      <th>3</th>\n",
       "      <td>FCBarcelona</td>\n",
       "      <td>2019</td>\n",
       "      <td>26</td>\n",
       "      <td>9</td>\n",
       "      <td>3</td>\n",
       "      <td>0.461538</td>\n",
       "    </tr>\n",
       "    <tr>\n",
       "      <th>4</th>\n",
       "      <td>AtleticoMadrid</td>\n",
       "      <td>2019</td>\n",
       "      <td>22</td>\n",
       "      <td>10</td>\n",
       "      <td>6</td>\n",
       "      <td>0.727273</td>\n",
       "    </tr>\n",
       "    <tr>\n",
       "      <th>5</th>\n",
       "      <td>RealMadrid</td>\n",
       "      <td>2019</td>\n",
       "      <td>21</td>\n",
       "      <td>5</td>\n",
       "      <td>12</td>\n",
       "      <td>0.809524</td>\n",
       "    </tr>\n",
       "    <tr>\n",
       "      <th>6</th>\n",
       "      <td>FCBarcelona</td>\n",
       "      <td>2018</td>\n",
       "      <td>28</td>\n",
       "      <td>9</td>\n",
       "      <td>1</td>\n",
       "      <td>0.357143</td>\n",
       "    </tr>\n",
       "    <tr>\n",
       "      <th>7</th>\n",
       "      <td>AtleticoMadrid</td>\n",
       "      <td>2018</td>\n",
       "      <td>23</td>\n",
       "      <td>10</td>\n",
       "      <td>5</td>\n",
       "      <td>0.652174</td>\n",
       "    </tr>\n",
       "    <tr>\n",
       "      <th>8</th>\n",
       "      <td>RealMadrid</td>\n",
       "      <td>2018</td>\n",
       "      <td>22</td>\n",
       "      <td>10</td>\n",
       "      <td>6</td>\n",
       "      <td>0.727273</td>\n",
       "    </tr>\n",
       "  </tbody>\n",
       "</table>\n",
       "</div>"
      ],
      "text/plain": [
       "             team  year  wins  draws  losses   failure\n",
       "0      RealMadrid  2020    26      3       3  0.230769\n",
       "1     FCBarcelona  2020    25      6       6  0.480000\n",
       "2         Sevilla  2020    19      6       6  0.631579\n",
       "3     FCBarcelona  2019    26      9       3  0.461538\n",
       "4  AtleticoMadrid  2019    22     10       6  0.727273\n",
       "5      RealMadrid  2019    21      5      12  0.809524\n",
       "6     FCBarcelona  2018    28      9       1  0.357143\n",
       "7  AtleticoMadrid  2018    23     10       5  0.652174\n",
       "8      RealMadrid  2018    22     10       6  0.727273"
      ]
     },
     "execution_count": 19,
     "metadata": {},
     "output_type": "execute_result"
    }
   ],
   "source": [
    "df = df.drop(columns = 'Erase Me')\n",
    "df"
   ]
  },
  {
   "cell_type": "markdown",
   "metadata": {},
   "source": [
    "### Renaming a Column/s"
   ]
  },
  {
   "cell_type": "markdown",
   "metadata": {},
   "source": [
    "To rename one or several columns we use Pandas' [`.rename()`](https://pandas.pydata.org/pandas-docs/stable/reference/api/pandas.DataFrame.rename.html) method. This method uses a dictionary to 'map' the old name/s to the new one/s."
   ]
  },
  {
   "cell_type": "code",
   "execution_count": 20,
   "metadata": {
    "scrolled": true
   },
   "outputs": [
    {
     "data": {
      "text/html": [
       "<div>\n",
       "<style scoped>\n",
       "    .dataframe tbody tr th:only-of-type {\n",
       "        vertical-align: middle;\n",
       "    }\n",
       "\n",
       "    .dataframe tbody tr th {\n",
       "        vertical-align: top;\n",
       "    }\n",
       "\n",
       "    .dataframe thead th {\n",
       "        text-align: right;\n",
       "    }\n",
       "</style>\n",
       "<table border=\"1\" class=\"dataframe\">\n",
       "  <thead>\n",
       "    <tr style=\"text-align: right;\">\n",
       "      <th></th>\n",
       "      <th>club</th>\n",
       "      <th>year</th>\n",
       "      <th>wins</th>\n",
       "      <th>draws</th>\n",
       "      <th>losses</th>\n",
       "      <th>f-index</th>\n",
       "    </tr>\n",
       "  </thead>\n",
       "  <tbody>\n",
       "    <tr>\n",
       "      <th>0</th>\n",
       "      <td>RealMadrid</td>\n",
       "      <td>2020</td>\n",
       "      <td>26</td>\n",
       "      <td>3</td>\n",
       "      <td>3</td>\n",
       "      <td>0.230769</td>\n",
       "    </tr>\n",
       "    <tr>\n",
       "      <th>1</th>\n",
       "      <td>FCBarcelona</td>\n",
       "      <td>2020</td>\n",
       "      <td>25</td>\n",
       "      <td>6</td>\n",
       "      <td>6</td>\n",
       "      <td>0.480000</td>\n",
       "    </tr>\n",
       "    <tr>\n",
       "      <th>2</th>\n",
       "      <td>Sevilla</td>\n",
       "      <td>2020</td>\n",
       "      <td>19</td>\n",
       "      <td>6</td>\n",
       "      <td>6</td>\n",
       "      <td>0.631579</td>\n",
       "    </tr>\n",
       "    <tr>\n",
       "      <th>3</th>\n",
       "      <td>FCBarcelona</td>\n",
       "      <td>2019</td>\n",
       "      <td>26</td>\n",
       "      <td>9</td>\n",
       "      <td>3</td>\n",
       "      <td>0.461538</td>\n",
       "    </tr>\n",
       "    <tr>\n",
       "      <th>4</th>\n",
       "      <td>AtleticoMadrid</td>\n",
       "      <td>2019</td>\n",
       "      <td>22</td>\n",
       "      <td>10</td>\n",
       "      <td>6</td>\n",
       "      <td>0.727273</td>\n",
       "    </tr>\n",
       "    <tr>\n",
       "      <th>5</th>\n",
       "      <td>RealMadrid</td>\n",
       "      <td>2019</td>\n",
       "      <td>21</td>\n",
       "      <td>5</td>\n",
       "      <td>12</td>\n",
       "      <td>0.809524</td>\n",
       "    </tr>\n",
       "    <tr>\n",
       "      <th>6</th>\n",
       "      <td>FCBarcelona</td>\n",
       "      <td>2018</td>\n",
       "      <td>28</td>\n",
       "      <td>9</td>\n",
       "      <td>1</td>\n",
       "      <td>0.357143</td>\n",
       "    </tr>\n",
       "    <tr>\n",
       "      <th>7</th>\n",
       "      <td>AtleticoMadrid</td>\n",
       "      <td>2018</td>\n",
       "      <td>23</td>\n",
       "      <td>10</td>\n",
       "      <td>5</td>\n",
       "      <td>0.652174</td>\n",
       "    </tr>\n",
       "    <tr>\n",
       "      <th>8</th>\n",
       "      <td>RealMadrid</td>\n",
       "      <td>2018</td>\n",
       "      <td>22</td>\n",
       "      <td>10</td>\n",
       "      <td>6</td>\n",
       "      <td>0.727273</td>\n",
       "    </tr>\n",
       "  </tbody>\n",
       "</table>\n",
       "</div>"
      ],
      "text/plain": [
       "             club  year  wins  draws  losses   f-index\n",
       "0      RealMadrid  2020    26      3       3  0.230769\n",
       "1     FCBarcelona  2020    25      6       6  0.480000\n",
       "2         Sevilla  2020    19      6       6  0.631579\n",
       "3     FCBarcelona  2019    26      9       3  0.461538\n",
       "4  AtleticoMadrid  2019    22     10       6  0.727273\n",
       "5      RealMadrid  2019    21      5      12  0.809524\n",
       "6     FCBarcelona  2018    28      9       1  0.357143\n",
       "7  AtleticoMadrid  2018    23     10       5  0.652174\n",
       "8      RealMadrid  2018    22     10       6  0.727273"
      ]
     },
     "execution_count": 20,
     "metadata": {},
     "output_type": "execute_result"
    }
   ],
   "source": [
    "df.rename(columns = {'team':'club', 'failure':'f-index'})"
   ]
  }
 ],
 "metadata": {
  "colab": {
   "authorship_tag": "ABX9TyNos7oPT+52bZk7G0/IpT7F",
   "collapsed_sections": [
    "k54LaT7J06nu",
    "Di1a6qyx7FLr",
    "BpDjbQqF8GuS"
   ],
   "mount_file_id": "1wCcU-g6iD8SexV4L1idhm3TylfXwZ7Bu",
   "name": "Lab 4.1 - Introduction to Pandas - InstructorCopy.ipynb",
   "provenance": [
    {
     "file_id": "https://github.com/digarlab/graffiti/blob/master/archy5_235/Lab_2_2_Pandas.ipynb",
     "timestamp": 1598473380782
    }
   ]
  },
  "kernelspec": {
   "display_name": "Python 3 (ipykernel)",
   "language": "python",
   "name": "python3"
  },
  "language_info": {
   "codemirror_mode": {
    "name": "ipython",
    "version": 3
   },
   "file_extension": ".py",
   "mimetype": "text/x-python",
   "name": "python",
   "nbconvert_exporter": "python",
   "pygments_lexer": "ipython3",
   "version": "3.12.5"
  }
 },
 "nbformat": 4,
 "nbformat_minor": 4
}
