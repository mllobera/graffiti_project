{
 "cells": [
  {
   "cell_type": "markdown",
   "metadata": {
    "id": "bLUOAZeB68sF"
   },
   "source": [
    "# Numpy"
   ]
  },
  {
   "cell_type": "markdown",
   "metadata": {
    "id": "l7D8sxdDPtWG"
   },
   "source": [
    "[Numpy](https://numpy.org/learn/) (stands for *Num*erical *py*thon) and forms the basis of many other modules/packages. For instance, Pandas on of the main packages we will use in this course depends a lot on Numpy behind the scences. Numpy contains many, many numerical operations and allows us do many operations at the same time.\n",
    "\n",
    "Numpy is one of the most important modules/packages in the Python ecosystem on which many other modules (e.g. Pandas) are built. Numpy is often used in connection with Scipy (*Sci*entific *Py*thon), the main packages where you will find many statistical functions."
   ]
  },
  {
   "cell_type": "markdown",
   "metadata": {
    "id": "eRzrIUtxd84V",
    "tags": []
   },
   "source": [
    "## Numpy *Arrays*"
   ]
  },
  {
   "cell_type": "markdown",
   "metadata": {
    "id": "eRzrIUtxd84V",
    "tags": []
   },
   "source": [
    "The main component of Numpy is the numpy `array`. An `array` is often built from a Python list. It looks like a list but BUT you cannot store elements of different types. Typically an array is used to store (though it can also be used to store strings). On the other hand numpy arrays allow you to do many numerical calculations."
   ]
  },
  {
   "cell_type": "code",
   "execution_count": 35,
   "metadata": {
    "id": "MizCMq1ALKfv"
   },
   "outputs": [],
   "source": [
    "import numpy as np"
   ]
  },
  {
   "cell_type": "code",
   "execution_count": 36,
   "metadata": {
    "id": "fk3YRgKf__NY"
   },
   "outputs": [],
   "source": [
    "# create a simple numerical array\n",
    "a = np.array([2,0,0.25,-3,5])"
   ]
  },
  {
   "cell_type": "markdown",
   "metadata": {},
   "source": [
    "### Properties"
   ]
  },
  {
   "cell_type": "markdown",
   "metadata": {
    "id": "GnjmCd4FANs8"
   },
   "source": [
    "A numpy `array` has a set of properties that we can query, even change some times."
   ]
  },
  {
   "cell_type": "code",
   "execution_count": 37,
   "metadata": {
    "colab": {
     "base_uri": "https://localhost:8080/"
    },
    "id": "KdWD2S3vAYPs",
    "outputId": "226764e2-3c41-4d0b-ced6-d6f50b18688c"
   },
   "outputs": [
    {
     "data": {
      "text/plain": [
       "(5,)"
      ]
     },
     "execution_count": 37,
     "metadata": {},
     "output_type": "execute_result"
    }
   ],
   "source": [
    "# shape of the array?\n",
    "a.shape"
   ]
  },
  {
   "cell_type": "markdown",
   "metadata": {
    "id": "15ejom7uBMeZ"
   },
   "source": [
    "This is telling us that it has 5 elements"
   ]
  },
  {
   "cell_type": "code",
   "execution_count": 38,
   "metadata": {
    "colab": {
     "base_uri": "https://localhost:8080/"
    },
    "id": "h7GIBnR8AjGw",
    "outputId": "1856bb03-a003-4349-c2da-f0a8cf77cded"
   },
   "outputs": [
    {
     "data": {
      "text/plain": [
       "1"
      ]
     },
     "execution_count": 38,
     "metadata": {},
     "output_type": "execute_result"
    }
   ],
   "source": [
    "# dimensions of the array\n",
    "a.ndim"
   ]
  },
  {
   "cell_type": "markdown",
   "metadata": {
    "id": "FumRAC5pBR8x"
   },
   "source": [
    "This is telling us that our array has only one dimension"
   ]
  },
  {
   "cell_type": "code",
   "execution_count": 39,
   "metadata": {
    "colab": {
     "base_uri": "https://localhost:8080/"
    },
    "id": "qRqY9yqEAunA",
    "outputId": "82ec568c-7d1b-4c1c-db9d-d32b947974cd"
   },
   "outputs": [
    {
     "data": {
      "text/plain": [
       "dtype('float64')"
      ]
     },
     "execution_count": 39,
     "metadata": {},
     "output_type": "execute_result"
    }
   ],
   "source": [
    "# array type\n",
    "a.dtype"
   ]
  },
  {
   "cell_type": "markdown",
   "metadata": {
    "id": "61_yHEhDBYD2"
   },
   "source": [
    "This tells us that the array holds floating point values (i.e. decimal numbers) that are 64 bits long (this refers to how much memory we want to use to store the number).\n",
    "\n",
    "Let's consider other examples"
   ]
  },
  {
   "cell_type": "code",
   "execution_count": 40,
   "metadata": {
    "colab": {
     "base_uri": "https://localhost:8080/"
    },
    "id": "XFF95Vr0LKfx",
    "outputId": "e938b489-3634-4e59-dae2-baa0fd88a5e0"
   },
   "outputs": [
    {
     "data": {
      "text/plain": [
       "array([[2, 3],\n",
       "       [4, 5]])"
      ]
     },
     "execution_count": 40,
     "metadata": {},
     "output_type": "execute_result"
    }
   ],
   "source": [
    "# create a 2 x 2 numpy array\n",
    "a = np.array([ [2,3], [4,5] ])\n",
    "a"
   ]
  },
  {
   "cell_type": "markdown",
   "metadata": {},
   "source": [
    "how many dimensions does it have?"
   ]
  },
  {
   "cell_type": "code",
   "execution_count": 41,
   "metadata": {},
   "outputs": [
    {
     "data": {
      "text/plain": [
       "2"
      ]
     },
     "execution_count": 41,
     "metadata": {},
     "output_type": "execute_result"
    }
   ],
   "source": [
    "a.ndim"
   ]
  },
  {
   "cell_type": "markdown",
   "metadata": {},
   "source": [
    "what is its dimensions?"
   ]
  },
  {
   "cell_type": "code",
   "execution_count": 42,
   "metadata": {
    "scrolled": true
   },
   "outputs": [
    {
     "data": {
      "text/plain": [
       "(2, 2)"
      ]
     },
     "execution_count": 42,
     "metadata": {},
     "output_type": "execute_result"
    }
   ],
   "source": [
    "a.shape"
   ]
  },
  {
   "cell_type": "markdown",
   "metadata": {},
   "source": [
    "create an array that holds floating point values 0. to 29."
   ]
  },
  {
   "cell_type": "code",
   "execution_count": 43,
   "metadata": {
    "colab": {
     "base_uri": "https://localhost:8080/"
    },
    "id": "i7jCX6ZyBBA7",
    "outputId": "a49d5c7a-9bf3-43b9-cdb0-a960a44acbb6",
    "scrolled": true
   },
   "outputs": [
    {
     "data": {
      "text/plain": [
       "array([ 0.,  1.,  2.,  3.,  4.,  5.,  6.,  7.,  8.,  9., 10., 11., 12.,\n",
       "       13., 14., 15., 16., 17., 18., 19., 20., 21., 22., 23., 24., 25.,\n",
       "       26., 27., 28., 29.], dtype=float32)"
      ]
     },
     "execution_count": 43,
     "metadata": {},
     "output_type": "execute_result"
    }
   ],
   "source": [
    "a = np.arange(29+1, dtype= np.float32)\n",
    "a"
   ]
  },
  {
   "cell_type": "markdown",
   "metadata": {},
   "source": [
    "reshape the array into a 5x5 array"
   ]
  },
  {
   "cell_type": "code",
   "execution_count": 44,
   "metadata": {
    "colab": {
     "base_uri": "https://localhost:8080/"
    },
    "id": "bwu-WK0pCNdQ",
    "outputId": "2402b620-9f64-4826-d234-2327f7b176da"
   },
   "outputs": [
    {
     "data": {
      "text/plain": [
       "array([[ 0.,  1.,  2.,  3.,  4.],\n",
       "       [ 5.,  6.,  7.,  8.,  9.],\n",
       "       [10., 11., 12., 13., 14.],\n",
       "       [15., 16., 17., 18., 19.],\n",
       "       [20., 21., 22., 23., 24.],\n",
       "       [25., 26., 27., 28., 29.]], dtype=float32)"
      ]
     },
     "execution_count": 44,
     "metadata": {},
     "output_type": "execute_result"
    }
   ],
   "source": [
    "\n",
    "a = a.reshape((6,5)) # or change directly the shape attribute of a, e.g. a.shape= (5,5)\n",
    "a"
   ]
  },
  {
   "cell_type": "markdown",
   "metadata": {},
   "source": [
    "### Parameter `Axis`"
   ]
  },
  {
   "cell_type": "markdown",
   "metadata": {
    "id": "FTcpMklbLKfy"
   },
   "source": [
    "Many numpy functions have a parameter called `axis` (... somewhat confusing):    \n",
    "- to iterate down each column, set `axis = 0`    \n",
    "- to iterate across each row, set `axis = 1`   "
   ]
  },
  {
   "cell_type": "markdown",
   "metadata": {},
   "source": [
    "find minimum of the entire array"
   ]
  },
  {
   "cell_type": "code",
   "execution_count": 45,
   "metadata": {
    "colab": {
     "base_uri": "https://localhost:8080/"
    },
    "id": "Y4YYme4rLKfy",
    "outputId": "6afcf3f3-331c-4acb-f9f0-81093fa39716",
    "scrolled": true
   },
   "outputs": [
    {
     "data": {
      "text/plain": [
       "np.float32(0.0)"
      ]
     },
     "execution_count": 45,
     "metadata": {},
     "output_type": "execute_result"
    }
   ],
   "source": [
    "np.amin(a)"
   ]
  },
  {
   "cell_type": "markdown",
   "metadata": {},
   "source": [
    "find minimum across each row"
   ]
  },
  {
   "cell_type": "code",
   "execution_count": 46,
   "metadata": {},
   "outputs": [
    {
     "data": {
      "text/plain": [
       "array([ 0.,  5., 10., 15., 20., 25.], dtype=float32)"
      ]
     },
     "execution_count": 46,
     "metadata": {},
     "output_type": "execute_result"
    }
   ],
   "source": [
    "np.amin(a, axis=1)"
   ]
  },
  {
   "cell_type": "markdown",
   "metadata": {},
   "source": [
    "sum all values in each column"
   ]
  },
  {
   "cell_type": "code",
   "execution_count": 47,
   "metadata": {},
   "outputs": [
    {
     "data": {
      "text/plain": [
       "array([75., 81., 87., 93., 99.], dtype=float32)"
      ]
     },
     "execution_count": 47,
     "metadata": {},
     "output_type": "execute_result"
    }
   ],
   "source": [
    "np.sum(a, axis= 0)"
   ]
  },
  {
   "cell_type": "markdown",
   "metadata": {},
   "source": [
    "find the mean of each column"
   ]
  },
  {
   "cell_type": "code",
   "execution_count": 48,
   "metadata": {},
   "outputs": [
    {
     "data": {
      "text/plain": [
       "array([12.5, 13.5, 14.5, 15.5, 16.5], dtype=float32)"
      ]
     },
     "execution_count": 48,
     "metadata": {},
     "output_type": "execute_result"
    }
   ],
   "source": [
    "np.mean(a, axis= 0)"
   ]
  },
  {
   "cell_type": "markdown",
   "metadata": {
    "id": "mmpMT0AAi_x3"
   },
   "source": [
    "### **n**ot **a** **n**umber (`np.nan`)"
   ]
  },
  {
   "cell_type": "markdown",
   "metadata": {
    "id": "mmpMT0AAi_x3"
   },
   "source": [
    "**Floating point** numpy arrays have a special code to indicate when an entry is a `null` value. It is important to be familiar with this as many numpy operations will return a `nan` result if a `nan` is among the different entries. This is not an issue right now as we have been generating most of our data but it will be once we start reading files that contain data and are missing some values."
   ]
  },
  {
   "cell_type": "markdown",
   "metadata": {},
   "source": [
    "change value at position (2,2) for a NaN value"
   ]
  },
  {
   "cell_type": "code",
   "execution_count": 49,
   "metadata": {
    "colab": {
     "base_uri": "https://localhost:8080/",
     "height": 102
    },
    "id": "oCsoQpGekck6",
    "outputId": "4bb6dbe0-39f0-46aa-b176-fe1f23acc928"
   },
   "outputs": [
    {
     "data": {
      "text/plain": [
       "array([[ 0.,  1.,  2.,  3.,  4.],\n",
       "       [ 5.,  6.,  7.,  8.,  9.],\n",
       "       [10., 11., nan, 13., 14.],\n",
       "       [15., 16., 17., 18., 19.],\n",
       "       [20., 21., 22., 23., 24.],\n",
       "       [25., 26., 27., 28., 29.]], dtype=float32)"
      ]
     },
     "execution_count": 49,
     "metadata": {},
     "output_type": "execute_result"
    }
   ],
   "source": [
    "# change entry 2,2 to a nan\n",
    "a[2,2] = np.nan\n",
    "a"
   ]
  },
  {
   "cell_type": "markdown",
   "metadata": {},
   "source": [
    "check the array contains any null value"
   ]
  },
  {
   "cell_type": "code",
   "execution_count": 50,
   "metadata": {
    "id": "0isV2HDrLKfz",
    "outputId": "1519c83d-8a5b-4efe-e50d-7842b1bcf5a7"
   },
   "outputs": [
    {
     "data": {
      "text/plain": [
       "np.True_"
      ]
     },
     "execution_count": 50,
     "metadata": {},
     "output_type": "execute_result"
    }
   ],
   "source": [
    "# check if any is NaN  -all, any\n",
    "np.any(np.isnan(a))"
   ]
  },
  {
   "cell_type": "markdown",
   "metadata": {},
   "source": [
    "check if any column contains a null value"
   ]
  },
  {
   "cell_type": "code",
   "execution_count": 51,
   "metadata": {},
   "outputs": [
    {
     "data": {
      "text/plain": [
       "array([False, False,  True, False, False])"
      ]
     },
     "execution_count": 51,
     "metadata": {},
     "output_type": "execute_result"
    }
   ],
   "source": [
    "# NEW CELL\n",
    "np.any(np.isnan(a), axis=0)"
   ]
  },
  {
   "cell_type": "markdown",
   "metadata": {},
   "source": [
    "calculate the mean for the entire array"
   ]
  },
  {
   "cell_type": "code",
   "execution_count": 52,
   "metadata": {
    "colab": {
     "base_uri": "https://localhost:8080/",
     "height": 34
    },
    "id": "aVuyS-FUlhpm",
    "jupyter": {
     "source_hidden": true
    },
    "outputId": "2973bd3e-07c1-44bd-90b8-f2b37f0c3762"
   },
   "outputs": [
    {
     "data": {
      "text/plain": [
       "np.float32(nan)"
      ]
     },
     "execution_count": 52,
     "metadata": {},
     "output_type": "execute_result"
    }
   ],
   "source": [
    "# mean of the entire array\n",
    "np.mean(a)"
   ]
  },
  {
   "cell_type": "code",
   "execution_count": 53,
   "metadata": {
    "colab": {
     "base_uri": "https://localhost:8080/",
     "height": 34
    },
    "id": "rLLZv0BrlpPO",
    "outputId": "481b3014-b271-4349-f165-58f9e67ecde1"
   },
   "outputs": [
    {
     "data": {
      "text/plain": [
       "array([ 2.,  7., nan, 17., 22., 27.], dtype=float32)"
      ]
     },
     "execution_count": 53,
     "metadata": {},
     "output_type": "execute_result"
    }
   ],
   "source": [
    "# mean of each row\n",
    "np.mean(a, axis= 1)"
   ]
  },
  {
   "cell_type": "markdown",
   "metadata": {
    "id": "t756QyrBl-Ed"
   },
   "source": [
    "Whenever we encounter a `nan` we did not get a result. There are several ways we can deal with this. Depending on the operation, you could substitute the `nan` for some value like 0. Though this may not always work (e.g. if you are multiplying values). Another way is to use a different version of the operation, one that can handle `nans` values."
   ]
  },
  {
   "cell_type": "code",
   "execution_count": 54,
   "metadata": {
    "colab": {
     "base_uri": "https://localhost:8080/",
     "height": 34
    },
    "id": "VDPuI4-3mgRa",
    "outputId": "03279594-973e-49e7-c531-9ed2d3bceb7f"
   },
   "outputs": [
    {
     "data": {
      "text/plain": [
       "np.float32(14.586206)"
      ]
     },
     "execution_count": 54,
     "metadata": {},
     "output_type": "execute_result"
    }
   ],
   "source": [
    "# mean of the entire array\n",
    "np.nanmean(a)"
   ]
  },
  {
   "cell_type": "code",
   "execution_count": 55,
   "metadata": {
    "colab": {
     "base_uri": "https://localhost:8080/",
     "height": 34
    },
    "id": "B6i8GtNTnjZ9",
    "outputId": "95b3070e-0f8e-487a-cfe4-509157b9b377"
   },
   "outputs": [
    {
     "data": {
      "text/plain": [
       "array([ 2.,  7., 12., 17., 22., 27.], dtype=float32)"
      ]
     },
     "execution_count": 55,
     "metadata": {},
     "output_type": "execute_result"
    }
   ],
   "source": [
    "# mean of each row\n",
    "np.nanmean(a, axis= 1)"
   ]
  },
  {
   "cell_type": "markdown",
   "metadata": {
    "id": "2N8SLlyyLKf0"
   },
   "source": [
    "### Simple indexing"
   ]
  },
  {
   "cell_type": "markdown",
   "metadata": {
    "id": "2N8SLlyyLKf0"
   },
   "source": [
    "    \n",
    "Items in a 2D array are referenced by their position:  *arr*\\[**row**, **column**]"
   ]
  },
  {
   "cell_type": "code",
   "execution_count": 56,
   "metadata": {
    "colab": {
     "base_uri": "https://localhost:8080/",
     "height": 102
    },
    "id": "QEQ0noyCbNTw",
    "outputId": "75955eb7-36c7-4ae5-c4b0-221e407f1dc2"
   },
   "outputs": [
    {
     "data": {
      "text/plain": [
       "array([[ 0.,  1.,  2.,  3.,  4.],\n",
       "       [ 5.,  6.,  7.,  8.,  9.],\n",
       "       [10., 11., 12., 13., 14.],\n",
       "       [15., 16., 17., 18., 19.],\n",
       "       [20., 21., 22., 23., 24.],\n",
       "       [25., 26., 27., 28., 29.]], dtype=float32)"
      ]
     },
     "execution_count": 56,
     "metadata": {},
     "output_type": "execute_result"
    }
   ],
   "source": [
    "# restore item in a at 2,2 back to 12\n",
    "a[2,2] = 12.0\n",
    "a"
   ]
  },
  {
   "cell_type": "markdown",
   "metadata": {
    "id": "IhXGPxUGLKf0"
   },
   "source": [
    "```{note}\n",
    "Arrays position start at 0\n",
    "```"
   ]
  },
  {
   "cell_type": "markdown",
   "metadata": {},
   "source": [
    "return items in second row and third column"
   ]
  },
  {
   "cell_type": "code",
   "execution_count": 57,
   "metadata": {
    "colab": {
     "base_uri": "https://localhost:8080/",
     "height": 34
    },
    "id": "pqok4TecE-kd",
    "outputId": "d1d3201a-e16a-4530-95d8-e7dbf4dbdabe"
   },
   "outputs": [
    {
     "data": {
      "text/plain": [
       "np.float32(7.0)"
      ]
     },
     "execution_count": 57,
     "metadata": {},
     "output_type": "execute_result"
    }
   ],
   "source": [
    "a[1,2]"
   ]
  },
  {
   "cell_type": "markdown",
   "metadata": {
    "id": "M8OuG1sVDOwc",
    "tags": []
   },
   "source": [
    "### Slicing\n",
    "Elements inside an `array`can be accessed and selected in many ways. Things can become complicated if you are dealing with arrays that have more than two dimensions. Luckily for us, this seldom occurs. Same as with a `list` numpy arrays can be sliced."
   ]
  },
  {
   "cell_type": "markdown",
   "metadata": {},
   "source": [
    "```{image} ../../images/slice.png\n",
    ":align: center\n",
    "```"
   ]
  },
  {
   "cell_type": "markdown",
   "metadata": {
    "id": "Qiu8iVNWFrta"
   },
   "source": [
    "1. *start*: the position of the first item first to be included in the slice.   \n",
    "2. *stop*: the position of the last entry THIS ELEMENT IS NOT INCLUDED    \n",
    "3. *step*: how many positions we want to jump.    \n"
   ]
  },
  {
   "cell_type": "markdown",
   "metadata": {},
   "source": [
    "return top 3x3 values,"
   ]
  },
  {
   "cell_type": "code",
   "execution_count": 87,
   "metadata": {
    "scrolled": true
   },
   "outputs": [
    {
     "data": {
      "text/plain": [
       "array([[ 0.,  1.,  2.],\n",
       "       [ 5.,  6.,  7.],\n",
       "       [10., 11., 12.]], dtype=float32)"
      ]
     },
     "execution_count": 87,
     "metadata": {},
     "output_type": "execute_result"
    }
   ],
   "source": [
    "a[0:3,0:3]"
   ]
  },
  {
   "cell_type": "markdown",
   "metadata": {},
   "source": [
    "return lower 3x3 values,"
   ]
  },
  {
   "cell_type": "code",
   "execution_count": 88,
   "metadata": {},
   "outputs": [
    {
     "data": {
      "text/plain": [
       "array([[17., 18., 19.],\n",
       "       [22., 23., 24.],\n",
       "       [27., 28., 29.]], dtype=float32)"
      ]
     },
     "execution_count": 88,
     "metadata": {},
     "output_type": "execute_result"
    }
   ],
   "source": [
    "# return lower 3x3 values\n",
    "a[3:6,2:6]"
   ]
  },
  {
   "cell_type": "markdown",
   "metadata": {},
   "source": [
    "return lower 3x3 values,"
   ]
  },
  {
   "cell_type": "code",
   "execution_count": 89,
   "metadata": {},
   "outputs": [
    {
     "data": {
      "text/plain": [
       "array([[17., 18., 19.],\n",
       "       [22., 23., 24.],\n",
       "       [27., 28., 29.]], dtype=float32)"
      ]
     },
     "execution_count": 89,
     "metadata": {},
     "output_type": "execute_result"
    }
   ],
   "source": [
    "# return lower 3x3 values \n",
    "a[-3:,-3:] # -3:6. -3,6"
   ]
  },
  {
   "cell_type": "markdown",
   "metadata": {},
   "source": [
    "As with Python Lists, use a **colon**  `':'` to represent an entire row/column "
   ]
  },
  {
   "cell_type": "markdown",
   "metadata": {},
   "source": [
    "return the entire second row"
   ]
  },
  {
   "cell_type": "code",
   "execution_count": 90,
   "metadata": {
    "colab": {
     "base_uri": "https://localhost:8080/",
     "height": 34
    },
    "id": "c79P1QSPC1-C",
    "outputId": "74b1d48e-e35a-41ff-9113-aa97890c1374",
    "scrolled": true
   },
   "outputs": [
    {
     "data": {
      "text/plain": [
       "array([5., 6., 7., 8., 9.], dtype=float32)"
      ]
     },
     "execution_count": 90,
     "metadata": {},
     "output_type": "execute_result"
    }
   ],
   "source": [
    "a[1,:]"
   ]
  },
  {
   "cell_type": "markdown",
   "metadata": {},
   "source": [
    "return the entire first column"
   ]
  },
  {
   "cell_type": "code",
   "execution_count": 91,
   "metadata": {
    "colab": {
     "base_uri": "https://localhost:8080/"
    },
    "id": "VUj7JNiIb_Vs",
    "outputId": "acb9817e-f696-49ef-d2d8-474a1efcd978"
   },
   "outputs": [
    {
     "data": {
      "text/plain": [
       "array([0., 1., 2., 3., 4.], dtype=float32)"
      ]
     },
     "execution_count": 91,
     "metadata": {},
     "output_type": "execute_result"
    }
   ],
   "source": [
    "a[0,:]"
   ]
  },
  {
   "cell_type": "markdown",
   "metadata": {},
   "source": [
    "return the entire last column"
   ]
  },
  {
   "cell_type": "code",
   "execution_count": 92,
   "metadata": {
    "colab": {
     "base_uri": "https://localhost:8080/"
    },
    "id": "1e6U0W-9cK8z",
    "outputId": "cd2a1266-9cab-473b-ef8f-221a5dceed21"
   },
   "outputs": [
    {
     "data": {
      "text/plain": [
       "array([ 4.,  9., 14., 19., 24., 29.], dtype=float32)"
      ]
     },
     "execution_count": 92,
     "metadata": {},
     "output_type": "execute_result"
    }
   ],
   "source": [
    "a[:,-1]"
   ]
  },
  {
   "cell_type": "markdown",
   "metadata": {},
   "source": [
    "return all rows from the entire second column onwards "
   ]
  },
  {
   "cell_type": "code",
   "execution_count": 93,
   "metadata": {
    "colab": {
     "base_uri": "https://localhost:8080/"
    },
    "id": "Y93_f4pmcLGw",
    "outputId": "f80c1bd9-4c5c-4720-cf63-72b813354138"
   },
   "outputs": [
    {
     "data": {
      "text/plain": [
       "array([[10., 11., 12., 13., 14.],\n",
       "       [15., 16., 17., 18., 19.],\n",
       "       [20., 21., 22., 23., 24.],\n",
       "       [25., 26., 27., 28., 29.]], dtype=float32)"
      ]
     },
     "execution_count": 93,
     "metadata": {},
     "output_type": "execute_result"
    }
   ],
   "source": [
    "a[2:,:]"
   ]
  },
  {
   "cell_type": "markdown",
   "metadata": {},
   "source": [
    "return entries betweeen the first three(2+1) rows and first two columns(1+1)"
   ]
  },
  {
   "cell_type": "code",
   "execution_count": 94,
   "metadata": {
    "colab": {
     "base_uri": "https://localhost:8080/",
     "height": 68
    },
    "id": "t8RB-A8RKJks",
    "outputId": "8d013132-da17-4c25-f93e-76cb93ee0b99"
   },
   "outputs": [
    {
     "data": {
      "text/plain": [
       "array([[ 0.,  1.],\n",
       "       [ 5.,  6.],\n",
       "       [10., 11.]], dtype=float32)"
      ]
     },
     "execution_count": 94,
     "metadata": {},
     "output_type": "execute_result"
    }
   ],
   "source": [
    "a[:3, :2]"
   ]
  },
  {
   "cell_type": "markdown",
   "metadata": {},
   "source": [
    "return entries betweeen row 3 onwards and column 2 onwards"
   ]
  },
  {
   "cell_type": "code",
   "execution_count": 95,
   "metadata": {
    "colab": {
     "base_uri": "https://localhost:8080/",
     "height": 51
    },
    "id": "6hr91iDDKPiS",
    "outputId": "116e75d7-7f5e-46c6-c485-6e17dd0dc918"
   },
   "outputs": [
    {
     "data": {
      "text/plain": [
       "array([[17., 18., 19.],\n",
       "       [22., 23., 24.],\n",
       "       [27., 28., 29.]], dtype=float32)"
      ]
     },
     "execution_count": 95,
     "metadata": {},
     "output_type": "execute_result"
    }
   ],
   "source": [
    "a[3:, 2:]"
   ]
  },
  {
   "cell_type": "markdown",
   "metadata": {},
   "source": [
    "return block of items from 2,2 to 5,5"
   ]
  },
  {
   "cell_type": "code",
   "execution_count": 96,
   "metadata": {
    "colab": {
     "base_uri": "https://localhost:8080/",
     "height": 68
    },
    "id": "KbAdCTqSFPk4",
    "outputId": "f9a70216-8096-447c-c631-3aa3d46cd030",
    "scrolled": true
   },
   "outputs": [
    {
     "data": {
      "text/plain": [
       "array([[12., 13., 14.],\n",
       "       [17., 18., 19.],\n",
       "       [22., 23., 24.],\n",
       "       [27., 28., 29.]], dtype=float32)"
      ]
     },
     "execution_count": 96,
     "metadata": {},
     "output_type": "execute_result"
    }
   ],
   "source": [
    "a[2:6, 2:6]"
   ]
  },
  {
   "cell_type": "markdown",
   "metadata": {},
   "source": [
    "generate flatten (one-dimensional) views of an array"
   ]
  },
  {
   "cell_type": "code",
   "execution_count": 97,
   "metadata": {
    "colab": {
     "base_uri": "https://localhost:8080/",
     "height": 85
    },
    "id": "ffifJJo4IfYV",
    "outputId": "b1c24f3f-1a65-48f7-da32-4eba6798dcab"
   },
   "outputs": [
    {
     "data": {
      "text/plain": [
       "array([ 0.,  1.,  2.,  3.,  4.,  5.,  6.,  7.,  8.,  9., 10., 11., 12.,\n",
       "       13., 14., 15., 16., 17., 18., 19., 20., 21., 22., 23., 24., 25.,\n",
       "       26., 27., 28., 29.], dtype=float32)"
      ]
     },
     "execution_count": 97,
     "metadata": {},
     "output_type": "execute_result"
    }
   ],
   "source": [
    "a.flatten() # copy, slower"
   ]
  },
  {
   "cell_type": "code",
   "execution_count": 98,
   "metadata": {
    "colab": {
     "base_uri": "https://localhost:8080/",
     "height": 102
    },
    "id": "LfI_1XR5X0Sa",
    "outputId": "cee1afcb-c7d2-4ff5-9162-3c6518b9523b",
    "scrolled": true
   },
   "outputs": [
    {
     "data": {
      "text/plain": [
       "array([ 0.,  1.,  2.,  3.,  4.,  5.,  6.,  7.,  8.,  9., 10., 11., 12.,\n",
       "       13., 14., 15., 16., 17., 18., 19., 20., 21., 22., 23., 24., 25.,\n",
       "       26., 27., 28., 29.], dtype=float32)"
      ]
     },
     "execution_count": 98,
     "metadata": {},
     "output_type": "execute_result"
    }
   ],
   "source": [
    "a.ravel() # view, faster"
   ]
  },
  {
   "cell_type": "markdown",
   "metadata": {},
   "source": [
    "### Fancy Indexing"
   ]
  },
  {
   "cell_type": "markdown",
   "metadata": {},
   "source": [
    "Numpy allows you to index arrays using Python List or other Numpy Arrays. "
   ]
  },
  {
   "cell_type": "markdown",
   "metadata": {},
   "source": [
    "Return items at each (r,c) position when r and c come from combining these rows [0,3,4] with these columns [1,3,2]. \n",
    "Return the items in [0,1], [3,3], [4, 2]"
   ]
  },
  {
   "cell_type": "code",
   "execution_count": 70,
   "metadata": {
    "colab": {
     "base_uri": "https://localhost:8080/",
     "height": 34
    },
    "id": "yNvf2Ss0JaJi",
    "outputId": "e5453f9d-a511-4985-ba34-272ca694ce07"
   },
   "outputs": [
    {
     "data": {
      "text/plain": [
       "array([ 1., 18., 22.], dtype=float32)"
      ]
     },
     "execution_count": 70,
     "metadata": {},
     "output_type": "execute_result"
    }
   ],
   "source": [
    "rows = [0,3,4]\n",
    "cols = [1,3,2]\n",
    "a[rows,cols]"
   ]
  },
  {
   "cell_type": "markdown",
   "metadata": {
    "id": "9X9rcpidg4nl"
   },
   "source": [
    "We can generate more sophisticated selection schemes using [comparison and  logical operators](https://www.w3schools.com/python/python_operators.asp). We will discuss some of them later in the course."
   ]
  },
  {
   "cell_type": "code",
   "execution_count": 71,
   "metadata": {
    "colab": {
     "base_uri": "https://localhost:8080/",
     "height": 187
    },
    "id": "8o4xTl0EYe2Y",
    "outputId": "f52f0a80-ef8b-4d65-fd6e-d1d87ede4c09"
   },
   "outputs": [],
   "source": [
    "# create a number generator\n",
    "ng = np.random.default_rng(2021)"
   ]
  },
  {
   "cell_type": "markdown",
   "metadata": {},
   "source": [
    "create a numpy array with 10 rows and 2 columns full of random values between 0-1"
   ]
  },
  {
   "cell_type": "code",
   "execution_count": 72,
   "metadata": {
    "colab": {
     "base_uri": "https://localhost:8080/",
     "height": 187
    },
    "id": "8o4xTl0EYe2Y",
    "outputId": "f52f0a80-ef8b-4d65-fd6e-d1d87ede4c09",
    "scrolled": true
   },
   "outputs": [
    {
     "data": {
      "text/plain": [
       "array([[0.75694783, 0.94138187],\n",
       "       [0.59246304, 0.31884171],\n",
       "       [0.62607384, 0.03551387],\n",
       "       [0.25212696, 0.48501366],\n",
       "       [0.30126688, 0.72195094],\n",
       "       [0.92989066, 0.90823581],\n",
       "       [0.08495856, 0.27036617],\n",
       "       [0.97168176, 0.26015007],\n",
       "       [0.80052031, 0.79827865],\n",
       "       [0.6425692 , 0.66806864]])"
      ]
     },
     "execution_count": 72,
     "metadata": {},
     "output_type": "execute_result"
    }
   ],
   "source": [
    "b = ng.random( (10,2))\n",
    "b"
   ]
  },
  {
   "cell_type": "markdown",
   "metadata": {},
   "source": [
    "select all of those that are greater than 0.5"
   ]
  },
  {
   "cell_type": "code",
   "execution_count": 73,
   "metadata": {
    "colab": {
     "base_uri": "https://localhost:8080/",
     "height": 187
    },
    "id": "6IACiwt_ZCcH",
    "outputId": "2aeccfe9-59b1-4b4c-bd85-84c4d5ddd64c"
   },
   "outputs": [
    {
     "data": {
      "text/plain": [
       "array([[ True,  True],\n",
       "       [ True, False],\n",
       "       [ True, False],\n",
       "       [False, False],\n",
       "       [False,  True],\n",
       "       [ True,  True],\n",
       "       [False, False],\n",
       "       [ True, False],\n",
       "       [ True,  True],\n",
       "       [ True,  True]])"
      ]
     },
     "execution_count": 73,
     "metadata": {},
     "output_type": "execute_result"
    }
   ],
   "source": [
    "gt05 = b > 0.5\n",
    "gt05"
   ]
  },
  {
   "cell_type": "markdown",
   "metadata": {
    "id": "31BCHPN4B0Fa"
   },
   "source": [
    "Numpy returns [boolean](https://www.w3schools.com/python/python_booleans.asp) array as a result. This is an array where entries can only have two values, **True** or **False**. Because this array is of the same size than b we are able to use it as an index of b. Next, we return values that are greater than 0.5"
   ]
  },
  {
   "cell_type": "code",
   "execution_count": 74,
   "metadata": {
    "colab": {
     "base_uri": "https://localhost:8080/",
     "height": 68
    },
    "id": "niKYQYwrLtzZ",
    "outputId": "7dbe2c35-c551-44f9-dd98-b9574eb35526"
   },
   "outputs": [
    {
     "data": {
      "text/plain": [
       "array([0.75694783, 0.94138187, 0.59246304, 0.62607384, 0.72195094,\n",
       "       0.92989066, 0.90823581, 0.97168176, 0.80052031, 0.79827865,\n",
       "       0.6425692 , 0.66806864])"
      ]
     },
     "execution_count": 74,
     "metadata": {},
     "output_type": "execute_result"
    }
   ],
   "source": [
    "b[gt05]"
   ]
  },
  {
   "cell_type": "markdown",
   "metadata": {
    "id": "IMZzci9uaoXy"
   },
   "source": [
    "This in turn can allow us to do more sophisticated selections,"
   ]
  },
  {
   "cell_type": "code",
   "execution_count": 75,
   "metadata": {
    "id": "QshUVX_xLKf5",
    "outputId": "7f824162-4077-4efd-d23d-19ffcbef0107"
   },
   "outputs": [
    {
     "data": {
      "text/plain": [
       "array([[ True,  True],\n",
       "       [ True,  True],\n",
       "       [ True, False],\n",
       "       [ True,  True],\n",
       "       [ True,  True],\n",
       "       [ True,  True],\n",
       "       [False,  True],\n",
       "       [ True,  True],\n",
       "       [ True,  True],\n",
       "       [ True,  True]])"
      ]
     },
     "execution_count": 75,
     "metadata": {},
     "output_type": "execute_result"
    }
   ],
   "source": [
    "criterion1 = b > 0.25\n",
    "criterion1"
   ]
  },
  {
   "cell_type": "code",
   "execution_count": 76,
   "metadata": {
    "id": "BHHH4nX7LKf5",
    "outputId": "c534f651-660a-4483-d835-29a50a0010ea"
   },
   "outputs": [
    {
     "data": {
      "text/plain": [
       "array([[False, False],\n",
       "       [ True,  True],\n",
       "       [ True,  True],\n",
       "       [ True,  True],\n",
       "       [ True,  True],\n",
       "       [False, False],\n",
       "       [ True,  True],\n",
       "       [False,  True],\n",
       "       [False, False],\n",
       "       [ True,  True]])"
      ]
     },
     "execution_count": 76,
     "metadata": {},
     "output_type": "execute_result"
    }
   ],
   "source": [
    "criterion2 = b < 0.75\n",
    "criterion2"
   ]
  },
  {
   "cell_type": "code",
   "execution_count": 77,
   "metadata": {
    "id": "FyCRovB8LKf5",
    "outputId": "29ead7b8-81a7-48da-a33a-74461cbbde45"
   },
   "outputs": [
    {
     "data": {
      "text/plain": [
       "array([[False, False],\n",
       "       [ True,  True],\n",
       "       [ True, False],\n",
       "       [ True,  True],\n",
       "       [ True,  True],\n",
       "       [False, False],\n",
       "       [False,  True],\n",
       "       [False,  True],\n",
       "       [False, False],\n",
       "       [ True,  True]])"
      ]
     },
     "execution_count": 77,
     "metadata": {},
     "output_type": "execute_result"
    }
   ],
   "source": [
    "criteria = criterion1 & criterion2\n",
    "criteria"
   ]
  },
  {
   "cell_type": "code",
   "execution_count": 78,
   "metadata": {},
   "outputs": [
    {
     "data": {
      "text/plain": [
       "array([[False, False],\n",
       "       [ True,  True],\n",
       "       [ True, False],\n",
       "       [ True,  True],\n",
       "       [ True,  True],\n",
       "       [False, False],\n",
       "       [False,  True],\n",
       "       [False,  True],\n",
       "       [False, False],\n",
       "       [ True,  True]])"
      ]
     },
     "execution_count": 78,
     "metadata": {},
     "output_type": "execute_result"
    }
   ],
   "source": [
    "np.logical_and(criterion1, criterion2)"
   ]
  },
  {
   "cell_type": "code",
   "execution_count": 79,
   "metadata": {
    "id": "LsxPIJ93LKf5",
    "outputId": "b4bdca13-a3ad-48f6-8bfd-bc9f98916895"
   },
   "outputs": [
    {
     "data": {
      "text/plain": [
       "array([0.59246304, 0.31884171, 0.62607384, 0.25212696, 0.48501366,\n",
       "       0.30126688, 0.72195094, 0.27036617, 0.26015007, 0.6425692 ,\n",
       "       0.66806864])"
      ]
     },
     "execution_count": 79,
     "metadata": {},
     "output_type": "execute_result"
    }
   ],
   "source": [
    "b[criteria]"
   ]
  },
  {
   "cell_type": "markdown",
   "metadata": {},
   "source": [
    "We can combine all of the above in a single line,"
   ]
  },
  {
   "cell_type": "code",
   "execution_count": 80,
   "metadata": {
    "colab": {
     "base_uri": "https://localhost:8080/",
     "height": 51
    },
    "id": "671VhT8KMKRX",
    "outputId": "554a1abd-6f42-45cc-ee32-f13f4d0ddd23"
   },
   "outputs": [
    {
     "data": {
      "text/plain": [
       "array([0.59246304, 0.31884171, 0.62607384, 0.25212696, 0.48501366,\n",
       "       0.30126688, 0.72195094, 0.27036617, 0.26015007, 0.6425692 ,\n",
       "       0.66806864])"
      ]
     },
     "execution_count": 80,
     "metadata": {},
     "output_type": "execute_result"
    }
   ],
   "source": [
    "# return all entries that are greater than 0.25 and less than 0.75\n",
    "b[ (b>0.25) & (b<0.75)]"
   ]
  },
  {
   "cell_type": "markdown",
   "metadata": {
    "id": "PuiMx6E5bOqI",
    "tags": []
   },
   "source": [
    "### Array operations\n",
    "\n",
    "One of the largest benefits of using arrays is that we can do operations *with* them. As a result we are able to do many calculations in a fraction of a second.\n",
    "\n",
    "Let's consider the following operation:\n",
    "$$ area = width \\cdot height$$"
   ]
  },
  {
   "cell_type": "code",
   "execution_count": 81,
   "metadata": {
    "colab": {
     "base_uri": "https://localhost:8080/"
    },
    "id": "2zY21GlIM5vb",
    "outputId": "6c32e135-38ce-4b42-88a3-1fbc8a29fed3"
   },
   "outputs": [],
   "source": [
    "# select a large number\n",
    "N= 1000000"
   ]
  },
  {
   "cell_type": "code",
   "execution_count": 82,
   "metadata": {},
   "outputs": [
    {
     "data": {
      "text/plain": [
       "(1000000, 1000000, 1000000)"
      ]
     },
     "execution_count": 82,
     "metadata": {},
     "output_type": "execute_result"
    }
   ],
   "source": [
    "# create a number generator\n",
    "rg= np.random.default_rng(2023)\n",
    "\n",
    "# random widths between 5 and 25 of one million datapoints\n",
    "width = rg.uniform(5, 25, size= N)\n",
    "\n",
    "# random heights between 10 and 100 of one million datapoints\n",
    "height = rg.uniform(10, 100, size= N)\n",
    "\n",
    "#calculate the area\n",
    "area = width * height\n",
    "\n",
    "len(width), len(height), len(area)"
   ]
  },
  {
   "cell_type": "code",
   "execution_count": 83,
   "metadata": {
    "colab": {
     "base_uri": "https://localhost:8080/"
    },
    "id": "hdxX6qruotl0",
    "outputId": "87ea0dd4-6c0e-4ba1-9bb8-ff6245eabd6e"
   },
   "outputs": [
    {
     "data": {
      "text/plain": [
       "array([ 265.19134798,  238.57331715,  674.04844159,  412.1534066 ,\n",
       "       1590.02215564, 1180.29305652, 1938.54652793,  857.93025482,\n",
       "        400.40868646,  319.8115903 ,  849.23933716, 1151.01637437,\n",
       "        491.90510865, 1206.33553037,  639.03426375,  264.63747376,\n",
       "        489.50078888, 1046.18099141,  657.64652892,  919.33889369])"
      ]
     },
     "execution_count": 83,
     "metadata": {},
     "output_type": "execute_result"
    }
   ],
   "source": [
    "# Show the first 20 areas\n",
    "area[0:20]"
   ]
  },
  {
   "cell_type": "markdown",
   "metadata": {},
   "source": [
    "Compare the above calculation with the following one done by using a for-loop to iterate through each calculation."
   ]
  },
  {
   "cell_type": "code",
   "execution_count": 84,
   "metadata": {
    "id": "1mVkgZBFdwSQ"
   },
   "outputs": [],
   "source": [
    "# create a number generator\n",
    "rg= np.random.default_rng(2023)\n",
    "\n",
    "# initialize area list to an empty list\n",
    "area2=[]\n",
    "\n",
    "for i in range(N):\n",
    "    # random widths between 5 and 25\n",
    "    width = rg.uniform(5, 25, 1)\n",
    "\n",
    "    # random heights between 10 and 100 of one million datapoints\n",
    "    height = rg.uniform(10, 100, 1)\n",
    "\n",
    "    #calculate the area\n",
    "    temp = width * height\n",
    "    area2 += [temp[0]]"
   ]
  },
  {
   "cell_type": "code",
   "execution_count": 85,
   "metadata": {
    "colab": {
     "base_uri": "https://localhost:8080/"
    },
    "id": "MnlAVaosecQ5",
    "outputId": "248e45e1-abf3-4796-b95d-7d2a8dd0250f"
   },
   "outputs": [
    {
     "data": {
      "text/plain": [
       "[np.float64(201.74822114592902),\n",
       " np.float64(362.20463045605027),\n",
       " np.float64(1120.8141987479803),\n",
       " np.float64(1267.681410784116),\n",
       " np.float64(540.5322602417758),\n",
       " np.float64(1306.5456880430643),\n",
       " np.float64(564.2977038789402),\n",
       " np.float64(934.6076464376883),\n",
       " np.float64(781.2913099338399),\n",
       " np.float64(1091.6196496595753),\n",
       " np.float64(981.6887538544491),\n",
       " np.float64(1308.6533310301277),\n",
       " np.float64(873.0606154138706),\n",
       " np.float64(1718.6202277814525),\n",
       " np.float64(725.6347420444179),\n",
       " np.float64(2060.7186795472016),\n",
       " np.float64(1539.426532206244),\n",
       " np.float64(525.3725149370016),\n",
       " np.float64(2107.389651154456),\n",
       " np.float64(439.4605647072959)]"
      ]
     },
     "execution_count": 85,
     "metadata": {},
     "output_type": "execute_result"
    }
   ],
   "source": [
    "area2[:20]"
   ]
  },
  {
   "cell_type": "markdown",
   "metadata": {
    "id": "dulfRsSAe2Fl"
   },
   "source": [
    "There are a **very large** large number of operations that you can do on [arrays](https://numpy.org/doc/stable/reference/index.html). There is a good chance that most of the operations you may want to every use (statistical, logical, so on) already exist. So before you write any code you may want to do a search on google."
   ]
  },
  {
   "cell_type": "code",
   "execution_count": 86,
   "metadata": {
    "colab": {
     "base_uri": "https://localhost:8080/",
     "height": 136
    },
    "id": "j1uV4MTyhNNB",
    "outputId": "8c2f5d53-60c8-4da7-d9a3-ab4103abf1bf"
   },
   "outputs": [
    {
     "name": "stdout",
     "output_type": "stream",
     "text": [
      "\n",
      "Mean, median and standard deviation of areas 823.8399779422148 706.1332157576957 524.0912191467664\n",
      "\n",
      "25th and 75th percentile of the area [ 402.54295455 1157.8861751 ]\n",
      "\n",
      "Minimum and maximum of area 50.312094665273946 2496.6397983577444\n"
     ]
    }
   ],
   "source": [
    "print('\\nMean, median and standard deviation of areas', np.mean(area), np.median(area), np.std(area))\n",
    "print('\\n25th and 75th percentile of the area', np.percentile(area, [25,75]))\n",
    "print('\\nMinimum and maximum of area', np.min(area), np.max(area))"
   ]
  }
 ],
 "metadata": {
  "colab": {
   "provenance": []
  },
  "kernelspec": {
   "display_name": "Python 3 (ipykernel)",
   "language": "python",
   "name": "python3"
  },
  "language_info": {
   "codemirror_mode": {
    "name": "ipython",
    "version": 3
   },
   "file_extension": ".py",
   "mimetype": "text/x-python",
   "name": "python",
   "nbconvert_exporter": "python",
   "pygments_lexer": "ipython3",
   "version": "3.12.5"
  },
  "toc-autonumbering": false,
  "toc-showcode": false,
  "toc-showmarkdowntxt": false
 },
 "nbformat": 4,
 "nbformat_minor": 4
}
