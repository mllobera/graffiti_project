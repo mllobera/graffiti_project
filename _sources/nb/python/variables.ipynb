{
 "cells": [
  {
   "cell_type": "markdown",
   "metadata": {},
   "source": [
    "# Variables"
   ]
  },
  {
   "cell_type": "markdown",
   "metadata": {},
   "source": [
    "Variables are fundamental to any coding. You use variables to store information of any type. Could be simple information like a name, a number or more complicated blocks of information like texts, images, so on. We combine variables with other commands in other to build our programs."
   ]
  },
  {
   "cell_type": "markdown",
   "metadata": {},
   "source": [
    "In python, to assign some information to a variable we simply use a single equal sign `=`,"
   ]
  },
  {
   "cell_type": "code",
   "execution_count": 20,
   "metadata": {},
   "outputs": [],
   "source": [
    "name = 'Matt'\n",
    "age = 21"
   ]
  },
  {
   "cell_type": "markdown",
   "metadata": {},
   "source": [
    "Within jupyterlab you can simply type the name of a variable in a code cell in order to see its value. If you want to see several variables at the same time just separated them by commas."
   ]
  },
  {
   "cell_type": "code",
   "execution_count": 21,
   "metadata": {},
   "outputs": [
    {
     "data": {
      "text/plain": [
       "('Matt', 21)"
      ]
     },
     "execution_count": 21,
     "metadata": {},
     "output_type": "execute_result"
    }
   ],
   "source": [
    "name, age"
   ]
  },
  {
   "cell_type": "markdown",
   "metadata": {},
   "source": [
    "```{warning}\n",
    "**Do not confuse `=` with `==`!**   \n",
    "We use  `=` to assing a information to a variable. Later you will learn about `==` which is used to check if something is **equal** to something else.  \n",
    "```"
   ]
  },
  {
   "cell_type": "markdown",
   "metadata": {},
   "source": [
    "## Variable Names"
   ]
  },
  {
   "cell_type": "markdown",
   "metadata": {},
   "source": [
    "Python is very flexible when it comes to naming your variables. There are however some restrictions,\n",
    "- Variables cannot start with a numeral\n",
    "- Variables cannot contain spaces (e.g. my variable)  or special characters (e.g. @, #, $,%, &, *). You cannot use a hyphon (e.g. my-variable) but you can use an underscore (e.g. my_variable)\n",
    "- Variables cannot be the same as a Python keyword or built-in function.\n",
    "- Variables cannot include any punctuation (i.e. . , ; :) like my.variable.\n",
    "- Variables cannot be inclosed by quotes (i.e. ' \")."
   ]
  },
  {
   "cell_type": "markdown",
   "metadata": {},
   "source": [
    "```{caution}\n",
    "Variables are case sensitive. The following are considered to be different variables,    \n",
    ">Age, AGE, age\n",
    "```"
   ]
  },
  {
   "cell_type": "markdown",
   "metadata": {},
   "source": [
    "### Best practices"
   ]
  },
  {
   "cell_type": "markdown",
   "metadata": {},
   "source": [
    "Here are a few simple guidelines when naming variables:\n",
    "- Use descriptive names. Choose variable names that convey the purpose of the variable. Don't use 'a' or 'z' instead use 'address' or 'zipcode'.\n",
    "- Try to keep names short while still descriptive. E.g. 'num_items' instead 'number_of_items'\n",
    "- Be consistent with your naming conventions."
   ]
  },
  {
   "cell_type": "markdown",
   "metadata": {},
   "source": [
    "## Data types"
   ]
  },
  {
   "cell_type": "markdown",
   "metadata": {},
   "source": [
    "There are litteraly unlimited number of data types. However, here we will review the main types you are likely to encounter."
   ]
  },
  {
   "cell_type": "markdown",
   "metadata": {},
   "source": [
    "### Numerals"
   ]
  },
  {
   "cell_type": "markdown",
   "metadata": {},
   "source": [
    "The two types of numbers most commonly found are:\n",
    "- Integers. These are whole numbers like 12, 208, etc.\n",
    "- Floating point. These are decimal points, like 3.14159, 2.5, etc.\n",
    "\n",
    "There are functions that convert from one type to the other although this might imply some loss of information as in the case of going from 3.14159 to just 3."
   ]
  },
  {
   "cell_type": "markdown",
   "metadata": {},
   "source": [
    "**Operations**   \n",
    "In python you can combine both of these types of numbers in operations though the result will always be floating point.   "
   ]
  },
  {
   "cell_type": "markdown",
   "metadata": {
    "user_expressions": [
     {
      "expression": "4.5+2",
      "result": {
       "data": {
        "text/plain": "6.5"
       },
       "metadata": {},
       "status": "ok"
      }
     },
     {
      "expression": "4.5-2",
      "result": {
       "data": {
        "text/plain": "2.5"
       },
       "metadata": {},
       "status": "ok"
      }
     },
     {
      "expression": "4.5*2",
      "result": {
       "data": {
        "text/plain": "9.0"
       },
       "metadata": {},
       "status": "ok"
      }
     },
     {
      "expression": "4.5/2",
      "result": {
       "data": {
        "text/plain": "2.25"
       },
       "metadata": {},
       "status": "ok"
      }
     },
     {
      "expression": "4.5//2",
      "result": {
       "data": {
        "text/plain": "2.0"
       },
       "metadata": {},
       "status": "ok"
      }
     },
     {
      "expression": "4.5%2",
      "result": {
       "data": {
        "text/plain": "0.5"
       },
       "metadata": {},
       "status": "ok"
      }
     },
     {
      "expression": "4.5**2",
      "result": {
       "data": {
        "text/plain": "20.25"
       },
       "metadata": {},
       "status": "ok"
      }
     },
     {
      "expression": "int(4.5)",
      "result": {
       "data": {
        "text/plain": "4"
       },
       "metadata": {},
       "status": "ok"
      }
     },
     {
      "expression": "float(2)",
      "result": {
       "data": {
        "text/plain": "2.0"
       },
       "metadata": {},
       "status": "ok"
      }
     }
    ]
   },
   "source": [
    "|operation|explanation|example|result|\n",
    "|:-------:|:---------:|:-----:|:----:|\n",
    "|`+`|4.5+2|addition|{eval}`4.5+2`|\n",
    "|`-`|4.5-2|subtraction|{eval}`4.5-2`|\n",
    "|`*`|4.5*2|multiplication|{eval}`4.5*2`|\n",
    "|`/`|4.5/2|division|{eval}`4.5/2`|\n",
    "|`//`|4.5//2|floor division|{eval}`4.5//2`|\n",
    "|`/`|4.5%2|remainder|{eval}`4.5%2`|\n",
    "|`**`|4.5**2|power|{eval}`4.5**2`|\n",
    "|`int()`|int(4.5)|convert to integer|{eval}`int(4.5)`|\n",
    "|`float()`|float(2)|convert to float|{eval}`float(2)`|"
   ]
  },
  {
   "cell_type": "markdown",
   "metadata": {},
   "source": [
    "### Strings"
   ]
  },
  {
   "cell_type": "markdown",
   "metadata": {},
   "source": [
    "String variables store text information. Python allows you to manipulate strings in many different ways. Here are just a few. "
   ]
  },
  {
   "cell_type": "code",
   "execution_count": 22,
   "metadata": {},
   "outputs": [
    {
     "data": {
      "text/plain": [
       "('matt', 'smith')"
      ]
     },
     "execution_count": 22,
     "metadata": {},
     "output_type": "execute_result"
    }
   ],
   "source": [
    "name = 'matt'\n",
    "lastname = 'smith'\n",
    "name,lastname"
   ]
  },
  {
   "cell_type": "code",
   "execution_count": 23,
   "metadata": {},
   "outputs": [
    {
     "data": {
      "text/plain": [
       "'matt smith'"
      ]
     },
     "execution_count": 23,
     "metadata": {},
     "output_type": "execute_result"
    }
   ],
   "source": [
    "# combining two strings\n",
    "fullname = name + ' ' + lastname\n",
    "fullname"
   ]
  },
  {
   "cell_type": "code",
   "execution_count": 24,
   "metadata": {},
   "outputs": [
    {
     "data": {
      "text/plain": [
       "'Matt smith'"
      ]
     },
     "execution_count": 24,
     "metadata": {},
     "output_type": "execute_result"
    }
   ],
   "source": [
    "# capitalize first word\n",
    "fullname.capitalize()"
   ]
  },
  {
   "cell_type": "code",
   "execution_count": 25,
   "metadata": {},
   "outputs": [
    {
     "data": {
      "text/plain": [
       "'MATT SMITH'"
      ]
     },
     "execution_count": 25,
     "metadata": {},
     "output_type": "execute_result"
    }
   ],
   "source": [
    "# change to all caps\n",
    "fullname.upper()"
   ]
  },
  {
   "cell_type": "code",
   "execution_count": 26,
   "metadata": {},
   "outputs": [
    {
     "data": {
      "text/plain": [
       "['matt', 'smith']"
      ]
     },
     "execution_count": 26,
     "metadata": {},
     "output_type": "execute_result"
    }
   ],
   "source": [
    "# split full name using space as separator\n",
    "fullname.split(' ')"
   ]
  },
  {
   "cell_type": "markdown",
   "metadata": {},
   "source": [
    "Python considers that any string is nothing but a list of characters hence you can use list methods to slice a string."
   ]
  },
  {
   "cell_type": "code",
   "execution_count": 27,
   "metadata": {},
   "outputs": [
    {
     "data": {
      "text/plain": [
       "'matt'"
      ]
     },
     "execution_count": 27,
     "metadata": {},
     "output_type": "execute_result"
    }
   ],
   "source": [
    "# return the first four characters\n",
    "fullname[:4]"
   ]
  },
  {
   "cell_type": "code",
   "execution_count": 28,
   "metadata": {},
   "outputs": [
    {
     "data": {
      "text/plain": [
       "'smith'"
      ]
     },
     "execution_count": 28,
     "metadata": {},
     "output_type": "execute_result"
    }
   ],
   "source": [
    "# return the last five characters\n",
    "fullname[-5:]"
   ]
  },
  {
   "cell_type": "markdown",
   "metadata": {},
   "source": [
    "### Boolean"
   ]
  },
  {
   "cell_type": "markdown",
   "metadata": {},
   "source": [
    "Boolean are special variables. They only hold two values:\n",
    "- True (1)\n",
    "- False (0)\n",
    "\n",
    "Boolean appear anytime you make a [comparison](flow.ipynb). For instance,"
   ]
  },
  {
   "cell_type": "code",
   "execution_count": 29,
   "metadata": {},
   "outputs": [],
   "source": [
    "# assign 1 to a\n",
    "a = 1"
   ]
  },
  {
   "cell_type": "code",
   "execution_count": 30,
   "metadata": {},
   "outputs": [
    {
     "data": {
      "text/plain": [
       "False"
      ]
     },
     "execution_count": 30,
     "metadata": {},
     "output_type": "execute_result"
    }
   ],
   "source": [
    "# is a equal to 2\n",
    "a == 2"
   ]
  },
  {
   "cell_type": "markdown",
   "metadata": {},
   "source": [
    "```{margin}\n",
    "Python assigns a numerical value to True and False. Usually this is 1 for the former and 0 for the latter.\n",
    "```"
   ]
  },
  {
   "cell_type": "markdown",
   "metadata": {},
   "source": [
    "```{warning}\n",
    "Keep in mind that True and False need to be capitalized in order for Python to recognize them as boolean.\n",
    "```"
   ]
  },
  {
   "cell_type": "markdown",
   "metadata": {},
   "source": [
    "### Additional References\n",
    "- If you want to learn more about [string operations](https://www.w3schools.com/python/python_ref_string.asp).\n",
    "- Another sources of information on [strings](https://www.pythoncheatsheet.org/cheatsheet/manipulating-strings)."
   ]
  }
 ],
 "metadata": {
  "kernelspec": {
   "display_name": "Python 3 (ipykernel)",
   "language": "python",
   "name": "python3"
  },
  "language_info": {
   "codemirror_mode": {
    "name": "ipython",
    "version": 3
   },
   "file_extension": ".py",
   "mimetype": "text/x-python",
   "name": "python",
   "nbconvert_exporter": "python",
   "pygments_lexer": "ipython3",
   "version": "3.12.5"
  }
 },
 "nbformat": 4,
 "nbformat_minor": 4
}
