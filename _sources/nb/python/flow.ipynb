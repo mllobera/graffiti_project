{
 "cells": [
  {
   "cell_type": "markdown",
   "metadata": {
    "id": "bLUOAZeB68sF"
   },
   "source": [
    "# Comparisons and Flow"
   ]
  },
  {
   "cell_type": "markdown",
   "metadata": {},
   "source": [
    "When trying to accomplish some task we may not want to execute statements sequentially in the order written but instead to skip over some statements, and execute a series of alternate statements. In order to accomplished this we use *conditional statements* and other instructions to program flow. The following shows a template of what a conditional statement or block looks like"
   ]
  },
  {
   "cell_type": "markdown",
   "metadata": {},
   "source": [
    "## Conditional Statements"
   ]
  },
  {
   "cell_type": "markdown",
   "metadata": {},
   "source": [
    "Python provides many ways to compare two statements. All of these statements end up in generating a boolean, i.e. they are either True or False. Lets consider the following variables,"
   ]
  },
  {
   "cell_type": "code",
   "execution_count": 1,
   "metadata": {},
   "outputs": [],
   "source": [
    "name = 'matt'\n",
    "x = 1\n",
    "y = 2"
   ]
  },
  {
   "cell_type": "markdown",
   "metadata": {
    "user_expressions": [
     {
      "expression": "name == 'matt'",
      "result": {
       "data": {
        "text/plain": "True"
       },
       "metadata": {},
       "status": "ok"
      }
     },
     {
      "expression": "name != 'joe'",
      "result": {
       "data": {
        "text/plain": "True"
       },
       "metadata": {},
       "status": "ok"
      }
     },
     {
      "expression": "x>y",
      "result": {
       "data": {
        "text/plain": "False"
       },
       "metadata": {},
       "status": "ok"
      }
     },
     {
      "expression": "x>=y",
      "result": {
       "data": {
        "text/plain": "False"
       },
       "metadata": {},
       "status": "ok"
      }
     },
     {
      "expression": "x<y",
      "result": {
       "data": {
        "text/plain": "True"
       },
       "metadata": {},
       "status": "ok"
      }
     },
     {
      "expression": "x<=y",
      "result": {
       "data": {
        "text/plain": "True"
       },
       "metadata": {},
       "status": "ok"
      }
     }
    ]
   },
   "source": [
    "|Comparison|Explanation|Example|Result|\n",
    "|:--------:|:---------|:-----:|:-----:|\n",
    "| *stat1* '==' *stat2*|statement 1 equal to statement 2| name == 'matt'|True|\n",
    "| *stat1* '!=' *stat2*|statement 1 not equal to statement 2| name != 'joe'|True|\n",
    "| *stat1* '>' *stat2*|statement 1 greater than statement 2| x > y |False|\n",
    "| *stat1* '>=' *stat2*|statement 1 greater or equal than statement 2| y >= x |True|\n",
    "| *stat1* '<' *stat2*|statement 1 smaller than statement 2| x < y|True|\n",
    "| *stat1* '<=' *stat2*|statement 1 smaller or equal than statement 2| y <= x| False|"
   ]
  },
  {
   "cell_type": "markdown",
   "metadata": {},
   "source": [
    "```{warning}\n",
    "**Do not confuse `=` with `==`!**   \n",
    "We use  `=` to assing a information to a variable. Later you will learn about `==` which is used to check if something is **equal** to something else.  \n",
    "```"
   ]
  },
  {
   "cell_type": "markdown",
   "metadata": {
    "id": "T8yQ2cHM5Hu0",
    "tags": []
   },
   "source": [
    "### `and`  and  `or`"
   ]
  },
  {
   "cell_type": "markdown",
   "metadata": {
    "id": "YS5wEC3_K9ek",
    "tags": []
   },
   "source": [
    "Often we may want to build more complicated comparisons made up by combining simpler ones. We can achieve this using the  `and` and `or` operators. Consider the following variables,"
   ]
  },
  {
   "cell_type": "code",
   "execution_count": 2,
   "metadata": {},
   "outputs": [],
   "source": [
    "name = 'matt'\n",
    "x = 1\n",
    "y = 2"
   ]
  },
  {
   "cell_type": "markdown",
   "metadata": {
    "id": "YS5wEC3_K9ek",
    "tags": [],
    "user_expressions": [
     {
      "expression": "name=='matt' and x < y",
      "result": {
       "data": {
        "text/plain": "True"
       },
       "metadata": {},
       "status": "ok"
      }
     },
     {
      "expression": "name=='matt' or x < y",
      "result": {
       "data": {
        "text/plain": "True"
       },
       "metadata": {},
       "status": "ok"
      }
     },
     {
      "expression": "name=='joe' and x < y",
      "result": {
       "data": {
        "text/plain": "False"
       },
       "metadata": {},
       "status": "ok"
      }
     },
     {
      "expression": "name=='matt' or x < y",
      "result": {
       "data": {
        "text/plain": "True"
       },
       "metadata": {},
       "status": "ok"
      }
     },
     {
      "expression": "name=='matt' and x > y",
      "result": {
       "data": {
        "text/plain": "False"
       },
       "metadata": {},
       "status": "ok"
      }
     },
     {
      "expression": "name=='matt' or x > y",
      "result": {
       "data": {
        "text/plain": "True"
       },
       "metadata": {},
       "status": "ok"
      }
     },
     {
      "expression": "name=='joe' and x > y",
      "result": {
       "data": {
        "text/plain": "False"
       },
       "metadata": {},
       "status": "ok"
      }
     },
     {
      "expression": "name=='joe' or x > y",
      "result": {
       "data": {
        "text/plain": "False"
       },
       "metadata": {},
       "status": "ok"
      }
     }
    ]
   },
   "source": [
    ":::{table}\n",
    ":label: and or\n",
    ":align: center\n",
    "\n",
    "|*stat1*|*stat2*| |and   | or    | | example1             | result1|example2             |result2|\n",
    "|:-----:|:-----:|-|:----:|:-----:|-|:--------------------:|:------:|:-------------------:|:-----:|\n",
    "| True  | True  | |True  | True  | |name=='matt' and x < y|True    |name=='matt' or x < y|   True|\n",
    "| False | True  | |False | True  | |name=='joe' and x < y |False   |name=='joe' or x < y |   True|\n",
    "| True  | False | |False | True  | |name=='matt' and x > y|False   |name=='matt' or x > y|   True|\n",
    "| False | False | |False | False | |name=='joe' and x > y |False   |name=='joe' or x > y |  False|\n",
    "\n",
    ":::"
   ]
  },
  {
   "cell_type": "markdown",
   "metadata": {},
   "source": [
    "\n",
    "The table above shows the results of combining two **logical** statements (i.e. statements that result in boolean *True* or *False*) *stat1* and *stat2* using `and` and `or`."
   ]
  },
  {
   "cell_type": "markdown",
   "metadata": {},
   "source": [
    "## If statements"
   ]
  },
  {
   "cell_type": "markdown",
   "metadata": {},
   "source": [
    "`If` statements are how we tell the computer to do something if a certain condition is met. Here is the general layout of an `if` statement."
   ]
  },
  {
   "cell_type": "markdown",
   "metadata": {},
   "source": [
    "``` {code}\n",
    "if <expr>:\n",
    "   <statement/s>\n",
    "[elif <expr>:\n",
    "   <statement/s>]\n",
    "   ...\n",
    "[else:\n",
    "   <statement/s>]\n",
    "```"
   ]
  },
  {
   "cell_type": "markdown",
   "metadata": {},
   "source": [
    "- `<expr>` stands for any conditional statement or expression that generates a boolean output (as those we have seen before).\n",
    "- `<statement/s>` are commands that are executed whenever the conditional statement above is true. These are always indented.\n",
    "- At the very least, a conditional statement will consist of a simple `if` statement.\n",
    "- Anything between square brackets `[ ]` is optional."
   ]
  },
  {
   "cell_type": "markdown",
   "metadata": {},
   "source": [
    "```{caution}\n",
    "Make sure that you include the colon ':' at the end of the `<conditional statement>`\n",
    "```"
   ]
  },
  {
   "cell_type": "code",
   "execution_count": 3,
   "metadata": {},
   "outputs": [],
   "source": [
    "# what age?\n",
    "age = 63"
   ]
  },
  {
   "cell_type": "code",
   "execution_count": 4,
   "metadata": {},
   "outputs": [],
   "source": [
    "# enrolling in a university?\n",
    "if age < 17:\n",
    "  print ('Smart kid')"
   ]
  },
  {
   "cell_type": "markdown",
   "metadata": {},
   "source": [
    "Let's consider the optional commands, "
   ]
  },
  {
   "cell_type": "markdown",
   "metadata": {},
   "source": [
    "### elif"
   ]
  },
  {
   "cell_type": "markdown",
   "metadata": {},
   "source": [
    "`elif` statements are optional and are used if you want to check for more than one condition. There can be as many `elif` statements as necessary."
   ]
  },
  {
   "cell_type": "code",
   "execution_count": 5,
   "metadata": {},
   "outputs": [],
   "source": [
    "# enrolling in a university?\n",
    "if age < 17:\n",
    "  print ('Smart kid')\n",
    "elif age >= 17 and age < 24:\n",
    "  print ('Your are in the right place')\n",
    "elif age >= 24 and age < 50:\n",
    "  print ('Back for some more')"
   ]
  },
  {
   "cell_type": "markdown",
   "metadata": {},
   "source": [
    "### else"
   ]
  },
  {
   "cell_type": "markdown",
   "metadata": {},
   "source": [
    "`else` statement is optional and is executed once after all previous `if` and `elif` statements (within the same hierarchy) have been executed."
   ]
  },
  {
   "cell_type": "code",
   "execution_count": 6,
   "metadata": {},
   "outputs": [
    {
     "name": "stdout",
     "output_type": "stream",
     "text": [
      "just could not get enough\n"
     ]
    }
   ],
   "source": [
    "# enrolling in a university?\n",
    "if age < 17:\n",
    "  print ('Smart kid')\n",
    "elif age >= 17 and age < 24:\n",
    "  print ('Your are in the right place')\n",
    "elif age >= 24 and age < 50:\n",
    "  print ('Back for some more')\n",
    "else: # >=50\n",
    "  print ('just could not get enough') "
   ]
  },
  {
   "cell_type": "markdown",
   "metadata": {},
   "source": [
    "```{hint}\n",
    "A hierarchy of *Conditional statements* can be generated by indenting statements inside each other.\n",
    "```"
   ]
  },
  {
   "cell_type": "markdown",
   "metadata": {},
   "source": [
    "## Additional references"
   ]
  },
  {
   "cell_type": "markdown",
   "metadata": {},
   "source": [
    "- Check detailed explanation of [conditional statments](https://realpython.com/python-conditional-statements/).\n",
    "- Another reference for [if-statements](https://www.w3schools.com/python/python_conditions.asp)"
   ]
  }
 ],
 "metadata": {
  "colab": {
   "authorship_tag": "ABX9TyMOgV2+qQTsTL1wvtX4S7iW",
   "collapsed_sections": [
    "YbvAznoGweUz",
    "lKbNM02Ip8wi",
    "3KT_WufAA3b0"
   ],
   "mount_file_id": "1wCcU-g6iD8SexV4L1idhm3TylfXwZ7Bu",
   "name": "Lab 3.2 - Loops, Functions and Modules - InstructorCopy.ipynb",
   "provenance": [
    {
     "file_id": "1bl-aQb6G1Z46t3ZiM3uWjxyUz9EXi1El",
     "timestamp": 1602113383204
    },
    {
     "file_id": "https://github.com/digarlab/graffiti/blob/master/archy5_235/Lab_1_2_Data_Structures_and_Modules.ipynb",
     "timestamp": 1598295874005
    }
   ],
   "toc_visible": true
  },
  "kernelspec": {
   "display_name": "Python 3 (ipykernel)",
   "language": "python",
   "name": "python3"
  },
  "language_info": {
   "codemirror_mode": {
    "name": "ipython",
    "version": 3
   },
   "file_extension": ".py",
   "mimetype": "text/x-python",
   "name": "python",
   "nbconvert_exporter": "python",
   "pygments_lexer": "ipython3",
   "version": "3.12.5"
  }
 },
 "nbformat": 4,
 "nbformat_minor": 4
}
