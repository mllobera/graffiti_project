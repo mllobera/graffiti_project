{
 "cells": [
  {
   "cell_type": "markdown",
   "metadata": {
    "id": "bLUOAZeB68sF"
   },
   "source": [
    "# List"
   ]
  },
  {
   "cell_type": "markdown",
   "metadata": {
    "id": "eRzrIUtxd84V"
   },
   "source": [
    "## Data Structures"
   ]
  },
  {
   "cell_type": "markdown",
   "metadata": {
    "id": "3298k7r4BUFm"
   },
   "source": [
    "You can think of a 'data structure', as a way to store and organize data or information. It often implies a set of operations too. That is, depending on what data structure we use to store our data, certain operations will be easier or more efficient (i.e. quicker or require less steps) to achieve. "
   ]
  },
  {
   "cell_type": "markdown",
   "metadata": {
    "id": "aJcW8MpwBYLJ"
   },
   "source": [
    "## Lists"
   ]
  },
  {
   "cell_type": "markdown",
   "metadata": {
    "id": "L1vHcTzHBjOw"
   },
   "source": [
    "Use a `list` whenever you want to store a sequence of elements **in order**. Elements do not need to be of the same type (e.g. you can store a number and then a string, and so on)."
   ]
  },
  {
   "cell_type": "markdown",
   "metadata": {
    "id": "iWDkjlBHBqXZ"
   },
   "source": [
    "#### Creating a list"
   ]
  },
  {
   "cell_type": "markdown",
   "metadata": {},
   "source": [
    "Create a list"
   ]
  },
  {
   "cell_type": "code",
   "execution_count": 1,
   "metadata": {
    "colab": {
     "base_uri": "https://localhost:8080/",
     "height": 34
    },
    "executionInfo": {
     "elapsed": 1036,
     "status": "ok",
     "timestamp": 1600372855174,
     "user": {
      "displayName": "Marcos Llobera",
      "photoUrl": "",
      "userId": "09511791020344235136"
     },
     "user_tz": 420
    },
    "id": "qRqY9yqEAunA",
    "outputId": "faebb590-e24c-4b4e-fea6-dbdbc3ef50e9"
   },
   "outputs": [
    {
     "data": {
      "text/plain": [
       "[1, 2, 3, 4]"
      ]
     },
     "execution_count": 1,
     "metadata": {},
     "output_type": "execute_result"
    }
   ],
   "source": [
    "lst = [1,2,3,4]\n",
    "lst"
   ]
  },
  {
   "cell_type": "markdown",
   "metadata": {},
   "source": [
    "Remember a list can contain elements of different types"
   ]
  },
  {
   "cell_type": "code",
   "execution_count": 2,
   "metadata": {},
   "outputs": [
    {
     "data": {
      "text/plain": [
       "[123, 'hi there', True]"
      ]
     },
     "execution_count": 2,
     "metadata": {},
     "output_type": "execute_result"
    }
   ],
   "source": [
    "lst_weird = [123, \"hi there\", True]\n",
    "lst_weird"
   ]
  },
  {
   "cell_type": "markdown",
   "metadata": {},
   "source": [
    "#### Indexing"
   ]
  },
  {
   "cell_type": "markdown",
   "metadata": {},
   "source": [
    "Access the third element in our list,"
   ]
  },
  {
   "cell_type": "code",
   "execution_count": 3,
   "metadata": {
    "colab": {
     "base_uri": "https://localhost:8080/",
     "height": 34
    },
    "executionInfo": {
     "elapsed": 1223,
     "status": "ok",
     "timestamp": 1600372855379,
     "user": {
      "displayName": "Marcos Llobera",
      "photoUrl": "",
      "userId": "09511791020344235136"
     },
     "user_tz": 420
    },
    "id": "i7jCX6ZyBBA7",
    "outputId": "8cd91b9a-e692-49ea-db95-3e58fcd4031b"
   },
   "outputs": [
    {
     "data": {
      "text/plain": [
       "3"
      ]
     },
     "execution_count": 3,
     "metadata": {},
     "output_type": "execute_result"
    }
   ],
   "source": [
    "lst[2]"
   ]
  },
  {
   "cell_type": "markdown",
   "metadata": {},
   "source": [
    "```{caution} \n",
    "Elements in a list are counted from 0.\n",
    "```"
   ]
  },
  {
   "cell_type": "markdown",
   "metadata": {},
   "source": [
    "#### Slicing\n",
    "\n",
    " Refers to accessing **continuous** 'blocks' or 'chunks' of data in a list. The full syntax is as follows,"
   ]
  },
  {
   "cell_type": "markdown",
   "metadata": {},
   "source": [
    "```{image} ../../images/slice.png\n",
    ":align: center\n",
    "```"
   ]
  },
  {
   "cell_type": "markdown",
   "metadata": {},
   "source": [
    "Check the following to learn more about [slicing lists](https://www.learnbyexample.org/python-list-slicing/). Lets return all the elements  from the beginning **up to** the third element **not included**"
   ]
  },
  {
   "cell_type": "code",
   "execution_count": 4,
   "metadata": {},
   "outputs": [
    {
     "data": {
      "text/plain": [
       "[1, 2, 3]"
      ]
     },
     "execution_count": 4,
     "metadata": {},
     "output_type": "execute_result"
    }
   ],
   "source": [
    "lst[:3]"
   ]
  },
  {
   "cell_type": "markdown",
   "metadata": {},
   "source": [
    "or"
   ]
  },
  {
   "cell_type": "code",
   "execution_count": 5,
   "metadata": {},
   "outputs": [
    {
     "data": {
      "text/plain": [
       "[1, 2, 3]"
      ]
     },
     "execution_count": 5,
     "metadata": {},
     "output_type": "execute_result"
    }
   ],
   "source": [
    "lst[0:3]"
   ]
  },
  {
   "cell_type": "markdown",
   "metadata": {},
   "source": [
    "```{note}\n",
    "The ':' character means 'all'.\n",
    "``` "
   ]
  },
  {
   "cell_type": "markdown",
   "metadata": {},
   "source": [
    "what if we want to include the third element included "
   ]
  },
  {
   "cell_type": "code",
   "execution_count": 6,
   "metadata": {},
   "outputs": [
    {
     "data": {
      "text/plain": [
       "[1, 2, 3, 4]"
      ]
     },
     "execution_count": 6,
     "metadata": {},
     "output_type": "execute_result"
    }
   ],
   "source": [
    "lst[:4]"
   ]
  },
  {
   "cell_type": "markdown",
   "metadata": {},
   "source": [
    "or"
   ]
  },
  {
   "cell_type": "code",
   "execution_count": 7,
   "metadata": {},
   "outputs": [
    {
     "data": {
      "text/plain": [
       "[1, 2, 3, 4]"
      ]
     },
     "execution_count": 7,
     "metadata": {},
     "output_type": "execute_result"
    }
   ],
   "source": [
    "lst[0:4]"
   ]
  },
  {
   "cell_type": "markdown",
   "metadata": {},
   "source": [
    "```{note} Notice that when creating a slice, a list returns all the elements from the *start* position up to the *stop* position. Without including the latter.\n",
    "```"
   ]
  },
  {
   "cell_type": "markdown",
   "metadata": {},
   "source": [
    "Use negative indices to return elements starting from the back. For instance return the second element from the back,"
   ]
  },
  {
   "cell_type": "code",
   "execution_count": 8,
   "metadata": {
    "colab": {
     "base_uri": "https://localhost:8080/",
     "height": 34
    },
    "executionInfo": {
     "elapsed": 1177,
     "status": "ok",
     "timestamp": 1600372855381,
     "user": {
      "displayName": "Marcos Llobera",
      "photoUrl": "",
      "userId": "09511791020344235136"
     },
     "user_tz": 420
    },
    "id": "2zY21GlIM5vb",
    "outputId": "93dfcdec-68be-4b0f-d349-44b0d37789dc"
   },
   "outputs": [
    {
     "data": {
      "text/plain": [
       "3"
      ]
     },
     "execution_count": 8,
     "metadata": {},
     "output_type": "execute_result"
    }
   ],
   "source": [
    "lst[-2]"
   ]
  },
  {
   "cell_type": "markdown",
   "metadata": {},
   "source": [
    "You can also use the colon to specify 'all',"
   ]
  },
  {
   "cell_type": "code",
   "execution_count": 9,
   "metadata": {
    "colab": {
     "base_uri": "https://localhost:8080/",
     "height": 34
    },
    "executionInfo": {
     "elapsed": 1194,
     "status": "ok",
     "timestamp": 1600372855380,
     "user": {
      "displayName": "Marcos Llobera",
      "photoUrl": "",
      "userId": "09511791020344235136"
     },
     "user_tz": 420
    },
    "id": "671VhT8KMKRX",
    "outputId": "4ef3830d-ce90-41f7-dc68-fcb43f1f0add"
   },
   "outputs": [
    {
     "data": {
      "text/plain": [
       "[3, 4]"
      ]
     },
     "execution_count": 9,
     "metadata": {},
     "output_type": "execute_result"
    }
   ],
   "source": [
    "# return all elements from the second element in the back onwards\n",
    "lst[-2:] "
   ]
  },
  {
   "cell_type": "code",
   "execution_count": 10,
   "metadata": {
    "colab": {
     "base_uri": "https://localhost:8080/",
     "height": 34
    },
    "executionInfo": {
     "elapsed": 1406,
     "status": "ok",
     "timestamp": 1600372855630,
     "user": {
      "displayName": "Marcos Llobera",
      "photoUrl": "",
      "userId": "09511791020344235136"
     },
     "user_tz": 420
    },
    "id": "8BJIpi82M85K",
    "outputId": "ff2fe4db-7108-4db0-9f24-6a398daea33e"
   },
   "outputs": [
    {
     "data": {
      "text/plain": [
       "[1, 2, 3]"
      ]
     },
     "execution_count": 10,
     "metadata": {},
     "output_type": "execute_result"
    }
   ],
   "source": [
    "# return all elements up to the first element in the end of the list\n",
    "lst[:-1] "
   ]
  },
  {
   "cell_type": "markdown",
   "metadata": {
    "id": "-djjEu6Et0dz"
   },
   "source": [
    "### `List` methods"
   ]
  },
  {
   "cell_type": "markdown",
   "metadata": {},
   "source": [
    "Let's define an additional list,"
   ]
  },
  {
   "cell_type": "code",
   "execution_count": 16,
   "metadata": {},
   "outputs": [
    {
     "data": {
      "text/plain": [
       "[-1, 3, 0, -1]"
      ]
     },
     "execution_count": 16,
     "metadata": {},
     "output_type": "execute_result"
    }
   ],
   "source": [
    "lst2 = [-1, 3, 0, -1]\n",
    "lst2"
   ]
  },
  {
   "cell_type": "code",
   "execution_count": 18,
   "metadata": {},
   "outputs": [
    {
     "data": {
      "text/plain": [
       "[-1, 3, 0, -1]"
      ]
     },
     "execution_count": 18,
     "metadata": {},
     "output_type": "execute_result"
    }
   ],
   "source": [
    "lst2"
   ]
  },
  {
   "cell_type": "markdown",
   "metadata": {},
   "source": [
    "The following are some funcions and `list` methods you can use,"
   ]
  },
  {
   "cell_type": "markdown",
   "metadata": {
    "user_expressions": [
     {
      "expression": "len(lst)",
      "result": {
       "data": {
        "text/plain": "16"
       },
       "metadata": {},
       "status": "ok"
      }
     },
     {
      "expression": "lst.extend(lst2)",
      "result": {
       "data": {
        "text/plain": "None"
       },
       "metadata": {},
       "status": "ok"
      }
     },
     {
      "expression": "lst.append(-1)",
      "result": {
       "data": {
        "text/plain": "None"
       },
       "metadata": {},
       "status": "ok"
      }
     }
    ]
   },
   "source": [
    ":::{table}\n",
    ":label: methods\n",
    ":align: center\n",
    "\n",
    "|method|explanation|example|\n",
    "|:-----:|:-------:|:-----:|\n",
    "|`len(lst)`|returns the number of elements (length)|len(lst)= {eval}`len(lst)`|\n",
    "|`list.extend(another_list)`|Extends a list with another *list*|lst.extend(lst2) = {eval}`lst.extend(lst2)`|\n",
    "|`list.remove(position)`|Removes an element to the end of a list |lst.append(-1)= {eval}`lst.append(-1)`| \n",
    "|`list.append(element)`|Appends an *element* to the end of a list |lst.append(lst2)|\n",
    "|`list.insert(element, position)`|Inserts an *element* at index *position*|lst.insert(3,2lst2)|\n",
    "|`list.remove(element)`|Removes the first instance of element in list |lst.remove(-1)|\n",
    "|`list.index(element)`|Returns the index of the first instance of an element in a list |lst.index(1)|\n",
    ":::"
   ]
  },
  {
   "cell_type": "markdown",
   "metadata": {
    "id": "sqCu0fbrDOED"
   },
   "source": [
    "#### Copying a list"
   ]
  },
  {
   "cell_type": "markdown",
   "metadata": {},
   "source": [
    "Observe the following,"
   ]
  },
  {
   "cell_type": "code",
   "execution_count": 11,
   "metadata": {
    "colab": {
     "base_uri": "https://localhost:8080/"
    },
    "executionInfo": {
     "elapsed": 416,
     "status": "ok",
     "timestamp": 1602104857594,
     "user": {
      "displayName": "Marcos Llobera",
      "photoUrl": "",
      "userId": "09511791020344235136"
     },
     "user_tz": 420
    },
    "id": "S6ai6sPYuGK4",
    "outputId": "073fec95-8228-44de-b1b1-f31fd8748dbe"
   },
   "outputs": [
    {
     "data": {
      "text/plain": [
       "([1, 3], [1, 3])"
      ]
     },
     "execution_count": 11,
     "metadata": {},
     "output_type": "execute_result"
    }
   ],
   "source": [
    "# How to create a copy of a list?\n",
    "L = [1,2,3]\n",
    "K = L \n",
    "K.remove(2)\n",
    "L, K"
   ]
  },
  {
   "cell_type": "markdown",
   "metadata": {
    "id": "Gsr1Rn1auO1Z"
   },
   "source": [
    "What has happened here?   \n",
    "By saying K is equal to L, we are saying that K is pointing to the same space in memory where L is stored.\n",
    "So by changing K, we were actually changing L. You do not really want for this to happen. Python offers two ways to create a new copy of lists."
   ]
  },
  {
   "cell_type": "markdown",
   "metadata": {
    "id": "Gsr1Rn1auO1Z"
   },
   "source": [
    "**Method 1**"
   ]
  },
  {
   "cell_type": "code",
   "execution_count": 12,
   "metadata": {
    "colab": {
     "base_uri": "https://localhost:8080/"
    },
    "executionInfo": {
     "elapsed": 457,
     "status": "ok",
     "timestamp": 1602114750592,
     "user": {
      "displayName": "Marcos Llobera",
      "photoUrl": "",
      "userId": "09511791020344235136"
     },
     "user_tz": 420
    },
    "id": "X69jPVmBvW-I",
    "outputId": "861f1de2-7a9b-4382-8c9c-6571e549f9c4"
   },
   "outputs": [
    {
     "data": {
      "text/plain": [
       "([1, 2, 3], [1, 2, 3])"
      ]
     },
     "execution_count": 12,
     "metadata": {},
     "output_type": "execute_result"
    }
   ],
   "source": [
    "L = [1,2,3]\n",
    "K = L[:]\n",
    "L, K"
   ]
  },
  {
   "cell_type": "code",
   "execution_count": 13,
   "metadata": {
    "colab": {
     "base_uri": "https://localhost:8080/"
    },
    "executionInfo": {
     "elapsed": 406,
     "status": "ok",
     "timestamp": 1602114752309,
     "user": {
      "displayName": "Marcos Llobera",
      "photoUrl": "",
      "userId": "09511791020344235136"
     },
     "user_tz": 420
    },
    "id": "ROL57ZrHeexs",
    "outputId": "4024df80-81e0-4f14-c6a5-c06cb845618a"
   },
   "outputs": [
    {
     "data": {
      "text/plain": [
       "([1, 2, 3], [1, 3])"
      ]
     },
     "execution_count": 13,
     "metadata": {},
     "output_type": "execute_result"
    }
   ],
   "source": [
    "K.remove(2)\n",
    "L, K"
   ]
  },
  {
   "cell_type": "markdown",
   "metadata": {},
   "source": [
    "**Method 2**"
   ]
  },
  {
   "cell_type": "code",
   "execution_count": 14,
   "metadata": {
    "colab": {
     "base_uri": "https://localhost:8080/"
    },
    "executionInfo": {
     "elapsed": 361,
     "status": "ok",
     "timestamp": 1602114763891,
     "user": {
      "displayName": "Marcos Llobera",
      "photoUrl": "",
      "userId": "09511791020344235136"
     },
     "user_tz": 420
    },
    "id": "MQPmv4mQea7a",
    "outputId": "f58e10a0-e2ec-4124-8713-e507cc8ccc62"
   },
   "outputs": [
    {
     "data": {
      "text/plain": [
       "([1, 2, 3], [1, 2, 3])"
      ]
     },
     "execution_count": 14,
     "metadata": {},
     "output_type": "execute_result"
    }
   ],
   "source": [
    "N = L.copy()\n",
    "L, N"
   ]
  },
  {
   "cell_type": "code",
   "execution_count": 15,
   "metadata": {
    "colab": {
     "base_uri": "https://localhost:8080/"
    },
    "executionInfo": {
     "elapsed": 423,
     "status": "ok",
     "timestamp": 1602114768016,
     "user": {
      "displayName": "Marcos Llobera",
      "photoUrl": "",
      "userId": "09511791020344235136"
     },
     "user_tz": 420
    },
    "id": "q75hOm8Keg_h",
    "outputId": "d0eac545-12f9-49da-f2fd-ddab4b6ff6b3"
   },
   "outputs": [
    {
     "data": {
      "text/plain": [
       "([1, 2, 3], [1, 3])"
      ]
     },
     "execution_count": 15,
     "metadata": {},
     "output_type": "execute_result"
    }
   ],
   "source": [
    "N.remove(2)\n",
    "L, N"
   ]
  }
 ],
 "metadata": {
  "colab": {
   "authorship_tag": "ABX9TyNhoov7XmqQhQsMFmctk6HJ",
   "collapsed_sections": [
    "4nJxH2kgGPci"
   ],
   "mount_file_id": "1wCcU-g6iD8SexV4L1idhm3TylfXwZ7Bu",
   "name": "Lab 3.1 - Python Data Structures - InstructorCopy.ipynb",
   "provenance": [
    {
     "file_id": "https://github.com/digarlab/graffiti/blob/master/archy5_235/Lab_1_2_Data_Structures_and_Modules.ipynb",
     "timestamp": 1598295874005
    }
   ],
   "toc_visible": true
  },
  "kernelspec": {
   "display_name": "Python 3 (ipykernel)",
   "language": "python",
   "name": "python3"
  },
  "language_info": {
   "codemirror_mode": {
    "name": "ipython",
    "version": 3
   },
   "file_extension": ".py",
   "mimetype": "text/x-python",
   "name": "python",
   "nbconvert_exporter": "python",
   "pygments_lexer": "ipython3",
   "version": "3.12.5"
  }
 },
 "nbformat": 4,
 "nbformat_minor": 4
}
