{
 "cells": [
  {
   "cell_type": "markdown",
   "metadata": {
    "id": "bLUOAZeB68sF"
   },
   "source": [
    "# Simple Statistics"
   ]
  },
  {
   "cell_type": "code",
   "execution_count": 1,
   "metadata": {
    "id": "f-UOz3VGiejt"
   },
   "outputs": [],
   "source": [
    "import pandas as pd\n",
    "import numpy as np"
   ]
  },
  {
   "cell_type": "markdown",
   "metadata": {
    "id": "sbzqy9Sl6r8M",
    "tags": []
   },
   "source": [
    "#### Read csv files"
   ]
  },
  {
   "cell_type": "code",
   "execution_count": 2,
   "metadata": {
    "id": "o_QjhB6zqkrj"
   },
   "outputs": [],
   "source": [
    "from pathlib import Path\n",
    "\n",
    "# creating a relative path to the data folder \n",
    "pth = Path('../../data')"
   ]
  },
  {
   "cell_type": "code",
   "execution_count": 3,
   "metadata": {
    "id": "tzcgv3vZiRuZ",
    "scrolled": true
   },
   "outputs": [],
   "source": [
    "# read canvas csv file into a dataframe \n",
    "canvas = pd.read_csv(pth / 'canvas.csv')"
   ]
  },
  {
   "cell_type": "code",
   "execution_count": 4,
   "metadata": {
    "executionInfo": {
     "elapsed": 37543,
     "status": "ok",
     "timestamp": 1603858937380,
     "user": {
      "displayName": "Marcos Llobera",
      "photoUrl": "",
      "userId": "09511791020344235136"
     },
     "user_tz": 420
    },
    "id": "70evE3aK7Zlw"
   },
   "outputs": [],
   "source": [
    "# read graffito\n",
    "graffiti = pd.read_csv(pth/'graffiti.csv')"
   ]
  },
  {
   "cell_type": "markdown",
   "metadata": {
    "id": "hDoaKkNmGR0f"
   },
   "source": [
    "## Combine canvas + graffito"
   ]
  },
  {
   "cell_type": "code",
   "execution_count": 5,
   "metadata": {},
   "outputs": [],
   "source": [
    "canvas_keep = ['id', 'accessibility']\n",
    "graffiti_keep =['canvas_id', 'message', 'num']"
   ]
  },
  {
   "cell_type": "code",
   "execution_count": 6,
   "metadata": {},
   "outputs": [],
   "source": [
    "df = ( canvas.loc[:, canvas_keep]\n",
    "             .merge(graffiti.loc[:, graffiti_keep], how='inner', left_on='id', right_on='canvas_id')\n",
    ")\n",
    "               "
   ]
  },
  {
   "cell_type": "markdown",
   "metadata": {
    "id": "mEvTzO8PDZUn"
   },
   "source": [
    "### Create accessibility level variable"
   ]
  },
  {
   "cell_type": "code",
   "execution_count": 7,
   "metadata": {
    "executionInfo": {
     "elapsed": 2314,
     "status": "ok",
     "timestamp": 1607400547139,
     "user": {
      "displayName": "Marcos Llobera",
      "photoUrl": "",
      "userId": "09511791020344235136"
     },
     "user_tz": 480
    },
    "id": "iL-UUu9mpAI8"
   },
   "outputs": [],
   "source": [
    "# define function that split string into a list of separate terms and returns number of terms\n",
    "def nstrings(row, col):\n",
    "  '''\n",
    "  Return number of strings in column\n",
    "    '''\n",
    "  return len(row[col].replace(' ','').split(','))"
   ]
  },
  {
   "cell_type": "code",
   "execution_count": 8,
   "metadata": {
    "executionInfo": {
     "elapsed": 2309,
     "status": "ok",
     "timestamp": 1607400547140,
     "user": {
      "displayName": "Marcos Llobera",
      "photoUrl": "",
      "userId": "09511791020344235136"
     },
     "user_tz": 480
    },
    "id": "Ckaor9jLrydl"
   },
   "outputs": [],
   "source": [
    "# create acc_level variable\n",
    "df['acc_level'] = df.apply(nstrings, col='accessibility', axis='columns')"
   ]
  },
  {
   "cell_type": "code",
   "execution_count": 9,
   "metadata": {},
   "outputs": [
    {
     "data": {
      "text/plain": [
       "0       1\n",
       "1       1\n",
       "2       1\n",
       "3       1\n",
       "4       1\n",
       "       ..\n",
       "3628    1\n",
       "3629    1\n",
       "3630    1\n",
       "3631    1\n",
       "3632    1\n",
       "Name: acc_level, Length: 3633, dtype: int64"
      ]
     },
     "execution_count": 9,
     "metadata": {},
     "output_type": "execute_result"
    }
   ],
   "source": [
    "df['acc_level']"
   ]
  },
  {
   "cell_type": "markdown",
   "metadata": {
    "id": "3nY1L-84EUgk"
   },
   "source": [
    "## Create samples"
   ]
  },
  {
   "cell_type": "code",
   "execution_count": 10,
   "metadata": {
    "colab": {
     "base_uri": "https://localhost:8080/"
    },
    "executionInfo": {
     "elapsed": 2296,
     "status": "ok",
     "timestamp": 1607400547143,
     "user": {
      "displayName": "Marcos Llobera",
      "photoUrl": "",
      "userId": "09511791020344235136"
     },
     "user_tz": 480
    },
    "id": "4DCZ69nZVQuK",
    "outputId": "8ad91f3f-08ca-4835-c4ea-0968b7c870b0"
   },
   "outputs": [
    {
     "data": {
      "text/plain": [
       "36"
      ]
     },
     "execution_count": 10,
     "metadata": {},
     "output_type": "execute_result"
    }
   ],
   "source": [
    "# create sample\n",
    "smp = df.sample(frac=0.01, random_state=3) #13\n",
    "len(smp)"
   ]
  },
  {
   "cell_type": "code",
   "execution_count": 11,
   "metadata": {
    "colab": {
     "base_uri": "https://localhost:8080/"
    },
    "executionInfo": {
     "elapsed": 2289,
     "status": "ok",
     "timestamp": 1607400547145,
     "user": {
      "displayName": "Marcos Llobera",
      "photoUrl": "",
      "userId": "09511791020344235136"
     },
     "user_tz": 480
    },
    "id": "asTP0ZiEVg3T",
    "outputId": "8540902e-7263-492d-c3be-3fc486492177"
   },
   "outputs": [
    {
     "data": {
      "text/plain": [
       "3597"
      ]
     },
     "execution_count": 11,
     "metadata": {},
     "output_type": "execute_result"
    }
   ],
   "source": [
    "# create a dataframe with the remainder\n",
    "rmder = df.drop(smp.index)\n",
    "len(rmder)"
   ]
  },
  {
   "cell_type": "code",
   "execution_count": 12,
   "metadata": {},
   "outputs": [
    {
     "data": {
      "text/html": [
       "<div>\n",
       "<style scoped>\n",
       "    .dataframe tbody tr th:only-of-type {\n",
       "        vertical-align: middle;\n",
       "    }\n",
       "\n",
       "    .dataframe tbody tr th {\n",
       "        vertical-align: top;\n",
       "    }\n",
       "\n",
       "    .dataframe thead th {\n",
       "        text-align: right;\n",
       "    }\n",
       "</style>\n",
       "<table border=\"1\" class=\"dataframe\">\n",
       "  <thead>\n",
       "    <tr style=\"text-align: right;\">\n",
       "      <th></th>\n",
       "      <th>sample1</th>\n",
       "      <th>sample2</th>\n",
       "    </tr>\n",
       "    <tr>\n",
       "      <th>message</th>\n",
       "      <th></th>\n",
       "      <th></th>\n",
       "    </tr>\n",
       "  </thead>\n",
       "  <tbody>\n",
       "    <tr>\n",
       "      <th>other</th>\n",
       "      <td>3.0</td>\n",
       "      <td>232</td>\n",
       "    </tr>\n",
       "    <tr>\n",
       "      <th>political</th>\n",
       "      <td>0.0</td>\n",
       "      <td>94</td>\n",
       "    </tr>\n",
       "    <tr>\n",
       "      <th>sexual</th>\n",
       "      <td>2.0</td>\n",
       "      <td>28</td>\n",
       "    </tr>\n",
       "    <tr>\n",
       "      <th>social</th>\n",
       "      <td>0.0</td>\n",
       "      <td>190</td>\n",
       "    </tr>\n",
       "    <tr>\n",
       "      <th>writter</th>\n",
       "      <td>13.0</td>\n",
       "      <td>1498</td>\n",
       "    </tr>\n",
       "  </tbody>\n",
       "</table>\n",
       "</div>"
      ],
      "text/plain": [
       "           sample1  sample2\n",
       "message                    \n",
       "other          3.0      232\n",
       "political      0.0       94\n",
       "sexual         2.0       28\n",
       "social         0.0      190\n",
       "writter       13.0     1498"
      ]
     },
     "execution_count": 12,
     "metadata": {},
     "output_type": "execute_result"
    }
   ],
   "source": [
    "tb1 = smp.message.value_counts()\n",
    "tb2 = rmder.message.value_counts()\n",
    "tbl = (pd.merge(tb1, tb2, how='outer', on='message')\n",
    "         .rename(columns = {'count_x': 'sample1', 'count_y': 'sample2'})\n",
    "         .fillna(0)\n",
    ")\n",
    "tbl"
   ]
  },
  {
   "cell_type": "markdown",
   "metadata": {
    "id": "fmMmwzOn-Zoe"
   },
   "source": [
    "## Chi Squared test ( $\\chi^2$) of independence"
   ]
  },
  {
   "cell_type": "markdown",
   "metadata": {
    "id": "pEZ-GA96-yiu"
   },
   "source": [
    "Test used when we are have categories (no order). The main data used are counts (not percentages!). We assume that the distribution of counts across the different categories is *similar* for both cases (for both samples). By similar here we mean that both samples could have come from the same population.\n",
    "\n",
    "*Assumed hypothesis*\n",
    "\n",
    "> $H_0$: Both samples have the same distribution of counts across categories\n",
    "\n",
    "\n",
    "*Alternative hypothesis*\n",
    "\n",
    "> $H_1$: Both samples have differentdistribution of counts across categories\n",
    "\n",
    "We find the $\\chi^2$ given both samples. If the probability associated wit this statistic is small (< 0.05), we say that the difference between the samples is significant for us to reject $H_0$ and therefore conclude that it is likely that there is real a difference between both samples.\n",
    "\n",
    "*Assumptions* \n",
    "\n",
    "To be able to run this test, all expected frequencies have to be greater than 1 and at least 80% of the cells should have frequencies of 5 or bigger."
   ]
  },
  {
   "cell_type": "code",
   "execution_count": 13,
   "metadata": {
    "colab": {
     "base_uri": "https://localhost:8080/"
    },
    "executionInfo": {
     "elapsed": 2661,
     "status": "ok",
     "timestamp": 1607400547565,
     "user": {
      "displayName": "Marcos Llobera",
      "photoUrl": "",
      "userId": "09511791020344235136"
     },
     "user_tz": 480
    },
    "id": "ZPcdQJ2dnR2j",
    "outputId": "adfb241f-3573-4ffd-f72c-c5dafcec2877"
   },
   "outputs": [
    {
     "data": {
      "text/plain": [
       "np.float64(0.005682042645290531)"
      ]
     },
     "execution_count": 13,
     "metadata": {},
     "output_type": "execute_result"
    }
   ],
   "source": [
    "from scipy.stats import chi2_contingency\n",
    "\n",
    "ch2, p, dof, expected = chi2_contingency(tbl)\n",
    "p"
   ]
  },
  {
   "cell_type": "raw",
   "metadata": {
    "executionInfo": {
     "elapsed": 378,
     "status": "ok",
     "timestamp": 1607400981296,
     "user": {
      "displayName": "Marcos Llobera",
      "photoUrl": "",
      "userId": "09511791020344235136"
     },
     "user_tz": 480
    },
    "id": "5a77c7OtkCwT"
   },
   "source": [
    "np.set_printoptions(formatter={'float': lambda x: \"{0:0.2f}\".format(x)})"
   ]
  },
  {
   "cell_type": "code",
   "execution_count": 14,
   "metadata": {},
   "outputs": [],
   "source": [
    "np.set_printoptions(suppress=True);"
   ]
  },
  {
   "cell_type": "code",
   "execution_count": 15,
   "metadata": {
    "colab": {
     "base_uri": "https://localhost:8080/"
    },
    "executionInfo": {
     "elapsed": 387,
     "status": "ok",
     "timestamp": 1607400982192,
     "user": {
      "displayName": "Marcos Llobera",
      "photoUrl": "",
      "userId": "09511791020344235136"
     },
     "user_tz": 480
    },
    "id": "GKd1p-aNHQ9L",
    "outputId": "305f759d-9945-401f-9d56-d3d171e841ea"
   },
   "outputs": [
    {
     "data": {
      "text/plain": [
       "array([[   2.05339806,  232.94660194],\n",
       "       [   0.82135922,   93.17864078],\n",
       "       [   0.26213592,   29.73786408],\n",
       "       [   1.66019417,  188.33980583],\n",
       "       [  13.20291262, 1497.79708738]])"
      ]
     },
     "execution_count": 15,
     "metadata": {},
     "output_type": "execute_result"
    }
   ],
   "source": [
    "expected"
   ]
  },
  {
   "cell_type": "markdown",
   "metadata": {
    "id": "OVW1wbAyYtYL"
   },
   "source": [
    "# Kolmogorov- Smirnov (KS test)"
   ]
  },
  {
   "cell_type": "markdown",
   "metadata": {
    "id": "q_pHXN9GY-Xf"
   },
   "source": [
    "We assume that the distribution of counts across the different categories is *similar* for both cases (for both samples).\n",
    "\n",
    "By similar here we mean that both samples could have come from the same population.\n",
    "\n",
    "*Assumed hypothesis*\n",
    "\n",
    "> $H_0$: Both samples have the same distribution of cumulative percentages across categories\n",
    "\n",
    "\n",
    "*Alternative hypothesis*\n",
    "\n",
    "> $H_1$: Both samples have different distribution of cumulative percentages across categories"
   ]
  },
  {
   "cell_type": "markdown",
   "metadata": {
    "id": "3nY1L-84EUgk"
   },
   "source": [
    "## Create samples"
   ]
  },
  {
   "cell_type": "code",
   "execution_count": 16,
   "metadata": {},
   "outputs": [
    {
     "data": {
      "text/html": [
       "<div>\n",
       "<style scoped>\n",
       "    .dataframe tbody tr th:only-of-type {\n",
       "        vertical-align: middle;\n",
       "    }\n",
       "\n",
       "    .dataframe tbody tr th {\n",
       "        vertical-align: top;\n",
       "    }\n",
       "\n",
       "    .dataframe thead th {\n",
       "        text-align: right;\n",
       "    }\n",
       "</style>\n",
       "<table border=\"1\" class=\"dataframe\">\n",
       "  <thead>\n",
       "    <tr style=\"text-align: right;\">\n",
       "      <th></th>\n",
       "      <th>sample1</th>\n",
       "      <th>sample2</th>\n",
       "    </tr>\n",
       "    <tr>\n",
       "      <th>acc_level</th>\n",
       "      <th></th>\n",
       "      <th></th>\n",
       "    </tr>\n",
       "  </thead>\n",
       "  <tbody>\n",
       "    <tr>\n",
       "      <th>1</th>\n",
       "      <td>35.0</td>\n",
       "      <td>3440</td>\n",
       "    </tr>\n",
       "    <tr>\n",
       "      <th>2</th>\n",
       "      <td>1.0</td>\n",
       "      <td>111</td>\n",
       "    </tr>\n",
       "    <tr>\n",
       "      <th>3</th>\n",
       "      <td>0.0</td>\n",
       "      <td>30</td>\n",
       "    </tr>\n",
       "    <tr>\n",
       "      <th>4</th>\n",
       "      <td>0.0</td>\n",
       "      <td>14</td>\n",
       "    </tr>\n",
       "    <tr>\n",
       "      <th>5</th>\n",
       "      <td>0.0</td>\n",
       "      <td>2</td>\n",
       "    </tr>\n",
       "  </tbody>\n",
       "</table>\n",
       "</div>"
      ],
      "text/plain": [
       "           sample1  sample2\n",
       "acc_level                  \n",
       "1             35.0     3440\n",
       "2              1.0      111\n",
       "3              0.0       30\n",
       "4              0.0       14\n",
       "5              0.0        2"
      ]
     },
     "execution_count": 16,
     "metadata": {},
     "output_type": "execute_result"
    }
   ],
   "source": [
    "tb1 = smp.acc_level.value_counts()\n",
    "tb2 = rmder.acc_level.value_counts()\n",
    "tbl = (pd.merge(tb1, tb2, how='outer', on='acc_level')\n",
    "         .rename(columns = {'count_x': 'sample1', 'count_y': 'sample2'})\n",
    "         .fillna(0)\n",
    ")\n",
    "tbl"
   ]
  },
  {
   "cell_type": "code",
   "execution_count": 17,
   "metadata": {
    "colab": {
     "base_uri": "https://localhost:8080/",
     "height": 235
    },
    "executionInfo": {
     "elapsed": 2818,
     "status": "ok",
     "timestamp": 1607400547781,
     "user": {
      "displayName": "Marcos Llobera",
      "photoUrl": "",
      "userId": "09511791020344235136"
     },
     "user_tz": 480
    },
    "id": "MxZJp2XThs6O",
    "outputId": "36eb1f59-8463-4423-c363-80b0b386af69"
   },
   "outputs": [
    {
     "data": {
      "text/html": [
       "<div>\n",
       "<style scoped>\n",
       "    .dataframe tbody tr th:only-of-type {\n",
       "        vertical-align: middle;\n",
       "    }\n",
       "\n",
       "    .dataframe tbody tr th {\n",
       "        vertical-align: top;\n",
       "    }\n",
       "\n",
       "    .dataframe thead th {\n",
       "        text-align: right;\n",
       "    }\n",
       "</style>\n",
       "<table border=\"1\" class=\"dataframe\">\n",
       "  <thead>\n",
       "    <tr style=\"text-align: right;\">\n",
       "      <th></th>\n",
       "      <th>sample1</th>\n",
       "      <th>sample2</th>\n",
       "    </tr>\n",
       "    <tr>\n",
       "      <th>acc_level</th>\n",
       "      <th></th>\n",
       "      <th></th>\n",
       "    </tr>\n",
       "  </thead>\n",
       "  <tbody>\n",
       "    <tr>\n",
       "      <th>1</th>\n",
       "      <td>97.222222</td>\n",
       "      <td>95.635252</td>\n",
       "    </tr>\n",
       "    <tr>\n",
       "      <th>2</th>\n",
       "      <td>100.000000</td>\n",
       "      <td>98.721157</td>\n",
       "    </tr>\n",
       "    <tr>\n",
       "      <th>3</th>\n",
       "      <td>100.000000</td>\n",
       "      <td>99.555185</td>\n",
       "    </tr>\n",
       "    <tr>\n",
       "      <th>4</th>\n",
       "      <td>100.000000</td>\n",
       "      <td>99.944398</td>\n",
       "    </tr>\n",
       "    <tr>\n",
       "      <th>5</th>\n",
       "      <td>100.000000</td>\n",
       "      <td>100.000000</td>\n",
       "    </tr>\n",
       "  </tbody>\n",
       "</table>\n",
       "</div>"
      ],
      "text/plain": [
       "              sample1     sample2\n",
       "acc_level                        \n",
       "1           97.222222   95.635252\n",
       "2          100.000000   98.721157\n",
       "3          100.000000   99.555185\n",
       "4          100.000000   99.944398\n",
       "5          100.000000  100.000000"
      ]
     },
     "execution_count": 17,
     "metadata": {},
     "output_type": "execute_result"
    }
   ],
   "source": [
    "rslt = tbl.cumsum()*100 / tbl.sum( axis='index')\n",
    "rslt"
   ]
  },
  {
   "cell_type": "code",
   "execution_count": 18,
   "metadata": {
    "colab": {
     "base_uri": "https://localhost:8080/",
     "height": 280
    },
    "executionInfo": {
     "elapsed": 3083,
     "status": "ok",
     "timestamp": 1607400548058,
     "user": {
      "displayName": "Marcos Llobera",
      "photoUrl": "",
      "userId": "09511791020344235136"
     },
     "user_tz": 480
    },
    "id": "08cVg9eBiHcn",
    "outputId": "06f47a3e-87bc-47dc-e433-b67485bc764c"
   },
   "outputs": [
    {
     "data": {
      "image/png": "[encoded data removed]",
      "text/plain": [
       "<Figure size 640x480 with 1 Axes>"
      ]
     },
     "metadata": {},
     "output_type": "display_data"
    }
   ],
   "source": [
    "_ =rslt.plot(kind='line')"
   ]
  },
  {
   "cell_type": "code",
   "execution_count": 19,
   "metadata": {
    "colab": {
     "base_uri": "https://localhost:8080/"
    },
    "executionInfo": {
     "elapsed": 339,
     "status": "ok",
     "timestamp": 1607400551476,
     "user": {
      "displayName": "Marcos Llobera",
      "photoUrl": "",
      "userId": "09511791020344235136"
     },
     "user_tz": 480
    },
    "id": "ooIcwMY7tOuB",
    "outputId": "82aba983-bfca-4ead-a4c0-c756c7e244f5"
   },
   "outputs": [
    {
     "data": {
      "text/plain": [
       "np.float64(0.07936507936507936)"
      ]
     },
     "execution_count": 19,
     "metadata": {},
     "output_type": "execute_result"
    }
   ],
   "source": [
    "from scipy.stats import ks_2samp\n",
    "\n",
    "ks, p = ks_2samp(tbl.sample1, tbl.sample2)\n",
    "p"
   ]
  }
 ],
 "metadata": {
  "colab": {
   "authorship_tag": "ABX9TyNveTRSsDLWym28PcXB+L0T",
   "collapsed_sections": [
    "eRzrIUtxd84V",
    "yAnBpD6Fn9ft"
   ],
   "mount_file_id": "1wCcU-g6iD8SexV4L1idhm3TylfXwZ7Bu",
   "name": "Lab 11.1 - Simple Statistics.ipynb",
   "provenance": [
    {
     "file_id": "1oq-HwmSReQkSSHhFfehvmwFGRHmtQR5t",
     "timestamp": 1598544570459
    }
   ],
   "toc_visible": true
  },
  "kernelspec": {
   "display_name": "Python 3 (ipykernel)",
   "language": "python",
   "name": "python3"
  },
  "language_info": {
   "codemirror_mode": {
    "name": "ipython",
    "version": 3
   },
   "file_extension": ".py",
   "mimetype": "text/x-python",
   "name": "python",
   "nbconvert_exporter": "python",
   "pygments_lexer": "ipython3",
   "version": "3.11.6"
  }
 },
 "nbformat": 4,
 "nbformat_minor": 4
}
