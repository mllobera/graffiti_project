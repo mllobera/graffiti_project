{
 "cells": [
  {
   "cell_type": "markdown",
   "metadata": {
    "id": "bLUOAZeB68sF"
   },
   "source": [
    "# Matplotlib"
   ]
  },
  {
   "cell_type": "code",
   "execution_count": null,
   "metadata": {},
   "outputs": [],
   "source": []
  }
 ],
 "metadata": {
  "colab": {
   "authorship_tag": "ABX9TyOKyuYJisjfOwSngcwLve09",
   "collapsed_sections": [
    "eRzrIUtxd84V"
   ],
   "mount_file_id": "1wCcU-g6iD8SexV4L1idhm3TylfXwZ7Bu",
   "name": "Lab 8.1 Basic Matplotlib- InstructorCopy.ipynb",
   "provenance": [
    {
     "file_id": "1C2qyoighzoBIOQQO1egIZzgH4-W7yKAf",
     "timestamp": 1603763247321
    },
    {
     "file_id": "1BrTAc8In1CcFww-Jbttopj8GiLXRJzv4",
     "timestamp": 1602545786318
    },
    {
     "file_id": "https://github.com/digarlab/graffiti/blob/master/archy5_235/Lab_2_2_Pandas.ipynb",
     "timestamp": 1598473380782
    }
   ]
  },
  "kernelspec": {
   "display_name": "Python 3 (ipykernel)",
   "language": "python",
   "name": "python3"
  },
  "language_info": {
   "codemirror_mode": {
    "name": "ipython",
    "version": 3
   },
   "file_extension": ".py",
   "mimetype": "text/x-python",
   "name": "python",
   "nbconvert_exporter": "python",
   "pygments_lexer": "ipython3",
   "version": "3.12.5"
  }
 },
 "nbformat": 4,
 "nbformat_minor": 4
}
