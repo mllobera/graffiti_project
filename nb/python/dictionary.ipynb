{
 "cells": [
  {
   "cell_type": "markdown",
   "metadata": {
    "id": "bLUOAZeB68sF"
   },
   "source": [
    "# Dictionary"
   ]
  },
  {
   "cell_type": "markdown",
   "metadata": {
    "id": "18QjTVw4OT3H"
   },
   "source": [
    "Dictionaries are another basic data structure found very often with Python code. Dictionaries allow you to retrieve information very quickly. Each entry is made up of 'key'-'value' combination pairs, connected by a colon character, ':', and separated by the rest of the entries by a comma. \n",
    "- A *Key*: You can use anything for a key *provided* it is **hashable**, that is, it can never change throughout the running of the program. You cannot use a variable, or a list, as a key as by definition these can change, but you can use a string, a number, a tuple and so on.\n",
    "- A  *value*: Anything. You can store anything as a value, even other dictionaries."
   ]
  },
  {
   "cell_type": "markdown",
   "metadata": {},
   "source": [
    "A dictionary is always enclosed by curly brackets {} as follows,\n",
    "\n",
    "> dictionary = {key : value,...}\n",
    "\n",
    "For instance,"
   ]
  },
  {
   "cell_type": "code",
   "execution_count": 1,
   "metadata": {
    "colab": {
     "base_uri": "https://localhost:8080/"
    },
    "executionInfo": {
     "elapsed": 418,
     "status": "ok",
     "timestamp": 1602114982948,
     "user": {
      "displayName": "Marcos Llobera",
      "photoUrl": "",
      "userId": "09511791020344235136"
     },
     "user_tz": 420
    },
    "id": "w5n09pzXzhYv",
    "outputId": "2ba7b6ad-431b-45a8-d917-5b9d33df5e1a"
   },
   "outputs": [
    {
     "data": {
      "text/plain": [
       "{'course': 'Exploring Graffiti',\n",
       " 'code': 'Archy235',\n",
       " 'term': 'Fall',\n",
       " 'n_students': 75}"
      ]
     },
     "execution_count": 1,
     "metadata": {},
     "output_type": "execute_result"
    }
   ],
   "source": [
    "dct = { 'course': 'Exploring Graffiti', 'code': 'Archy235',\n",
    "       'term': 'Fall','n_students': 75}\n",
    "dct"
   ]
  },
  {
   "cell_type": "markdown",
   "metadata": {},
   "source": [
    "It is also possible to generate a dictionary by combining two [lists](list.ipynb) using a the ['zip()'](https://www.geeksforgeeks.org/zip-in-python/) python function like this,"
   ]
  },
  {
   "cell_type": "code",
   "execution_count": 2,
   "metadata": {
    "colab": {
     "base_uri": "https://localhost:8080/"
    },
    "executionInfo": {
     "elapsed": 588,
     "status": "ok",
     "timestamp": 1602115359018,
     "user": {
      "displayName": "Marcos Llobera",
      "photoUrl": "",
      "userId": "09511791020344235136"
     },
     "user_tz": 420
    },
    "id": "ofk4sp1X0dMe",
    "outputId": "04f73f96-14f9-4fca-e684-f345070752e5"
   },
   "outputs": [
    {
     "data": {
      "text/plain": [
       "{'course': 'Exploring Graffiti',\n",
       " 'code': 'Archy235',\n",
       " 'year': 2020,\n",
       " 'term': 'Fall',\n",
       " 'number of students': 75}"
      ]
     },
     "execution_count": 2,
     "metadata": {},
     "output_type": "execute_result"
    }
   ],
   "source": [
    "fields = ['course', 'code', 'year', 'term', 'number of students']\n",
    "values = ['Exploring Graffiti', 'Archy235', 2020, 'Fall', 75]\n",
    "dct = dict(zip(fields, values))\n",
    "dct"
   ]
  },
  {
   "cell_type": "markdown",
   "metadata": {
    "id": "xima94Gn_PfX"
   },
   "source": [
    "### Accesing information in a dictionary"
   ]
  },
  {
   "cell_type": "markdown",
   "metadata": {},
   "source": [
    "To access information that is *indexed* by a key use the name of the dictionary followed by the key enclosed by square brackets '[ ]',"
   ]
  },
  {
   "cell_type": "code",
   "execution_count": 3,
   "metadata": {
    "colab": {
     "base_uri": "https://localhost:8080/",
     "height": 34
    },
    "executionInfo": {
     "elapsed": 1270,
     "status": "ok",
     "timestamp": 1600372855878,
     "user": {
      "displayName": "Marcos Llobera",
      "photoUrl": "",
      "userId": "09511791020344235136"
     },
     "user_tz": 420
    },
    "id": "VMV-fpkvtiZR",
    "outputId": "90f6b3cd-d0a5-4d3f-f223-9c34e392825a"
   },
   "outputs": [
    {
     "data": {
      "text/plain": [
       "'Exploring Graffiti'"
      ]
     },
     "execution_count": 3,
     "metadata": {},
     "output_type": "execute_result"
    }
   ],
   "source": [
    "dct['course']"
   ]
  },
  {
   "cell_type": "code",
   "execution_count": 4,
   "metadata": {
    "colab": {
     "base_uri": "https://localhost:8080/",
     "height": 34
    },
    "executionInfo": {
     "elapsed": 1270,
     "status": "ok",
     "timestamp": 1600372855878,
     "user": {
      "displayName": "Marcos Llobera",
      "photoUrl": "",
      "userId": "09511791020344235136"
     },
     "user_tz": 420
    },
    "id": "VMV-fpkvtiZR",
    "outputId": "90f6b3cd-d0a5-4d3f-f223-9c34e392825a"
   },
   "outputs": [
    {
     "data": {
      "text/plain": [
       "'Archy235'"
      ]
     },
     "execution_count": 4,
     "metadata": {},
     "output_type": "execute_result"
    }
   ],
   "source": [
    "dct['code']"
   ]
  },
  {
   "cell_type": "markdown",
   "metadata": {},
   "source": [
    "## Nested Dictionaries"
   ]
  },
  {
   "cell_type": "markdown",
   "metadata": {
    "id": "vDld2HlquV6e"
   },
   "source": [
    "It is possible to have a dictionary inside another dictionary like in this example,"
   ]
  },
  {
   "cell_type": "code",
   "execution_count": 5,
   "metadata": {
    "colab": {
     "base_uri": "https://localhost:8080/",
     "height": 51
    },
    "executionInfo": {
     "elapsed": 1181,
     "status": "ok",
     "timestamp": 1600372855882,
     "user": {
      "displayName": "Marcos Llobera",
      "photoUrl": "",
      "userId": "09511791020344235136"
     },
     "user_tz": 420
    },
    "id": "KlRkU1E980Cl",
    "outputId": "c80cb729-bf8d-43ee-a6fd-68415e8e0ef6"
   },
   "outputs": [],
   "source": [
    "address = {'Street': 'Greenwood Ave N',\n",
    "           'Number': 8745,\n",
    "           'City': 'Seattle'}\n",
    "personal_info = {'Name': 'James Jones',\n",
    "                'address': address}"
   ]
  },
  {
   "cell_type": "code",
   "execution_count": 6,
   "metadata": {
    "id": "uztpN1i5_zQR"
   },
   "outputs": [
    {
     "data": {
      "text/plain": [
       "{'Name': 'James Jones',\n",
       " 'address': {'Street': 'Greenwood Ave N', 'Number': 8745, 'City': 'Seattle'}}"
      ]
     },
     "execution_count": 6,
     "metadata": {},
     "output_type": "execute_result"
    }
   ],
   "source": [
    "personal_info"
   ]
  },
  {
   "cell_type": "markdown",
   "metadata": {},
   "source": [
    "Here, 'personal_info' dictionary contains amongst its values another dictionary ('address'). You can access the latter dictionary the same way you access any value,"
   ]
  },
  {
   "cell_type": "code",
   "execution_count": 7,
   "metadata": {
    "id": "VQ_R8ekH86wc"
   },
   "outputs": [
    {
     "data": {
      "text/plain": [
       "{'Street': 'Greenwood Ave N', 'Number': 8745, 'City': 'Seattle'}"
      ]
     },
     "execution_count": 7,
     "metadata": {},
     "output_type": "execute_result"
    }
   ],
   "source": [
    "personal_info['address']"
   ]
  },
  {
   "cell_type": "code",
   "execution_count": 8,
   "metadata": {
    "id": "FNU9wXJV8-Hv"
   },
   "outputs": [
    {
     "data": {
      "text/plain": [
       "'Seattle'"
      ]
     },
     "execution_count": 8,
     "metadata": {},
     "output_type": "execute_result"
    }
   ],
   "source": [
    "personal_info['address']['City']"
   ]
  },
  {
   "cell_type": "markdown",
   "metadata": {
    "id": "9eCo2NtBtyjN"
   },
   "source": [
    "## Dictionary operations"
   ]
  },
  {
   "cell_type": "markdown",
   "metadata": {
    "id": "yd2dCgFnh2CC",
    "jp-MarkdownHeadingCollapsed": true
   },
   "source": [
    "There are several operations we can do with dictionaries in order to extend them, delete entries or copy them.\n",
    "\n",
    "**Add a new entry**"
   ]
  },
  {
   "cell_type": "code",
   "execution_count": 9,
   "metadata": {
    "colab": {
     "base_uri": "https://localhost:8080/",
     "height": 136
    },
    "executionInfo": {
     "elapsed": 1256,
     "status": "ok",
     "timestamp": 1600372855879,
     "user": {
      "displayName": "Marcos Llobera",
      "photoUrl": "",
      "userId": "09511791020344235136"
     },
     "user_tz": 420
    },
    "id": "PoSn7bUauN_d",
    "outputId": "085e310f-a10d-46a5-89b2-7e036961c984",
    "scrolled": true
   },
   "outputs": [
    {
     "data": {
      "text/plain": [
       "{'course': 'Exploring Graffiti',\n",
       " 'code': 'Archy235',\n",
       " 'year': 2020,\n",
       " 'term': 'Fall',\n",
       " 'number of students': 75,\n",
       " 'meeting days': ['M', 'Tu', 'W', 'Th'],\n",
       " 'writing credit': False}"
      ]
     },
     "execution_count": 9,
     "metadata": {},
     "output_type": "execute_result"
    }
   ],
   "source": [
    "dct['meeting days'] = ['M', 'Tu', 'W', 'Th']\n",
    "dct['writing credit'] = False\n",
    "dct"
   ]
  },
  {
   "cell_type": "markdown",
   "metadata": {},
   "source": [
    "**Delete an entry**"
   ]
  },
  {
   "cell_type": "code",
   "execution_count": 10,
   "metadata": {
    "colab": {
     "base_uri": "https://localhost:8080/",
     "height": 119
    },
    "executionInfo": {
     "elapsed": 1238,
     "status": "ok",
     "timestamp": 1600372855879,
     "user": {
      "displayName": "Marcos Llobera",
      "photoUrl": "",
      "userId": "09511791020344235136"
     },
     "user_tz": 420
    },
    "id": "mzv1gFrxu2gf",
    "outputId": "340a5f59-bbc2-40f8-8857-f868b1510690",
    "scrolled": true
   },
   "outputs": [
    {
     "data": {
      "text/plain": [
       "{'course': 'Exploring Graffiti',\n",
       " 'code': 'Archy235',\n",
       " 'year': 2020,\n",
       " 'term': 'Fall',\n",
       " 'number of students': 75,\n",
       " 'writing credit': False}"
      ]
     },
     "execution_count": 10,
     "metadata": {},
     "output_type": "execute_result"
    }
   ],
   "source": [
    "del dct['meeting days']\n",
    "dct"
   ]
  },
  {
   "cell_type": "markdown",
   "metadata": {},
   "source": [
    "**Copy a dictionary**"
   ]
  },
  {
   "cell_type": "code",
   "execution_count": 11,
   "metadata": {
    "colab": {
     "base_uri": "https://localhost:8080/",
     "height": 238
    },
    "executionInfo": {
     "elapsed": 1220,
     "status": "ok",
     "timestamp": 1600372855880,
     "user": {
      "displayName": "Marcos Llobera",
      "photoUrl": "",
      "userId": "09511791020344235136"
     },
     "user_tz": 420
    },
    "id": "SwN4UCZt4wWj",
    "outputId": "63a2c510-c3e6-4c27-9572-e90630a8196c",
    "scrolled": true
   },
   "outputs": [],
   "source": [
    "# copy a dictionary\n",
    "new_dct = dct.copy()\n",
    "new_dct['writing credit'] = True"
   ]
  },
  {
   "cell_type": "markdown",
   "metadata": {},
   "source": [
    "*original dictionary*"
   ]
  },
  {
   "cell_type": "code",
   "execution_count": 12,
   "metadata": {},
   "outputs": [
    {
     "data": {
      "text/plain": [
       "{'course': 'Exploring Graffiti',\n",
       " 'code': 'Archy235',\n",
       " 'year': 2020,\n",
       " 'term': 'Fall',\n",
       " 'number of students': 75,\n",
       " 'writing credit': False}"
      ]
     },
     "execution_count": 12,
     "metadata": {},
     "output_type": "execute_result"
    }
   ],
   "source": [
    "dct"
   ]
  },
  {
   "cell_type": "markdown",
   "metadata": {},
   "source": [
    "*dictionary copy*"
   ]
  },
  {
   "cell_type": "code",
   "execution_count": 13,
   "metadata": {
    "colab": {
     "base_uri": "https://localhost:8080/",
     "height": 238
    },
    "executionInfo": {
     "elapsed": 1220,
     "status": "ok",
     "timestamp": 1600372855880,
     "user": {
      "displayName": "Marcos Llobera",
      "photoUrl": "",
      "userId": "09511791020344235136"
     },
     "user_tz": 420
    },
    "id": "SwN4UCZt4wWj",
    "outputId": "63a2c510-c3e6-4c27-9572-e90630a8196c",
    "scrolled": true
   },
   "outputs": [
    {
     "data": {
      "text/plain": [
       "{'course': 'Exploring Graffiti',\n",
       " 'code': 'Archy235',\n",
       " 'year': 2020,\n",
       " 'term': 'Fall',\n",
       " 'number of students': 75,\n",
       " 'writing credit': True}"
      ]
     },
     "execution_count": 13,
     "metadata": {},
     "output_type": "execute_result"
    }
   ],
   "source": [
    "new_dct"
   ]
  },
  {
   "cell_type": "markdown",
   "metadata": {},
   "source": [
    "## Dictionary Methods"
   ]
  },
  {
   "cell_type": "code",
   "execution_count": 14,
   "metadata": {
    "colab": {
     "base_uri": "https://localhost:8080/"
    },
    "executionInfo": {
     "elapsed": 413,
     "status": "ok",
     "timestamp": 1602115367905,
     "user": {
      "displayName": "Marcos Llobera",
      "photoUrl": "",
      "userId": "09511791020344235136"
     },
     "user_tz": 420
    },
    "id": "Lkwk5syn_BQP",
    "outputId": "ec62b8d4-9f4a-4eb0-c4ab-a062b41cc37b"
   },
   "outputs": [
    {
     "data": {
      "text/plain": [
       "{'major': 'Anthro'}"
      ]
     },
     "execution_count": 14,
     "metadata": {},
     "output_type": "execute_result"
    }
   ],
   "source": [
    "# update dct with a new dct\n",
    "dct2 = {'major': 'Anthro'}\n",
    "dct2"
   ]
  },
  {
   "cell_type": "markdown",
   "metadata": {
    "user_expressions": [
     {
      "expression": "len(dct)",
      "result": {
       "data": {
        "text/plain": "6"
       },
       "metadata": {},
       "status": "ok"
      }
     },
     {
      "expression": "dct.keys()",
      "result": {
       "data": {
        "text/plain": "dict_keys(['course', 'code', 'year', 'term', 'number of students', 'writing credit'])"
       },
       "metadata": {},
       "status": "ok"
      }
     },
     {
      "expression": "dct.values()",
      "result": {
       "data": {
        "text/plain": "dict_values(['Exploring Graffiti', 'Archy235', 2020, 'Fall', 75, False])"
       },
       "metadata": {},
       "status": "ok"
      }
     },
     {
      "expression": "dct3",
      "result": {
       "ename": "NameError",
       "evalue": "name 'dct3' is not defined",
       "status": "error",
       "traceback": [
        "\u001b[1;31mNameError\u001b[0m\u001b[1;31m:\u001b[0m name 'dct3' is not defined\n"
       ]
      }
     }
    ]
   },
   "source": [
    ":::{table}\n",
    ":label: methods\n",
    ":align: center\n",
    "\n",
    "|method|explanation|example\n",
    "|:-----:|:-------:|:-----:|\n",
    "|`len(dct)`|returns the number of entries in dictionary|len(dct)\n",
    "|`dct.keys()`| Returns all the keys in a dictionary|dct.keys()|\n",
    "|`dct.values()`|Returns all the values in a dictionary|dct.values()|\n",
    "|`dct.update(dct2)`|Appends the key-values of one dictionary to another|dct.update(dct)|\n",
    ":::"
   ]
  },
  {
   "cell_type": "markdown",
   "metadata": {},
   "source": [
    "## Additional References"
   ]
  },
  {
   "cell_type": "markdown",
   "metadata": {
    "id": "PG53uSU4_6ND"
   },
   "source": [
    "To learn more about [dictionaries](https://www.tutorialspoint.com/python3/python_dictionary.htm)."
   ]
  }
 ],
 "metadata": {
  "colab": {
   "authorship_tag": "ABX9TyNhoov7XmqQhQsMFmctk6HJ",
   "collapsed_sections": [
    "4nJxH2kgGPci"
   ],
   "mount_file_id": "1wCcU-g6iD8SexV4L1idhm3TylfXwZ7Bu",
   "name": "Lab 3.1 - Python Data Structures - InstructorCopy.ipynb",
   "provenance": [
    {
     "file_id": "https://github.com/digarlab/graffiti/blob/master/archy5_235/Lab_1_2_Data_Structures_and_Modules.ipynb",
     "timestamp": 1598295874005
    }
   ],
   "toc_visible": true
  },
  "kernelspec": {
   "display_name": "Python 3 (ipykernel)",
   "language": "python",
   "name": "python3"
  },
  "language_info": {
   "codemirror_mode": {
    "name": "ipython",
    "version": 3
   },
   "file_extension": ".py",
   "mimetype": "text/x-python",
   "name": "python",
   "nbconvert_exporter": "python",
   "pygments_lexer": "ipython3",
   "version": "3.12.5"
  }
 },
 "nbformat": 4,
 "nbformat_minor": 4
}
