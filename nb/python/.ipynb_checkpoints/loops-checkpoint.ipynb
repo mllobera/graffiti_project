{
 "cells": [
  {
   "cell_type": "markdown",
   "metadata": {},
   "source": [
    "# Loops"
   ]
  },
  {
   "cell_type": "markdown",
   "metadata": {
    "id": "0pLXkjX4PDY8"
   },
   "source": [
    "Loops allow us to execute a one or several statements many times. It is one of the things that computers excel at doing: **repeat**, **repeat**,... What makes this so powerful is that each repeat or *iteration* does not need to be exactly the same. This is something that becomes very handy, especially when we are trying to generate many possible scenarios which are similar but not exactly the same.   \n",
    "\n",
    "Python offers two main types of loops: *for-loops* and *while-loops*"
   ]
  },
  {
   "cell_type": "markdown",
   "metadata": {},
   "source": [
    "### For-Loops"
   ]
  },
  {
   "cell_type": "markdown",
   "metadata": {
    "id": "0pLXkjX4PDY8"
   },
   "source": [
    "A *for-loop* is used to iterate over sequences like a list, a string (=list of characters), so on.\n",
    "The basic syntax structure of a *for-loop* is as follows,\n",
    "\n",
    "``` python\n",
    "    for <var/s> in <iterable>:\n",
    "        # body    \n",
    "        <statement/s> \n",
    " ```"
   ]
  },
  {
   "cell_type": "markdown",
   "metadata": {},
   "source": [
    "1. The execution of a *for-loop* will start and look for the first item in the `<iterable>` or sequence object.\n",
    "2. It will check whether it has reached the end of the `<iterable>` or not.\n",
    "3. If it has not, it will execute whatever statement/s are contained withing the body of the loop.\n",
    "4. After executing the statements in the block, it will look for the next item in the `<iterable>` until it reaches the last item."
   ]
  },
  {
   "cell_type": "markdown",
   "metadata": {},
   "source": [
    "#### Examples"
   ]
  },
  {
   "cell_type": "code",
   "execution_count": 1,
   "metadata": {
    "colab": {
     "base_uri": "https://localhost:8080/",
     "height": 34
    },
    "executionInfo": {
     "elapsed": 1087,
     "status": "ok",
     "timestamp": 1602632339857,
     "user": {
      "displayName": "Marcos Llobera",
      "photoUrl": "",
      "userId": "09511791020344235136"
     },
     "user_tz": 420
    },
    "id": "dmKPMnV240VD",
    "outputId": "b01d14a6-e6d0-4288-8952-ff5f4c5328df"
   },
   "outputs": [
    {
     "name": "stdout",
     "output_type": "stream",
     "text": [
      "m .a .r .s .u .p .a .l .a .n .i ."
     ]
    }
   ],
   "source": [
    "name = 'marsupalani'\n",
    "for character in name:\n",
    "  print(f'{character} .', end='')"
   ]
  },
  {
   "cell_type": "code",
   "execution_count": 2,
   "metadata": {},
   "outputs": [
    {
     "name": "stdout",
     "output_type": "stream",
     "text": [
      "Hello, Bashful!\n",
      "Hello, Doc!\n",
      "Hello, Dopey!\n",
      "Hello, Grumpy!\n",
      "Hello, Happy!\n",
      "Hello, Sleepy!\n",
      "Hello, Sneezy!\n"
     ]
    }
   ],
   "source": [
    "dwarves = ['bashful', 'doc', 'dopey', 'grumpy', 'happy', 'sleepy', 'sneezy']\n",
    "for dwarf in dwarves:\n",
    "    print(f'Hello, {dwarf.capitalize()}!') "
   ]
  },
  {
   "cell_type": "markdown",
   "metadata": {
    "id": "wtfB4FIwgYLw"
   },
   "source": [
    "`range()`\n",
    "\n",
    "You can use the Python's built-in function `range()` to generate a sequence of numbers. Its syntax is as follows,\n",
    "```{code}\n",
    "    range([start],stop,[step])\n",
    "```\n",
    "Where parameters enclosed in square brackets `[ ]` are optional (by default start= 0 and step =1). Here are two examples used with *For-loops*."
   ]
  },
  {
   "cell_type": "markdown",
   "metadata": {},
   "source": [
    "```{warning}\n",
    "`range()` will only run up to *stop* minus *step* value. \n",
    "```"
   ]
  },
  {
   "cell_type": "code",
   "execution_count": 3,
   "metadata": {
    "scrolled": true
   },
   "outputs": [
    {
     "name": "stdout",
     "output_type": "stream",
     "text": [
      "The number is  0\n",
      "The number is  1\n",
      "The number is  2\n",
      "The number is  3\n",
      "The number is  4\n",
      "The number is  5\n",
      "The number is  6\n",
      "The number is  7\n",
      "The number is  8\n",
      "The number is  9\n"
     ]
    }
   ],
   "source": [
    "for number in range(10):\n",
    "    print('The number is ', number)"
   ]
  },
  {
   "cell_type": "code",
   "execution_count": 4,
   "metadata": {
    "scrolled": true
   },
   "outputs": [
    {
     "name": "stdout",
     "output_type": "stream",
     "text": [
      "The odd number is  1\n",
      "The odd number is  3\n",
      "The odd number is  5\n",
      "The odd number is  7\n",
      "The odd number is  9\n"
     ]
    }
   ],
   "source": [
    "for odd in range(1,11,2):\n",
    "    print('The odd number is ', odd)"
   ]
  },
  {
   "cell_type": "markdown",
   "metadata": {
    "id": "ASA19iReqt4c"
   },
   "source": [
    "`enumerate()`\n",
    "\n",
    "The Python's built-in function `enumerate()` can be used to enumerate or number any *iterable* or sequence. Its syntax is as follows,\n",
    "```{code}\n",
    "    enumerate(*iterable*, [start])\n",
    "```\n",
    "Where the parameters enclosed in square brackets `[ ]` is optional (by default start= 0). Here is an example that uses two variable in the *For-loop*."
   ]
  },
  {
   "cell_type": "code",
   "execution_count": 5,
   "metadata": {
    "colab": {
     "base_uri": "https://localhost:8080/",
     "height": 136
    },
    "executionInfo": {
     "elapsed": 1443,
     "status": "ok",
     "timestamp": 1602632340337,
     "user": {
      "displayName": "Marcos Llobera",
      "photoUrl": "",
      "userId": "09511791020344235136"
     },
     "user_tz": 420
    },
    "id": "FJ2ci6iBQ5BA",
    "outputId": "264c6849-7c10-4a39-ec9e-016f362cebb5",
    "scrolled": true
   },
   "outputs": [
    {
     "name": "stdout",
     "output_type": "stream",
     "text": [
      " No.1 dwarf is called \"Bashful\"\n",
      " No.2 dwarf is called \"Doc\"\n",
      " No.3 dwarf is called \"Dopey\"\n",
      " No.4 dwarf is called \"Grumpy\"\n",
      " No.5 dwarf is called \"Happy\"\n",
      " No.6 dwarf is called \"Sleepy\"\n",
      " No.7 dwarf is called \"Sneezy\"\n"
     ]
    }
   ],
   "source": [
    "# number all dwarves\n",
    "dwarves = ['bashful', 'doc', 'dopey', 'grumpy', 'happy', 'sleepy', 'sneezy']\n",
    "for position, dwarf in enumerate(dwarves, 1):\n",
    "  print(f' No.{position} dwarf is called \"{dwarf.capitalize()}\"')"
   ]
  },
  {
   "cell_type": "markdown",
   "metadata": {},
   "source": [
    "## While-loops"
   ]
  },
  {
   "cell_type": "markdown",
   "metadata": {},
   "source": [
    "A *While-loop* repeats the execution of a body of statements as long as a certain condition is true. The very basic syntax structure of this loop is as follows,\n",
    "\n",
    "``` python\n",
    "    while <condition>:\n",
    "        # body    \n",
    "        <statement/s> \n",
    " ```"
   ]
  },
  {
   "cell_type": "markdown",
   "metadata": {},
   "source": [
    "1. The execution of the *while-loop* will start by checking if `<condition>` is met.\n",
    "2. If `<condition>` is *True* then it will jump out of the loop and move to the next line in the code. If instead `<condition>` is *False* then the body of statements inside of the loop will be executed.\n",
    "3. Once the body of statements have been executed, the computer will return to the check whether `<condition>` is *True* and so on."
   ]
  },
  {
   "cell_type": "markdown",
   "metadata": {},
   "source": [
    "With *While-loops* the statements making the body of the loop will continue to execute until the `<condition>` is met. Hence it is important that within the body of the loop something changes so that at some point `<condition>` is met."
   ]
  },
  {
   "cell_type": "markdown",
   "metadata": {},
   "source": [
    "#### Examples"
   ]
  },
  {
   "cell_type": "code",
   "execution_count": 6,
   "metadata": {},
   "outputs": [
    {
     "name": "stdout",
     "output_type": "stream",
     "text": [
      "This is an odd number 1\n",
      "This is an odd number 3\n",
      "This is an odd number 5\n",
      "This is an odd number 7\n",
      "This is an odd number 9\n",
      "This is an odd number 11\n",
      "This is an odd number 13\n"
     ]
    }
   ],
   "source": [
    "odd = 1\n",
    "while odd <= 13:\n",
    "    print('This is an odd number', odd)\n",
    "    # Important! Update odd\n",
    "    odd = odd + 2"
   ]
  },
  {
   "cell_type": "code",
   "execution_count": 7,
   "metadata": {},
   "outputs": [
    {
     "name": "stdout",
     "output_type": "stream",
     "text": [
      "this 5 is a random number < 7\n"
     ]
    }
   ],
   "source": [
    "# generate a random number 0- 10\n",
    "from random import randint\n",
    "rnd = randint(0,10)\n",
    "while rnd < 7:\n",
    "    print(f\"this {rnd} is a random number < 7\")\n",
    "    rnd = randint(0,10)"
   ]
  },
  {
   "cell_type": "markdown",
   "metadata": {},
   "source": [
    "## Additional References"
   ]
  },
  {
   "cell_type": "markdown",
   "metadata": {},
   "source": [
    "- To learn more about Python [*For-loops*](https://www.w3schools.com/python/python_for_loops.asp) and [*While-loops*](https://www.w3schools.com/python/python_while_loops.asp)\n",
    "- More on [loops](https://www.geeksforgeeks.org/loops-in-python/#)"
   ]
  },
  {
   "cell_type": "code",
   "execution_count": null,
   "metadata": {},
   "outputs": [],
   "source": []
  }
 ],
 "metadata": {
  "kernelspec": {
   "display_name": "Python 3 (ipykernel)",
   "language": "python",
   "name": "python3"
  },
  "language_info": {
   "codemirror_mode": {
    "name": "ipython",
    "version": 3
   },
   "file_extension": ".py",
   "mimetype": "text/x-python",
   "name": "python",
   "nbconvert_exporter": "python",
   "pygments_lexer": "ipython3",
   "version": "3.12.5"
  }
 },
 "nbformat": 4,
 "nbformat_minor": 4
}
