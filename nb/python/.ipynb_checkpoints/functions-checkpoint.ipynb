{
 "cells": [
  {
   "cell_type": "markdown",
   "metadata": {
    "id": "bLUOAZeB68sF"
   },
   "source": [
    "# Functions"
   ]
  },
  {
   "cell_type": "markdown",
   "metadata": {},
   "source": [
    "Imagine that you want to repeat a long set of operations at different locations in your code. It would not be very useful not to have to write the entirety of these operations over and over. We can use *functions* precisely for that. Write once, use many times! \n",
    "\n",
    "A *function* as a block of organized, reusable code that is used to perform a single, related action. *Functions* provide better modularity and allow for a higher degree of code reuse. \n",
    "\n",
    "You have already been interacting with some of Python's built-in functions like `print()`, several string functions, e.g.` .capitalize()`, `.upper()`, `.replace()`."
   ]
  },
  {
   "cell_type": "markdown",
   "metadata": {},
   "source": [
    "The basic syntax structure of a Python function is as follows:"
   ]
  },
  {
   "cell_type": "markdown",
   "metadata": {},
   "source": [
    "``` python\n",
    "def functionname([<parameters>]):\n",
    "    # body    \n",
    "    <statement/s> \n",
    "    [return <item/s>]\n",
    "```"
   ]
  },
  {
   "cell_type": "markdown",
   "metadata": {},
   "source": [
    "1. We may call a function with or without passing some information, in the way of one or several variables, `<parameters>` into the function. \n",
    "2. A function can, or cannot, return information back. When it returns data it uses the `return` statement."
   ]
  },
  {
   "cell_type": "code",
   "execution_count": 1,
   "metadata": {},
   "outputs": [],
   "source": [
    "# This function does not have parameters and does not return anything\n",
    "def dummy():\n",
    "  ''' Not a very smart function '''\n",
    "  print('Hellouuu World!')"
   ]
  },
  {
   "cell_type": "markdown",
   "metadata": {},
   "source": [
    "```{seealso}\n",
    "The triple single quotes that follow the name of the function are used to document the function. To learn more go to![documentation]()\n",
    "```"
   ]
  },
  {
   "cell_type": "markdown",
   "metadata": {},
   "source": [
    "To call the function, all you need to do is to type the name of the function with parentheses."
   ]
  },
  {
   "cell_type": "code",
   "execution_count": 2,
   "metadata": {
    "scrolled": true
   },
   "outputs": [
    {
     "name": "stdout",
     "output_type": "stream",
     "text": [
      "Hellouuu World!\n"
     ]
    }
   ],
   "source": [
    "dummy()"
   ]
  },
  {
   "cell_type": "markdown",
   "metadata": {},
   "source": [
    "### Parameters/Arguments"
   ]
  },
  {
   "cell_type": "markdown",
   "metadata": {},
   "source": [
    "As mentioned above, functions can receive information (*arguments*) via a set of variables called *parameters*. This allows you to pass on information into the function to be used when executing the body of the function."
   ]
  },
  {
   "cell_type": "code",
   "execution_count": 3,
   "metadata": {},
   "outputs": [],
   "source": [
    "def all_caps(sentence):\n",
    "    '''returns a text with all words capitalized'''\n",
    "    # split sentence into words \n",
    "    words = sentence.split()\n",
    "    \n",
    "    # print each word capitalize with a trailing space. Remove newline after each print.\n",
    "    for word in words:\n",
    "        print(word.capitalize()+\" \", end=\"\")\n"
   ]
  },
  {
   "cell_type": "code",
   "execution_count": 4,
   "metadata": {},
   "outputs": [],
   "source": [
    "txt = \"in a village of la mancha, the name of which I have no desire to call to mind\""
   ]
  },
  {
   "cell_type": "code",
   "execution_count": 5,
   "metadata": {},
   "outputs": [
    {
     "name": "stdout",
     "output_type": "stream",
     "text": [
      "In A Village Of La Mancha, The Name Of Which I Have No Desire To Call To Mind "
     ]
    }
   ],
   "source": [
    "all_caps(txt)"
   ]
  },
  {
   "cell_type": "markdown",
   "metadata": {},
   "source": [
    "Notice a few things:\n",
    "1. The parameter *keyword*, *sentence*, acts like a placeholder.\n",
    "2. We called the function with a different variable than the one defined in the function.\n",
    "3. The parameter *sentence* received the information in *txt*"
   ]
  },
  {
   "cell_type": "markdown",
   "metadata": {},
   "source": [
    "### Keywords"
   ]
  },
  {
   "cell_type": "markdown",
   "metadata": {},
   "source": [
    "A function may have any number of parameters. When calling that function, you will need to specify an *argument* for each parameter. If you do not specify the name of the parameter (i.e. keyword), Python will assign *arguments* based on  the **order** in which they are entered when calling the function. So whatever was entered first will be the *argument* assigned to the first parameter value, the second one to the second parameter value and so on."
   ]
  },
  {
   "cell_type": "code",
   "execution_count": 6,
   "metadata": {},
   "outputs": [],
   "source": [
    "def salutation(title, firstname, lastname):\n",
    "  ''' Prints a capitalized salutation '''\n",
    "  print(f'Hello {title.capitalize()}. {firstname.capitalize()} {lastname.capitalize()}!! Welcome!!')"
   ]
  },
  {
   "cell_type": "code",
   "execution_count": 7,
   "metadata": {},
   "outputs": [
    {
     "name": "stdout",
     "output_type": "stream",
     "text": [
      "Hello Aisworth. Theodore Lord!! Welcome!!\n"
     ]
    }
   ],
   "source": [
    "# call function with wrong order\n",
    "salutation('aisworth','theodore','lord')"
   ]
  },
  {
   "cell_type": "markdown",
   "metadata": {},
   "source": [
    "So we entered the *arguments* in the wrong order and assigned what would be the lastname (ainsworth) to the the title! One way to fix this is to re-arrange how we enter the different *attributes*. Another way is to call the function using *keywords* (i.e. the name of the parameters we used when defining the function) with the *arguments*. We can use keyword/*argument* combination to assign argument values in whatever order we want."
   ]
  },
  {
   "cell_type": "code",
   "execution_count": 8,
   "metadata": {},
   "outputs": [
    {
     "name": "stdout",
     "output_type": "stream",
     "text": [
      "Hello Lord. Theodore Ainsworth!! Welcome!!\n"
     ]
    }
   ],
   "source": [
    "# call function using keyword/argument\n",
    "salutation(lastname='ainsworth', firstname='theodore', title='lord')"
   ]
  },
  {
   "cell_type": "markdown",
   "metadata": {},
   "source": [
    "### Default *Arguments*"
   ]
  },
  {
   "cell_type": "markdown",
   "metadata": {},
   "source": [
    "If certain attributes values are used very frequently, it is a good idea to assign them as default."
   ]
  },
  {
   "cell_type": "code",
   "execution_count": 9,
   "metadata": {},
   "outputs": [],
   "source": [
    "def greeting(name, msg = 'Hello'):\n",
    "  ''' Prints a greeting message followed by a name'''\n",
    "  print(f'{msg}! {name.capitalize()}')"
   ]
  },
  {
   "cell_type": "code",
   "execution_count": 10,
   "metadata": {},
   "outputs": [
    {
     "name": "stdout",
     "output_type": "stream",
     "text": [
      "Hello! Matt\n"
     ]
    }
   ],
   "source": [
    "# Use default value\n",
    "greeting('matt')"
   ]
  },
  {
   "cell_type": "code",
   "execution_count": 11,
   "metadata": {},
   "outputs": [
    {
     "name": "stdout",
     "output_type": "stream",
     "text": [
      "Morning! Matt\n"
     ]
    }
   ],
   "source": [
    "# Overwrite default value\n",
    "greeting('matt', 'Morning')"
   ]
  },
  {
   "cell_type": "code",
   "execution_count": 12,
   "metadata": {},
   "outputs": [
    {
     "name": "stdout",
     "output_type": "stream",
     "text": [
      "Bonjour! Matt\n"
     ]
    }
   ],
   "source": [
    "# using parameter names\n",
    "greeting(msg='Bonjour', name='matt')"
   ]
  },
  {
   "cell_type": "markdown",
   "metadata": {},
   "source": [
    "### Return"
   ]
  },
  {
   "cell_type": "markdown",
   "metadata": {},
   "source": [
    "So far when calling a function we have not really returned any result back. To return something from a function we need to include `return` at the end of our function."
   ]
  },
  {
   "cell_type": "code",
   "execution_count": 13,
   "metadata": {},
   "outputs": [],
   "source": [
    "def all_caps(sentence):\n",
    "    '''returns a text with all words capitalized'''\n",
    "    # split sentence into words \n",
    "    words = sentence.split()\n",
    "    \n",
    "    # initialize sentence capitalized\n",
    "    sentence_in_caps =''\n",
    "\n",
    "    # capitalize each word and add to variable with a space after\n",
    "    for word in words:\n",
    "        sentence_in_caps = sentence_in_caps + ' '+ word.capitalize()\n",
    "\n",
    "    return sentence_in_caps"
   ]
  },
  {
   "cell_type": "code",
   "execution_count": 14,
   "metadata": {},
   "outputs": [],
   "source": [
    "def list_in_caps(sentence):\n",
    "  '''\n",
    "  Capitalizes and print each word in a sentence \n",
    "  '''\n",
    "  for word in sentence.split():\n",
    "    print(word.capitalize())"
   ]
  },
  {
   "cell_type": "code",
   "execution_count": 15,
   "metadata": {},
   "outputs": [],
   "source": [
    "my_txt ='doing data science can be fun'"
   ]
  },
  {
   "cell_type": "code",
   "execution_count": 16,
   "metadata": {},
   "outputs": [
    {
     "name": "stdout",
     "output_type": "stream",
     "text": [
      "Doing\n",
      "Data\n",
      "Science\n",
      "Can\n",
      "Be\n",
      "Fun\n"
     ]
    }
   ],
   "source": [
    "list_in_caps(my_txt)"
   ]
  },
  {
   "cell_type": "code",
   "execution_count": 17,
   "metadata": {},
   "outputs": [
    {
     "name": "stdout",
     "output_type": "stream",
     "text": [
      "Doing\n",
      "Data\n",
      "Science\n",
      "Can\n",
      "Be\n",
      "Fun\n"
     ]
    }
   ],
   "source": [
    "list_in_caps('doing data science can be fun')"
   ]
  },
  {
   "cell_type": "code",
   "execution_count": 18,
   "metadata": {},
   "outputs": [],
   "source": [
    "txt = \"in a village of la mancha, the name of which I have no desire to call to mind\""
   ]
  },
  {
   "cell_type": "code",
   "execution_count": 19,
   "metadata": {},
   "outputs": [],
   "source": [
    "# call function returns a new version of our sentence\n",
    "new_sentence = all_caps(txt)"
   ]
  },
  {
   "cell_type": "code",
   "execution_count": 20,
   "metadata": {},
   "outputs": [
    {
     "data": {
      "text/plain": [
       "' In A Village Of La Mancha, The Name Of Which I Have No Desire To Call To Mind'"
      ]
     },
     "execution_count": 20,
     "metadata": {},
     "output_type": "execute_result"
    }
   ],
   "source": [
    "new_sentence"
   ]
  },
  {
   "cell_type": "markdown",
   "metadata": {},
   "source": [
    " A function can return more than one item."
   ]
  },
  {
   "cell_type": "code",
   "execution_count": 21,
   "metadata": {},
   "outputs": [],
   "source": [
    "def powers(x):\n",
    "  '''\n",
    "  Returns a number(x) raised to the power of 2,3,4\n",
    "  '''\n",
    "  return x**2, x**3, x**4"
   ]
  },
  {
   "cell_type": "code",
   "execution_count": 22,
   "metadata": {},
   "outputs": [],
   "source": [
    "result = powers(2)"
   ]
  },
  {
   "cell_type": "markdown",
   "metadata": {},
   "source": [
    "result"
   ]
  },
  {
   "cell_type": "code",
   "execution_count": 23,
   "metadata": {},
   "outputs": [
    {
     "data": {
      "text/plain": [
       "16"
      ]
     },
     "execution_count": 23,
     "metadata": {},
     "output_type": "execute_result"
    }
   ],
   "source": [
    "result[2]"
   ]
  },
  {
   "cell_type": "code",
   "execution_count": 24,
   "metadata": {
    "scrolled": true
   },
   "outputs": [],
   "source": [
    "p2, p3, p4 = powers(2)"
   ]
  },
  {
   "cell_type": "code",
   "execution_count": 25,
   "metadata": {},
   "outputs": [
    {
     "data": {
      "text/plain": [
       "16"
      ]
     },
     "execution_count": 25,
     "metadata": {},
     "output_type": "execute_result"
    }
   ],
   "source": [
    "p4"
   ]
  },
  {
   "cell_type": "markdown",
   "metadata": {},
   "source": [
    "### Scope"
   ]
  },
  {
   "cell_type": "markdown",
   "metadata": {},
   "source": [
    "Another important aspect of functions is that items such as variables within a function are said to be *local*.  they only maintain their value within the **scope** (i.e. within the body) of the function. "
   ]
  },
  {
   "cell_type": "code",
   "execution_count": 26,
   "metadata": {},
   "outputs": [],
   "source": [
    "def f(x):\n",
    "  '''function illustrates local scope''' \n",
    "  x = x + 2\n",
    "  print('Value of x inside f is', x)\n",
    "  return(x)"
   ]
  },
  {
   "cell_type": "code",
   "execution_count": 27,
   "metadata": {},
   "outputs": [],
   "source": [
    "# initialize x outside function\n",
    "x= 10"
   ]
  },
  {
   "cell_type": "code",
   "execution_count": 28,
   "metadata": {},
   "outputs": [
    {
     "name": "stdout",
     "output_type": "stream",
     "text": [
      "Value of x inside f is 12\n"
     ]
    },
    {
     "data": {
      "text/plain": [
       "12"
      ]
     },
     "execution_count": 28,
     "metadata": {},
     "output_type": "execute_result"
    }
   ],
   "source": [
    "# call function f with x value\n",
    "f(x)"
   ]
  },
  {
   "cell_type": "code",
   "execution_count": 29,
   "metadata": {},
   "outputs": [
    {
     "name": "stdout",
     "output_type": "stream",
     "text": [
      "10\n"
     ]
    }
   ],
   "source": [
    "# print value of x\n",
    "print(x)"
   ]
  },
  {
   "cell_type": "markdown",
   "metadata": {},
   "source": [
    "Even though x was changed inside the function, x outside the function remained unchanged. This is because Python did not use the original variable but instead used a copy of it. To update a variable outside a function you wfollowing in order to update a variable, "
   ]
  },
  {
   "cell_type": "code",
   "execution_count": 30,
   "metadata": {},
   "outputs": [
    {
     "name": "stdout",
     "output_type": "stream",
     "text": [
      "Value of x inside f is 12\n",
      "Value of x is 12\n"
     ]
    }
   ],
   "source": [
    "x= 10\n",
    "# update the value of x with the value returned by f()\n",
    "x= f(x)\n",
    "print('Value of x is',x)"
   ]
  }
 ],
 "metadata": {
  "colab": {
   "authorship_tag": "ABX9TyMW7FO3ggookyi13tLwjQTz",
   "collapsed_sections": [],
   "mount_file_id": "1wCcU-g6iD8SexV4L1idhm3TylfXwZ7Bu",
   "name": "Lab 3.2 - Introduction to Numpy -InstructorCopy.ipynb",
   "provenance": [
    {
     "file_id": "https://github.com/digarlab/graffiti/blob/master/archy5_235/Lab_2_1_Numpy.ipynb",
     "timestamp": 1598473177480
    }
   ],
   "toc_visible": true
  },
  "kernelspec": {
   "display_name": "Python 3 (ipykernel)",
   "language": "python",
   "name": "python3"
  },
  "language_info": {
   "codemirror_mode": {
    "name": "ipython",
    "version": 3
   },
   "file_extension": ".py",
   "mimetype": "text/x-python",
   "name": "python",
   "nbconvert_exporter": "python",
   "pygments_lexer": "ipython3",
   "version": "3.12.5"
  },
  "toc-autonumbering": false,
  "toc-showcode": false,
  "toc-showmarkdowntxt": false
 },
 "nbformat": 4,
 "nbformat_minor": 4
}
