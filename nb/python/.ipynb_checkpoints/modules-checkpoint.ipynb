{
 "cells": [
  {
   "cell_type": "markdown",
   "metadata": {},
   "source": [
    "# Modules and Packages"
   ]
  },
  {
   "cell_type": "markdown",
   "metadata": {},
   "source": [
    "The real power of Python comes from the fact that you can extend its functionality through *modules* and *packages*:\n",
    "* A **Module** is a simple Python file that contains collections of functions and global variables (appears as a file with a .py extension) file.\n",
    "* A **Package** is a directory or folder that typically contains a collection of modules (in addition to modules, the directory or folder will  contain a `__init__.py` file which is how Python identifies it as a package. A package may also contains sub-packages inside it.   \n",
    "\n",
    "Usually *Modules* and *packages* need to be downloaded and installed before we can actually use them. If you are following this book using *jupyterhub* as in this course, this is not something you need to worry about right now. Once a package has been successfully downloaded and installed, we need to bring it into our environment, or **import** it, to be able to start using it. There are several ways of doing this. Here we will show you what are the best way of doing this.\n",
    "\n",
    "We will start with a simple module but before we import it, open the Table of Content on the side and double-click on the `my_module.py` file to open it. Take a look at it. Notice there is nothing much special about it."
   ]
  },
  {
   "cell_type": "code",
   "execution_count": 1,
   "metadata": {},
   "outputs": [],
   "source": [
    "# straight forward import my_module\n",
    "import my_module"
   ]
  },
  {
   "cell_type": "code",
   "execution_count": 2,
   "metadata": {},
   "outputs": [
    {
     "data": {
      "text/plain": [
       "3.14159"
      ]
     },
     "execution_count": 2,
     "metadata": {},
     "output_type": "execute_result"
    }
   ],
   "source": [
    "# run calculate area\n",
    "my_module.calculate_area()"
   ]
  },
  {
   "cell_type": "markdown",
   "metadata": {},
   "source": [
    "### Module abbreviation"
   ]
  },
  {
   "cell_type": "markdown",
   "metadata": {},
   "source": [
    "Sometimes modules or packages have quite long names or perhaps, functions within them are used so frequently that becomes annoying to have to re-type the full name everytime. More importantly, we may have two functions in two different modules or packages that have the same name and we want to be able to differentiate one from another. You can use a module abbreviation to alleviate these problems."
   ]
  },
  {
   "cell_type": "code",
   "execution_count": 3,
   "metadata": {},
   "outputs": [],
   "source": [
    "# import numpy\n",
    "import my_module as mm"
   ]
  },
  {
   "cell_type": "code",
   "execution_count": 4,
   "metadata": {},
   "outputs": [
    {
     "data": {
      "text/plain": [
       "3.14159"
      ]
     },
     "execution_count": 4,
     "metadata": {},
     "output_type": "execute_result"
    }
   ],
   "source": [
    "# recover PI in my_module\n",
    "mm.PI"
   ]
  },
  {
   "cell_type": "code",
   "execution_count": 5,
   "metadata": {},
   "outputs": [
    {
     "data": {
      "text/plain": [
       "28.27431"
      ]
     },
     "execution_count": 5,
     "metadata": {},
     "output_type": "execute_result"
    }
   ],
   "source": [
    "# calculate perimeter of a circle with radius 4.5\n",
    "mm.calculate_perimeter(4.5)"
   ]
  },
  {
   "cell_type": "markdown",
   "metadata": {},
   "source": [
    "```{note}\n",
    "It considered to be **good practice** to use abbreviations, particularly, if your code may be importing from many different modules and packages.\n",
    "```"
   ]
  },
  {
   "cell_type": "markdown",
   "metadata": {},
   "source": [
    "### Selective importing"
   ]
  },
  {
   "cell_type": "markdown",
   "metadata": {},
   "source": [
    "Some modules or packages can be huge and you are not interest in importing the entire in memory. You can import specific information from a module in the following way,\n",
    "\n",
    "``` python\n",
    "    from modulename import object1, object2,...\n",
    "```\n",
    "\n",
    "If you do this, you do not need to prefix the function you are calling with the modulename."
   ]
  },
  {
   "cell_type": "code",
   "execution_count": 6,
   "metadata": {},
   "outputs": [
    {
     "data": {
      "text/plain": [
       "63.617197499999996"
      ]
     },
     "execution_count": 6,
     "metadata": {},
     "output_type": "execute_result"
    }
   ],
   "source": [
    "from my_module import PI, calculate_area\n",
    "\n",
    "# calculate the area of a circle with radius 4.5\n",
    "calculate_area(4.5)"
   ]
  },
  {
   "cell_type": "markdown",
   "metadata": {},
   "source": [
    "```{caution}\n",
    "It is consider to be bad practice to do,\n",
    "``` {code} python\n",
    "    from my_module import *\n",
    "```\n",
    "though you will see it often."
   ]
  },
  {
   "cell_type": "code",
   "execution_count": null,
   "metadata": {},
   "outputs": [],
   "source": []
  }
 ],
 "metadata": {
  "kernelspec": {
   "display_name": "Python 3 (ipykernel)",
   "language": "python",
   "name": "python3"
  },
  "language_info": {
   "codemirror_mode": {
    "name": "ipython",
    "version": 3
   },
   "file_extension": ".py",
   "mimetype": "text/x-python",
   "name": "python",
   "nbconvert_exporter": "python",
   "pygments_lexer": "ipython3",
   "version": "3.12.5"
  }
 },
 "nbformat": 4,
 "nbformat_minor": 4
}
