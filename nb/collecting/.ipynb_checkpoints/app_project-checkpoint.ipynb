{
 "cells": [
  {
   "cell_type": "markdown",
   "id": "d1ff0c26-6a81-496f-87ea-3255ac251b36",
   "metadata": {},
   "source": [
    "# Project Application"
   ]
  },
  {
   "cell_type": "markdown",
   "id": "f73348d4-e5cb-480d-b820-ea1c05e4f9eb",
   "metadata": {},
   "source": [
    "## Installing Epicollect and Joining the Graffiti Project"
   ]
  },
  {
   "cell_type": "markdown",
   "id": "2a465715-a447-47f5-ae0a-f278594f9017",
   "metadata": {},
   "source": [
    "This guide will take you through the steps necessary to collect data for the graffiti project. "
   ]
  },
  {
   "cell_type": "markdown",
   "id": "920b7cef-e7db-489a-b8e0-096f7ee531e3",
   "metadata": {},
   "source": [
    ":::{Note}\n",
    "This is how all of your weekly homework assignments will be submitted, so it is of the utmost importance that you make sure you are registered and signed into the application.\n",
    ":::"
   ]
  },
  {
   "cell_type": "markdown",
   "id": "b92c96b9-9c3b-4fbc-b034-05f1b520d0b0",
   "metadata": {},
   "source": [
    "Here are the steps:\n",
    "- [ ] Activate Google Suite\n",
    "- [ ] Download and install Epicollect5\n",
    "- [ ] Login to Epicollect5 using your UW netid\n",
    "- [ ] Add the Graffiti Project to your app"
   ]
  },
  {
   "cell_type": "markdown",
   "id": "dafe3198-c12d-4d2d-acc6-cbab3500446d",
   "metadata": {},
   "source": [
    "## Step 0 - Making sure you are registered for UW Google Suite"
   ]
  },
  {
   "cell_type": "markdown",
   "id": "b9cb71cb-b672-4b0c-96ce-20ec0606dee9",
   "metadata": {},
   "source": [
    "If you are new to UW or have not had to activate your GSuite for other reasons, you need to do that now! \n",
    "\n",
    "To activate your UW Google account, follow these steps:\n",
    "\n",
    "1. Go to the [Manage UW Google](https://uwnetid.washington.edu/manage/?google) page to activate the service and set your UW Google password. Once activated, your Google login is your_uwnetid@uw.edu (where your_uwnetid is your actual UW NetID).\n",
    "2. If you want to forward your email to UW Gmail, use the [UW NetID manage page](https://uwnetid.washington.edu/manage/?forward) and select “Forward to UW Google”. If you want to use Google without using Google’s email service, you can skip this step. Note to UW Medicine workforce members: You are prohibited from forwarding email to UW Google, as it is not HIPAA compatible. For more information on this policy, please contact comply@uw.edu"
   ]
  },
  {
   "cell_type": "markdown",
   "id": "1ec619f0-2c1a-4a1a-b0f9-815bd48202f6",
   "metadata": {},
   "source": [
    "## Step 1 - Installing Epicollect5"
   ]
  },
  {
   "cell_type": "markdown",
   "id": "9b1464d9-9b78-43b2-a281-bf6ab0d95df2",
   "metadata": {},
   "source": [
    "Epicollect5 is available for free on both Apple and Android devices via the App Store and Google Play Store. Search for it, download it and install it."
   ]
  },
  {
   "cell_type": "code",
   "execution_count": 2,
   "id": "739e4e70-e4cb-4a18-bd47-0c11aea439f2",
   "metadata": {},
   "outputs": [
    {
     "data": {
      "text/plain": [
       "'C:\\\\Python\\\\Projects\\\\graffiti_book\\\\graffiti_project\\\\nb\\\\collecting'"
      ]
     },
     "execution_count": 2,
     "metadata": {},
     "output_type": "execute_result"
    }
   ],
   "source": [
    "%pwd"
   ]
  },
  {
   "cell_type": "markdown",
   "id": "8b9eac37-1892-40b7-b714-dbe12f7f9af2",
   "metadata": {},
   "source": [
    "```{image} ../../images/epicollect/IMG_3703.jpg\n",
    ":alt: melt\n",
    ":align: center\n",
    ":height: 350\n",
    "```"
   ]
  },
  {
   "cell_type": "markdown",
   "id": "1e12d703-e5f9-460a-8956-29081c4611dc",
   "metadata": {},
   "source": [
    "- [X] Activate Google Suite"
   ]
  },
  {
   "cell_type": "markdown",
   "id": "968a04c2-79e6-4b68-81f3-a2c4355c1e87",
   "metadata": {},
   "source": [
    "## Step 2 - Logging into Epicollect5 with your UW credentials"
   ]
  },
  {
   "cell_type": "markdown",
   "id": "fd6c5946-16ad-463f-8a21-67bca6a2c303",
   "metadata": {},
   "source": [
    "When opening Epicollect5 for the first time you should see something like this:[<sup id=\"fn1-back\">1</sup>](#fn1 \"footnote and tooltip 1\")."
   ]
  },
  {
   "cell_type": "markdown",
   "id": "c1186a5d-3df8-4505-be82-57509708c360",
   "metadata": {},
   "source": [
    "```{image} ../../images/epicollect/IMG_1399.jpg\n",
    ":align: center\n",
    ":height: 350\n",
    "```"
   ]
  },
  {
   "cell_type": "markdown",
   "id": "064a4576-15d7-4027-a1fa-61cbac82b4f7",
   "metadata": {},
   "source": [
    "On the left side of the screen, tap the hamburger button to open the menu\n",
    "```{image} ../../images/epicollect/IMG_1400.jpg\n",
    ":align: center\n",
    ":height: 100\n",
    "```"
   ]
  },
  {
   "cell_type": "markdown",
   "id": "83367f86-335e-43d1-9381-2c916de49f82",
   "metadata": {},
   "source": [
    "Select **login**"
   ]
  },
  {
   "cell_type": "markdown",
   "id": "334f57d3-6018-462c-9458-d11fb8093d81",
   "metadata": {},
   "source": [
    "```{image} ../../images/epicollect/IMG_1401.jpg\n",
    ":align: center\n",
    ":height: 350\n",
    "```"
   ]
  },
  {
   "cell_type": "markdown",
   "id": "813f73c3-a7ff-494f-b1f7-723b9de0e92a",
   "metadata": {},
   "source": [
    "Select **Sign in with Google**"
   ]
  },
  {
   "cell_type": "markdown",
   "id": "60d65397-1643-4e30-9108-c0ddfad43d5d",
   "metadata": {},
   "source": [
    "```{image} ../../images/epicollect/IMG_1402.jpg\n",
    ":align: center\n",
    ":height: 350\n",
    "```"
   ]
  },
  {
   "cell_type": "markdown",
   "id": "8b03bf2c-fe4b-40c1-9183-807832d7b57c",
   "metadata": {},
   "source": [
    "Select **Continue**"
   ]
  },
  {
   "cell_type": "markdown",
   "id": "a7bcf252-1c7d-4dc0-9d3e-fc6eebbc39d2",
   "metadata": {},
   "source": [
    "```{image} ../../images/epicollect/IMG_1403.jpg\n",
    ":align: center\n",
    ":height: 350\n",
    "```"
   ]
  },
  {
   "cell_type": "markdown",
   "id": "e9c3adcc-9f7a-4231-a0f1-6562d75ade46",
   "metadata": {},
   "source": [
    "Using your UW netid and password, log in to Epicollect5"
   ]
  },
  {
   "cell_type": "markdown",
   "id": "ea63d320-1fd4-4db7-bec9-10388a143393",
   "metadata": {},
   "source": [
    "```{image} ../../images/epicollect/IMG_1404.png\n",
    ":align: center\n",
    ":height: 350\n",
    "```"
   ]
  },
  {
   "cell_type": "markdown",
   "id": "0e869cf3-e27f-44af-9d28-f0682b720b5e",
   "metadata": {},
   "source": [
    "You should now see your name, welcoming you to the app"
   ]
  },
  {
   "cell_type": "markdown",
   "id": "fb7652e7-ac32-407e-9880-93c623fdfe4b",
   "metadata": {},
   "source": [
    "```{image} ../../images/epicollect/IMG_1405.png\n",
    ":height: 350\n",
    "```"
   ]
  },
  {
   "cell_type": "markdown",
   "id": "f092cda0-6fe7-4a74-bfc3-de96729e25c7",
   "metadata": {},
   "source": [
    "[<sup id=\"fn1\">1</sup>](#fn1-back) I will be using the Apple version for these screenshots, but it should be almost identical for Android/Google devices. Ask the TA if there are any difficulties\n",
    "\n",
    "- [X] Login to Epicollect5 using your UW netid"
   ]
  },
  {
   "cell_type": "markdown",
   "id": "ce2143ce-47e9-4916-b0f3-f82acb26afc3",
   "metadata": {},
   "source": [
    "## Step 3 - Adding the Graffiti Project to Epicollect5"
   ]
  },
  {
   "cell_type": "markdown",
   "id": "233b69d1-fc45-425e-bd8b-9e43471ed820",
   "metadata": {},
   "source": [
    "Click on Add Project at the top right of your screen"
   ]
  },
  {
   "cell_type": "markdown",
   "id": "9d7d41e0-daa5-4451-8d03-89dd5d988a15",
   "metadata": {},
   "source": [
    "```{image} ../../images/epicollect/IMG_1406.jpg\n",
    ":align: center\n",
    ":height: 75\n",
    "```"
   ]
  },
  {
   "cell_type": "markdown",
   "id": "e85dd73a-192e-4ced-910f-45041c1fbef6",
   "metadata": {},
   "source": [
    "Type in Graffiti Project in the search bar- your UW netid should already be registered from the course roster: if you are unable to successfully add this project please let your TA or Professor know **ASAP**"
   ]
  },
  {
   "cell_type": "markdown",
   "id": "e8be089a-8c97-4966-b323-d3b4dc2ab99c",
   "metadata": {},
   "source": [
    "```{image} ../../images/epicollect/IMG_1407.png\n",
    ":align: center\n",
    ":height: 350\n",
    "```"
   ]
  },
  {
   "cell_type": "markdown",
   "id": "7d002a9a-f58d-4448-96be-c61486f18519",
   "metadata": {},
   "source": [
    "- [X] Add the Graffiti Project to your app"
   ]
  }
 ],
 "metadata": {
  "kernelspec": {
   "display_name": "Python 3 (ipykernel)",
   "language": "python",
   "name": "python3"
  },
  "language_info": {
   "codemirror_mode": {
    "name": "ipython",
    "version": 3
   },
   "file_extension": ".py",
   "mimetype": "text/x-python",
   "name": "python",
   "nbconvert_exporter": "python",
   "pygments_lexer": "ipython3",
   "version": "3.12.5"
  }
 },
 "nbformat": 4,
 "nbformat_minor": 5
}
