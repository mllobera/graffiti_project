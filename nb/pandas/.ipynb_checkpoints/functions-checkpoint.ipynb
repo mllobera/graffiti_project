{
 "cells": [
  {
   "cell_type": "markdown",
   "metadata": {
    "id": "bLUOAZeB68sF",
    "tags": []
   },
   "source": [
    "# Functions"
   ]
  },
  {
   "cell_type": "markdown",
   "metadata": {},
   "source": [
    "Applying made functions using the [`.apply()`](https://pandas.pydata.org/pandas-docs/stable/reference/api/pandas.DataFrame.apply.html) to a Pandas column or Series can be challenging to understand. You will use a made up DataFrame to learn how to do this step by step. First you will apply a function to a Series (and it will return a Series) by dealing with the Series alone. You will then learn how to do the same without separating the Series from the DataFrame. "
   ]
  },
  {
   "cell_type": "code",
   "execution_count": 1,
   "metadata": {},
   "outputs": [],
   "source": [
    "import pandas as pd"
   ]
  },
  {
   "cell_type": "code",
   "execution_count": 2,
   "metadata": {
    "scrolled": true
   },
   "outputs": [
    {
     "data": {
      "text/html": [
       "<div>\n",
       "<style scoped>\n",
       "    .dataframe tbody tr th:only-of-type {\n",
       "        vertical-align: middle;\n",
       "    }\n",
       "\n",
       "    .dataframe tbody tr th {\n",
       "        vertical-align: top;\n",
       "    }\n",
       "\n",
       "    .dataframe thead th {\n",
       "        text-align: right;\n",
       "    }\n",
       "</style>\n",
       "<table border=\"1\" class=\"dataframe\">\n",
       "  <thead>\n",
       "    <tr style=\"text-align: right;\">\n",
       "      <th></th>\n",
       "      <th>EmployeeName</th>\n",
       "      <th>Department</th>\n",
       "      <th>HireDate</th>\n",
       "      <th>Sex</th>\n",
       "      <th>Birthdate</th>\n",
       "      <th>Weight</th>\n",
       "      <th>Height</th>\n",
       "      <th>Kids</th>\n",
       "    </tr>\n",
       "  </thead>\n",
       "  <tbody>\n",
       "    <tr>\n",
       "      <th>0</th>\n",
       "      <td>Callen Dunkley</td>\n",
       "      <td>Accounting</td>\n",
       "      <td>2010</td>\n",
       "      <td>M</td>\n",
       "      <td>04/09/1982</td>\n",
       "      <td>78</td>\n",
       "      <td>176</td>\n",
       "      <td>2</td>\n",
       "    </tr>\n",
       "    <tr>\n",
       "      <th>1</th>\n",
       "      <td>Sarah Rayner</td>\n",
       "      <td>Engineering</td>\n",
       "      <td>2018</td>\n",
       "      <td>F</td>\n",
       "      <td>14/04/1981</td>\n",
       "      <td>80</td>\n",
       "      <td>160</td>\n",
       "      <td>1</td>\n",
       "    </tr>\n",
       "    <tr>\n",
       "      <th>2</th>\n",
       "      <td>Jeanette Sloan</td>\n",
       "      <td>Engineering</td>\n",
       "      <td>2012</td>\n",
       "      <td>F</td>\n",
       "      <td>06/05/1997</td>\n",
       "      <td>66</td>\n",
       "      <td>169</td>\n",
       "      <td>0</td>\n",
       "    </tr>\n",
       "    <tr>\n",
       "      <th>3</th>\n",
       "      <td>Kaycee Acosta</td>\n",
       "      <td>HR</td>\n",
       "      <td>2014</td>\n",
       "      <td>F</td>\n",
       "      <td>08/01/1986</td>\n",
       "      <td>67</td>\n",
       "      <td>157</td>\n",
       "      <td>1</td>\n",
       "    </tr>\n",
       "    <tr>\n",
       "      <th>4</th>\n",
       "      <td>Henri Conroy</td>\n",
       "      <td>HR</td>\n",
       "      <td>2014</td>\n",
       "      <td>M</td>\n",
       "      <td>10/10/1988</td>\n",
       "      <td>90</td>\n",
       "      <td>185</td>\n",
       "      <td>1</td>\n",
       "    </tr>\n",
       "    <tr>\n",
       "      <th>5</th>\n",
       "      <td>Emma Peralta</td>\n",
       "      <td>HR</td>\n",
       "      <td>2018</td>\n",
       "      <td>F</td>\n",
       "      <td>12/11/1992</td>\n",
       "      <td>57</td>\n",
       "      <td>164</td>\n",
       "      <td>0</td>\n",
       "    </tr>\n",
       "    <tr>\n",
       "      <th>6</th>\n",
       "      <td>Martin Butt</td>\n",
       "      <td>Data Science</td>\n",
       "      <td>2020</td>\n",
       "      <td>M</td>\n",
       "      <td>10/04/1991</td>\n",
       "      <td>115</td>\n",
       "      <td>195</td>\n",
       "      <td>2</td>\n",
       "    </tr>\n",
       "    <tr>\n",
       "      <th>7</th>\n",
       "      <td>Alex Jensen</td>\n",
       "      <td>Data Science</td>\n",
       "      <td>2018</td>\n",
       "      <td>M</td>\n",
       "      <td>16/07/1995</td>\n",
       "      <td>87</td>\n",
       "      <td>180</td>\n",
       "      <td>0</td>\n",
       "    </tr>\n",
       "    <tr>\n",
       "      <th>8</th>\n",
       "      <td>Kim Howarth</td>\n",
       "      <td>Accounting</td>\n",
       "      <td>2020</td>\n",
       "      <td>M</td>\n",
       "      <td>08/10/1992</td>\n",
       "      <td>95</td>\n",
       "      <td>174</td>\n",
       "      <td>3</td>\n",
       "    </tr>\n",
       "    <tr>\n",
       "      <th>9</th>\n",
       "      <td>Jane Burnett</td>\n",
       "      <td>Data Science</td>\n",
       "      <td>2012</td>\n",
       "      <td>F</td>\n",
       "      <td>11/10/1979</td>\n",
       "      <td>57</td>\n",
       "      <td>165</td>\n",
       "      <td>1</td>\n",
       "    </tr>\n",
       "  </tbody>\n",
       "</table>\n",
       "</div>"
      ],
      "text/plain": [
       "     EmployeeName    Department  HireDate Sex   Birthdate  Weight  Height  \\\n",
       "0  Callen Dunkley    Accounting      2010   M  04/09/1982      78     176   \n",
       "1    Sarah Rayner   Engineering      2018   F  14/04/1981      80     160   \n",
       "2  Jeanette Sloan   Engineering      2012   F  06/05/1997      66     169   \n",
       "3   Kaycee Acosta            HR      2014   F  08/01/1986      67     157   \n",
       "4    Henri Conroy            HR      2014   M  10/10/1988      90     185   \n",
       "5    Emma Peralta            HR      2018   F  12/11/1992      57     164   \n",
       "6     Martin Butt  Data Science      2020   M  10/04/1991     115     195   \n",
       "7     Alex Jensen  Data Science      2018   M  16/07/1995      87     180   \n",
       "8     Kim Howarth    Accounting      2020   M  08/10/1992      95     174   \n",
       "9    Jane Burnett  Data Science      2012   F  11/10/1979      57     165   \n",
       "\n",
       "   Kids  \n",
       "0     2  \n",
       "1     1  \n",
       "2     0  \n",
       "3     1  \n",
       "4     1  \n",
       "5     0  \n",
       "6     2  \n",
       "7     0  \n",
       "8     3  \n",
       "9     1  "
      ]
     },
     "execution_count": 2,
     "metadata": {},
     "output_type": "execute_result"
    }
   ],
   "source": [
    "data = pd.DataFrame({'EmployeeName': ['Callen Dunkley', 'Sarah Rayner', 'Jeanette Sloan', 'Kaycee Acosta', 'Henri Conroy', 'Emma Peralta', 'Martin Butt', 'Alex Jensen', 'Kim Howarth', 'Jane Burnett'],\n",
    "                    'Department': ['Accounting', 'Engineering', 'Engineering', 'HR', 'HR', 'HR', 'Data Science', 'Data Science', 'Accounting', 'Data Science'],\n",
    "                    'HireDate': [2010, 2018, 2012, 2014, 2014, 2018, 2020, 2018, 2020, 2012],\n",
    "                    'Sex': ['M', 'F', 'F', 'F', 'M', 'F', 'M', 'M', 'M', 'F'],\n",
    "                    'Birthdate': ['04/09/1982', '14/04/1981', '06/05/1997', '08/01/1986', '10/10/1988', '12/11/1992', '10/04/1991', '16/07/1995', '08/10/1992', '11/10/1979'],\n",
    "                    'Weight': [78, 80, 66, 67, 90, 57, 115, 87, 95, 57],\n",
    "                    'Height': [176, 160, 169, 157, 185, 164, 195, 180, 174, 165],\n",
    "                    'Kids': [2, 1, 0, 1, 1, 0, 2, 0, 3, 1]\n",
    "                    })\n",
    "data"
   ]
  },
  {
   "cell_type": "markdown",
   "metadata": {},
   "source": [
    "We will create a function that separates the fullname column and returns the first part (the firstname)."
   ]
  },
  {
   "cell_type": "code",
   "execution_count": 3,
   "metadata": {},
   "outputs": [],
   "source": [
    "def get_name(name):\n",
    "    return name.split(' ')[0]"
   ]
  },
  {
   "cell_type": "code",
   "execution_count": 4,
   "metadata": {},
   "outputs": [
    {
     "data": {
      "text/plain": [
       "0      Callen\n",
       "1       Sarah\n",
       "2    Jeanette\n",
       "3      Kaycee\n",
       "4       Henri\n",
       "5        Emma\n",
       "6      Martin\n",
       "7        Alex\n",
       "8         Kim\n",
       "9        Jane\n",
       "Name: EmployeeName, dtype: object"
      ]
     },
     "execution_count": 4,
     "metadata": {},
     "output_type": "execute_result"
    }
   ],
   "source": [
    "# apply function\n",
    "data.EmployeeName.apply(get_name)"
   ]
  },
  {
   "cell_type": "markdown",
   "metadata": {},
   "source": [
    "Let's extend the function so that it can return either the firstname or the lastname."
   ]
  },
  {
   "cell_type": "code",
   "execution_count": 5,
   "metadata": {},
   "outputs": [],
   "source": [
    "# create a function that returns either the firstname or lastname given a series with full name\n",
    "def get_name2(name, first= True):\n",
    "    if first:\n",
    "        return name.split(' ')[0]\n",
    "    else:\n",
    "        return name.split(' ')[1]"
   ]
  },
  {
   "cell_type": "markdown",
   "metadata": {},
   "source": [
    "By default, assumes that the first parameter (in this case *name*) corresponds to the value in each row of the column. the easiest way to provide argument for the second parameter (*first*) is by simply supplying the name of the parameter and the argument after the function."
   ]
  },
  {
   "cell_type": "code",
   "execution_count": 6,
   "metadata": {
    "scrolled": true
   },
   "outputs": [
    {
     "data": {
      "text/plain": [
       "0    Dunkley\n",
       "1     Rayner\n",
       "2      Sloan\n",
       "3     Acosta\n",
       "4     Conroy\n",
       "5    Peralta\n",
       "6       Butt\n",
       "7     Jensen\n",
       "8    Howarth\n",
       "9    Burnett\n",
       "Name: EmployeeName, dtype: object"
      ]
     },
     "execution_count": 6,
     "metadata": {},
     "output_type": "execute_result"
    }
   ],
   "source": [
    "# apply second function by keyword, i.e. using kwargs\n",
    "data.EmployeeName.apply(get_name2, first= False)"
   ]
  },
  {
   "cell_type": "markdown",
   "metadata": {},
   "source": [
    "Next, we want to apply a version of the function without having to singling out the column or Series."
   ]
  },
  {
   "cell_type": "code",
   "execution_count": 7,
   "metadata": {},
   "outputs": [],
   "source": [
    "# create function that  returns either the firstname or lastname given a column in a dataframe containing full name\n",
    "def get_name4(row, first= True):\n",
    "    if first:\n",
    "        return row['EmployeeName'].split(' ')[0]\n",
    "    else:\n",
    "        return row['EmployeeName'].split(' ')[1]"
   ]
  },
  {
   "cell_type": "markdown",
   "metadata": {},
   "source": [
    "The function above is somewhat of a compromise. We have *hardwired* (i.e. fixed) the name of the column within the function to be 'EmployeeName'. The function will look at the each row in the 'EmployeeName'."
   ]
  },
  {
   "cell_type": "markdown",
   "metadata": {},
   "source": [
    "Because you are applying the function to the entire DataFrame, rather than to just a column or Series, we need to tell Pandas along which axis we want to apply the function"
   ]
  },
  {
   "cell_type": "code",
   "execution_count": 10,
   "metadata": {
    "scrolled": true
   },
   "outputs": [
    {
     "data": {
      "text/plain": [
       "0    Dunkley\n",
       "1     Rayner\n",
       "2      Sloan\n",
       "3     Acosta\n",
       "4     Conroy\n",
       "5    Peralta\n",
       "6       Butt\n",
       "7     Jensen\n",
       "8    Howarth\n",
       "9    Burnett\n",
       "dtype: object"
      ]
     },
     "execution_count": 10,
     "metadata": {},
     "output_type": "execute_result"
    }
   ],
   "source": [
    "# apply above function\n",
    "data.apply(get_name4, first= False, axis= 'columns')"
   ]
  },
  {
   "cell_type": "markdown",
   "metadata": {},
   "source": [
    "In the final iteration of the function. The function will be designed so that it can be applied to any column, regardless of its name. To do that, you need to introduce a new parameter, called *col* that will accept as an argument the name of a column or Series."
   ]
  },
  {
   "cell_type": "code",
   "execution_count": 11,
   "metadata": {},
   "outputs": [],
   "source": [
    "# create function that  returns either the firstname or lastname given ANY column in a dataframe containing full name\n",
    "def get_name5(row, col, first= True):\n",
    "    if first:\n",
    "        return row[col].split(' ')[0]\n",
    "    else:\n",
    "        return row[col].split(' ')[1]"
   ]
  },
  {
   "cell_type": "code",
   "execution_count": 12,
   "metadata": {},
   "outputs": [
    {
     "data": {
      "text/plain": [
       "0    Dunkley\n",
       "1     Rayner\n",
       "2      Sloan\n",
       "3     Acosta\n",
       "4     Conroy\n",
       "5    Peralta\n",
       "6       Butt\n",
       "7     Jensen\n",
       "8    Howarth\n",
       "9    Burnett\n",
       "dtype: object"
      ]
     },
     "execution_count": 12,
     "metadata": {},
     "output_type": "execute_result"
    }
   ],
   "source": [
    "# Apply above function\n",
    "data.apply(get_name5, col= 'EmployeeName', first= False, axis= 'columns')"
   ]
  },
  {
   "cell_type": "markdown",
   "metadata": {},
   "source": [
    "To end, we can use our function to generate to new columns in our DataFrame."
   ]
  },
  {
   "cell_type": "code",
   "execution_count": 42,
   "metadata": {},
   "outputs": [],
   "source": [
    "# Apply above function to create a firstname entry in the dataframe\n",
    "data['Firstname'] = data.apply(get_name5, col= 'EmployeeName', first= False, axis= 1)"
   ]
  },
  {
   "cell_type": "code",
   "execution_count": 43,
   "metadata": {},
   "outputs": [],
   "source": [
    "# Apply above function to create a lastname entry in the dataframe\n",
    "data['Lastname'] = data.apply(get_name5, col= 'EmployeeName', axis= 1)"
   ]
  },
  {
   "cell_type": "code",
   "execution_count": 44,
   "metadata": {},
   "outputs": [
    {
     "data": {
      "text/html": [
       "<div>\n",
       "<style scoped>\n",
       "    .dataframe tbody tr th:only-of-type {\n",
       "        vertical-align: middle;\n",
       "    }\n",
       "\n",
       "    .dataframe tbody tr th {\n",
       "        vertical-align: top;\n",
       "    }\n",
       "\n",
       "    .dataframe thead th {\n",
       "        text-align: right;\n",
       "    }\n",
       "</style>\n",
       "<table border=\"1\" class=\"dataframe\">\n",
       "  <thead>\n",
       "    <tr style=\"text-align: right;\">\n",
       "      <th></th>\n",
       "      <th>EmployeeName</th>\n",
       "      <th>Department</th>\n",
       "      <th>HireDate</th>\n",
       "      <th>Sex</th>\n",
       "      <th>Birthdate</th>\n",
       "      <th>Weight</th>\n",
       "      <th>Height</th>\n",
       "      <th>Kids</th>\n",
       "      <th>Firstname</th>\n",
       "      <th>Lastname</th>\n",
       "    </tr>\n",
       "  </thead>\n",
       "  <tbody>\n",
       "    <tr>\n",
       "      <th>0</th>\n",
       "      <td>Callen Dunkley</td>\n",
       "      <td>Accounting</td>\n",
       "      <td>2010</td>\n",
       "      <td>M</td>\n",
       "      <td>04/09/1982</td>\n",
       "      <td>78</td>\n",
       "      <td>176</td>\n",
       "      <td>2</td>\n",
       "      <td>Dunkley</td>\n",
       "      <td>Callen</td>\n",
       "    </tr>\n",
       "    <tr>\n",
       "      <th>1</th>\n",
       "      <td>Sarah Rayner</td>\n",
       "      <td>Engineering</td>\n",
       "      <td>2018</td>\n",
       "      <td>F</td>\n",
       "      <td>14/04/1981</td>\n",
       "      <td>80</td>\n",
       "      <td>160</td>\n",
       "      <td>1</td>\n",
       "      <td>Rayner</td>\n",
       "      <td>Sarah</td>\n",
       "    </tr>\n",
       "    <tr>\n",
       "      <th>2</th>\n",
       "      <td>Jeanette Sloan</td>\n",
       "      <td>Engineering</td>\n",
       "      <td>2012</td>\n",
       "      <td>F</td>\n",
       "      <td>06/05/1997</td>\n",
       "      <td>66</td>\n",
       "      <td>169</td>\n",
       "      <td>0</td>\n",
       "      <td>Sloan</td>\n",
       "      <td>Jeanette</td>\n",
       "    </tr>\n",
       "    <tr>\n",
       "      <th>3</th>\n",
       "      <td>Kaycee Acosta</td>\n",
       "      <td>HR</td>\n",
       "      <td>2014</td>\n",
       "      <td>F</td>\n",
       "      <td>08/01/1986</td>\n",
       "      <td>67</td>\n",
       "      <td>157</td>\n",
       "      <td>1</td>\n",
       "      <td>Acosta</td>\n",
       "      <td>Kaycee</td>\n",
       "    </tr>\n",
       "  </tbody>\n",
       "</table>\n",
       "</div>"
      ],
      "text/plain": [
       "     EmployeeName   Department  HireDate Sex   Birthdate  Weight  Height  \\\n",
       "0  Callen Dunkley   Accounting      2010   M  04/09/1982      78     176   \n",
       "1    Sarah Rayner  Engineering      2018   F  14/04/1981      80     160   \n",
       "2  Jeanette Sloan  Engineering      2012   F  06/05/1997      66     169   \n",
       "3   Kaycee Acosta           HR      2014   F  08/01/1986      67     157   \n",
       "\n",
       "   Kids Firstname  Lastname  \n",
       "0     2   Dunkley    Callen  \n",
       "1     1    Rayner     Sarah  \n",
       "2     0     Sloan  Jeanette  \n",
       "3     1    Acosta    Kaycee  "
      ]
     },
     "execution_count": 44,
     "metadata": {},
     "output_type": "execute_result"
    }
   ],
   "source": [
    "# show results\n",
    "data.head(4)"
   ]
  },
  {
   "cell_type": "markdown",
   "metadata": {},
   "source": [
    "### Additional References"
   ]
  },
  {
   "cell_type": "markdown",
   "metadata": {},
   "source": [
    "- TBD"
   ]
  }
 ],
 "metadata": {
  "colab": {
   "authorship_tag": "ABX9TyOyIvarOTaqLt/SK8+WF1Gx",
   "collapsed_sections": [
    "eRzrIUtxd84V",
    "IPXHRJgRm0ZR",
    "Kk76sMP_epP9",
    "ZFIZGzYShBjC",
    "qkLWZlvxrMXC"
   ],
   "mount_file_id": "1wCcU-g6iD8SexV4L1idhm3TylfXwZ7Bu",
   "name": "Lab 5.1  Groupby()  - InstructorCopy.ipynb",
   "provenance": [
    {
     "file_id": "1BrTAc8In1CcFww-Jbttopj8GiLXRJzv4",
     "timestamp": 1602545786318
    },
    {
     "file_id": "https://github.com/digarlab/graffiti/blob/master/archy5_235/Lab_2_2_Pandas.ipynb",
     "timestamp": 1598473380782
    }
   ]
  },
  "kernelspec": {
   "display_name": "Python 3 (ipykernel)",
   "language": "python",
   "name": "python3"
  },
  "language_info": {
   "codemirror_mode": {
    "name": "ipython",
    "version": 3
   },
   "file_extension": ".py",
   "mimetype": "text/x-python",
   "name": "python",
   "nbconvert_exporter": "python",
   "pygments_lexer": "ipython3",
   "version": "3.12.5"
  }
 },
 "nbformat": 4,
 "nbformat_minor": 4
}
