{
 "cells": [
  {
   "cell_type": "markdown",
   "metadata": {
    "id": "bLUOAZeB68sF"
   },
   "source": [
    "# Accessing Data"
   ]
  },
  {
   "cell_type": "code",
   "execution_count": 1,
   "metadata": {},
   "outputs": [],
   "source": [
    "import pandas as pd"
   ]
  },
  {
   "cell_type": "markdown",
   "metadata": {},
   "source": [
    "Let's create some data to play around."
   ]
  },
  {
   "cell_type": "code",
   "execution_count": 2,
   "metadata": {},
   "outputs": [
    {
     "data": {
      "text/html": [
       "<div>\n",
       "<style scoped>\n",
       "    .dataframe tbody tr th:only-of-type {\n",
       "        vertical-align: middle;\n",
       "    }\n",
       "\n",
       "    .dataframe tbody tr th {\n",
       "        vertical-align: top;\n",
       "    }\n",
       "\n",
       "    .dataframe thead th {\n",
       "        text-align: right;\n",
       "    }\n",
       "</style>\n",
       "<table border=\"1\" class=\"dataframe\">\n",
       "  <thead>\n",
       "    <tr style=\"text-align: right;\">\n",
       "      <th></th>\n",
       "      <th>team</th>\n",
       "      <th>year</th>\n",
       "      <th>wins</th>\n",
       "      <th>draws</th>\n",
       "      <th>losses</th>\n",
       "    </tr>\n",
       "  </thead>\n",
       "  <tbody>\n",
       "    <tr>\n",
       "      <th>0</th>\n",
       "      <td>RealMadrid</td>\n",
       "      <td>2020</td>\n",
       "      <td>26</td>\n",
       "      <td>3</td>\n",
       "      <td>3</td>\n",
       "    </tr>\n",
       "    <tr>\n",
       "      <th>1</th>\n",
       "      <td>FCBarcelona</td>\n",
       "      <td>2020</td>\n",
       "      <td>25</td>\n",
       "      <td>6</td>\n",
       "      <td>6</td>\n",
       "    </tr>\n",
       "    <tr>\n",
       "      <th>2</th>\n",
       "      <td>Sevilla</td>\n",
       "      <td>2020</td>\n",
       "      <td>19</td>\n",
       "      <td>6</td>\n",
       "      <td>6</td>\n",
       "    </tr>\n",
       "    <tr>\n",
       "      <th>3</th>\n",
       "      <td>FCBarcelona</td>\n",
       "      <td>2019</td>\n",
       "      <td>26</td>\n",
       "      <td>9</td>\n",
       "      <td>3</td>\n",
       "    </tr>\n",
       "    <tr>\n",
       "      <th>4</th>\n",
       "      <td>AtleticoMadrid</td>\n",
       "      <td>2019</td>\n",
       "      <td>22</td>\n",
       "      <td>10</td>\n",
       "      <td>6</td>\n",
       "    </tr>\n",
       "    <tr>\n",
       "      <th>5</th>\n",
       "      <td>RealMadrid</td>\n",
       "      <td>2019</td>\n",
       "      <td>21</td>\n",
       "      <td>5</td>\n",
       "      <td>12</td>\n",
       "    </tr>\n",
       "    <tr>\n",
       "      <th>6</th>\n",
       "      <td>FCBarcelona</td>\n",
       "      <td>2018</td>\n",
       "      <td>28</td>\n",
       "      <td>9</td>\n",
       "      <td>1</td>\n",
       "    </tr>\n",
       "    <tr>\n",
       "      <th>7</th>\n",
       "      <td>AtleticoMadrid</td>\n",
       "      <td>2018</td>\n",
       "      <td>23</td>\n",
       "      <td>10</td>\n",
       "      <td>5</td>\n",
       "    </tr>\n",
       "    <tr>\n",
       "      <th>8</th>\n",
       "      <td>RealMadrid</td>\n",
       "      <td>2018</td>\n",
       "      <td>22</td>\n",
       "      <td>10</td>\n",
       "      <td>6</td>\n",
       "    </tr>\n",
       "  </tbody>\n",
       "</table>\n",
       "</div>"
      ],
      "text/plain": [
       "             team  year  wins  draws  losses\n",
       "0      RealMadrid  2020    26      3       3\n",
       "1     FCBarcelona  2020    25      6       6\n",
       "2         Sevilla  2020    19      6       6\n",
       "3     FCBarcelona  2019    26      9       3\n",
       "4  AtleticoMadrid  2019    22     10       6\n",
       "5      RealMadrid  2019    21      5      12\n",
       "6     FCBarcelona  2018    28      9       1\n",
       "7  AtleticoMadrid  2018    23     10       5\n",
       "8      RealMadrid  2018    22     10       6"
      ]
     },
     "execution_count": 2,
     "metadata": {},
     "output_type": "execute_result"
    }
   ],
   "source": [
    "df = pd.DataFrame(data = {'team'  : ['RealMadrid','FCBarcelona', 'Sevilla', 'FCBarcelona','AtleticoMadrid',\n",
    "                                     'RealMadrid', 'FCBarcelona','AtleticoMadrid', 'RealMadrid'],\n",
    "                          'year' : [2020, 2020, 2020, 2019, 2019, 2019, 2018, 2018, 2018],\n",
    "                          'wins'  : [26,25,19,26,22,21,28,23,22],\n",
    "                          'draws' : [3,6,6,9,10,5,9,10,10],\n",
    "                          'losses': [3,6,6,3,6,12,1,5,6]})\n",
    "df"
   ]
  },
  {
   "cell_type": "markdown",
   "metadata": {
    "id": "Z_9grdw6ET2F"
   },
   "source": [
    "There are multitude ways of retrieving information from DataFrames. This can be **very confusing** if you start looking on the internet. You will save yourselves **a lot** of headaches consulting the following section. Let's remind ourselves of the data we have in the DataFrame."
   ]
  },
  {
   "cell_type": "code",
   "execution_count": 3,
   "metadata": {},
   "outputs": [
    {
     "data": {
      "text/html": [
       "<div>\n",
       "<style scoped>\n",
       "    .dataframe tbody tr th:only-of-type {\n",
       "        vertical-align: middle;\n",
       "    }\n",
       "\n",
       "    .dataframe tbody tr th {\n",
       "        vertical-align: top;\n",
       "    }\n",
       "\n",
       "    .dataframe thead th {\n",
       "        text-align: right;\n",
       "    }\n",
       "</style>\n",
       "<table border=\"1\" class=\"dataframe\">\n",
       "  <thead>\n",
       "    <tr style=\"text-align: right;\">\n",
       "      <th></th>\n",
       "      <th>team</th>\n",
       "      <th>year</th>\n",
       "      <th>wins</th>\n",
       "      <th>draws</th>\n",
       "      <th>losses</th>\n",
       "    </tr>\n",
       "  </thead>\n",
       "  <tbody>\n",
       "    <tr>\n",
       "      <th>0</th>\n",
       "      <td>RealMadrid</td>\n",
       "      <td>2020</td>\n",
       "      <td>26</td>\n",
       "      <td>3</td>\n",
       "      <td>3</td>\n",
       "    </tr>\n",
       "    <tr>\n",
       "      <th>1</th>\n",
       "      <td>FCBarcelona</td>\n",
       "      <td>2020</td>\n",
       "      <td>25</td>\n",
       "      <td>6</td>\n",
       "      <td>6</td>\n",
       "    </tr>\n",
       "    <tr>\n",
       "      <th>2</th>\n",
       "      <td>Sevilla</td>\n",
       "      <td>2020</td>\n",
       "      <td>19</td>\n",
       "      <td>6</td>\n",
       "      <td>6</td>\n",
       "    </tr>\n",
       "    <tr>\n",
       "      <th>3</th>\n",
       "      <td>FCBarcelona</td>\n",
       "      <td>2019</td>\n",
       "      <td>26</td>\n",
       "      <td>9</td>\n",
       "      <td>3</td>\n",
       "    </tr>\n",
       "    <tr>\n",
       "      <th>4</th>\n",
       "      <td>AtleticoMadrid</td>\n",
       "      <td>2019</td>\n",
       "      <td>22</td>\n",
       "      <td>10</td>\n",
       "      <td>6</td>\n",
       "    </tr>\n",
       "    <tr>\n",
       "      <th>5</th>\n",
       "      <td>RealMadrid</td>\n",
       "      <td>2019</td>\n",
       "      <td>21</td>\n",
       "      <td>5</td>\n",
       "      <td>12</td>\n",
       "    </tr>\n",
       "    <tr>\n",
       "      <th>6</th>\n",
       "      <td>FCBarcelona</td>\n",
       "      <td>2018</td>\n",
       "      <td>28</td>\n",
       "      <td>9</td>\n",
       "      <td>1</td>\n",
       "    </tr>\n",
       "    <tr>\n",
       "      <th>7</th>\n",
       "      <td>AtleticoMadrid</td>\n",
       "      <td>2018</td>\n",
       "      <td>23</td>\n",
       "      <td>10</td>\n",
       "      <td>5</td>\n",
       "    </tr>\n",
       "    <tr>\n",
       "      <th>8</th>\n",
       "      <td>RealMadrid</td>\n",
       "      <td>2018</td>\n",
       "      <td>22</td>\n",
       "      <td>10</td>\n",
       "      <td>6</td>\n",
       "    </tr>\n",
       "  </tbody>\n",
       "</table>\n",
       "</div>"
      ],
      "text/plain": [
       "             team  year  wins  draws  losses\n",
       "0      RealMadrid  2020    26      3       3\n",
       "1     FCBarcelona  2020    25      6       6\n",
       "2         Sevilla  2020    19      6       6\n",
       "3     FCBarcelona  2019    26      9       3\n",
       "4  AtleticoMadrid  2019    22     10       6\n",
       "5      RealMadrid  2019    21      5      12\n",
       "6     FCBarcelona  2018    28      9       1\n",
       "7  AtleticoMadrid  2018    23     10       5\n",
       "8      RealMadrid  2018    22     10       6"
      ]
     },
     "execution_count": 3,
     "metadata": {},
     "output_type": "execute_result"
    }
   ],
   "source": [
    "df"
   ]
  },
  {
   "cell_type": "markdown",
   "metadata": {
    "id": "8jgHIsvjHiuw"
   },
   "source": [
    "### Selecting Columns (Only)"
   ]
  },
  {
   "cell_type": "code",
   "execution_count": 4,
   "metadata": {
    "colab": {
     "base_uri": "https://localhost:8080/",
     "height": 187
    },
    "executionInfo": {
     "elapsed": 4565,
     "status": "ok",
     "timestamp": 1602551313253,
     "user": {
      "displayName": "Marcos Llobera",
      "photoUrl": "",
      "userId": "09511791020344235136"
     },
     "user_tz": 420
    },
    "id": "hYL9TES72iFf",
    "outputId": "44e6d182-21d8-4f08-8ae1-8b3fc3f63332"
   },
   "outputs": [
    {
     "data": {
      "text/plain": [
       "0    2020\n",
       "1    2020\n",
       "2    2020\n",
       "3    2019\n",
       "4    2019\n",
       "5    2019\n",
       "6    2018\n",
       "7    2018\n",
       "8    2018\n",
       "Name: year, dtype: int64"
      ]
     },
     "execution_count": 4,
     "metadata": {},
     "output_type": "execute_result"
    }
   ],
   "source": [
    "# retrieving a single column (returns a series) df[['year']] returns a DataFrame\n",
    "df['year']"
   ]
  },
  {
   "cell_type": "markdown",
   "metadata": {},
   "source": [
    "Depending on the name of the column, you may be able to access the column using a period followed by the column name right after the name of the DataFrame. However, this will not work if the name of the column includes some space, e.g. 'league wins'"
   ]
  },
  {
   "cell_type": "code",
   "execution_count": 5,
   "metadata": {
    "colab": {
     "base_uri": "https://localhost:8080/",
     "height": 187
    },
    "executionInfo": {
     "elapsed": 4551,
     "status": "ok",
     "timestamp": 1602551313254,
     "user": {
      "displayName": "Marcos Llobera",
      "photoUrl": "",
      "userId": "09511791020344235136"
     },
     "user_tz": 420
    },
    "id": "pEt_q4BKHOPv",
    "outputId": "8adf2618-7417-4dd7-e27e-38a31f7b7fe8",
    "scrolled": true
   },
   "outputs": [
    {
     "data": {
      "text/plain": [
       "0    2020\n",
       "1    2020\n",
       "2    2020\n",
       "3    2019\n",
       "4    2019\n",
       "5    2019\n",
       "6    2018\n",
       "7    2018\n",
       "8    2018\n",
       "Name: year, dtype: int64"
      ]
     },
     "execution_count": 5,
     "metadata": {},
     "output_type": "execute_result"
    }
   ],
   "source": [
    "# retrieving a single column\n",
    "df.year"
   ]
  },
  {
   "cell_type": "markdown",
   "metadata": {},
   "source": [
    "To retrieve more than one entire column you will need to supply a list with the name of the columns you are interested."
   ]
  },
  {
   "cell_type": "code",
   "execution_count": 6,
   "metadata": {
    "colab": {
     "base_uri": "https://localhost:8080/",
     "height": 328
    },
    "executionInfo": {
     "elapsed": 4538,
     "status": "ok",
     "timestamp": 1602551313255,
     "user": {
      "displayName": "Marcos Llobera",
      "photoUrl": "",
      "userId": "09511791020344235136"
     },
     "user_tz": 420
    },
    "id": "hhumnPB72r8f",
    "outputId": "dcb0b8c2-5b7a-4c07-f0f0-06dfaeaf2d6d",
    "scrolled": true
   },
   "outputs": [
    {
     "data": {
      "text/html": [
       "<div>\n",
       "<style scoped>\n",
       "    .dataframe tbody tr th:only-of-type {\n",
       "        vertical-align: middle;\n",
       "    }\n",
       "\n",
       "    .dataframe tbody tr th {\n",
       "        vertical-align: top;\n",
       "    }\n",
       "\n",
       "    .dataframe thead th {\n",
       "        text-align: right;\n",
       "    }\n",
       "</style>\n",
       "<table border=\"1\" class=\"dataframe\">\n",
       "  <thead>\n",
       "    <tr style=\"text-align: right;\">\n",
       "      <th></th>\n",
       "      <th>year</th>\n",
       "      <th>team</th>\n",
       "    </tr>\n",
       "  </thead>\n",
       "  <tbody>\n",
       "    <tr>\n",
       "      <th>0</th>\n",
       "      <td>2020</td>\n",
       "      <td>RealMadrid</td>\n",
       "    </tr>\n",
       "    <tr>\n",
       "      <th>1</th>\n",
       "      <td>2020</td>\n",
       "      <td>FCBarcelona</td>\n",
       "    </tr>\n",
       "    <tr>\n",
       "      <th>2</th>\n",
       "      <td>2020</td>\n",
       "      <td>Sevilla</td>\n",
       "    </tr>\n",
       "    <tr>\n",
       "      <th>3</th>\n",
       "      <td>2019</td>\n",
       "      <td>FCBarcelona</td>\n",
       "    </tr>\n",
       "    <tr>\n",
       "      <th>4</th>\n",
       "      <td>2019</td>\n",
       "      <td>AtleticoMadrid</td>\n",
       "    </tr>\n",
       "    <tr>\n",
       "      <th>5</th>\n",
       "      <td>2019</td>\n",
       "      <td>RealMadrid</td>\n",
       "    </tr>\n",
       "    <tr>\n",
       "      <th>6</th>\n",
       "      <td>2018</td>\n",
       "      <td>FCBarcelona</td>\n",
       "    </tr>\n",
       "    <tr>\n",
       "      <th>7</th>\n",
       "      <td>2018</td>\n",
       "      <td>AtleticoMadrid</td>\n",
       "    </tr>\n",
       "    <tr>\n",
       "      <th>8</th>\n",
       "      <td>2018</td>\n",
       "      <td>RealMadrid</td>\n",
       "    </tr>\n",
       "  </tbody>\n",
       "</table>\n",
       "</div>"
      ],
      "text/plain": [
       "   year            team\n",
       "0  2020      RealMadrid\n",
       "1  2020     FCBarcelona\n",
       "2  2020         Sevilla\n",
       "3  2019     FCBarcelona\n",
       "4  2019  AtleticoMadrid\n",
       "5  2019      RealMadrid\n",
       "6  2018     FCBarcelona\n",
       "7  2018  AtleticoMadrid\n",
       "8  2018      RealMadrid"
      ]
     },
     "execution_count": 6,
     "metadata": {},
     "output_type": "execute_result"
    }
   ],
   "source": [
    "# retrieving more than one column: year, team\n",
    "df[['year', 'team']] "
   ]
  },
  {
   "cell_type": "markdown",
   "metadata": {},
   "source": [
    "## Slicing a DataFrame"
   ]
  },
  {
   "cell_type": "markdown",
   "metadata": {
    "id": "RI8UP19LMumJ",
    "jp-MarkdownHeadingCollapsed": true
   },
   "source": [
    "Whenever you want to go beyond retrieving **entire** columns Pandas offers several ways to access information within a DataFrame:\n",
    "\n",
    "- Use `.loc` when you want access data by making reference to the names of the columns and index (= LABELS). \n",
    "\n",
    "- Use `.iloc` when you want to access data by making reference to its **POSITION** in the DataFrame. Similar to a numpy array."
   ]
  },
  {
   "cell_type": "markdown",
   "metadata": {
    "id": "w_llHLG2IqXq"
   },
   "source": [
    "### Using labels: `.loc()`\n"
   ]
  },
  {
   "cell_type": "code",
   "execution_count": 7,
   "metadata": {
    "id": "jNKlllmu6xzH",
    "scrolled": true
   },
   "outputs": [
    {
     "data": {
      "text/plain": [
       "0        RealMadrid\n",
       "1       FCBarcelona\n",
       "2           Sevilla\n",
       "3       FCBarcelona\n",
       "4    AtleticoMadrid\n",
       "5        RealMadrid\n",
       "6       FCBarcelona\n",
       "7    AtleticoMadrid\n",
       "8        RealMadrid\n",
       "Name: team, dtype: object"
      ]
     },
     "execution_count": 7,
     "metadata": {},
     "output_type": "execute_result"
    }
   ],
   "source": [
    "# return column 'team', similar to df['team'] or df.team\n",
    "df.loc[:, 'team']"
   ]
  },
  {
   "cell_type": "markdown",
   "metadata": {},
   "source": [
    "Above, we use `:` to specify to Pandas we want **all** rows return for column *team*"
   ]
  },
  {
   "cell_type": "code",
   "execution_count": 8,
   "metadata": {
    "colab": {
     "base_uri": "https://localhost:8080/",
     "height": 35
    },
    "executionInfo": {
     "elapsed": 4525,
     "status": "ok",
     "timestamp": 1602551313255,
     "user": {
      "displayName": "Marcos Llobera",
      "photoUrl": "",
      "userId": "09511791020344235136"
     },
     "user_tz": 420
    },
    "id": "YY6yQ-IPKKRR",
    "outputId": "70ac1b11-d8c1-439d-86be-a8d4fc98312d"
   },
   "outputs": [
    {
     "data": {
      "text/plain": [
       "'Sevilla'"
      ]
     },
     "execution_count": 8,
     "metadata": {},
     "output_type": "execute_result"
    }
   ],
   "source": [
    "# Return team in third row\n",
    "df.loc[2, 'team']"
   ]
  },
  {
   "cell_type": "markdown",
   "metadata": {},
   "source": [
    "Above we returned the name of the *team* with an *index* value of 2. Next, we want to return the name of the *team* and the *draws* for that same *index*"
   ]
  },
  {
   "cell_type": "code",
   "execution_count": 9,
   "metadata": {
    "colab": {
     "base_uri": "https://localhost:8080/",
     "height": 68
    },
    "executionInfo": {
     "elapsed": 4514,
     "status": "ok",
     "timestamp": 1602551313256,
     "user": {
      "displayName": "Marcos Llobera",
      "photoUrl": "",
      "userId": "09511791020344235136"
     },
     "user_tz": 420
    },
    "id": "ukPWi68QKh-u",
    "outputId": "199e5b0d-1dbd-4cd1-e355-7938897708fc",
    "scrolled": true
   },
   "outputs": [
    {
     "data": {
      "text/plain": [
       "team     Sevilla\n",
       "draws          6\n",
       "Name: 2, dtype: object"
      ]
     },
     "execution_count": 9,
     "metadata": {},
     "output_type": "execute_result"
    }
   ],
   "source": [
    "# Return team and draws in third row\n",
    "df.loc[2, ['team', 'draws']]"
   ]
  },
  {
   "cell_type": "markdown",
   "metadata": {},
   "source": [
    "Now, we will return all rows for the contiguous columns *year* to *draws* including both ends."
   ]
  },
  {
   "cell_type": "code",
   "execution_count": 10,
   "metadata": {
    "colab": {
     "base_uri": "https://localhost:8080/",
     "height": 328
    },
    "executionInfo": {
     "elapsed": 4896,
     "status": "ok",
     "timestamp": 1602551313649,
     "user": {
      "displayName": "Marcos Llobera",
      "photoUrl": "",
      "userId": "09511791020344235136"
     },
     "user_tz": 420
    },
    "id": "L7RxYfIhK1DQ",
    "outputId": "7a19666f-6e61-4368-f220-64292c13c653",
    "scrolled": true
   },
   "outputs": [
    {
     "data": {
      "text/html": [
       "<div>\n",
       "<style scoped>\n",
       "    .dataframe tbody tr th:only-of-type {\n",
       "        vertical-align: middle;\n",
       "    }\n",
       "\n",
       "    .dataframe tbody tr th {\n",
       "        vertical-align: top;\n",
       "    }\n",
       "\n",
       "    .dataframe thead th {\n",
       "        text-align: right;\n",
       "    }\n",
       "</style>\n",
       "<table border=\"1\" class=\"dataframe\">\n",
       "  <thead>\n",
       "    <tr style=\"text-align: right;\">\n",
       "      <th></th>\n",
       "      <th>year</th>\n",
       "      <th>wins</th>\n",
       "      <th>draws</th>\n",
       "    </tr>\n",
       "  </thead>\n",
       "  <tbody>\n",
       "    <tr>\n",
       "      <th>0</th>\n",
       "      <td>2020</td>\n",
       "      <td>26</td>\n",
       "      <td>3</td>\n",
       "    </tr>\n",
       "    <tr>\n",
       "      <th>1</th>\n",
       "      <td>2020</td>\n",
       "      <td>25</td>\n",
       "      <td>6</td>\n",
       "    </tr>\n",
       "    <tr>\n",
       "      <th>2</th>\n",
       "      <td>2020</td>\n",
       "      <td>19</td>\n",
       "      <td>6</td>\n",
       "    </tr>\n",
       "    <tr>\n",
       "      <th>3</th>\n",
       "      <td>2019</td>\n",
       "      <td>26</td>\n",
       "      <td>9</td>\n",
       "    </tr>\n",
       "    <tr>\n",
       "      <th>4</th>\n",
       "      <td>2019</td>\n",
       "      <td>22</td>\n",
       "      <td>10</td>\n",
       "    </tr>\n",
       "    <tr>\n",
       "      <th>5</th>\n",
       "      <td>2019</td>\n",
       "      <td>21</td>\n",
       "      <td>5</td>\n",
       "    </tr>\n",
       "    <tr>\n",
       "      <th>6</th>\n",
       "      <td>2018</td>\n",
       "      <td>28</td>\n",
       "      <td>9</td>\n",
       "    </tr>\n",
       "    <tr>\n",
       "      <th>7</th>\n",
       "      <td>2018</td>\n",
       "      <td>23</td>\n",
       "      <td>10</td>\n",
       "    </tr>\n",
       "    <tr>\n",
       "      <th>8</th>\n",
       "      <td>2018</td>\n",
       "      <td>22</td>\n",
       "      <td>10</td>\n",
       "    </tr>\n",
       "  </tbody>\n",
       "</table>\n",
       "</div>"
      ],
      "text/plain": [
       "   year  wins  draws\n",
       "0  2020    26      3\n",
       "1  2020    25      6\n",
       "2  2020    19      6\n",
       "3  2019    26      9\n",
       "4  2019    22     10\n",
       "5  2019    21      5\n",
       "6  2018    28      9\n",
       "7  2018    23     10\n",
       "8  2018    22     10"
      ]
     },
     "execution_count": 10,
     "metadata": {},
     "output_type": "execute_result"
    }
   ],
   "source": [
    "# Return all rows showing years, teams and wins\n",
    "df.loc[:, 'year':'draws']"
   ]
  },
  {
   "cell_type": "markdown",
   "metadata": {},
   "source": [
    "Return all rows for columns: *year*, *wins*, *team*"
   ]
  },
  {
   "cell_type": "code",
   "execution_count": 11,
   "metadata": {
    "colab": {
     "base_uri": "https://localhost:8080/",
     "height": 328
    },
    "executionInfo": {
     "elapsed": 4884,
     "status": "ok",
     "timestamp": 1602551313650,
     "user": {
      "displayName": "Marcos Llobera",
      "photoUrl": "",
      "userId": "09511791020344235136"
     },
     "user_tz": 420
    },
    "id": "d93hXMMELHdb",
    "outputId": "3729ccf6-82c7-495e-d1ed-69fa1bc68b45",
    "scrolled": true
   },
   "outputs": [
    {
     "data": {
      "text/html": [
       "<div>\n",
       "<style scoped>\n",
       "    .dataframe tbody tr th:only-of-type {\n",
       "        vertical-align: middle;\n",
       "    }\n",
       "\n",
       "    .dataframe tbody tr th {\n",
       "        vertical-align: top;\n",
       "    }\n",
       "\n",
       "    .dataframe thead th {\n",
       "        text-align: right;\n",
       "    }\n",
       "</style>\n",
       "<table border=\"1\" class=\"dataframe\">\n",
       "  <thead>\n",
       "    <tr style=\"text-align: right;\">\n",
       "      <th></th>\n",
       "      <th>year</th>\n",
       "      <th>wins</th>\n",
       "      <th>team</th>\n",
       "    </tr>\n",
       "  </thead>\n",
       "  <tbody>\n",
       "    <tr>\n",
       "      <th>0</th>\n",
       "      <td>2020</td>\n",
       "      <td>26</td>\n",
       "      <td>RealMadrid</td>\n",
       "    </tr>\n",
       "    <tr>\n",
       "      <th>1</th>\n",
       "      <td>2020</td>\n",
       "      <td>25</td>\n",
       "      <td>FCBarcelona</td>\n",
       "    </tr>\n",
       "    <tr>\n",
       "      <th>2</th>\n",
       "      <td>2020</td>\n",
       "      <td>19</td>\n",
       "      <td>Sevilla</td>\n",
       "    </tr>\n",
       "    <tr>\n",
       "      <th>3</th>\n",
       "      <td>2019</td>\n",
       "      <td>26</td>\n",
       "      <td>FCBarcelona</td>\n",
       "    </tr>\n",
       "    <tr>\n",
       "      <th>4</th>\n",
       "      <td>2019</td>\n",
       "      <td>22</td>\n",
       "      <td>AtleticoMadrid</td>\n",
       "    </tr>\n",
       "    <tr>\n",
       "      <th>5</th>\n",
       "      <td>2019</td>\n",
       "      <td>21</td>\n",
       "      <td>RealMadrid</td>\n",
       "    </tr>\n",
       "    <tr>\n",
       "      <th>6</th>\n",
       "      <td>2018</td>\n",
       "      <td>28</td>\n",
       "      <td>FCBarcelona</td>\n",
       "    </tr>\n",
       "    <tr>\n",
       "      <th>7</th>\n",
       "      <td>2018</td>\n",
       "      <td>23</td>\n",
       "      <td>AtleticoMadrid</td>\n",
       "    </tr>\n",
       "    <tr>\n",
       "      <th>8</th>\n",
       "      <td>2018</td>\n",
       "      <td>22</td>\n",
       "      <td>RealMadrid</td>\n",
       "    </tr>\n",
       "  </tbody>\n",
       "</table>\n",
       "</div>"
      ],
      "text/plain": [
       "   year  wins            team\n",
       "0  2020    26      RealMadrid\n",
       "1  2020    25     FCBarcelona\n",
       "2  2020    19         Sevilla\n",
       "3  2019    26     FCBarcelona\n",
       "4  2019    22  AtleticoMadrid\n",
       "5  2019    21      RealMadrid\n",
       "6  2018    28     FCBarcelona\n",
       "7  2018    23  AtleticoMadrid\n",
       "8  2018    22      RealMadrid"
      ]
     },
     "execution_count": 11,
     "metadata": {},
     "output_type": "execute_result"
    }
   ],
   "source": [
    "# Return all rows showing years, teams and wins\n",
    "df.loc[:, ['year', 'wins', 'team'] ]"
   ]
  },
  {
   "cell_type": "markdown",
   "metadata": {},
   "source": [
    "Return entries in rows with indices 1 through 4 (both included) and columns: *year*, *team*, *losses*, in that order."
   ]
  },
  {
   "cell_type": "code",
   "execution_count": 12,
   "metadata": {},
   "outputs": [
    {
     "data": {
      "text/html": [
       "<div>\n",
       "<style scoped>\n",
       "    .dataframe tbody tr th:only-of-type {\n",
       "        vertical-align: middle;\n",
       "    }\n",
       "\n",
       "    .dataframe tbody tr th {\n",
       "        vertical-align: top;\n",
       "    }\n",
       "\n",
       "    .dataframe thead th {\n",
       "        text-align: right;\n",
       "    }\n",
       "</style>\n",
       "<table border=\"1\" class=\"dataframe\">\n",
       "  <thead>\n",
       "    <tr style=\"text-align: right;\">\n",
       "      <th></th>\n",
       "      <th>year</th>\n",
       "      <th>team</th>\n",
       "      <th>losses</th>\n",
       "    </tr>\n",
       "  </thead>\n",
       "  <tbody>\n",
       "    <tr>\n",
       "      <th>1</th>\n",
       "      <td>2020</td>\n",
       "      <td>FCBarcelona</td>\n",
       "      <td>6</td>\n",
       "    </tr>\n",
       "    <tr>\n",
       "      <th>2</th>\n",
       "      <td>2020</td>\n",
       "      <td>Sevilla</td>\n",
       "      <td>6</td>\n",
       "    </tr>\n",
       "    <tr>\n",
       "      <th>3</th>\n",
       "      <td>2019</td>\n",
       "      <td>FCBarcelona</td>\n",
       "      <td>3</td>\n",
       "    </tr>\n",
       "    <tr>\n",
       "      <th>4</th>\n",
       "      <td>2019</td>\n",
       "      <td>AtleticoMadrid</td>\n",
       "      <td>6</td>\n",
       "    </tr>\n",
       "  </tbody>\n",
       "</table>\n",
       "</div>"
      ],
      "text/plain": [
       "   year            team  losses\n",
       "1  2020     FCBarcelona       6\n",
       "2  2020         Sevilla       6\n",
       "3  2019     FCBarcelona       3\n",
       "4  2019  AtleticoMadrid       6"
      ]
     },
     "execution_count": 12,
     "metadata": {},
     "output_type": "execute_result"
    }
   ],
   "source": [
    "df.loc[1:4,['year', 'team', 'losses']]"
   ]
  },
  {
   "cell_type": "markdown",
   "metadata": {},
   "source": [
    "Return entries for rows with indices: 1, 0, 2 (in that order) and columns: *year*, *team*, *losses*, in that order. "
   ]
  },
  {
   "cell_type": "code",
   "execution_count": 13,
   "metadata": {
    "colab": {
     "base_uri": "https://localhost:8080/",
     "height": 142
    },
    "executionInfo": {
     "elapsed": 4871,
     "status": "ok",
     "timestamp": 1602551313651,
     "user": {
      "displayName": "Marcos Llobera",
      "photoUrl": "",
      "userId": "09511791020344235136"
     },
     "user_tz": 420
    },
    "id": "N_qLNoYT28D-",
    "outputId": "486f5d3d-1786-4004-906b-ba4315ac779c"
   },
   "outputs": [
    {
     "data": {
      "text/html": [
       "<div>\n",
       "<style scoped>\n",
       "    .dataframe tbody tr th:only-of-type {\n",
       "        vertical-align: middle;\n",
       "    }\n",
       "\n",
       "    .dataframe tbody tr th {\n",
       "        vertical-align: top;\n",
       "    }\n",
       "\n",
       "    .dataframe thead th {\n",
       "        text-align: right;\n",
       "    }\n",
       "</style>\n",
       "<table border=\"1\" class=\"dataframe\">\n",
       "  <thead>\n",
       "    <tr style=\"text-align: right;\">\n",
       "      <th></th>\n",
       "      <th>year</th>\n",
       "      <th>team</th>\n",
       "      <th>losses</th>\n",
       "    </tr>\n",
       "  </thead>\n",
       "  <tbody>\n",
       "    <tr>\n",
       "      <th>1</th>\n",
       "      <td>2020</td>\n",
       "      <td>FCBarcelona</td>\n",
       "      <td>6</td>\n",
       "    </tr>\n",
       "    <tr>\n",
       "      <th>0</th>\n",
       "      <td>2020</td>\n",
       "      <td>RealMadrid</td>\n",
       "      <td>3</td>\n",
       "    </tr>\n",
       "    <tr>\n",
       "      <th>2</th>\n",
       "      <td>2020</td>\n",
       "      <td>Sevilla</td>\n",
       "      <td>6</td>\n",
       "    </tr>\n",
       "  </tbody>\n",
       "</table>\n",
       "</div>"
      ],
      "text/plain": [
       "   year         team  losses\n",
       "1  2020  FCBarcelona       6\n",
       "0  2020   RealMadrid       3\n",
       "2  2020      Sevilla       6"
      ]
     },
     "execution_count": 13,
     "metadata": {},
     "output_type": "execute_result"
    }
   ],
   "source": [
    "# Returning a 'block' within the DataFrame.\n",
    "# Return items in years 2020  and columns 'year', 'team', 'losses'\n",
    "df.loc[[1,0,2],['year', 'team', 'losses']]"
   ]
  },
  {
   "cell_type": "markdown",
   "metadata": {
    "id": "U_xbpYJL1eWs"
   },
   "source": [
    "### Using position: `.iloc()`"
   ]
  },
  {
   "cell_type": "markdown",
   "metadata": {},
   "source": [
    "Return all entries in rows 2 to 4 and columns 0 to 3."
   ]
  },
  {
   "cell_type": "code",
   "execution_count": 14,
   "metadata": {
    "colab": {
     "base_uri": "https://localhost:8080/",
     "height": 142
    },
    "executionInfo": {
     "elapsed": 4859,
     "status": "ok",
     "timestamp": 1602551313651,
     "user": {
      "displayName": "Marcos Llobera",
      "photoUrl": "",
      "userId": "09511791020344235136"
     },
     "user_tz": 420
    },
    "id": "ytrpk90YAB5r",
    "outputId": "abaf9910-5aed-4804-b100-e6c5e544f12d",
    "scrolled": true
   },
   "outputs": [
    {
     "data": {
      "text/html": [
       "<div>\n",
       "<style scoped>\n",
       "    .dataframe tbody tr th:only-of-type {\n",
       "        vertical-align: middle;\n",
       "    }\n",
       "\n",
       "    .dataframe tbody tr th {\n",
       "        vertical-align: top;\n",
       "    }\n",
       "\n",
       "    .dataframe thead th {\n",
       "        text-align: right;\n",
       "    }\n",
       "</style>\n",
       "<table border=\"1\" class=\"dataframe\">\n",
       "  <thead>\n",
       "    <tr style=\"text-align: right;\">\n",
       "      <th></th>\n",
       "      <th>team</th>\n",
       "      <th>year</th>\n",
       "      <th>wins</th>\n",
       "      <th>draws</th>\n",
       "    </tr>\n",
       "  </thead>\n",
       "  <tbody>\n",
       "    <tr>\n",
       "      <th>2</th>\n",
       "      <td>Sevilla</td>\n",
       "      <td>2020</td>\n",
       "      <td>19</td>\n",
       "      <td>6</td>\n",
       "    </tr>\n",
       "    <tr>\n",
       "      <th>3</th>\n",
       "      <td>FCBarcelona</td>\n",
       "      <td>2019</td>\n",
       "      <td>26</td>\n",
       "      <td>9</td>\n",
       "    </tr>\n",
       "    <tr>\n",
       "      <th>4</th>\n",
       "      <td>AtleticoMadrid</td>\n",
       "      <td>2019</td>\n",
       "      <td>22</td>\n",
       "      <td>10</td>\n",
       "    </tr>\n",
       "  </tbody>\n",
       "</table>\n",
       "</div>"
      ],
      "text/plain": [
       "             team  year  wins  draws\n",
       "2         Sevilla  2020    19      6\n",
       "3     FCBarcelona  2019    26      9\n",
       "4  AtleticoMadrid  2019    22     10"
      ]
     },
     "execution_count": 14,
     "metadata": {},
     "output_type": "execute_result"
    }
   ],
   "source": [
    "# return block rows 2 to 4 both inclusive, and columns 0 to 3 both inclusive \n",
    "df.iloc[2:5, 0:4]"
   ]
  },
  {
   "cell_type": "markdown",
   "metadata": {},
   "source": [
    "Return the last three rows,"
   ]
  },
  {
   "cell_type": "code",
   "execution_count": 15,
   "metadata": {
    "colab": {
     "base_uri": "https://localhost:8080/",
     "height": 142
    },
    "executionInfo": {
     "elapsed": 4849,
     "status": "ok",
     "timestamp": 1602551313652,
     "user": {
      "displayName": "Marcos Llobera",
      "photoUrl": "",
      "userId": "09511791020344235136"
     },
     "user_tz": 420
    },
    "id": "fW1qThLPyPt8",
    "outputId": "e1defe64-0b1c-4f3d-9bd4-228ea85110c8"
   },
   "outputs": [
    {
     "data": {
      "text/html": [
       "<div>\n",
       "<style scoped>\n",
       "    .dataframe tbody tr th:only-of-type {\n",
       "        vertical-align: middle;\n",
       "    }\n",
       "\n",
       "    .dataframe tbody tr th {\n",
       "        vertical-align: top;\n",
       "    }\n",
       "\n",
       "    .dataframe thead th {\n",
       "        text-align: right;\n",
       "    }\n",
       "</style>\n",
       "<table border=\"1\" class=\"dataframe\">\n",
       "  <thead>\n",
       "    <tr style=\"text-align: right;\">\n",
       "      <th></th>\n",
       "      <th>team</th>\n",
       "      <th>year</th>\n",
       "      <th>wins</th>\n",
       "      <th>draws</th>\n",
       "      <th>losses</th>\n",
       "    </tr>\n",
       "  </thead>\n",
       "  <tbody>\n",
       "    <tr>\n",
       "      <th>6</th>\n",
       "      <td>FCBarcelona</td>\n",
       "      <td>2018</td>\n",
       "      <td>28</td>\n",
       "      <td>9</td>\n",
       "      <td>1</td>\n",
       "    </tr>\n",
       "    <tr>\n",
       "      <th>7</th>\n",
       "      <td>AtleticoMadrid</td>\n",
       "      <td>2018</td>\n",
       "      <td>23</td>\n",
       "      <td>10</td>\n",
       "      <td>5</td>\n",
       "    </tr>\n",
       "    <tr>\n",
       "      <th>8</th>\n",
       "      <td>RealMadrid</td>\n",
       "      <td>2018</td>\n",
       "      <td>22</td>\n",
       "      <td>10</td>\n",
       "      <td>6</td>\n",
       "    </tr>\n",
       "  </tbody>\n",
       "</table>\n",
       "</div>"
      ],
      "text/plain": [
       "             team  year  wins  draws  losses\n",
       "6     FCBarcelona  2018    28      9       1\n",
       "7  AtleticoMadrid  2018    23     10       5\n",
       "8      RealMadrid  2018    22     10       6"
      ]
     },
     "execution_count": 15,
     "metadata": {},
     "output_type": "execute_result"
    }
   ],
   "source": [
    "# this is the same as df.iloc[-3:,:]\n",
    "df.iloc[-3:]"
   ]
  },
  {
   "cell_type": "markdown",
   "metadata": {},
   "source": [
    "```{caution}\n",
    "By default, Pandas creates a integer range type of index. Hence, it can be confusing to understand the difference between `.iloc[1,..]` and `.loc[1,..]`. In the first case we are accessing the **second row** while in the second case, we are accessing the row with *index* equal to 1.\n",
    "```"
   ]
  }
 ],
 "metadata": {
  "colab": {
   "authorship_tag": "ABX9TyNos7oPT+52bZk7G0/IpT7F",
   "collapsed_sections": [
    "k54LaT7J06nu",
    "Di1a6qyx7FLr",
    "BpDjbQqF8GuS"
   ],
   "mount_file_id": "1wCcU-g6iD8SexV4L1idhm3TylfXwZ7Bu",
   "name": "Lab 4.1 - Introduction to Pandas - InstructorCopy.ipynb",
   "provenance": [
    {
     "file_id": "https://github.com/digarlab/graffiti/blob/master/archy5_235/Lab_2_2_Pandas.ipynb",
     "timestamp": 1598473380782
    }
   ]
  },
  "kernelspec": {
   "display_name": "Python 3 (ipykernel)",
   "language": "python",
   "name": "python3"
  },
  "language_info": {
   "codemirror_mode": {
    "name": "ipython",
    "version": 3
   },
   "file_extension": ".py",
   "mimetype": "text/x-python",
   "name": "python",
   "nbconvert_exporter": "python",
   "pygments_lexer": "ipython3",
   "version": "3.12.5"
  }
 },
 "nbformat": 4,
 "nbformat_minor": 4
}
