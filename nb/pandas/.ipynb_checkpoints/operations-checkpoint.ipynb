{
 "cells": [
  {
   "cell_type": "markdown",
   "metadata": {
    "id": "bLUOAZeB68sF",
    "tags": []
   },
   "source": [
    "# Methods"
   ]
  },
  {
   "cell_type": "markdown",
   "metadata": {},
   "source": [
    "Let's read all the information before we can start,"
   ]
  },
  {
   "cell_type": "code",
   "execution_count": 1,
   "metadata": {
    "id": "f-UOz3VGiejt"
   },
   "outputs": [],
   "source": [
    "import pandas as pd"
   ]
  },
  {
   "cell_type": "markdown",
   "metadata": {
    "id": "sbzqy9Sl6r8M",
    "tags": []
   },
   "source": [
    "#### Read csv files"
   ]
  },
  {
   "cell_type": "code",
   "execution_count": 2,
   "metadata": {
    "id": "o_QjhB6zqkrj"
   },
   "outputs": [],
   "source": [
    "from pathlib import Path\n",
    "\n",
    "# creating a relative path to the data folder \n",
    "pth = Path('../../data')"
   ]
  },
  {
   "cell_type": "code",
   "execution_count": 3,
   "metadata": {
    "id": "tzcgv3vZiRuZ",
    "scrolled": true
   },
   "outputs": [],
   "source": [
    "# read canvas csv file into a dataframe \n",
    "canvas = pd.read_csv(pth / 'canvas.csv')"
   ]
  },
  {
   "cell_type": "code",
   "execution_count": 4,
   "metadata": {
    "executionInfo": {
     "elapsed": 37543,
     "status": "ok",
     "timestamp": 1603858937380,
     "user": {
      "displayName": "Marcos Llobera",
      "photoUrl": "",
      "userId": "09511791020344235136"
     },
     "user_tz": 420
    },
    "id": "70evE3aK7Zlw"
   },
   "outputs": [],
   "source": [
    "# read graffito\n",
    "graffiti = pd.read_csv(pth/'graffiti.csv')"
   ]
  },
  {
   "cell_type": "markdown",
   "metadata": {
    "id": "sbzqy9Sl6r8M",
    "tags": []
   },
   "source": [
    "#### Display Data"
   ]
  },
  {
   "cell_type": "code",
   "execution_count": 5,
   "metadata": {},
   "outputs": [],
   "source": [
    "pd.options.display.max_rows = 50"
   ]
  },
  {
   "cell_type": "code",
   "execution_count": 6,
   "metadata": {
    "id": "tzcgv3vZiRuZ"
   },
   "outputs": [
    {
     "data": {
      "text/html": [
       "<div>\n",
       "<style scoped>\n",
       "    .dataframe tbody tr th:only-of-type {\n",
       "        vertical-align: middle;\n",
       "    }\n",
       "\n",
       "    .dataframe tbody tr th {\n",
       "        vertical-align: top;\n",
       "    }\n",
       "\n",
       "    .dataframe thead th {\n",
       "        text-align: right;\n",
       "    }\n",
       "</style>\n",
       "<table border=\"1\" class=\"dataframe\">\n",
       "  <thead>\n",
       "    <tr style=\"text-align: right;\">\n",
       "      <th></th>\n",
       "      <th>id</th>\n",
       "      <th>created_at</th>\n",
       "      <th>uploaded_at</th>\n",
       "      <th>created_by</th>\n",
       "      <th>title</th>\n",
       "      <th>at_canvas</th>\n",
       "      <th>coords</th>\n",
       "      <th>date_entry_canvas</th>\n",
       "      <th>property_type</th>\n",
       "      <th>property_use</th>\n",
       "      <th>surveillance_status</th>\n",
       "      <th>surveillance</th>\n",
       "      <th>canvas_location</th>\n",
       "      <th>canvas_nature</th>\n",
       "      <th>surface_material</th>\n",
       "      <th>graffiti_removal</th>\n",
       "      <th>viewing_potential</th>\n",
       "      <th>accessibility</th>\n",
       "    </tr>\n",
       "  </thead>\n",
       "  <tbody>\n",
       "    <tr>\n",
       "      <th>0</th>\n",
       "      <td>0</td>\n",
       "      <td>2023-11-27 13:35:31-08:00</td>\n",
       "      <td>2023-11-27 13:40:43-08:00</td>\n",
       "      <td>jsomer@uw.edu</td>\n",
       "      <td>11/27/2023 Wall</td>\n",
       "      <td>Y</td>\n",
       "      <td>{'latitude': 47.658577, 'longitude': -122.3176...</td>\n",
       "      <td>11/27/2023</td>\n",
       "      <td>comercial</td>\n",
       "      <td>abandoned</td>\n",
       "      <td>N</td>\n",
       "      <td>[]</td>\n",
       "      <td>street</td>\n",
       "      <td>wall</td>\n",
       "      <td>['concrete']</td>\n",
       "      <td>N</td>\n",
       "      <td>medium</td>\n",
       "      <td>['street_Level']</td>\n",
       "    </tr>\n",
       "    <tr>\n",
       "      <th>1</th>\n",
       "      <td>1</td>\n",
       "      <td>2023-11-27 13:34:42-08:00</td>\n",
       "      <td>2023-11-27 13:40:40-08:00</td>\n",
       "      <td>jsomer@uw.edu</td>\n",
       "      <td>11/27/2023 Wall</td>\n",
       "      <td>Y</td>\n",
       "      <td>{'latitude': 47.658577, 'longitude': -122.3176...</td>\n",
       "      <td>11/27/2023</td>\n",
       "      <td>comercial</td>\n",
       "      <td>abandoned</td>\n",
       "      <td>N</td>\n",
       "      <td>[]</td>\n",
       "      <td>street</td>\n",
       "      <td>wall</td>\n",
       "      <td>['concrete']</td>\n",
       "      <td>N</td>\n",
       "      <td>medium</td>\n",
       "      <td>['street_Level']</td>\n",
       "    </tr>\n",
       "  </tbody>\n",
       "</table>\n",
       "</div>"
      ],
      "text/plain": [
       "   id                 created_at                uploaded_at     created_by  \\\n",
       "0   0  2023-11-27 13:35:31-08:00  2023-11-27 13:40:43-08:00  jsomer@uw.edu   \n",
       "1   1  2023-11-27 13:34:42-08:00  2023-11-27 13:40:40-08:00  jsomer@uw.edu   \n",
       "\n",
       "             title at_canvas  \\\n",
       "0  11/27/2023 Wall         Y   \n",
       "1  11/27/2023 Wall         Y   \n",
       "\n",
       "                                              coords date_entry_canvas  \\\n",
       "0  {'latitude': 47.658577, 'longitude': -122.3176...        11/27/2023   \n",
       "1  {'latitude': 47.658577, 'longitude': -122.3176...        11/27/2023   \n",
       "\n",
       "  property_type property_use surveillance_status surveillance canvas_location  \\\n",
       "0     comercial    abandoned                   N           []          street   \n",
       "1     comercial    abandoned                   N           []          street   \n",
       "\n",
       "  canvas_nature surface_material graffiti_removal viewing_potential  \\\n",
       "0          wall     ['concrete']                N            medium   \n",
       "1          wall     ['concrete']                N            medium   \n",
       "\n",
       "      accessibility  \n",
       "0  ['street_Level']  \n",
       "1  ['street_Level']  "
      ]
     },
     "execution_count": 6,
     "metadata": {},
     "output_type": "execute_result"
    }
   ],
   "source": [
    "# Show the first two rows\n",
    "canvas.head(2)"
   ]
  },
  {
   "cell_type": "code",
   "execution_count": 7,
   "metadata": {
    "executionInfo": {
     "elapsed": 37543,
     "status": "ok",
     "timestamp": 1603858937380,
     "user": {
      "displayName": "Marcos Llobera",
      "photoUrl": "",
      "userId": "09511791020344235136"
     },
     "user_tz": 420
    },
    "id": "70evE3aK7Zlw",
    "scrolled": true
   },
   "outputs": [
    {
     "data": {
      "text/html": [
       "<div>\n",
       "<style scoped>\n",
       "    .dataframe tbody tr th:only-of-type {\n",
       "        vertical-align: middle;\n",
       "    }\n",
       "\n",
       "    .dataframe tbody tr th {\n",
       "        vertical-align: top;\n",
       "    }\n",
       "\n",
       "    .dataframe thead th {\n",
       "        text-align: right;\n",
       "    }\n",
       "</style>\n",
       "<table border=\"1\" class=\"dataframe\">\n",
       "  <thead>\n",
       "    <tr style=\"text-align: right;\">\n",
       "      <th></th>\n",
       "      <th>id</th>\n",
       "      <th>canvas_id</th>\n",
       "      <th>created_at</th>\n",
       "      <th>uploaded_at</th>\n",
       "      <th>created_by</th>\n",
       "      <th>title</th>\n",
       "      <th>num</th>\n",
       "      <th>date_recorded</th>\n",
       "      <th>width</th>\n",
       "      <th>height</th>\n",
       "      <th>...</th>\n",
       "      <th>technique</th>\n",
       "      <th>marker_type</th>\n",
       "      <th>nip_type</th>\n",
       "      <th>other</th>\n",
       "      <th>num_colors</th>\n",
       "      <th>colors</th>\n",
       "      <th>nature_graffiti</th>\n",
       "      <th>transcribable</th>\n",
       "      <th>message</th>\n",
       "      <th>transcription</th>\n",
       "    </tr>\n",
       "  </thead>\n",
       "  <tbody>\n",
       "    <tr>\n",
       "      <th>0</th>\n",
       "      <td>0</td>\n",
       "      <td>3</td>\n",
       "      <td>2023-11-27 13:40:11-08:00</td>\n",
       "      <td>2023-11-27 13:40:35-08:00</td>\n",
       "      <td>jsomer@uw.edu</td>\n",
       "      <td>11/27/2023 “Roja”</td>\n",
       "      <td>1</td>\n",
       "      <td>11/27/2023</td>\n",
       "      <td>91</td>\n",
       "      <td>35</td>\n",
       "      <td>...</td>\n",
       "      <td>spray</td>\n",
       "      <td>NaN</td>\n",
       "      <td>NaN</td>\n",
       "      <td>NaN</td>\n",
       "      <td>2</td>\n",
       "      <td>['black', 'white']</td>\n",
       "      <td>['Image', 'Text']</td>\n",
       "      <td>Y</td>\n",
       "      <td>writter</td>\n",
       "      <td>“Roja”</td>\n",
       "    </tr>\n",
       "    <tr>\n",
       "      <th>1</th>\n",
       "      <td>1</td>\n",
       "      <td>3</td>\n",
       "      <td>2023-11-27 13:39:13-08:00</td>\n",
       "      <td>2023-11-27 13:40:33-08:00</td>\n",
       "      <td>jsomer@uw.edu</td>\n",
       "      <td>11/27/2023 Triangle/prism</td>\n",
       "      <td>1</td>\n",
       "      <td>11/27/2023</td>\n",
       "      <td>91</td>\n",
       "      <td>60</td>\n",
       "      <td>...</td>\n",
       "      <td>spray</td>\n",
       "      <td>NaN</td>\n",
       "      <td>NaN</td>\n",
       "      <td>NaN</td>\n",
       "      <td>3-5</td>\n",
       "      <td>['black', 'white', 'red', 'gold']</td>\n",
       "      <td>['Image']</td>\n",
       "      <td>Y</td>\n",
       "      <td>other</td>\n",
       "      <td>Triangle/prism</td>\n",
       "    </tr>\n",
       "  </tbody>\n",
       "</table>\n",
       "<p>2 rows × 21 columns</p>\n",
       "</div>"
      ],
      "text/plain": [
       "   id  canvas_id                 created_at                uploaded_at  \\\n",
       "0   0          3  2023-11-27 13:40:11-08:00  2023-11-27 13:40:35-08:00   \n",
       "1   1          3  2023-11-27 13:39:13-08:00  2023-11-27 13:40:33-08:00   \n",
       "\n",
       "      created_by                      title  num date_recorded  width  height  \\\n",
       "0  jsomer@uw.edu          11/27/2023 “Roja”    1    11/27/2023     91      35   \n",
       "1  jsomer@uw.edu  11/27/2023 Triangle/prism    1    11/27/2023     91      60   \n",
       "\n",
       "   ... technique marker_type nip_type other num_colors  \\\n",
       "0  ...     spray         NaN      NaN   NaN          2   \n",
       "1  ...     spray         NaN      NaN   NaN        3-5   \n",
       "\n",
       "                              colors    nature_graffiti transcribable  \\\n",
       "0                 ['black', 'white']  ['Image', 'Text']             Y   \n",
       "1  ['black', 'white', 'red', 'gold']          ['Image']             Y   \n",
       "\n",
       "   message   transcription  \n",
       "0  writter          “Roja”  \n",
       "1    other  Triangle/prism  \n",
       "\n",
       "[2 rows x 21 columns]"
      ]
     },
     "execution_count": 7,
     "metadata": {},
     "output_type": "execute_result"
    }
   ],
   "source": [
    "# Show the first three rows\n",
    "graffiti.head(2)"
   ]
  },
  {
   "cell_type": "markdown",
   "metadata": {},
   "source": [
    "### Methods\n",
    "\n",
    "Pandas has many methods that can be applied to an entire DataFrames or a single Series in order to query and generate new information."
   ]
  },
  {
   "cell_type": "markdown",
   "metadata": {},
   "source": [
    "To illustrate a few of these operations, create a new column representing the area of each graffito recorded."
   ]
  },
  {
   "cell_type": "markdown",
   "metadata": {},
   "source": [
    "|Methods|Explanation|\n",
    "|:-----:|:---------:|\n",
    "[`.describe`](https://pandas.pydata.org/pandas-docs/stable/reference/api/pandas.DataFrame.describe.html)| Provides a quick numerical summary|\n",
    "|[`.idmax()`](https://pandas.pydata.org/pandas-docs/stable/reference/api/pandas.DataFrame.idxmax.html)|Return index of first occurrence of the maximum value|\n",
    "|[`.idmin()`](https://pandas.pydata.org/pandas-docs/stable/reference/api/pandas.DataFrame.idxmin.html)|Return index of first occurrence of the minimum value|\n",
    "|[`.count()`](https://pandas.pydata.org/pandas-docs/stable/reference/api/pandas.DataFrame.count.html)|Number of observations|\n",
    "|[`.sum()`](https://pandas.pydata.org/pandas-docs/stable/reference/api/pandas.DataFrame.sum.html)|Sum of all values|\n",
    "|[`.min()`](https://pandas.pydata.org/pandas-docs/stable/reference/api/pandas.DataFrame.min.html)|Minimum value|\n",
    "|[`.mean()`](https://pandas.pydata.org/pandas-docs/stable/reference/api/pandas.DataFrame.mean.html)|Mean of values|\n",
    "|[`.median()`](https://pandas.pydata.org/pandas-docs/stable/reference/api/pandas.DataFrame.median.html)|Median of values|\n",
    "|[`.mode()`](https://pandas.pydata.org/pandas-docs/stable/reference/api/pandas.DataFrame.mode.html)|Mode of values|\n",
    "|[`.max()`](https://pandas.pydata.org/pandas-docs/stable/reference/api/pandas.DataFrame.max.html)|Maximum value|\n",
    "|[`.std()`](https://pandas.pydata.org/pandas-docs/stable/reference/api/pandas.DataFrame.std.html)|Standard Deviation of values|\n",
    "|[`.quantile()`](https://pandas.pydata.org/pandas-docs/stable/reference/api/pandas.DataFrame.quantile.html)|Calculates a given quantile of the values|\n",
    "|[`.sample()`](https://pandas.pydata.org/pandas-docs/stable/reference/api/pandas.DataFrame.sample.html)|Returns a sample (with or without replacement of the DataFrame|"
   ]
  },
  {
   "cell_type": "code",
   "execution_count": 8,
   "metadata": {},
   "outputs": [],
   "source": [
    "pd.options.display.float_format = '{:10,.2f}'.format"
   ]
  },
  {
   "cell_type": "code",
   "execution_count": 9,
   "metadata": {},
   "outputs": [],
   "source": [
    "graffiti['area'] = graffiti.width * graffiti.height"
   ]
  },
  {
   "cell_type": "code",
   "execution_count": 10,
   "metadata": {},
   "outputs": [
    {
     "data": {
      "text/plain": [
       "count       3,633.00\n",
       "mean        8,186.00\n",
       "std        58,371.47\n",
       "min             0.00\n",
       "25%            80.00\n",
       "50%           420.00\n",
       "75%         2,700.00\n",
       "max     3,000,000.00\n",
       "Name: area, dtype: float64"
      ]
     },
     "execution_count": 10,
     "metadata": {},
     "output_type": "execute_result"
    }
   ],
   "source": [
    "# area describe\n",
    "graffiti.area.describe()"
   ]
  },
  {
   "cell_type": "code",
   "execution_count": 11,
   "metadata": {},
   "outputs": [
    {
     "data": {
      "text/plain": [
       "(2395, 1998)"
      ]
     },
     "execution_count": 11,
     "metadata": {},
     "output_type": "execute_result"
    }
   ],
   "source": [
    "# which graffiti have the largest and smallest areas?\n",
    "graffiti.area.idxmax(), graffiti.area.idxmin()"
   ]
  },
  {
   "cell_type": "code",
   "execution_count": 12,
   "metadata": {
    "scrolled": true
   },
   "outputs": [
    {
     "data": {
      "text/plain": [
       "width     2748\n",
       "height    2395\n",
       "dtype: int64"
      ]
     },
     "execution_count": 12,
     "metadata": {},
     "output_type": "execute_result"
    }
   ],
   "source": [
    "# which rows have the largest width and height?\n",
    "graffiti[['width','height']].idxmax()"
   ]
  },
  {
   "cell_type": "markdown",
   "metadata": {},
   "source": [
    "```{caution}\n",
    "There might be various entries with the same minimum and maximum values.\n",
    "```"
   ]
  },
  {
   "cell_type": "code",
   "execution_count": 13,
   "metadata": {},
   "outputs": [
    {
     "data": {
      "text/plain": [
       "np.int64(3633)"
      ]
     },
     "execution_count": 13,
     "metadata": {},
     "output_type": "execute_result"
    }
   ],
   "source": [
    "graffiti.area.count()"
   ]
  },
  {
   "cell_type": "code",
   "execution_count": 14,
   "metadata": {},
   "outputs": [
    {
     "data": {
      "text/plain": [
       "np.int64(29739738)"
      ]
     },
     "execution_count": 14,
     "metadata": {},
     "output_type": "execute_result"
    }
   ],
   "source": [
    "graffiti.area.sum()"
   ]
  },
  {
   "cell_type": "code",
   "execution_count": 15,
   "metadata": {},
   "outputs": [
    {
     "data": {
      "text/plain": [
       "np.int64(0)"
      ]
     },
     "execution_count": 15,
     "metadata": {},
     "output_type": "execute_result"
    }
   ],
   "source": [
    "graffiti.area.min()"
   ]
  },
  {
   "cell_type": "code",
   "execution_count": 16,
   "metadata": {},
   "outputs": [
    {
     "data": {
      "text/plain": [
       "np.float64(8186.0)"
      ]
     },
     "execution_count": 16,
     "metadata": {},
     "output_type": "execute_result"
    }
   ],
   "source": [
    "graffiti.area.mean()"
   ]
  },
  {
   "cell_type": "code",
   "execution_count": 17,
   "metadata": {},
   "outputs": [
    {
     "data": {
      "text/plain": [
       "np.float64(420.0)"
      ]
     },
     "execution_count": 17,
     "metadata": {},
     "output_type": "execute_result"
    }
   ],
   "source": [
    "graffiti.area.median()"
   ]
  },
  {
   "cell_type": "code",
   "execution_count": 18,
   "metadata": {},
   "outputs": [
    {
     "data": {
      "text/plain": [
       "0    50\n",
       "Name: area, dtype: int64"
      ]
     },
     "execution_count": 18,
     "metadata": {},
     "output_type": "execute_result"
    }
   ],
   "source": [
    "graffiti.area.mode()"
   ]
  },
  {
   "cell_type": "code",
   "execution_count": 19,
   "metadata": {},
   "outputs": [
    {
     "data": {
      "text/plain": [
       "np.int64(3000000)"
      ]
     },
     "execution_count": 19,
     "metadata": {},
     "output_type": "execute_result"
    }
   ],
   "source": [
    "graffiti.area.max()"
   ]
  },
  {
   "cell_type": "code",
   "execution_count": 20,
   "metadata": {},
   "outputs": [
    {
     "data": {
      "text/plain": [
       "np.float64(58371.47231150483)"
      ]
     },
     "execution_count": 20,
     "metadata": {},
     "output_type": "execute_result"
    }
   ],
   "source": [
    "graffiti.area.std()"
   ]
  },
  {
   "cell_type": "code",
   "execution_count": 21,
   "metadata": {},
   "outputs": [
    {
     "data": {
      "text/plain": [
       "0.05        18.00\n",
       "0.10        30.00\n",
       "0.25        80.00\n",
       "0.50       420.00\n",
       "0.75     2,700.00\n",
       "0.90    15,000.00\n",
       "0.95    36,738.40\n",
       "Name: area, dtype: float64"
      ]
     },
     "execution_count": 21,
     "metadata": {},
     "output_type": "execute_result"
    }
   ],
   "source": [
    "graffiti.area.quantile([0.05, 0.10, 0.25, 0.5, 0.75, 0.90, 0.95])"
   ]
  },
  {
   "cell_type": "code",
   "execution_count": null,
   "metadata": {},
   "outputs": [],
   "source": [
    "# how many graffiti entries?\n",
    "len(graffiti)"
   ]
  },
  {
   "cell_type": "markdown",
   "metadata": {},
   "source": [
    "Create a sample with a sampling fraction of 0.1 or 10%"
   ]
  },
  {
   "cell_type": "code",
   "execution_count": null,
   "metadata": {},
   "outputs": [],
   "source": [
    "len(graffiti.sample(frac= 0.1))"
   ]
  },
  {
   "cell_type": "markdown",
   "metadata": {},
   "source": [
    "Create a sample of size 100"
   ]
  },
  {
   "cell_type": "code",
   "execution_count": null,
   "metadata": {},
   "outputs": [],
   "source": [
    "# Speficying the sample size\n",
    "len(graffiti.sample(n= 100))"
   ]
  },
  {
   "cell_type": "markdown",
   "metadata": {},
   "source": [
    "Create a sample with a size 100 with replacement"
   ]
  },
  {
   "cell_type": "code",
   "execution_count": null,
   "metadata": {},
   "outputs": [],
   "source": [
    "# With replacement\n",
    "graffiti.sample(n=100, replace= True)"
   ]
  },
  {
   "cell_type": "markdown",
   "metadata": {},
   "source": [
    "## General Functions"
   ]
  },
  {
   "cell_type": "markdown",
   "metadata": {},
   "source": [
    "Pandas has what are called [General Functions](https://pandas.pydata.org/pandas-docs/stable/reference/general_functions.html) which offer some powerful operations. We shall be seeing more of these later but for now, let's look at two that are very handy."
   ]
  },
  {
   "cell_type": "markdown",
   "metadata": {},
   "source": [
    "### `cut()` and `qcut()`"
   ]
  },
  {
   "cell_type": "markdown",
   "metadata": {},
   "source": [
    "Both of these methods are very useful when trying to create categories out of a continous variable. The first method, [`cut()`](https://pandas.pydata.org/pandas-docs/stable/reference/api/pandas.cut.html) breaks a continuous variable into various bins or chunks. "
   ]
  },
  {
   "cell_type": "code",
   "execution_count": 24,
   "metadata": {},
   "outputs": [
    {
     "data": {
      "text/plain": [
       "0    (-3000.0, 1000000.0]\n",
       "1    (-3000.0, 1000000.0]\n",
       "2    (-3000.0, 1000000.0]\n",
       "3    (-3000.0, 1000000.0]\n",
       "4    (-3000.0, 1000000.0]\n",
       "Name: area, dtype: category\n",
       "Categories (3, interval[float64, right]): [(-3000.0, 1000000.0] < (1000000.0, 2000000.0] < (2000000.0, 3000000.0]]"
      ]
     },
     "execution_count": 24,
     "metadata": {},
     "output_type": "execute_result"
    }
   ],
   "source": [
    "# Create a new series where each observation is in a bin\n",
    "graf_area =pd.cut(graffiti.area, bins=3)\n",
    "graf_area[:5]"
   ]
  },
  {
   "cell_type": "code",
   "execution_count": 25,
   "metadata": {},
   "outputs": [
    {
     "data": {
      "text/plain": [
       "0    small\n",
       "1    small\n",
       "2    small\n",
       "3    small\n",
       "4    small\n",
       "Name: area, dtype: category\n",
       "Categories (3, object): ['small' < 'med' < 'large']"
      ]
     },
     "execution_count": 25,
     "metadata": {},
     "output_type": "execute_result"
    }
   ],
   "source": [
    "# label the categories\n",
    "graf_area = pd.cut(graffiti.area, bins= 3, labels=['small', 'med', 'large'])\n",
    "graf_area[:5]"
   ]
  },
  {
   "cell_type": "markdown",
   "metadata": {},
   "source": [
    "[`qcut()`](https://pandas.pydata.org/pandas-docs/stable/reference/api/pandas.qcut.html) is similar to `cut()` but instead you use quantiles to segmented the continuous variable."
   ]
  },
  {
   "cell_type": "code",
   "execution_count": 28,
   "metadata": {},
   "outputs": [
    {
     "data": {
      "text/plain": [
       "0    (2700.0, 3000000.0]\n",
       "1    (2700.0, 3000000.0]\n",
       "2        (420.0, 2700.0]\n",
       "3    (2700.0, 3000000.0]\n",
       "4        (420.0, 2700.0]\n",
       "Name: area, dtype: category\n",
       "Categories (4, interval[float64, right]): [(-0.001, 80.0] < (80.0, 420.0] < (420.0, 2700.0] < (2700.0, 3000000.0]]"
      ]
     },
     "execution_count": 28,
     "metadata": {},
     "output_type": "execute_result"
    }
   ],
   "source": [
    "# Use quartiles to create categories\n",
    "graf_area = pd.qcut(graffiti.area, q=4)\n",
    "graf_area[:5]"
   ]
  },
  {
   "cell_type": "code",
   "execution_count": 29,
   "metadata": {},
   "outputs": [
    {
     "data": {
      "text/plain": [
       "0         large\n",
       "1         large\n",
       "2       average\n",
       "3          huge\n",
       "4       average\n",
       "         ...   \n",
       "3628      large\n",
       "3629      large\n",
       "3630      large\n",
       "3631    average\n",
       "3632    average\n",
       "Name: area, Length: 3633, dtype: category\n",
       "Categories (5, object): ['tiny' < 'small' < 'average' < 'large' < 'huge']"
      ]
     },
     "execution_count": 29,
     "metadata": {},
     "output_type": "execute_result"
    }
   ],
   "source": [
    "# Specify percentiles.\n",
    "graf_area, bins = pd.qcut(graffiti.area, q=[0, 0.05, 0.25, 0.75, 0.95, 1.0], labels=['tiny', 'small', 'average', 'large', 'huge'], retbins=True)\n",
    "graf_area"
   ]
  },
  {
   "cell_type": "code",
   "execution_count": 30,
   "metadata": {},
   "outputs": [
    {
     "data": {
      "text/plain": [
       "array([0.00000e+00, 1.80000e+01, 8.00000e+01, 2.70000e+03, 3.67384e+04,\n",
       "       3.00000e+06])"
      ]
     },
     "execution_count": 30,
     "metadata": {},
     "output_type": "execute_result"
    }
   ],
   "source": [
    "# show cut off values\n",
    "bins"
   ]
  },
  {
   "cell_type": "code",
   "execution_count": null,
   "metadata": {},
   "outputs": [],
   "source": [
    "graffiti.area.value_counts()"
   ]
  },
  {
   "cell_type": "markdown",
   "metadata": {},
   "source": [
    "## Using Extensions\n",
    "\n",
    "Whenever we have a field that has either text (=[`str`](https://pandas.pydata.org/pandas-docs/stable/user_guide/text.html#behavior-differences), a category (=[`cat`](https://pandas.pydata.org/pandas-docs/stable/user_guide/categorical.html#working-with-categories), or [`datetime`](https://pandas.pydata.org/pandas-docs/stable/user_guide/basics.html#dt-accessor), `Pandas` allows us to access specialized operations using a **.dot** notation."
   ]
  },
  {
   "cell_type": "code",
   "execution_count": 31,
   "metadata": {},
   "outputs": [
    {
     "data": {
      "text/plain": [
       "Index(['tiny', 'small', 'average', 'large', 'huge'], dtype='object')"
      ]
     },
     "execution_count": 31,
     "metadata": {},
     "output_type": "execute_result"
    }
   ],
   "source": [
    "# what are the categories?\n",
    "graf_area.cat.categories"
   ]
  },
  {
   "cell_type": "code",
   "execution_count": 32,
   "metadata": {},
   "outputs": [
    {
     "data": {
      "text/plain": [
       "0       3\n",
       "1       3\n",
       "2       2\n",
       "3       4\n",
       "4       2\n",
       "       ..\n",
       "3628    3\n",
       "3629    3\n",
       "3630    3\n",
       "3631    2\n",
       "3632    2\n",
       "Length: 3633, dtype: int8"
      ]
     },
     "execution_count": 32,
     "metadata": {},
     "output_type": "execute_result"
    }
   ],
   "source": [
    "# what codes?\n",
    "graf_area.cat.codes"
   ]
  },
  {
   "cell_type": "code",
   "execution_count": 33,
   "metadata": {},
   "outputs": [
    {
     "data": {
      "text/plain": [
       "True"
      ]
     },
     "execution_count": 33,
     "metadata": {},
     "output_type": "execute_result"
    }
   ],
   "source": [
    "# are they ordered?\n",
    "graf_area.cat.ordered"
   ]
  },
  {
   "cell_type": "code",
   "execution_count": 34,
   "metadata": {},
   "outputs": [
    {
     "data": {
      "text/plain": [
       "['Tiny', 'Small', 'Average', 'Large', 'Huge']"
      ]
     },
     "execution_count": 34,
     "metadata": {},
     "output_type": "execute_result"
    }
   ],
   "source": [
    "# convert to string and capitalize\n",
    "new_categories = graf_area.cat.categories.astype('string').str.capitalize().to_list()\n",
    "new_categories"
   ]
  },
  {
   "cell_type": "code",
   "execution_count": 35,
   "metadata": {},
   "outputs": [],
   "source": [
    "# Change categories\n",
    "graf_area = graf_area.cat.set_categories(new_categories, rename=True)"
   ]
  },
  {
   "cell_type": "code",
   "execution_count": 36,
   "metadata": {},
   "outputs": [
    {
     "data": {
      "text/plain": [
       "Index(['Tiny', 'Small', 'Average', 'Large', 'Huge'], dtype='object')"
      ]
     },
     "execution_count": 36,
     "metadata": {},
     "output_type": "execute_result"
    }
   ],
   "source": [
    "# Show categories\n",
    "graf_area.cat.categories"
   ]
  },
  {
   "cell_type": "code",
   "execution_count": null,
   "metadata": {},
   "outputs": [],
   "source": []
  }
 ],
 "metadata": {
  "colab": {
   "authorship_tag": "ABX9TyOyIvarOTaqLt/SK8+WF1Gx",
   "collapsed_sections": [
    "eRzrIUtxd84V",
    "IPXHRJgRm0ZR",
    "Kk76sMP_epP9",
    "ZFIZGzYShBjC",
    "qkLWZlvxrMXC"
   ],
   "mount_file_id": "1wCcU-g6iD8SexV4L1idhm3TylfXwZ7Bu",
   "name": "Lab 5.1  Groupby()  - InstructorCopy.ipynb",
   "provenance": [
    {
     "file_id": "1BrTAc8In1CcFww-Jbttopj8GiLXRJzv4",
     "timestamp": 1602545786318
    },
    {
     "file_id": "https://github.com/digarlab/graffiti/blob/master/archy5_235/Lab_2_2_Pandas.ipynb",
     "timestamp": 1598473380782
    }
   ]
  },
  "kernelspec": {
   "display_name": "Python 3 (ipykernel)",
   "language": "python",
   "name": "python3"
  },
  "language_info": {
   "codemirror_mode": {
    "name": "ipython",
    "version": 3
   },
   "file_extension": ".py",
   "mimetype": "text/x-python",
   "name": "python",
   "nbconvert_exporter": "python",
   "pygments_lexer": "ipython3",
   "version": "3.12.5"
  }
 },
 "nbformat": 4,
 "nbformat_minor": 4
}
